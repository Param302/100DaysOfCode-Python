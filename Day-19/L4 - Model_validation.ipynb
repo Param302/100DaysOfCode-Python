{
 "cells": [
  {
   "cell_type": "markdown",
   "id": "0ae6508b",
   "metadata": {
    "papermill": {
     "duration": 0.00706,
     "end_time": "2022-06-22T14:02:41.037459",
     "exception": false,
     "start_time": "2022-06-22T14:02:41.030399",
     "status": "completed"
    },
    "tags": []
   },
   "source": [
    "# [Intro to Machine Learning](https://www.kaggle.com/learn/intro-to-machine-learning)\n",
    "by kaggle\n",
    "\n",
    "**Lesson 4:** [Model Validation](https://www.kaggle.com/code/dansbecker/model-validation)\n",
    "- [My Notebok](https://www.kaggle.com/param302/exercise-model-validation)\n",
    "---\n"
   ]
  },
  {
   "cell_type": "markdown",
   "id": "63d01a1e",
   "metadata": {
    "papermill": {
     "duration": 0.005043,
     "end_time": "2022-06-22T14:02:41.048316",
     "exception": false,
     "start_time": "2022-06-22T14:02:41.043273",
     "status": "completed"
    },
    "tags": []
   },
   "source": [
    "## Recap\n",
    "You've built a model. In this exercise you will test how good your model is.\n",
    "\n",
    "Run the cell below to set up your coding environment where the previous exercise left off."
   ]
  },
  {
   "cell_type": "code",
   "execution_count": 1,
   "id": "5c9e9496",
   "metadata": {
    "execution": {
     "iopub.execute_input": "2022-06-22T14:02:41.061951Z",
     "iopub.status.busy": "2022-06-22T14:02:41.061459Z",
     "iopub.status.idle": "2022-06-22T14:02:42.295156Z",
     "shell.execute_reply": "2022-06-22T14:02:42.293816Z"
    },
    "papermill": {
     "duration": 1.24292,
     "end_time": "2022-06-22T14:02:42.298162",
     "exception": false,
     "start_time": "2022-06-22T14:02:41.055242",
     "status": "completed"
    },
    "tags": []
   },
   "outputs": [
    {
     "name": "stdout",
     "output_type": "stream",
     "text": [
      "First in-sample predictions: [208500. 181500. 223500. 140000. 250000.]\n",
      "Actual target values for those homes: [208500, 181500, 223500, 140000, 250000]\n",
      "Setup Complete\n"
     ]
    }
   ],
   "source": [
    "# Code you have previously used to load data\n",
    "import pandas as pd\n",
    "from sklearn.tree import DecisionTreeRegressor\n",
    "\n",
    "# Path of the file to read\n",
    "iowa_file_path = '../input/home-data-for-ml-course/train.csv'\n",
    "\n",
    "home_data = pd.read_csv(iowa_file_path)\n",
    "y = home_data.SalePrice\n",
    "feature_columns = ['LotArea', 'YearBuilt', '1stFlrSF', '2ndFlrSF', 'FullBath', 'BedroomAbvGr', 'TotRmsAbvGrd']\n",
    "X = home_data[feature_columns]\n",
    "\n",
    "# Specify Model\n",
    "iowa_model = DecisionTreeRegressor()\n",
    "# Fit Model\n",
    "iowa_model.fit(X, y)\n",
    "\n",
    "print(\"First in-sample predictions:\", iowa_model.predict(X.head()))\n",
    "print(\"Actual target values for those homes:\", y.head().tolist())\n",
    "\n",
    "# Set up code checking\n",
    "from learntools.core import binder\n",
    "binder.bind(globals())\n",
    "from learntools.machine_learning.ex4 import *\n",
    "print(\"Setup Complete\")"
   ]
  },
  {
   "cell_type": "markdown",
   "id": "5ba4464f",
   "metadata": {
    "papermill": {
     "duration": 0.004664,
     "end_time": "2022-06-22T14:02:42.308061",
     "exception": false,
     "start_time": "2022-06-22T14:02:42.303397",
     "status": "completed"
    },
    "tags": []
   },
   "source": [
    "# Exercises\n",
    "\n",
    "## Step 1: Split Your Data\n",
    "Use the `train_test_split` function to split up your data.\n",
    "\n",
    "Give it the argument `random_state=1` so the `check` functions know what to expect when verifying your code.\n",
    "\n",
    "Recall, your features are loaded in the DataFrame **X** and your target is loaded in **y**.\n"
   ]
  },
  {
   "cell_type": "code",
   "execution_count": 2,
   "id": "9cca6614",
   "metadata": {
    "execution": {
     "iopub.execute_input": "2022-06-22T14:02:42.319615Z",
     "iopub.status.busy": "2022-06-22T14:02:42.319253Z",
     "iopub.status.idle": "2022-06-22T14:02:42.335224Z",
     "shell.execute_reply": "2022-06-22T14:02:42.333886Z"
    },
    "papermill": {
     "duration": 0.024744,
     "end_time": "2022-06-22T14:02:42.337760",
     "exception": false,
     "start_time": "2022-06-22T14:02:42.313016",
     "status": "completed"
    },
    "tags": []
   },
   "outputs": [
    {
     "data": {
      "application/javascript": "parent.postMessage({\"jupyterEvent\": \"custom.exercise_interaction\", \"data\": {\"outcomeType\": 1, \"valueTowardsCompletion\": 0.25, \"interactionType\": 1, \"questionType\": 2, \"questionId\": \"1_SplitData\", \"learnToolsVersion\": \"0.3.4\", \"failureMessage\": \"\", \"exceptionClass\": \"\", \"trace\": \"\"}}, \"*\")",
      "text/plain": [
       "<IPython.core.display.Javascript object>"
      ]
     },
     "metadata": {},
     "output_type": "display_data"
    },
    {
     "data": {
      "text/markdown": [
       "<span style=\"color:#33cc33\">Correct</span>"
      ],
      "text/plain": [
       "Correct"
      ]
     },
     "metadata": {},
     "output_type": "display_data"
    }
   ],
   "source": [
    "# Import the train_test_split function and uncomment\n",
    "from sklearn.model_selection import train_test_split\n",
    "\n",
    "# fill in and uncomment\n",
    "train_X, val_X, train_y, val_y = train_test_split(X, y, random_state=1)\n",
    "\n",
    "# Check your answer\n",
    "step_1.check()"
   ]
  },
  {
   "cell_type": "code",
   "execution_count": 3,
   "id": "59faf655",
   "metadata": {
    "execution": {
     "iopub.execute_input": "2022-06-22T14:02:42.349740Z",
     "iopub.status.busy": "2022-06-22T14:02:42.349367Z",
     "iopub.status.idle": "2022-06-22T14:02:42.354340Z",
     "shell.execute_reply": "2022-06-22T14:02:42.352920Z"
    },
    "papermill": {
     "duration": 0.013902,
     "end_time": "2022-06-22T14:02:42.357132",
     "exception": false,
     "start_time": "2022-06-22T14:02:42.343230",
     "status": "completed"
    },
    "tags": []
   },
   "outputs": [],
   "source": [
    "# The lines below will show you a hint or the solution.\n",
    "# step_1.hint() \n",
    "# step_1.solution()\n"
   ]
  },
  {
   "cell_type": "markdown",
   "id": "3b51e66a",
   "metadata": {
    "papermill": {
     "duration": 0.00489,
     "end_time": "2022-06-22T14:02:42.367325",
     "exception": false,
     "start_time": "2022-06-22T14:02:42.362435",
     "status": "completed"
    },
    "tags": []
   },
   "source": [
    "## Step 2: Specify and Fit the Model\n",
    "\n",
    "Create a `DecisionTreeRegressor` model and fit it to the relevant data.\n",
    "Set `random_state` to 1 again when creating the model."
   ]
  },
  {
   "cell_type": "code",
   "execution_count": 4,
   "id": "7f4a6145",
   "metadata": {
    "execution": {
     "iopub.execute_input": "2022-06-22T14:02:42.378935Z",
     "iopub.status.busy": "2022-06-22T14:02:42.378555Z",
     "iopub.status.idle": "2022-06-22T14:02:42.408484Z",
     "shell.execute_reply": "2022-06-22T14:02:42.406913Z"
    },
    "papermill": {
     "duration": 0.038515,
     "end_time": "2022-06-22T14:02:42.411039",
     "exception": false,
     "start_time": "2022-06-22T14:02:42.372524",
     "status": "completed"
    },
    "tags": []
   },
   "outputs": [
    {
     "name": "stdout",
     "output_type": "stream",
     "text": [
      "[186500. 184000. 130000.  92000. 164500. 220000. 335000. 144152. 215000.\n",
      " 262000.]\n",
      "[186500. 184000. 130000.  92000. 164500. 220000. 335000. 144152. 215000.\n",
      " 262000.]\n"
     ]
    },
    {
     "data": {
      "application/javascript": "parent.postMessage({\"jupyterEvent\": \"custom.exercise_interaction\", \"data\": {\"outcomeType\": 1, \"valueTowardsCompletion\": 0.25, \"interactionType\": 1, \"questionType\": 2, \"questionId\": \"2_FitModelWithTrain\", \"learnToolsVersion\": \"0.3.4\", \"failureMessage\": \"\", \"exceptionClass\": \"\", \"trace\": \"\"}}, \"*\")",
      "text/plain": [
       "<IPython.core.display.Javascript object>"
      ]
     },
     "metadata": {},
     "output_type": "display_data"
    },
    {
     "data": {
      "text/markdown": [
       "<span style=\"color:#33cc33\">Correct</span>"
      ],
      "text/plain": [
       "Correct"
      ]
     },
     "metadata": {},
     "output_type": "display_data"
    }
   ],
   "source": [
    "# You imported DecisionTreeRegressor in your last exercise\n",
    "# and that code has been copied to the setup code above. So, no need to\n",
    "# import it again\n",
    "\n",
    "# Specify the model\n",
    "iowa_model = DecisionTreeRegressor(random_state=1)\n",
    "\n",
    "# Fit iowa_model with the training data.\n",
    "iowa_model.fit(train_X, train_y)\n",
    "\n",
    "# Check your answer\n",
    "step_2.check()"
   ]
  },
  {
   "cell_type": "code",
   "execution_count": 5,
   "id": "f6b5ef76",
   "metadata": {
    "execution": {
     "iopub.execute_input": "2022-06-22T14:02:42.423815Z",
     "iopub.status.busy": "2022-06-22T14:02:42.423411Z",
     "iopub.status.idle": "2022-06-22T14:02:42.428262Z",
     "shell.execute_reply": "2022-06-22T14:02:42.426954Z"
    },
    "papermill": {
     "duration": 0.013684,
     "end_time": "2022-06-22T14:02:42.430480",
     "exception": false,
     "start_time": "2022-06-22T14:02:42.416796",
     "status": "completed"
    },
    "tags": []
   },
   "outputs": [],
   "source": [
    "# step_2.hint()\n",
    "# step_2.solution()"
   ]
  },
  {
   "cell_type": "markdown",
   "id": "e7f61f2a",
   "metadata": {
    "papermill": {
     "duration": 0.005298,
     "end_time": "2022-06-22T14:02:42.441315",
     "exception": false,
     "start_time": "2022-06-22T14:02:42.436017",
     "status": "completed"
    },
    "tags": []
   },
   "source": [
    "## Step 3: Make Predictions with Validation data\n"
   ]
  },
  {
   "cell_type": "code",
   "execution_count": 6,
   "id": "578c0324",
   "metadata": {
    "execution": {
     "iopub.execute_input": "2022-06-22T14:02:42.453647Z",
     "iopub.status.busy": "2022-06-22T14:02:42.453307Z",
     "iopub.status.idle": "2022-06-22T14:02:42.467473Z",
     "shell.execute_reply": "2022-06-22T14:02:42.466171Z"
    },
    "papermill": {
     "duration": 0.022976,
     "end_time": "2022-06-22T14:02:42.469779",
     "exception": false,
     "start_time": "2022-06-22T14:02:42.446803",
     "status": "completed"
    },
    "tags": []
   },
   "outputs": [
    {
     "data": {
      "application/javascript": "parent.postMessage({\"jupyterEvent\": \"custom.exercise_interaction\", \"data\": {\"outcomeType\": 1, \"valueTowardsCompletion\": 0.25, \"interactionType\": 1, \"questionType\": 2, \"questionId\": \"3_ValPreds\", \"learnToolsVersion\": \"0.3.4\", \"failureMessage\": \"\", \"exceptionClass\": \"\", \"trace\": \"\"}}, \"*\")",
      "text/plain": [
       "<IPython.core.display.Javascript object>"
      ]
     },
     "metadata": {},
     "output_type": "display_data"
    },
    {
     "data": {
      "text/markdown": [
       "<span style=\"color:#33cc33\">Correct</span>"
      ],
      "text/plain": [
       "Correct"
      ]
     },
     "metadata": {},
     "output_type": "display_data"
    }
   ],
   "source": [
    "# Predict with all validation observations\n",
    "val_predictions = iowa_model.predict(val_X)\n",
    "\n",
    "# Check your answer\n",
    "step_3.check()"
   ]
  },
  {
   "cell_type": "code",
   "execution_count": 7,
   "id": "2ebae857",
   "metadata": {
    "execution": {
     "iopub.execute_input": "2022-06-22T14:02:42.483092Z",
     "iopub.status.busy": "2022-06-22T14:02:42.482738Z",
     "iopub.status.idle": "2022-06-22T14:02:42.487523Z",
     "shell.execute_reply": "2022-06-22T14:02:42.486215Z"
    },
    "papermill": {
     "duration": 0.013797,
     "end_time": "2022-06-22T14:02:42.489610",
     "exception": false,
     "start_time": "2022-06-22T14:02:42.475813",
     "status": "completed"
    },
    "tags": []
   },
   "outputs": [],
   "source": [
    "# step_3.hint()\n",
    "# step_3.solution()"
   ]
  },
  {
   "cell_type": "markdown",
   "id": "08797c8f",
   "metadata": {
    "papermill": {
     "duration": 0.005646,
     "end_time": "2022-06-22T14:02:42.501175",
     "exception": false,
     "start_time": "2022-06-22T14:02:42.495529",
     "status": "completed"
    },
    "tags": []
   },
   "source": [
    "Inspect your predictions and actual values from validation data."
   ]
  },
  {
   "cell_type": "code",
   "execution_count": 8,
   "id": "67030e73",
   "metadata": {
    "execution": {
     "iopub.execute_input": "2022-06-22T14:02:42.514295Z",
     "iopub.status.busy": "2022-06-22T14:02:42.513903Z",
     "iopub.status.idle": "2022-06-22T14:02:42.520941Z",
     "shell.execute_reply": "2022-06-22T14:02:42.519670Z"
    },
    "papermill": {
     "duration": 0.016679,
     "end_time": "2022-06-22T14:02:42.523635",
     "exception": false,
     "start_time": "2022-06-22T14:02:42.506956",
     "status": "completed"
    },
    "tags": []
   },
   "outputs": [
    {
     "name": "stdout",
     "output_type": "stream",
     "text": [
      "[186500. 184000. 130000.  92000. 164500.]\n",
      "258     231500\n",
      "267     179500\n",
      "288     122000\n",
      "649      84500\n",
      "1233    142000\n",
      "Name: SalePrice, dtype: int64\n"
     ]
    }
   ],
   "source": [
    "# print the top few validation predictions\n",
    "print(val_predictions[:5])\n",
    "# print the top few actual prices from validation data\n",
    "print(val_y.head())"
   ]
  },
  {
   "cell_type": "markdown",
   "id": "1bac3c79",
   "metadata": {
    "papermill": {
     "duration": 0.005587,
     "end_time": "2022-06-22T14:02:42.535071",
     "exception": false,
     "start_time": "2022-06-22T14:02:42.529484",
     "status": "completed"
    },
    "tags": []
   },
   "source": [
    "What do you notice that is different from what you saw with in-sample predictions (which are printed after the top code cell in this page).\n",
    "\n",
    "Do you remember why validation predictions differ from in-sample (or training) predictions? This is an important idea from the last lesson.\n",
    "\n",
    "## Step 4: Calculate the Mean Absolute Error in Validation Data\n"
   ]
  },
  {
   "cell_type": "code",
   "execution_count": 9,
   "id": "2fe70377",
   "metadata": {
    "execution": {
     "iopub.execute_input": "2022-06-22T14:02:42.549612Z",
     "iopub.status.busy": "2022-06-22T14:02:42.549238Z",
     "iopub.status.idle": "2022-06-22T14:02:42.562831Z",
     "shell.execute_reply": "2022-06-22T14:02:42.561499Z"
    },
    "papermill": {
     "duration": 0.023923,
     "end_time": "2022-06-22T14:02:42.565261",
     "exception": false,
     "start_time": "2022-06-22T14:02:42.541338",
     "status": "completed"
    },
    "tags": []
   },
   "outputs": [
    {
     "name": "stdout",
     "output_type": "stream",
     "text": [
      "29652.931506849316\n"
     ]
    },
    {
     "data": {
      "application/javascript": "parent.postMessage({\"jupyterEvent\": \"custom.exercise_interaction\", \"data\": {\"outcomeType\": 1, \"valueTowardsCompletion\": 0.25, \"interactionType\": 1, \"questionType\": 1, \"questionId\": \"4_MAE\", \"learnToolsVersion\": \"0.3.4\", \"failureMessage\": \"\", \"exceptionClass\": \"\", \"trace\": \"\"}}, \"*\")",
      "text/plain": [
       "<IPython.core.display.Javascript object>"
      ]
     },
     "metadata": {},
     "output_type": "display_data"
    },
    {
     "data": {
      "text/markdown": [
       "<span style=\"color:#33cc33\">Correct</span>"
      ],
      "text/plain": [
       "Correct"
      ]
     },
     "metadata": {},
     "output_type": "display_data"
    }
   ],
   "source": [
    "from sklearn.metrics import mean_absolute_error\n",
    "val_mae = mean_absolute_error(val_y, val_predictions)\n",
    "\n",
    "# uncomment following line to see the validation_mae\n",
    "print(val_mae)\n",
    "\n",
    "# Check your answer\n",
    "step_4.check()"
   ]
  },
  {
   "cell_type": "code",
   "execution_count": 10,
   "id": "1f61106d",
   "metadata": {
    "execution": {
     "iopub.execute_input": "2022-06-22T14:02:42.579316Z",
     "iopub.status.busy": "2022-06-22T14:02:42.578997Z",
     "iopub.status.idle": "2022-06-22T14:02:42.583807Z",
     "shell.execute_reply": "2022-06-22T14:02:42.582391Z"
    },
    "papermill": {
     "duration": 0.014725,
     "end_time": "2022-06-22T14:02:42.586230",
     "exception": false,
     "start_time": "2022-06-22T14:02:42.571505",
     "status": "completed"
    },
    "tags": []
   },
   "outputs": [],
   "source": [
    "# step_4.hint()\n",
    "# step_4.solution()"
   ]
  },
  {
   "cell_type": "markdown",
   "id": "1fdbc079",
   "metadata": {
    "papermill": {
     "duration": 0.006189,
     "end_time": "2022-06-22T14:02:42.598708",
     "exception": false,
     "start_time": "2022-06-22T14:02:42.592519",
     "status": "completed"
    },
    "tags": []
   },
   "source": [
    "Is that MAE good?  There isn't a general rule for what values are good that applies across applications. But you'll see how to use (and improve) this number in the next step.\n",
    "\n",
    "# Keep Going\n",
    "\n",
    "You are ready for **[Underfitting and Overfitting](https://www.kaggle.com/dansbecker/underfitting-and-overfitting).**\n"
   ]
  },
  {
   "cell_type": "markdown",
   "id": "3d7006a1",
   "metadata": {
    "papermill": {
     "duration": 0.006226,
     "end_time": "2022-06-22T14:02:42.611315",
     "exception": false,
     "start_time": "2022-06-22T14:02:42.605089",
     "status": "completed"
    },
    "tags": []
   },
   "source": [
    "---\n",
    "\n",
    "\n",
    "\n",
    "\n",
    "*Have questions or comments? Visit the [course discussion forum](https://www.kaggle.com/learn/intro-to-machine-learning/discussion) to chat with other learners.*"
   ]
  }
 ],
 "metadata": {
  "kernelspec": {
   "display_name": "Python 3",
   "language": "python",
   "name": "python3"
  },
  "language_info": {
   "codemirror_mode": {
    "name": "ipython",
    "version": 3
   },
   "file_extension": ".py",
   "mimetype": "text/x-python",
   "name": "python",
   "nbconvert_exporter": "python",
   "pygments_lexer": "ipython3",
   "version": "3.7.12"
  },
  "papermill": {
   "default_parameters": {},
   "duration": 11.592095,
   "end_time": "2022-06-22T14:02:43.238424",
   "environment_variables": {},
   "exception": null,
   "input_path": "__notebook__.ipynb",
   "output_path": "__notebook__.ipynb",
   "parameters": {},
   "start_time": "2022-06-22T14:02:31.646329",
   "version": "2.3.4"
  }
 },
 "nbformat": 4,
 "nbformat_minor": 5
}

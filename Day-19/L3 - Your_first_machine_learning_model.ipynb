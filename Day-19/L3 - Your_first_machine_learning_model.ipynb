{
 "cells": [
  {
   "cell_type": "markdown",
   "id": "e30d7013",
   "metadata": {
    "papermill": {
     "duration": 0.006712,
     "end_time": "2022-06-22T13:41:27.038953",
     "exception": false,
     "start_time": "2022-06-22T13:41:27.032241",
     "status": "completed"
    },
    "tags": []
   },
   "source": [
    "# [Intro to Machine Learning](https://www.kaggle.com/learn/intro-to-machine-learning)\n",
    "by kaggle\n",
    "\n",
    "**Lesson 3:** [Your First Machine Learning Model](https://www.kaggle.com/code/dansbecker/your-first-machine-learning-model)\n",
    "- [My Notebok](https://www.kaggle.com/param302/exercise-your-first-machine-learning-model)\n",
    "---\n"
   ]
  },
  {
   "cell_type": "markdown",
   "id": "85a52295",
   "metadata": {
    "papermill": {
     "duration": 0.005503,
     "end_time": "2022-06-22T13:41:27.050411",
     "exception": false,
     "start_time": "2022-06-22T13:41:27.044908",
     "status": "completed"
    },
    "tags": []
   },
   "source": [
    "## Recap\n",
    "So far, you have loaded your data and reviewed it with the following code. Run this cell to set up your coding environment where the previous step left off."
   ]
  },
  {
   "cell_type": "code",
   "execution_count": 1,
   "id": "2c1c4619",
   "metadata": {
    "execution": {
     "iopub.execute_input": "2022-06-22T13:41:27.064326Z",
     "iopub.status.busy": "2022-06-22T13:41:27.063603Z",
     "iopub.status.idle": "2022-06-22T13:41:28.567233Z",
     "shell.execute_reply": "2022-06-22T13:41:28.565979Z"
    },
    "papermill": {
     "duration": 1.514898,
     "end_time": "2022-06-22T13:41:28.571053",
     "exception": false,
     "start_time": "2022-06-22T13:41:27.056155",
     "status": "completed"
    },
    "tags": []
   },
   "outputs": [
    {
     "name": "stdout",
     "output_type": "stream",
     "text": [
      "Setup Complete\n"
     ]
    }
   ],
   "source": [
    "# Code you have previously used to load data\n",
    "import pandas as pd\n",
    "\n",
    "# Path of the file to read\n",
    "iowa_file_path = '../input/home-data-for-ml-course/train.csv'\n",
    "\n",
    "home_data = pd.read_csv(iowa_file_path)\n",
    "\n",
    "# Set up code checking\n",
    "from learntools.core import binder\n",
    "binder.bind(globals())\n",
    "from learntools.machine_learning.ex3 import *\n",
    "\n",
    "print(\"Setup Complete\")"
   ]
  },
  {
   "cell_type": "markdown",
   "id": "1d0c5417",
   "metadata": {
    "papermill": {
     "duration": 0.005978,
     "end_time": "2022-06-22T13:41:28.583226",
     "exception": false,
     "start_time": "2022-06-22T13:41:28.577248",
     "status": "completed"
    },
    "tags": []
   },
   "source": [
    "# Exercises\n",
    "\n",
    "## Step 1: Specify Prediction Target\n",
    "Select the target variable, which corresponds to the sales price. Save this to a new variable called `y`. You'll need to print a list of the columns to find the name of the column you need.\n"
   ]
  },
  {
   "cell_type": "code",
   "execution_count": 2,
   "id": "b1a55e26",
   "metadata": {
    "execution": {
     "iopub.execute_input": "2022-06-22T13:41:28.596495Z",
     "iopub.status.busy": "2022-06-22T13:41:28.596122Z",
     "iopub.status.idle": "2022-06-22T13:41:28.605023Z",
     "shell.execute_reply": "2022-06-22T13:41:28.604186Z"
    },
    "papermill": {
     "duration": 0.018248,
     "end_time": "2022-06-22T13:41:28.607299",
     "exception": false,
     "start_time": "2022-06-22T13:41:28.589051",
     "status": "completed"
    },
    "tags": []
   },
   "outputs": [
    {
     "data": {
      "text/plain": [
       "Index(['Id', 'MSSubClass', 'MSZoning', 'LotFrontage', 'LotArea', 'Street',\n",
       "       'Alley', 'LotShape', 'LandContour', 'Utilities', 'LotConfig',\n",
       "       'LandSlope', 'Neighborhood', 'Condition1', 'Condition2', 'BldgType',\n",
       "       'HouseStyle', 'OverallQual', 'OverallCond', 'YearBuilt', 'YearRemodAdd',\n",
       "       'RoofStyle', 'RoofMatl', 'Exterior1st', 'Exterior2nd', 'MasVnrType',\n",
       "       'MasVnrArea', 'ExterQual', 'ExterCond', 'Foundation', 'BsmtQual',\n",
       "       'BsmtCond', 'BsmtExposure', 'BsmtFinType1', 'BsmtFinSF1',\n",
       "       'BsmtFinType2', 'BsmtFinSF2', 'BsmtUnfSF', 'TotalBsmtSF', 'Heating',\n",
       "       'HeatingQC', 'CentralAir', 'Electrical', '1stFlrSF', '2ndFlrSF',\n",
       "       'LowQualFinSF', 'GrLivArea', 'BsmtFullBath', 'BsmtHalfBath', 'FullBath',\n",
       "       'HalfBath', 'BedroomAbvGr', 'KitchenAbvGr', 'KitchenQual',\n",
       "       'TotRmsAbvGrd', 'Functional', 'Fireplaces', 'FireplaceQu', 'GarageType',\n",
       "       'GarageYrBlt', 'GarageFinish', 'GarageCars', 'GarageArea', 'GarageQual',\n",
       "       'GarageCond', 'PavedDrive', 'WoodDeckSF', 'OpenPorchSF',\n",
       "       'EnclosedPorch', '3SsnPorch', 'ScreenPorch', 'PoolArea', 'PoolQC',\n",
       "       'Fence', 'MiscFeature', 'MiscVal', 'MoSold', 'YrSold', 'SaleType',\n",
       "       'SaleCondition', 'SalePrice'],\n",
       "      dtype='object')"
      ]
     },
     "execution_count": 2,
     "metadata": {},
     "output_type": "execute_result"
    }
   ],
   "source": [
    "# print the list of columns in the dataset to find the name of the prediction target\n",
    "home_data.columns"
   ]
  },
  {
   "cell_type": "code",
   "execution_count": 3,
   "id": "42640ca2",
   "metadata": {
    "execution": {
     "iopub.execute_input": "2022-06-22T13:41:28.621620Z",
     "iopub.status.busy": "2022-06-22T13:41:28.620842Z",
     "iopub.status.idle": "2022-06-22T13:41:28.637800Z",
     "shell.execute_reply": "2022-06-22T13:41:28.636714Z"
    },
    "papermill": {
     "duration": 0.026774,
     "end_time": "2022-06-22T13:41:28.640153",
     "exception": false,
     "start_time": "2022-06-22T13:41:28.613379",
     "status": "completed"
    },
    "tags": []
   },
   "outputs": [
    {
     "data": {
      "application/javascript": "parent.postMessage({\"jupyterEvent\": \"custom.exercise_interaction\", \"data\": {\"outcomeType\": 1, \"valueTowardsCompletion\": 0.25, \"interactionType\": 1, \"questionType\": 2, \"questionId\": \"1_SetTarget\", \"learnToolsVersion\": \"0.3.4\", \"failureMessage\": \"\", \"exceptionClass\": \"\", \"trace\": \"\"}}, \"*\")",
      "text/plain": [
       "<IPython.core.display.Javascript object>"
      ]
     },
     "metadata": {},
     "output_type": "display_data"
    },
    {
     "data": {
      "text/markdown": [
       "<span style=\"color:#33cc33\">Correct</span>"
      ],
      "text/plain": [
       "Correct"
      ]
     },
     "metadata": {},
     "output_type": "display_data"
    }
   ],
   "source": [
    "y = home_data[\"SalePrice\"]\n",
    "\n",
    "# Check your answer\n",
    "step_1.check()"
   ]
  },
  {
   "cell_type": "code",
   "execution_count": 4,
   "id": "d0e4b059",
   "metadata": {
    "collapsed": true,
    "execution": {
     "iopub.execute_input": "2022-06-22T13:41:28.654860Z",
     "iopub.status.busy": "2022-06-22T13:41:28.654113Z",
     "iopub.status.idle": "2022-06-22T13:41:28.658740Z",
     "shell.execute_reply": "2022-06-22T13:41:28.657949Z"
    },
    "jupyter": {
     "outputs_hidden": true
    },
    "papermill": {
     "duration": 0.01469,
     "end_time": "2022-06-22T13:41:28.660940",
     "exception": false,
     "start_time": "2022-06-22T13:41:28.646250",
     "status": "completed"
    },
    "tags": []
   },
   "outputs": [],
   "source": [
    "# The lines below will show you a hint or the solution.\n",
    "# step_1.hint() \n",
    "# step_1.solution()"
   ]
  },
  {
   "cell_type": "markdown",
   "id": "d837067f",
   "metadata": {
    "papermill": {
     "duration": 0.006239,
     "end_time": "2022-06-22T13:41:28.673294",
     "exception": false,
     "start_time": "2022-06-22T13:41:28.667055",
     "status": "completed"
    },
    "tags": []
   },
   "source": [
    "## Step 2: Create X\n",
    "Now you will create a DataFrame called `X` holding the predictive features.\n",
    "\n",
    "Since you want only some columns from the original data, you'll first create a list with the names of the columns you want in `X`.\n",
    "\n",
    "You'll use just the following columns in the list (you can copy and paste the whole list to save some typing, though you'll still need to add quotes):\n",
    "  * LotArea\n",
    "  * YearBuilt\n",
    "  * 1stFlrSF\n",
    "  * 2ndFlrSF\n",
    "  * FullBath\n",
    "  * BedroomAbvGr\n",
    "  * TotRmsAbvGrd\n",
    "\n",
    "After you've created that list of features, use it to create the DataFrame that you'll use to fit the model."
   ]
  },
  {
   "cell_type": "code",
   "execution_count": 5,
   "id": "04b22c5f",
   "metadata": {
    "execution": {
     "iopub.execute_input": "2022-06-22T13:41:28.688276Z",
     "iopub.status.busy": "2022-06-22T13:41:28.687492Z",
     "iopub.status.idle": "2022-06-22T13:41:28.703498Z",
     "shell.execute_reply": "2022-06-22T13:41:28.702334Z"
    },
    "papermill": {
     "duration": 0.025977,
     "end_time": "2022-06-22T13:41:28.705752",
     "exception": false,
     "start_time": "2022-06-22T13:41:28.679775",
     "status": "completed"
    },
    "tags": []
   },
   "outputs": [
    {
     "data": {
      "application/javascript": "parent.postMessage({\"jupyterEvent\": \"custom.exercise_interaction\", \"data\": {\"outcomeType\": 1, \"valueTowardsCompletion\": 0.25, \"interactionType\": 1, \"questionType\": 2, \"questionId\": \"2_SelectPredictionData\", \"learnToolsVersion\": \"0.3.4\", \"failureMessage\": \"\", \"exceptionClass\": \"\", \"trace\": \"\"}}, \"*\")",
      "text/plain": [
       "<IPython.core.display.Javascript object>"
      ]
     },
     "metadata": {},
     "output_type": "display_data"
    },
    {
     "data": {
      "text/markdown": [
       "<span style=\"color:#33cc33\">Correct</span>"
      ],
      "text/plain": [
       "Correct"
      ]
     },
     "metadata": {},
     "output_type": "display_data"
    }
   ],
   "source": [
    "# Create the list of features below\n",
    "feature_names = [\"LotArea\", \"YearBuilt\", \"1stFlrSF\", \"2ndFlrSF\", \"FullBath\", \"BedroomAbvGr\", \"TotRmsAbvGrd\"]\n",
    "\n",
    "# Select data corresponding to features in feature_names\n",
    "X = home_data[feature_names]\n",
    "\n",
    "# Check your answer\n",
    "step_2.check()"
   ]
  },
  {
   "cell_type": "code",
   "execution_count": 6,
   "id": "09276d50",
   "metadata": {
    "collapsed": true,
    "execution": {
     "iopub.execute_input": "2022-06-22T13:41:28.720871Z",
     "iopub.status.busy": "2022-06-22T13:41:28.720467Z",
     "iopub.status.idle": "2022-06-22T13:41:28.724742Z",
     "shell.execute_reply": "2022-06-22T13:41:28.723594Z"
    },
    "jupyter": {
     "outputs_hidden": true
    },
    "papermill": {
     "duration": 0.014891,
     "end_time": "2022-06-22T13:41:28.727071",
     "exception": false,
     "start_time": "2022-06-22T13:41:28.712180",
     "status": "completed"
    },
    "tags": []
   },
   "outputs": [],
   "source": [
    "# step_2.hint()\n",
    "# step_2.solution()"
   ]
  },
  {
   "cell_type": "markdown",
   "id": "1e545f7d",
   "metadata": {
    "papermill": {
     "duration": 0.006266,
     "end_time": "2022-06-22T13:41:28.740038",
     "exception": false,
     "start_time": "2022-06-22T13:41:28.733772",
     "status": "completed"
    },
    "tags": []
   },
   "source": [
    "## Review Data\n",
    "Before building a model, take a quick look at **X** to verify it looks sensible"
   ]
  },
  {
   "cell_type": "code",
   "execution_count": 7,
   "id": "ed04b537",
   "metadata": {
    "execution": {
     "iopub.execute_input": "2022-06-22T13:41:28.755561Z",
     "iopub.status.busy": "2022-06-22T13:41:28.754787Z",
     "iopub.status.idle": "2022-06-22T13:41:28.864485Z",
     "shell.execute_reply": "2022-06-22T13:41:28.863444Z"
    },
    "papermill": {
     "duration": 0.122203,
     "end_time": "2022-06-22T13:41:28.868901",
     "exception": false,
     "start_time": "2022-06-22T13:41:28.746698",
     "status": "completed"
    },
    "tags": []
   },
   "outputs": [
    {
     "name": "stdout",
     "output_type": "stream",
     "text": [
      "                Id   MSSubClass  LotFrontage        LotArea  OverallQual  \\\n",
      "count  1460.000000  1460.000000  1201.000000    1460.000000  1460.000000   \n",
      "mean    730.500000    56.897260    70.049958   10516.828082     6.099315   \n",
      "std     421.610009    42.300571    24.284752    9981.264932     1.382997   \n",
      "min       1.000000    20.000000    21.000000    1300.000000     1.000000   \n",
      "25%     365.750000    20.000000    59.000000    7553.500000     5.000000   \n",
      "50%     730.500000    50.000000    69.000000    9478.500000     6.000000   \n",
      "75%    1095.250000    70.000000    80.000000   11601.500000     7.000000   \n",
      "max    1460.000000   190.000000   313.000000  215245.000000    10.000000   \n",
      "\n",
      "       OverallCond    YearBuilt  YearRemodAdd   MasVnrArea   BsmtFinSF1  ...  \\\n",
      "count  1460.000000  1460.000000   1460.000000  1452.000000  1460.000000  ...   \n",
      "mean      5.575342  1971.267808   1984.865753   103.685262   443.639726  ...   \n",
      "std       1.112799    30.202904     20.645407   181.066207   456.098091  ...   \n",
      "min       1.000000  1872.000000   1950.000000     0.000000     0.000000  ...   \n",
      "25%       5.000000  1954.000000   1967.000000     0.000000     0.000000  ...   \n",
      "50%       5.000000  1973.000000   1994.000000     0.000000   383.500000  ...   \n",
      "75%       6.000000  2000.000000   2004.000000   166.000000   712.250000  ...   \n",
      "max       9.000000  2010.000000   2010.000000  1600.000000  5644.000000  ...   \n",
      "\n",
      "        WoodDeckSF  OpenPorchSF  EnclosedPorch    3SsnPorch  ScreenPorch  \\\n",
      "count  1460.000000  1460.000000    1460.000000  1460.000000  1460.000000   \n",
      "mean     94.244521    46.660274      21.954110     3.409589    15.060959   \n",
      "std     125.338794    66.256028      61.119149    29.317331    55.757415   \n",
      "min       0.000000     0.000000       0.000000     0.000000     0.000000   \n",
      "25%       0.000000     0.000000       0.000000     0.000000     0.000000   \n",
      "50%       0.000000    25.000000       0.000000     0.000000     0.000000   \n",
      "75%     168.000000    68.000000       0.000000     0.000000     0.000000   \n",
      "max     857.000000   547.000000     552.000000   508.000000   480.000000   \n",
      "\n",
      "          PoolArea       MiscVal       MoSold       YrSold      SalePrice  \n",
      "count  1460.000000   1460.000000  1460.000000  1460.000000    1460.000000  \n",
      "mean      2.758904     43.489041     6.321918  2007.815753  180921.195890  \n",
      "std      40.177307    496.123024     2.703626     1.328095   79442.502883  \n",
      "min       0.000000      0.000000     1.000000  2006.000000   34900.000000  \n",
      "25%       0.000000      0.000000     5.000000  2007.000000  129975.000000  \n",
      "50%       0.000000      0.000000     6.000000  2008.000000  163000.000000  \n",
      "75%       0.000000      0.000000     8.000000  2009.000000  214000.000000  \n",
      "max     738.000000  15500.000000    12.000000  2010.000000  755000.000000  \n",
      "\n",
      "[8 rows x 38 columns]\n",
      "   Id  MSSubClass MSZoning  LotFrontage  LotArea Street Alley LotShape  \\\n",
      "0   1          60       RL         65.0     8450   Pave   NaN      Reg   \n",
      "1   2          20       RL         80.0     9600   Pave   NaN      Reg   \n",
      "2   3          60       RL         68.0    11250   Pave   NaN      IR1   \n",
      "3   4          70       RL         60.0     9550   Pave   NaN      IR1   \n",
      "4   5          60       RL         84.0    14260   Pave   NaN      IR1   \n",
      "\n",
      "  LandContour Utilities  ... PoolArea PoolQC Fence MiscFeature MiscVal MoSold  \\\n",
      "0         Lvl    AllPub  ...        0    NaN   NaN         NaN       0      2   \n",
      "1         Lvl    AllPub  ...        0    NaN   NaN         NaN       0      5   \n",
      "2         Lvl    AllPub  ...        0    NaN   NaN         NaN       0      9   \n",
      "3         Lvl    AllPub  ...        0    NaN   NaN         NaN       0      2   \n",
      "4         Lvl    AllPub  ...        0    NaN   NaN         NaN       0     12   \n",
      "\n",
      "  YrSold  SaleType  SaleCondition  SalePrice  \n",
      "0   2008        WD         Normal     208500  \n",
      "1   2007        WD         Normal     181500  \n",
      "2   2008        WD         Normal     223500  \n",
      "3   2006        WD        Abnorml     140000  \n",
      "4   2008        WD         Normal     250000  \n",
      "\n",
      "[5 rows x 81 columns]\n"
     ]
    }
   ],
   "source": [
    "# Review data\n",
    "# print description or statistics from X\n",
    "print(home_data.describe())\n",
    "\n",
    "# print the top few lines\n",
    "print(home_data.head())"
   ]
  },
  {
   "cell_type": "markdown",
   "id": "7420cc63",
   "metadata": {
    "papermill": {
     "duration": 0.006629,
     "end_time": "2022-06-22T13:41:28.882378",
     "exception": false,
     "start_time": "2022-06-22T13:41:28.875749",
     "status": "completed"
    },
    "tags": []
   },
   "source": [
    "## Step 3: Specify and Fit Model\n",
    "Create a `DecisionTreeRegressor` and save it iowa_model. Ensure you've done the relevant import from sklearn to run this command.\n",
    "\n",
    "Then fit the model you just created using the data in `X` and `y` that you saved above."
   ]
  },
  {
   "cell_type": "code",
   "execution_count": 8,
   "id": "97e43e50",
   "metadata": {
    "execution": {
     "iopub.execute_input": "2022-06-22T13:41:28.898687Z",
     "iopub.status.busy": "2022-06-22T13:41:28.897851Z",
     "iopub.status.idle": "2022-06-22T13:41:28.918182Z",
     "shell.execute_reply": "2022-06-22T13:41:28.917049Z"
    },
    "papermill": {
     "duration": 0.031114,
     "end_time": "2022-06-22T13:41:28.920505",
     "exception": false,
     "start_time": "2022-06-22T13:41:28.889391",
     "status": "completed"
    },
    "tags": []
   },
   "outputs": [
    {
     "data": {
      "application/javascript": "parent.postMessage({\"jupyterEvent\": \"custom.exercise_interaction\", \"data\": {\"outcomeType\": 1, \"valueTowardsCompletion\": 0.25, \"interactionType\": 1, \"questionType\": 2, \"questionId\": \"3_CreateModel\", \"learnToolsVersion\": \"0.3.4\", \"failureMessage\": \"\", \"exceptionClass\": \"\", \"trace\": \"\"}}, \"*\")",
      "text/plain": [
       "<IPython.core.display.Javascript object>"
      ]
     },
     "metadata": {},
     "output_type": "display_data"
    },
    {
     "data": {
      "text/markdown": [
       "<span style=\"color:#33cc33\">Correct</span>"
      ],
      "text/plain": [
       "Correct"
      ]
     },
     "metadata": {},
     "output_type": "display_data"
    }
   ],
   "source": [
    " from sklearn.tree import DecisionTreeRegressor\n",
    "#specify the model. \n",
    "#For model reproducibility, set a numeric value for random_state when specifying the model\n",
    "iowa_model = DecisionTreeRegressor(random_state=30)\n",
    "\n",
    "# Fit the model\n",
    "iowa_model.fit(X, y)\n",
    "\n",
    "# Check your answer\n",
    "step_3.check()"
   ]
  },
  {
   "cell_type": "code",
   "execution_count": 9,
   "id": "8deff65f",
   "metadata": {
    "collapsed": true,
    "execution": {
     "iopub.execute_input": "2022-06-22T13:41:28.937104Z",
     "iopub.status.busy": "2022-06-22T13:41:28.935922Z",
     "iopub.status.idle": "2022-06-22T13:41:28.940994Z",
     "shell.execute_reply": "2022-06-22T13:41:28.939997Z"
    },
    "jupyter": {
     "outputs_hidden": true
    },
    "papermill": {
     "duration": 0.015747,
     "end_time": "2022-06-22T13:41:28.943282",
     "exception": false,
     "start_time": "2022-06-22T13:41:28.927535",
     "status": "completed"
    },
    "tags": []
   },
   "outputs": [],
   "source": [
    "# step_3.hint()\n",
    "# step_3.solution()"
   ]
  },
  {
   "cell_type": "markdown",
   "id": "c3aa20fb",
   "metadata": {
    "papermill": {
     "duration": 0.006771,
     "end_time": "2022-06-22T13:41:28.957192",
     "exception": false,
     "start_time": "2022-06-22T13:41:28.950421",
     "status": "completed"
    },
    "tags": []
   },
   "source": [
    "## Step 4: Make Predictions\n",
    "Make predictions with the model's `predict` command using `X` as the data. Save the results to a variable called `predictions`."
   ]
  },
  {
   "cell_type": "code",
   "execution_count": 10,
   "id": "8a8bf149",
   "metadata": {
    "execution": {
     "iopub.execute_input": "2022-06-22T13:41:28.973936Z",
     "iopub.status.busy": "2022-06-22T13:41:28.973167Z",
     "iopub.status.idle": "2022-06-22T13:41:28.989312Z",
     "shell.execute_reply": "2022-06-22T13:41:28.987934Z"
    },
    "papermill": {
     "duration": 0.027081,
     "end_time": "2022-06-22T13:41:28.991778",
     "exception": false,
     "start_time": "2022-06-22T13:41:28.964697",
     "status": "completed"
    },
    "tags": []
   },
   "outputs": [
    {
     "name": "stdout",
     "output_type": "stream",
     "text": [
      "[208500. 181500. 223500. ... 266500. 142125. 147500.]\n"
     ]
    },
    {
     "data": {
      "application/javascript": "parent.postMessage({\"jupyterEvent\": \"custom.exercise_interaction\", \"data\": {\"outcomeType\": 1, \"valueTowardsCompletion\": 0.25, \"interactionType\": 1, \"questionType\": 2, \"questionId\": \"4_MakePredictions\", \"learnToolsVersion\": \"0.3.4\", \"failureMessage\": \"\", \"exceptionClass\": \"\", \"trace\": \"\"}}, \"*\")",
      "text/plain": [
       "<IPython.core.display.Javascript object>"
      ]
     },
     "metadata": {},
     "output_type": "display_data"
    },
    {
     "data": {
      "text/markdown": [
       "<span style=\"color:#33cc33\">Correct</span>"
      ],
      "text/plain": [
       "Correct"
      ]
     },
     "metadata": {},
     "output_type": "display_data"
    }
   ],
   "source": [
    "predictions = iowa_model.predict(X)\n",
    "print(predictions)\n",
    "\n",
    "# Check your answer\n",
    "step_4.check()"
   ]
  },
  {
   "cell_type": "code",
   "execution_count": 11,
   "id": "57aad73c",
   "metadata": {
    "collapsed": true,
    "execution": {
     "iopub.execute_input": "2022-06-22T13:41:29.009733Z",
     "iopub.status.busy": "2022-06-22T13:41:29.008998Z",
     "iopub.status.idle": "2022-06-22T13:41:29.012735Z",
     "shell.execute_reply": "2022-06-22T13:41:29.011943Z"
    },
    "jupyter": {
     "outputs_hidden": true
    },
    "papermill": {
     "duration": 0.015205,
     "end_time": "2022-06-22T13:41:29.014751",
     "exception": false,
     "start_time": "2022-06-22T13:41:28.999546",
     "status": "completed"
    },
    "tags": []
   },
   "outputs": [],
   "source": [
    "# step_4.hint()\n",
    "# step_4.solution()"
   ]
  },
  {
   "cell_type": "markdown",
   "id": "f365bf32",
   "metadata": {
    "papermill": {
     "duration": 0.007827,
     "end_time": "2022-06-22T13:41:29.030174",
     "exception": false,
     "start_time": "2022-06-22T13:41:29.022347",
     "status": "completed"
    },
    "tags": []
   },
   "source": [
    "## Think About Your Results\n",
    "\n",
    "Use the `head` method to compare the top few predictions to the actual home values (in `y`) for those same homes. Anything surprising?\n"
   ]
  },
  {
   "cell_type": "code",
   "execution_count": 12,
   "id": "84ef5493",
   "metadata": {
    "execution": {
     "iopub.execute_input": "2022-06-22T13:41:29.047826Z",
     "iopub.status.busy": "2022-06-22T13:41:29.047057Z",
     "iopub.status.idle": "2022-06-22T13:41:29.053818Z",
     "shell.execute_reply": "2022-06-22T13:41:29.052975Z"
    },
    "papermill": {
     "duration": 0.018364,
     "end_time": "2022-06-22T13:41:29.056048",
     "exception": false,
     "start_time": "2022-06-22T13:41:29.037684",
     "status": "completed"
    },
    "tags": []
   },
   "outputs": [
    {
     "data": {
      "text/plain": [
       "0    208500\n",
       "1    181500\n",
       "2    223500\n",
       "3    140000\n",
       "4    250000\n",
       "Name: SalePrice, dtype: int64"
      ]
     },
     "execution_count": 12,
     "metadata": {},
     "output_type": "execute_result"
    }
   ],
   "source": [
    "# You can write code in this cell\n",
    "y.head()"
   ]
  },
  {
   "cell_type": "markdown",
   "id": "0b6ff374",
   "metadata": {
    "papermill": {
     "duration": 0.00741,
     "end_time": "2022-06-22T13:41:29.071228",
     "exception": false,
     "start_time": "2022-06-22T13:41:29.063818",
     "status": "completed"
    },
    "tags": []
   },
   "source": [
    "It's natural to ask how accurate the model's predictions will be and how you can improve that. That will be you're next step.\n",
    "\n",
    "# Keep Going\n",
    "\n",
    "You are ready for **[Model Validation](https://www.kaggle.com/dansbecker/model-validation).**\n"
   ]
  },
  {
   "cell_type": "markdown",
   "id": "fb532190",
   "metadata": {
    "papermill": {
     "duration": 0.0073,
     "end_time": "2022-06-22T13:41:29.086286",
     "exception": false,
     "start_time": "2022-06-22T13:41:29.078986",
     "status": "completed"
    },
    "tags": []
   },
   "source": [
    "---\n",
    "\n",
    "\n",
    "\n",
    "\n",
    "*Have questions or comments? Visit the [course discussion forum](https://www.kaggle.com/learn/intro-to-machine-learning/discussion) to chat with other learners.*"
   ]
  }
 ],
 "metadata": {
  "kernelspec": {
   "display_name": "Python 3",
   "language": "python",
   "name": "python3"
  },
  "language_info": {
   "codemirror_mode": {
    "name": "ipython",
    "version": 3
   },
   "file_extension": ".py",
   "mimetype": "text/x-python",
   "name": "python",
   "nbconvert_exporter": "python",
   "pygments_lexer": "ipython3",
   "version": "3.7.12"
  },
  "papermill": {
   "default_parameters": {},
   "duration": 13.323156,
   "end_time": "2022-06-22T13:41:29.815901",
   "environment_variables": {},
   "exception": null,
   "input_path": "__notebook__.ipynb",
   "output_path": "__notebook__.ipynb",
   "parameters": {},
   "start_time": "2022-06-22T13:41:16.492745",
   "version": "2.3.4"
  }
 },
 "nbformat": 4,
 "nbformat_minor": 5
}

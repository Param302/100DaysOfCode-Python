{
 "cells": [
  {
   "cell_type": "markdown",
   "id": "95001ee4",
   "metadata": {
    "papermill": {
     "duration": 0.005258,
     "end_time": "2022-06-22T14:33:14.197667",
     "exception": false,
     "start_time": "2022-06-22T14:33:14.192409",
     "status": "completed"
    },
    "tags": []
   },
   "source": [
    "# [Intro to Machine Learning](https://www.kaggle.com/learn/intro-to-machine-learning)\n",
    "by kaggle\n",
    "\n",
    "**Lesson 5:** [Underfitting and Overfitting](https://www.kaggle.com/code/dansbecker/underfitting-and-overfitting)\n",
    "- [My Notebok](https://www.kaggle.com/param302/exercise-underfitting-and-overfitting)\n",
    "---\n"
   ]
  },
  {
   "cell_type": "markdown",
   "id": "ec10a7c3",
   "metadata": {
    "papermill": {
     "duration": 0.003493,
     "end_time": "2022-06-22T14:33:14.205340",
     "exception": false,
     "start_time": "2022-06-22T14:33:14.201847",
     "status": "completed"
    },
    "tags": []
   },
   "source": [
    "## Recap\n",
    "You've built your first model, and now it's time to optimize the size of the tree to make better predictions. Run this cell to set up your coding environment where the previous step left off."
   ]
  },
  {
   "cell_type": "code",
   "execution_count": 1,
   "id": "7e529817",
   "metadata": {
    "execution": {
     "iopub.execute_input": "2022-06-22T14:33:14.215506Z",
     "iopub.status.busy": "2022-06-22T14:33:14.214608Z",
     "iopub.status.idle": "2022-06-22T14:33:15.824741Z",
     "shell.execute_reply": "2022-06-22T14:33:15.823118Z"
    },
    "papermill": {
     "duration": 1.618968,
     "end_time": "2022-06-22T14:33:15.827976",
     "exception": false,
     "start_time": "2022-06-22T14:33:14.209008",
     "status": "completed"
    },
    "tags": []
   },
   "outputs": [
    {
     "name": "stdout",
     "output_type": "stream",
     "text": [
      "Validation MAE: 29,653\n",
      "\n",
      "Setup complete\n"
     ]
    }
   ],
   "source": [
    "# Code you have previously used to load data\n",
    "import pandas as pd\n",
    "from sklearn.metrics import mean_absolute_error\n",
    "from sklearn.model_selection import train_test_split\n",
    "from sklearn.tree import DecisionTreeRegressor\n",
    "\n",
    "\n",
    "# Path of the file to read\n",
    "iowa_file_path = '../input/home-data-for-ml-course/train.csv'\n",
    "\n",
    "home_data = pd.read_csv(iowa_file_path)\n",
    "# Create target object and call it y\n",
    "y = home_data.SalePrice\n",
    "# Create X\n",
    "features = ['LotArea', 'YearBuilt', '1stFlrSF', '2ndFlrSF', 'FullBath', 'BedroomAbvGr', 'TotRmsAbvGrd']\n",
    "X = home_data[features]\n",
    "\n",
    "# Split into validation and training data\n",
    "train_X, val_X, train_y, val_y = train_test_split(X, y, random_state=1)\n",
    "\n",
    "# Specify Model\n",
    "iowa_model = DecisionTreeRegressor(random_state=1)\n",
    "# Fit Model\n",
    "iowa_model.fit(train_X, train_y)\n",
    "\n",
    "# Make validation predictions and calculate mean absolute error\n",
    "val_predictions = iowa_model.predict(val_X)\n",
    "val_mae = mean_absolute_error(val_predictions, val_y)\n",
    "print(\"Validation MAE: {:,.0f}\".format(val_mae))\n",
    "\n",
    "# Set up code checking\n",
    "from learntools.core import binder\n",
    "binder.bind(globals())\n",
    "from learntools.machine_learning.ex5 import *\n",
    "print(\"\\nSetup complete\")"
   ]
  },
  {
   "cell_type": "markdown",
   "id": "009843d5",
   "metadata": {
    "papermill": {
     "duration": 0.003846,
     "end_time": "2022-06-22T14:33:15.836305",
     "exception": false,
     "start_time": "2022-06-22T14:33:15.832459",
     "status": "completed"
    },
    "tags": []
   },
   "source": [
    "# Exercises\n",
    "You could write the function `get_mae` yourself. For now, we'll supply it. This is the same function you read about in the previous lesson. Just run the cell below."
   ]
  },
  {
   "cell_type": "code",
   "execution_count": 2,
   "id": "6366f08c",
   "metadata": {
    "execution": {
     "iopub.execute_input": "2022-06-22T14:33:15.846620Z",
     "iopub.status.busy": "2022-06-22T14:33:15.846228Z",
     "iopub.status.idle": "2022-06-22T14:33:15.852419Z",
     "shell.execute_reply": "2022-06-22T14:33:15.851297Z"
    },
    "papermill": {
     "duration": 0.014343,
     "end_time": "2022-06-22T14:33:15.854694",
     "exception": false,
     "start_time": "2022-06-22T14:33:15.840351",
     "status": "completed"
    },
    "tags": []
   },
   "outputs": [],
   "source": [
    "def get_mae(max_leaf_nodes, train_X, val_X, train_y, val_y):\n",
    "    model = DecisionTreeRegressor(max_leaf_nodes=max_leaf_nodes, random_state=0)\n",
    "    model.fit(train_X, train_y)\n",
    "    preds_val = model.predict(val_X)\n",
    "    mae = mean_absolute_error(val_y, preds_val)\n",
    "    return(mae)"
   ]
  },
  {
   "cell_type": "markdown",
   "id": "5b86ed21",
   "metadata": {
    "papermill": {
     "duration": 0.003748,
     "end_time": "2022-06-22T14:33:15.862657",
     "exception": false,
     "start_time": "2022-06-22T14:33:15.858909",
     "status": "completed"
    },
    "tags": []
   },
   "source": [
    "## Step 1: Compare Different Tree Sizes\n",
    "Write a loop that tries the following values for *max_leaf_nodes* from a set of possible values.\n",
    "\n",
    "Call the *get_mae* function on each value of max_leaf_nodes. Store the output in some way that allows you to select the value of `max_leaf_nodes` that gives the most accurate model on your data."
   ]
  },
  {
   "cell_type": "code",
   "execution_count": 3,
   "id": "da9647fa",
   "metadata": {
    "execution": {
     "iopub.execute_input": "2022-06-22T14:33:15.873393Z",
     "iopub.status.busy": "2022-06-22T14:33:15.872681Z",
     "iopub.status.idle": "2022-06-22T14:33:15.923458Z",
     "shell.execute_reply": "2022-06-22T14:33:15.922311Z"
    },
    "papermill": {
     "duration": 0.059091,
     "end_time": "2022-06-22T14:33:15.925992",
     "exception": false,
     "start_time": "2022-06-22T14:33:15.866901",
     "status": "completed"
    },
    "tags": []
   },
   "outputs": [
    {
     "name": "stdout",
     "output_type": "stream",
     "text": [
      "Leaf nodes: 5\t\tMAE: 35044.51299744237\n",
      "Leaf nodes: 25\t\tMAE: 29016.41319191076\n",
      "Leaf nodes: 50\t\tMAE: 27405.930473214907\n",
      "Leaf nodes: 100\t\tMAE: 27282.50803885739\n",
      "Leaf nodes: 250\t\tMAE: 27893.822225701646\n",
      "Leaf nodes: 500\t\tMAE: 29454.18598068598\n"
     ]
    },
    {
     "data": {
      "application/javascript": "parent.postMessage({\"jupyterEvent\": \"custom.exercise_interaction\", \"data\": {\"outcomeType\": 1, \"valueTowardsCompletion\": 0.5, \"interactionType\": 1, \"questionType\": 1, \"questionId\": \"1_BestTreeSize\", \"learnToolsVersion\": \"0.3.4\", \"failureMessage\": \"\", \"exceptionClass\": \"\", \"trace\": \"\"}}, \"*\")",
      "text/plain": [
       "<IPython.core.display.Javascript object>"
      ]
     },
     "metadata": {},
     "output_type": "display_data"
    },
    {
     "data": {
      "text/markdown": [
       "<span style=\"color:#33cc33\">Correct</span>"
      ],
      "text/plain": [
       "Correct"
      ]
     },
     "metadata": {},
     "output_type": "display_data"
    }
   ],
   "source": [
    "candidate_max_leaf_nodes = [5, 25, 50, 100, 250, 500]\n",
    "# Write loop to find the ideal tree size from candidate_max_leaf_nodes\n",
    "for leaf in candidate_max_leaf_nodes:\n",
    "    mae = get_mae(leaf, train_X, val_X, train_y, val_y)\n",
    "    print(f\"Leaf nodes: {leaf}\\t\\tMAE: {mae}\")\n",
    "\n",
    "# Store the best value of max_leaf_nodes (it will be either 5, 25, 50, 100, 250 or 500)\n",
    "best_tree_size = 100\n",
    "\n",
    "# Check your answer\n",
    "step_1.check()"
   ]
  },
  {
   "cell_type": "code",
   "execution_count": 4,
   "id": "fbcaf107",
   "metadata": {
    "execution": {
     "iopub.execute_input": "2022-06-22T14:33:15.937243Z",
     "iopub.status.busy": "2022-06-22T14:33:15.936743Z",
     "iopub.status.idle": "2022-06-22T14:33:15.940862Z",
     "shell.execute_reply": "2022-06-22T14:33:15.940045Z"
    },
    "papermill": {
     "duration": 0.012377,
     "end_time": "2022-06-22T14:33:15.942946",
     "exception": false,
     "start_time": "2022-06-22T14:33:15.930569",
     "status": "completed"
    },
    "tags": []
   },
   "outputs": [],
   "source": [
    "# The lines below will show you a hint or the solution.\n",
    "# step_1.hint() \n",
    "# step_1.solution()"
   ]
  },
  {
   "cell_type": "markdown",
   "id": "8d36f89a",
   "metadata": {
    "papermill": {
     "duration": 0.004,
     "end_time": "2022-06-22T14:33:15.951859",
     "exception": false,
     "start_time": "2022-06-22T14:33:15.947859",
     "status": "completed"
    },
    "tags": []
   },
   "source": [
    "## Step 2: Fit Model Using All Data\n",
    "You know the best tree size. If you were going to deploy this model in practice, you would make it even more accurate by using all of the data and keeping that tree size.  That is, you don't need to hold out the validation data now that you've made all your modeling decisions."
   ]
  },
  {
   "cell_type": "code",
   "execution_count": 5,
   "id": "8003be7f",
   "metadata": {
    "execution": {
     "iopub.execute_input": "2022-06-22T14:33:15.963016Z",
     "iopub.status.busy": "2022-06-22T14:33:15.962297Z",
     "iopub.status.idle": "2022-06-22T14:33:15.980184Z",
     "shell.execute_reply": "2022-06-22T14:33:15.978735Z"
    },
    "papermill": {
     "duration": 0.026414,
     "end_time": "2022-06-22T14:33:15.982625",
     "exception": false,
     "start_time": "2022-06-22T14:33:15.956211",
     "status": "completed"
    },
    "tags": []
   },
   "outputs": [
    {
     "data": {
      "application/javascript": "parent.postMessage({\"jupyterEvent\": \"custom.exercise_interaction\", \"data\": {\"outcomeType\": 1, \"valueTowardsCompletion\": 0.5, \"interactionType\": 1, \"questionType\": 2, \"questionId\": \"2_FitModelWithAllData\", \"learnToolsVersion\": \"0.3.4\", \"failureMessage\": \"\", \"exceptionClass\": \"\", \"trace\": \"\"}}, \"*\")",
      "text/plain": [
       "<IPython.core.display.Javascript object>"
      ]
     },
     "metadata": {},
     "output_type": "display_data"
    },
    {
     "data": {
      "text/markdown": [
       "<span style=\"color:#33cc33\">Correct</span>"
      ],
      "text/plain": [
       "Correct"
      ]
     },
     "metadata": {},
     "output_type": "display_data"
    }
   ],
   "source": [
    "# Fill in argument to make optimal size and uncomment\n",
    "final_model = DecisionTreeRegressor(max_leaf_nodes=best_tree_size, random_state=0)\n",
    "\n",
    "# fit the final model and uncomment the next two lines\n",
    "final_model.fit(X, y)\n",
    "\n",
    "# Check your answer\n",
    "step_2.check()"
   ]
  },
  {
   "cell_type": "code",
   "execution_count": 6,
   "id": "56d10636",
   "metadata": {
    "execution": {
     "iopub.execute_input": "2022-06-22T14:33:15.994525Z",
     "iopub.status.busy": "2022-06-22T14:33:15.993826Z",
     "iopub.status.idle": "2022-06-22T14:33:16.001999Z",
     "shell.execute_reply": "2022-06-22T14:33:16.000971Z"
    },
    "papermill": {
     "duration": 0.017014,
     "end_time": "2022-06-22T14:33:16.004308",
     "exception": false,
     "start_time": "2022-06-22T14:33:15.987294",
     "status": "completed"
    },
    "tags": []
   },
   "outputs": [
    {
     "data": {
      "application/javascript": "parent.postMessage({\"jupyterEvent\": \"custom.exercise_interaction\", \"data\": {\"interactionType\": 2, \"questionType\": 2, \"questionId\": \"2_FitModelWithAllData\", \"learnToolsVersion\": \"0.3.4\", \"valueTowardsCompletion\": 0.0, \"failureMessage\": \"\", \"exceptionClass\": \"\", \"trace\": \"\", \"outcomeType\": 4}}, \"*\")",
      "text/plain": [
       "<IPython.core.display.Javascript object>"
      ]
     },
     "metadata": {},
     "output_type": "display_data"
    },
    {
     "data": {
      "text/markdown": [
       "<span style=\"color:#3366cc\">Hint:</span> Fit with the ideal value of max_leaf_nodes. In the fit step, use all of the data in the dataset"
      ],
      "text/plain": [
       "Hint: Fit with the ideal value of max_leaf_nodes. In the fit step, use all of the data in the dataset"
      ]
     },
     "metadata": {},
     "output_type": "display_data"
    }
   ],
   "source": [
    "step_2.hint()\n",
    "# step_2.solution()"
   ]
  },
  {
   "cell_type": "markdown",
   "id": "e617d1af",
   "metadata": {
    "papermill": {
     "duration": 0.004548,
     "end_time": "2022-06-22T14:33:16.013810",
     "exception": false,
     "start_time": "2022-06-22T14:33:16.009262",
     "status": "completed"
    },
    "tags": []
   },
   "source": [
    "You've tuned this model and improved your results. But we are still using Decision Tree models, which are not very sophisticated by modern machine learning standards. In the next step you will learn to use Random Forests to improve your models even more.\n",
    "\n",
    "# Keep Going\n",
    "\n",
    "You are ready for **[Random Forests](https://www.kaggle.com/dansbecker/random-forests).**\n"
   ]
  },
  {
   "cell_type": "markdown",
   "id": "d9557513",
   "metadata": {
    "papermill": {
     "duration": 0.00455,
     "end_time": "2022-06-22T14:33:16.023124",
     "exception": false,
     "start_time": "2022-06-22T14:33:16.018574",
     "status": "completed"
    },
    "tags": []
   },
   "source": [
    "---\n",
    "\n",
    "\n",
    "\n",
    "\n",
    "*Have questions or comments? Visit the [course discussion forum](https://www.kaggle.com/learn/intro-to-machine-learning/discussion) to chat with other learners.*"
   ]
  }
 ],
 "metadata": {
  "kernelspec": {
   "display_name": "Python 3",
   "language": "python",
   "name": "python3"
  },
  "language_info": {
   "codemirror_mode": {
    "name": "ipython",
    "version": 3
   },
   "file_extension": ".py",
   "mimetype": "text/x-python",
   "name": "python",
   "nbconvert_exporter": "python",
   "pygments_lexer": "ipython3",
   "version": "3.7.12"
  },
  "papermill": {
   "default_parameters": {},
   "duration": 14.004898,
   "end_time": "2022-06-22T14:33:17.051703",
   "environment_variables": {},
   "exception": null,
   "input_path": "__notebook__.ipynb",
   "output_path": "__notebook__.ipynb",
   "parameters": {},
   "start_time": "2022-06-22T14:33:03.046805",
   "version": "2.3.4"
  }
 },
 "nbformat": 4,
 "nbformat_minor": 5
}

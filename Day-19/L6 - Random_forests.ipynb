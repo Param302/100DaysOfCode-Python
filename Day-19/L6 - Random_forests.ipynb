{
 "cells": [
  {
   "cell_type": "markdown",
   "id": "a53590fe",
   "metadata": {
    "papermill": {
     "duration": 0.003817,
     "end_time": "2022-06-22T14:42:10.797971",
     "exception": false,
     "start_time": "2022-06-22T14:42:10.794154",
     "status": "completed"
    },
    "tags": []
   },
   "source": [
    "# [Intro to Machine Learning](https://www.kaggle.com/learn/intro-to-machine-learning)\n",
    "by kaggle\n",
    "\n",
    "**Lesson 6:** [Random Forests](https://www.kaggle.com/code/dansbecker/random-forests)\n",
    "- [My Notebok](https://www.kaggle.com/param302/exercise-random-forests)\n",
    "---\n"
   ]
  },
  {
   "cell_type": "markdown",
   "id": "62970021",
   "metadata": {
    "papermill": {
     "duration": 0.00252,
     "end_time": "2022-06-22T14:42:10.803575",
     "exception": false,
     "start_time": "2022-06-22T14:42:10.801055",
     "status": "completed"
    },
    "tags": []
   },
   "source": [
    "## Recap\n",
    "Here's the code you've written so far."
   ]
  },
  {
   "cell_type": "code",
   "execution_count": 1,
   "id": "476c585a",
   "metadata": {
    "execution": {
     "iopub.execute_input": "2022-06-22T14:42:10.810945Z",
     "iopub.status.busy": "2022-06-22T14:42:10.810541Z",
     "iopub.status.idle": "2022-06-22T14:42:12.467454Z",
     "shell.execute_reply": "2022-06-22T14:42:12.466138Z"
    },
    "papermill": {
     "duration": 1.664611,
     "end_time": "2022-06-22T14:42:12.470836",
     "exception": false,
     "start_time": "2022-06-22T14:42:10.806225",
     "status": "completed"
    },
    "tags": []
   },
   "outputs": [
    {
     "name": "stdout",
     "output_type": "stream",
     "text": [
      "Validation MAE when not specifying max_leaf_nodes: 29,653\n",
      "Validation MAE for best value of max_leaf_nodes: 27,283\n",
      "\n",
      "Setup complete\n"
     ]
    }
   ],
   "source": [
    "# Code you have previously used to load data\n",
    "import pandas as pd\n",
    "from sklearn.metrics import mean_absolute_error\n",
    "from sklearn.model_selection import train_test_split\n",
    "from sklearn.tree import DecisionTreeRegressor\n",
    "\n",
    "\n",
    "# Path of the file to read\n",
    "iowa_file_path = '../input/home-data-for-ml-course/train.csv'\n",
    "\n",
    "home_data = pd.read_csv(iowa_file_path)\n",
    "# Create target object and call it y\n",
    "y = home_data.SalePrice\n",
    "# Create X\n",
    "features = ['LotArea', 'YearBuilt', '1stFlrSF', '2ndFlrSF', 'FullBath', 'BedroomAbvGr', 'TotRmsAbvGrd']\n",
    "X = home_data[features]\n",
    "\n",
    "# Split into validation and training data\n",
    "train_X, val_X, train_y, val_y = train_test_split(X, y, random_state=1)\n",
    "\n",
    "# Specify Model\n",
    "iowa_model = DecisionTreeRegressor(random_state=1)\n",
    "# Fit Model\n",
    "iowa_model.fit(train_X, train_y)\n",
    "\n",
    "# Make validation predictions and calculate mean absolute error\n",
    "val_predictions = iowa_model.predict(val_X)\n",
    "val_mae = mean_absolute_error(val_predictions, val_y)\n",
    "print(\"Validation MAE when not specifying max_leaf_nodes: {:,.0f}\".format(val_mae))\n",
    "\n",
    "# Using best value for max_leaf_nodes\n",
    "iowa_model = DecisionTreeRegressor(max_leaf_nodes=100, random_state=1)\n",
    "iowa_model.fit(train_X, train_y)\n",
    "val_predictions = iowa_model.predict(val_X)\n",
    "val_mae = mean_absolute_error(val_predictions, val_y)\n",
    "print(\"Validation MAE for best value of max_leaf_nodes: {:,.0f}\".format(val_mae))\n",
    "\n",
    "\n",
    "# Set up code checking\n",
    "from learntools.core import binder\n",
    "binder.bind(globals())\n",
    "from learntools.machine_learning.ex6 import *\n",
    "print(\"\\nSetup complete\")"
   ]
  },
  {
   "cell_type": "markdown",
   "id": "866d86e8",
   "metadata": {
    "papermill": {
     "duration": 0.00293,
     "end_time": "2022-06-22T14:42:12.477085",
     "exception": false,
     "start_time": "2022-06-22T14:42:12.474155",
     "status": "completed"
    },
    "tags": []
   },
   "source": [
    "# Exercises\n",
    "Data science isn't always this easy. But replacing the decision tree with a Random Forest is going to be an easy win."
   ]
  },
  {
   "cell_type": "markdown",
   "id": "140c53ef",
   "metadata": {
    "papermill": {
     "duration": 0.002909,
     "end_time": "2022-06-22T14:42:12.483172",
     "exception": false,
     "start_time": "2022-06-22T14:42:12.480263",
     "status": "completed"
    },
    "tags": []
   },
   "source": [
    "## Step 1: Use a Random Forest"
   ]
  },
  {
   "cell_type": "code",
   "execution_count": 2,
   "id": "3a4be172",
   "metadata": {
    "execution": {
     "iopub.execute_input": "2022-06-22T14:42:12.491156Z",
     "iopub.status.busy": "2022-06-22T14:42:12.490442Z",
     "iopub.status.idle": "2022-06-22T14:42:13.031758Z",
     "shell.execute_reply": "2022-06-22T14:42:13.030599Z"
    },
    "papermill": {
     "duration": 0.548329,
     "end_time": "2022-06-22T14:42:13.034397",
     "exception": false,
     "start_time": "2022-06-22T14:42:12.486068",
     "status": "completed"
    },
    "tags": []
   },
   "outputs": [
    {
     "name": "stdout",
     "output_type": "stream",
     "text": [
      "Validation MAE for Random Forest Model: 21857.15912981083\n"
     ]
    },
    {
     "data": {
      "application/javascript": "parent.postMessage({\"jupyterEvent\": \"custom.exercise_interaction\", \"data\": {\"outcomeType\": 1, \"valueTowardsCompletion\": 1.0, \"interactionType\": 1, \"questionType\": 2, \"questionId\": \"1_CheckRfScore\", \"learnToolsVersion\": \"0.3.4\", \"failureMessage\": \"\", \"exceptionClass\": \"\", \"trace\": \"\"}}, \"*\")",
      "text/plain": [
       "<IPython.core.display.Javascript object>"
      ]
     },
     "metadata": {},
     "output_type": "display_data"
    },
    {
     "data": {
      "text/markdown": [
       "<span style=\"color:#33cc33\">Correct</span>"
      ],
      "text/plain": [
       "Correct"
      ]
     },
     "metadata": {},
     "output_type": "display_data"
    }
   ],
   "source": [
    "from sklearn.ensemble import RandomForestRegressor\n",
    "\n",
    "# Define the model. Set random_state to 1\n",
    "rf_model = RandomForestRegressor(random_state=1)\n",
    "\n",
    "# fit your model\n",
    "rf_model.fit(train_X, train_y)\n",
    "\n",
    "# Calculate the mean absolute error of your Random Forest model on the validation data\n",
    "val_preds = rf_model.predict(val_X)\n",
    "rf_val_mae = mean_absolute_error(val_y, val_preds)\n",
    "\n",
    "print(\"Validation MAE for Random Forest Model: {}\".format(rf_val_mae))\n",
    "\n",
    "# Check your answer\n",
    "step_1.check()"
   ]
  },
  {
   "cell_type": "code",
   "execution_count": 3,
   "id": "2b861cf3",
   "metadata": {
    "execution": {
     "iopub.execute_input": "2022-06-22T14:42:13.043089Z",
     "iopub.status.busy": "2022-06-22T14:42:13.042722Z",
     "iopub.status.idle": "2022-06-22T14:42:13.046990Z",
     "shell.execute_reply": "2022-06-22T14:42:13.046202Z"
    },
    "papermill": {
     "duration": 0.011246,
     "end_time": "2022-06-22T14:42:13.049199",
     "exception": false,
     "start_time": "2022-06-22T14:42:13.037953",
     "status": "completed"
    },
    "tags": []
   },
   "outputs": [],
   "source": [
    "# The lines below will show you a hint or the solution.\n",
    "# step_1.hint() \n",
    "# step_1.solution()\n"
   ]
  },
  {
   "cell_type": "markdown",
   "id": "31eae5b4",
   "metadata": {
    "papermill": {
     "duration": 0.002975,
     "end_time": "2022-06-22T14:42:13.055729",
     "exception": false,
     "start_time": "2022-06-22T14:42:13.052754",
     "status": "completed"
    },
    "tags": []
   },
   "source": [
    "So far, you have followed specific instructions at each step of your project. This helped learn key ideas and build your first model, but now you know enough to try things on your own. \n",
    "\n",
    "Machine Learning competitions are a great way to try your own ideas and learn more as you independently navigate a machine learning project. \n",
    "\n",
    "# Keep Going\n",
    "\n",
    "You are ready for **[Machine Learning Competitions](https://www.kaggle.com/alexisbcook/machine-learning-competitions).**\n"
   ]
  },
  {
   "cell_type": "markdown",
   "id": "19eb0cab",
   "metadata": {
    "papermill": {
     "duration": 0.002934,
     "end_time": "2022-06-22T14:42:13.061984",
     "exception": false,
     "start_time": "2022-06-22T14:42:13.059050",
     "status": "completed"
    },
    "tags": []
   },
   "source": [
    "---\n",
    "\n",
    "\n",
    "\n",
    "\n",
    "*Have questions or comments? Visit the [course discussion forum](https://www.kaggle.com/learn/intro-to-machine-learning/discussion) to chat with other learners.*"
   ]
  }
 ],
 "metadata": {
  "kernelspec": {
   "display_name": "Python 3",
   "language": "python",
   "name": "python3"
  },
  "language_info": {
   "codemirror_mode": {
    "name": "ipython",
    "version": 3
   },
   "file_extension": ".py",
   "mimetype": "text/x-python",
   "name": "python",
   "nbconvert_exporter": "python",
   "pygments_lexer": "ipython3",
   "version": "3.7.12"
  },
  "papermill": {
   "default_parameters": {},
   "duration": 13.381457,
   "end_time": "2022-06-22T14:42:13.787084",
   "environment_variables": {},
   "exception": null,
   "input_path": "__notebook__.ipynb",
   "output_path": "__notebook__.ipynb",
   "parameters": {},
   "start_time": "2022-06-22T14:42:00.405627",
   "version": "2.3.4"
  }
 },
 "nbformat": 4,
 "nbformat_minor": 5
}

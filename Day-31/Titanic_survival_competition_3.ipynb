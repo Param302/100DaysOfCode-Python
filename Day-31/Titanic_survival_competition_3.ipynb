{
 "cells": [
  {
   "cell_type": "markdown",
   "id": "584e895f",
   "metadata": {},
   "source": [
    "# [Titanic - Machine learning from Disaster](https://www.kaggle.com/competitions/titanic/)\n",
    "\n",
    "- [My notebook](https://www.kaggle.com/code/param302/titanic-survival-competition-3)"
   ]
  },
  {
   "cell_type": "markdown",
   "id": "5b230df5",
   "metadata": {
    "papermill": {
     "duration": 0.006561,
     "end_time": "2022-07-05T17:51:33.090606",
     "exception": false,
     "start_time": "2022-07-05T17:51:33.084045",
     "status": "completed"
    },
    "tags": []
   },
   "source": [
    "## Importing required libraries"
   ]
  },
  {
   "cell_type": "code",
   "execution_count": 2,
   "id": "38d6cf48",
   "metadata": {
    "execution": {
     "iopub.execute_input": "2022-07-05T17:51:33.105566Z",
     "iopub.status.busy": "2022-07-05T17:51:33.105137Z",
     "iopub.status.idle": "2022-07-05T17:51:34.598143Z",
     "shell.execute_reply": "2022-07-05T17:51:34.596694Z"
    },
    "papermill": {
     "duration": 1.503749,
     "end_time": "2022-07-05T17:51:34.600970",
     "exception": false,
     "start_time": "2022-07-05T17:51:33.097221",
     "status": "completed"
    },
    "tags": []
   },
   "outputs": [],
   "source": [
    "import pandas as pd\n",
    "from xgboost import XGBClassifier\n",
    "from sklearn.pipeline import Pipeline\n",
    "from sklearn.impute import SimpleImputer\n",
    "from sklearn.compose import ColumnTransformer\n",
    "from sklearn.preprocessing import OneHotEncoder\n",
    "from sklearn.model_selection import cross_val_score"
   ]
  },
  {
   "cell_type": "markdown",
   "id": "305ec211",
   "metadata": {
    "papermill": {
     "duration": 0.006225,
     "end_time": "2022-07-05T17:51:34.613924",
     "exception": false,
     "start_time": "2022-07-05T17:51:34.607699",
     "status": "completed"
    },
    "tags": []
   },
   "source": [
    "# Approach\n",
    "1. Load data\n",
    "2. Select useful features\n",
    "3. Extract numerical and categorical columns\n",
    "4. Make pipeline\n",
    "5. Do Hyperparameter tuning with cross-validation\n",
    "6. Check MAE\n",
    "7. Find best parameters\n",
    "8. Train model\n",
    "9. Predicting `survived` on `test_data`\n",
    "10. Submit predictions"
   ]
  },
  {
   "cell_type": "markdown",
   "id": "df8651fe",
   "metadata": {
    "papermill": {
     "duration": 0.006384,
     "end_time": "2022-07-05T17:51:34.626878",
     "exception": false,
     "start_time": "2022-07-05T17:51:34.620494",
     "status": "completed"
    },
    "tags": []
   },
   "source": [
    "## 1. Loading data"
   ]
  },
  {
   "cell_type": "code",
   "execution_count": 3,
   "id": "e5039b05",
   "metadata": {
    "execution": {
     "iopub.execute_input": "2022-07-05T17:51:34.641870Z",
     "iopub.status.busy": "2022-07-05T17:51:34.641431Z",
     "iopub.status.idle": "2022-07-05T17:51:34.699298Z",
     "shell.execute_reply": "2022-07-05T17:51:34.698482Z"
    },
    "papermill": {
     "duration": 0.068181,
     "end_time": "2022-07-05T17:51:34.701520",
     "exception": false,
     "start_time": "2022-07-05T17:51:34.633339",
     "status": "completed"
    },
    "tags": []
   },
   "outputs": [
    {
     "data": {
      "text/html": [
       "<div>\n",
       "<style scoped>\n",
       "    .dataframe tbody tr th:only-of-type {\n",
       "        vertical-align: middle;\n",
       "    }\n",
       "\n",
       "    .dataframe tbody tr th {\n",
       "        vertical-align: top;\n",
       "    }\n",
       "\n",
       "    .dataframe thead th {\n",
       "        text-align: right;\n",
       "    }\n",
       "</style>\n",
       "<table border=\"1\" class=\"dataframe\">\n",
       "  <thead>\n",
       "    <tr style=\"text-align: right;\">\n",
       "      <th></th>\n",
       "      <th>Survived</th>\n",
       "      <th>Pclass</th>\n",
       "      <th>Name</th>\n",
       "      <th>Sex</th>\n",
       "      <th>Age</th>\n",
       "      <th>SibSp</th>\n",
       "      <th>Parch</th>\n",
       "      <th>Ticket</th>\n",
       "      <th>Fare</th>\n",
       "      <th>Cabin</th>\n",
       "      <th>Embarked</th>\n",
       "    </tr>\n",
       "    <tr>\n",
       "      <th>PassengerId</th>\n",
       "      <th></th>\n",
       "      <th></th>\n",
       "      <th></th>\n",
       "      <th></th>\n",
       "      <th></th>\n",
       "      <th></th>\n",
       "      <th></th>\n",
       "      <th></th>\n",
       "      <th></th>\n",
       "      <th></th>\n",
       "      <th></th>\n",
       "    </tr>\n",
       "  </thead>\n",
       "  <tbody>\n",
       "    <tr>\n",
       "      <th>1</th>\n",
       "      <td>0</td>\n",
       "      <td>3</td>\n",
       "      <td>Braund, Mr. Owen Harris</td>\n",
       "      <td>male</td>\n",
       "      <td>22.0</td>\n",
       "      <td>1</td>\n",
       "      <td>0</td>\n",
       "      <td>A/5 21171</td>\n",
       "      <td>7.2500</td>\n",
       "      <td>NaN</td>\n",
       "      <td>S</td>\n",
       "    </tr>\n",
       "    <tr>\n",
       "      <th>2</th>\n",
       "      <td>1</td>\n",
       "      <td>1</td>\n",
       "      <td>Cumings, Mrs. John Bradley (Florence Briggs Th...</td>\n",
       "      <td>female</td>\n",
       "      <td>38.0</td>\n",
       "      <td>1</td>\n",
       "      <td>0</td>\n",
       "      <td>PC 17599</td>\n",
       "      <td>71.2833</td>\n",
       "      <td>C85</td>\n",
       "      <td>C</td>\n",
       "    </tr>\n",
       "    <tr>\n",
       "      <th>3</th>\n",
       "      <td>1</td>\n",
       "      <td>3</td>\n",
       "      <td>Heikkinen, Miss. Laina</td>\n",
       "      <td>female</td>\n",
       "      <td>26.0</td>\n",
       "      <td>0</td>\n",
       "      <td>0</td>\n",
       "      <td>STON/O2. 3101282</td>\n",
       "      <td>7.9250</td>\n",
       "      <td>NaN</td>\n",
       "      <td>S</td>\n",
       "    </tr>\n",
       "    <tr>\n",
       "      <th>4</th>\n",
       "      <td>1</td>\n",
       "      <td>1</td>\n",
       "      <td>Futrelle, Mrs. Jacques Heath (Lily May Peel)</td>\n",
       "      <td>female</td>\n",
       "      <td>35.0</td>\n",
       "      <td>1</td>\n",
       "      <td>0</td>\n",
       "      <td>113803</td>\n",
       "      <td>53.1000</td>\n",
       "      <td>C123</td>\n",
       "      <td>S</td>\n",
       "    </tr>\n",
       "    <tr>\n",
       "      <th>5</th>\n",
       "      <td>0</td>\n",
       "      <td>3</td>\n",
       "      <td>Allen, Mr. William Henry</td>\n",
       "      <td>male</td>\n",
       "      <td>35.0</td>\n",
       "      <td>0</td>\n",
       "      <td>0</td>\n",
       "      <td>373450</td>\n",
       "      <td>8.0500</td>\n",
       "      <td>NaN</td>\n",
       "      <td>S</td>\n",
       "    </tr>\n",
       "  </tbody>\n",
       "</table>\n",
       "</div>"
      ],
      "text/plain": [
       "             Survived  Pclass  \\\n",
       "PassengerId                     \n",
       "1                   0       3   \n",
       "2                   1       1   \n",
       "3                   1       3   \n",
       "4                   1       1   \n",
       "5                   0       3   \n",
       "\n",
       "                                                          Name     Sex   Age  \\\n",
       "PassengerId                                                                    \n",
       "1                                      Braund, Mr. Owen Harris    male  22.0   \n",
       "2            Cumings, Mrs. John Bradley (Florence Briggs Th...  female  38.0   \n",
       "3                                       Heikkinen, Miss. Laina  female  26.0   \n",
       "4                 Futrelle, Mrs. Jacques Heath (Lily May Peel)  female  35.0   \n",
       "5                                     Allen, Mr. William Henry    male  35.0   \n",
       "\n",
       "             SibSp  Parch            Ticket     Fare Cabin Embarked  \n",
       "PassengerId                                                          \n",
       "1                1      0         A/5 21171   7.2500   NaN        S  \n",
       "2                1      0          PC 17599  71.2833   C85        C  \n",
       "3                0      0  STON/O2. 3101282   7.9250   NaN        S  \n",
       "4                1      0            113803  53.1000  C123        S  \n",
       "5                0      0            373450   8.0500   NaN        S  "
      ]
     },
     "execution_count": 3,
     "metadata": {},
     "output_type": "execute_result"
    }
   ],
   "source": [
    "titanic_data = pd.read_csv(\"../input/titanic/train.csv\", index_col=\"PassengerId\")\n",
    "test_data = pd.read_csv(\"../input/titanic/test.csv\", index_col=\"PassengerId\")\n",
    "\n",
    "titanic_data.head()"
   ]
  },
  {
   "cell_type": "markdown",
   "id": "bbb5c6ae",
   "metadata": {
    "papermill": {
     "duration": 0.006588,
     "end_time": "2022-07-05T17:51:34.715192",
     "exception": false,
     "start_time": "2022-07-05T17:51:34.708604",
     "status": "completed"
    },
    "tags": []
   },
   "source": [
    "## 2. Selecting useful features"
   ]
  },
  {
   "cell_type": "code",
   "execution_count": 4,
   "id": "c311da40",
   "metadata": {
    "execution": {
     "iopub.execute_input": "2022-07-05T17:51:34.731428Z",
     "iopub.status.busy": "2022-07-05T17:51:34.730809Z",
     "iopub.status.idle": "2022-07-05T17:51:34.741712Z",
     "shell.execute_reply": "2022-07-05T17:51:34.740528Z"
    },
    "papermill": {
     "duration": 0.021967,
     "end_time": "2022-07-05T17:51:34.744201",
     "exception": false,
     "start_time": "2022-07-05T17:51:34.722234",
     "status": "completed"
    },
    "tags": []
   },
   "outputs": [],
   "source": [
    "useful_features = [\"Pclass\", \"Name\", \"Sex\", \"Age\", \"SibSp\", \"Parch\", \"Ticket\", \"Fare\", \"Embarked\"]\n",
    "X = titanic_data[useful_features]\n",
    "Y = titanic_data[\"Survived\"]\n",
    "test_data = test_data[useful_features]"
   ]
  },
  {
   "cell_type": "markdown",
   "id": "718bb778",
   "metadata": {
    "papermill": {
     "duration": 0.006634,
     "end_time": "2022-07-05T17:51:34.758022",
     "exception": false,
     "start_time": "2022-07-05T17:51:34.751388",
     "status": "completed"
    },
    "tags": []
   },
   "source": [
    "## 3. Extracting numerical and categorical columns"
   ]
  },
  {
   "cell_type": "code",
   "execution_count": 5,
   "id": "13e91518",
   "metadata": {
    "execution": {
     "iopub.execute_input": "2022-07-05T17:51:34.773684Z",
     "iopub.status.busy": "2022-07-05T17:51:34.773292Z",
     "iopub.status.idle": "2022-07-05T17:51:34.784827Z",
     "shell.execute_reply": "2022-07-05T17:51:34.783667Z"
    },
    "papermill": {
     "duration": 0.022206,
     "end_time": "2022-07-05T17:51:34.787181",
     "exception": false,
     "start_time": "2022-07-05T17:51:34.764975",
     "status": "completed"
    },
    "tags": []
   },
   "outputs": [
    {
     "data": {
      "text/plain": [
       "(Index(['Pclass', 'Age', 'SibSp', 'Parch', 'Fare'], dtype='object'),\n",
       " Index(['Name', 'Sex', 'Ticket', 'Embarked'], dtype='object'))"
      ]
     },
     "execution_count": 5,
     "metadata": {},
     "output_type": "execute_result"
    }
   ],
   "source": [
    "num_cols = X.select_dtypes(exclude=\"object\").columns\n",
    "cat_cols = X.select_dtypes(\"object\").columns\n",
    "num_cols, cat_cols"
   ]
  },
  {
   "cell_type": "markdown",
   "id": "77b19e2b",
   "metadata": {
    "papermill": {
     "duration": 0.006696,
     "end_time": "2022-07-05T17:51:34.801093",
     "exception": false,
     "start_time": "2022-07-05T17:51:34.794397",
     "status": "completed"
    },
    "tags": []
   },
   "source": [
    "## 4. Making pipeline"
   ]
  },
  {
   "cell_type": "code",
   "execution_count": 6,
   "id": "90793cba",
   "metadata": {
    "execution": {
     "iopub.execute_input": "2022-07-05T17:51:34.817594Z",
     "iopub.status.busy": "2022-07-05T17:51:34.816822Z",
     "iopub.status.idle": "2022-07-05T17:51:34.830771Z",
     "shell.execute_reply": "2022-07-05T17:51:34.829632Z"
    },
    "papermill": {
     "duration": 0.025381,
     "end_time": "2022-07-05T17:51:34.833443",
     "exception": false,
     "start_time": "2022-07-05T17:51:34.808062",
     "status": "completed"
    },
    "tags": []
   },
   "outputs": [],
   "source": [
    "class CreatePipeline:\n",
    "    \"\"\"Create Pipeline\n",
    "    methods:\n",
    "        pipeline: Create Final Pipeline\n",
    "        \n",
    "        create_model: Create the provided model\n",
    "        \n",
    "        numerical_transformer: Transform numerical cols\n",
    "        \n",
    "        categorical_transformer: Transform categorical cols \\\n",
    "        OneHotEncoding / OrdinalEncoding\n",
    "        \n",
    "        data_preprocessor: Preprocess the data using ColumnTransformer     \n",
    "        \"\"\"\n",
    "    \n",
    "    def pipeline(self, *, preprocessor, model, verbose=False):\n",
    "        \"\"\"Creates pipeline\n",
    "        params:\n",
    "            preprocessor\n",
    "            model\n",
    "        \"\"\"\n",
    "        steps = [(\"preprocessor\", preprocessor),\n",
    "                 (\"model\", model)]\n",
    "        return Pipeline(steps=steps, verbose=verbose)\n",
    "    \n",
    "    \n",
    "    def numerical_transformer(self, *, strategy=\"mean\", **params):\n",
    "        \"\"\"Transform numerical columns using `SimpleImputer`.\n",
    "        params:\n",
    "            strategy: \"mean\" | \"median\" | \"most_frequent\" | \"constant\"\n",
    "            **params: extra keyword args for SimpleImputer\"\"\"\n",
    "        \n",
    "        transformer = SimpleImputer(strategy=strategy, **params)\n",
    "        return transformer\n",
    "\n",
    "    \n",
    "    def categorical_transformer(self, *, \n",
    "                                imp_strategy=\"most_frequent\", \n",
    "                                encoder_type=\"Ordinal\", \n",
    "                                imp_params={}, encoder_params={}):\n",
    "        \"\"\"Transform categorical columns by making Pipeline\n",
    "        `SimpleImputer` | `OneHotEncoder` | `OrdinalEncoder`.\n",
    "        args:\n",
    "            imp_strategy: strategy for imputer values can be\n",
    "                \"most_frequent\" | \"constant\"\n",
    "            encoder_type: encoder type,\n",
    "                \"Ordinal\" | \"OneHot\"\n",
    "        kwargs:\n",
    "            imp_params: keyword args for `SimpleImputer`.\n",
    "            encoder_params: keyword args for encoder.`\n",
    "        \"\"\"\n",
    "        if not encoder_type in (\"Ordinal\", \"OneHot\"):\n",
    "            raise ValueError(f\"Inappropriate value for encoder_type passed: {encoder_type}\\\n",
    "            Takes one of 'Ordinal' | 'OneHot'.\")\n",
    "        \n",
    "        encoder = OrdinalEncoder if encoder_type==\"Ordinal\" else OneHotEncoder\n",
    "        transformer = Pipeline(steps=[\n",
    "            (\"imputer\", SimpleImputer(strategy=imp_strategy, **imp_params)),\n",
    "            (encoder_type, encoder(**encoder_params))\n",
    "        ])\n",
    "        return transformer\n",
    "    \n",
    "    \n",
    "    def data_preprocessor(self, *, transformers):\n",
    "        \"\"\"Preprocess the data using `ColumnTransformer`.\n",
    "        Pass extact list of transformers\n",
    "        to be passed in `ColumnTransformer`.\n",
    "        each tuple consist of: (transformer_name,\n",
    "                                transformer,\n",
    "                                list_of_columns).\"\"\"\n",
    "        preprocessor = ColumnTransformer(transformers=transformers)\n",
    "        return preprocessor\n",
    "    \n",
    "    \n",
    "    def create_model(self, *, model, random_state=0, n_estimators=1000, **kwargs):\n",
    "        \"\"\"Creates the model.\n",
    "        **kwargs: keyword args for model.\"\"\"\n",
    "        my_model = model(random_state=random_state, n_estimators=n_estimators, **kwargs)\n",
    "        return my_model"
   ]
  },
  {
   "cell_type": "code",
   "execution_count": 7,
   "id": "e987c5ff",
   "metadata": {
    "execution": {
     "iopub.execute_input": "2022-07-05T17:51:34.849604Z",
     "iopub.status.busy": "2022-07-05T17:51:34.849176Z",
     "iopub.status.idle": "2022-07-05T17:51:34.855077Z",
     "shell.execute_reply": "2022-07-05T17:51:34.854214Z"
    },
    "papermill": {
     "duration": 0.016687,
     "end_time": "2022-07-05T17:51:34.857272",
     "exception": false,
     "start_time": "2022-07-05T17:51:34.840585",
     "status": "completed"
    },
    "tags": []
   },
   "outputs": [],
   "source": [
    "cp = CreatePipeline()\n",
    "num_transformer = cp.numerical_transformer()\n",
    "cat_transformer = cp.categorical_transformer(encoder_type=\"OneHot\", encoder_params={\"handle_unknown\": \"ignore\"})\n",
    "preprocessor = cp.data_preprocessor(\n",
    "                    transformers=[(\"num\", num_transformer, num_cols),\n",
    "                                  (\"cat\", cat_transformer, cat_cols)\n",
    "                                 ])"
   ]
  },
  {
   "cell_type": "markdown",
   "id": "e348b20c",
   "metadata": {
    "papermill": {
     "duration": 0.006627,
     "end_time": "2022-07-05T17:51:34.871079",
     "exception": false,
     "start_time": "2022-07-05T17:51:34.864452",
     "status": "completed"
    },
    "tags": []
   },
   "source": [
    "## 5. Doing hyperparameter tuning with Cross-validation using `XGBClassifier`"
   ]
  },
  {
   "cell_type": "code",
   "execution_count": 8,
   "id": "a7fc7faf",
   "metadata": {
    "execution": {
     "iopub.execute_input": "2022-07-05T17:51:34.886953Z",
     "iopub.status.busy": "2022-07-05T17:51:34.886303Z",
     "iopub.status.idle": "2022-07-05T17:59:48.860567Z",
     "shell.execute_reply": "2022-07-05T17:59:48.859442Z"
    },
    "papermill": {
     "duration": 493.997081,
     "end_time": "2022-07-05T17:59:48.875047",
     "exception": false,
     "start_time": "2022-07-05T17:51:34.877966",
     "status": "completed"
    },
    "tags": []
   },
   "outputs": [
    {
     "name": "stderr",
     "output_type": "stream",
     "text": [
      "[Parallel(n_jobs=1)]: Using backend SequentialBackend with 1 concurrent workers.\n",
      "[Parallel(n_jobs=1)]: Done  10 out of  10 | elapsed:   16.2s finished\n",
      "[Parallel(n_jobs=1)]: Using backend SequentialBackend with 1 concurrent workers.\n",
      "[Parallel(n_jobs=1)]: Done  10 out of  10 | elapsed:   15.5s finished\n",
      "[Parallel(n_jobs=1)]: Using backend SequentialBackend with 1 concurrent workers.\n",
      "[Parallel(n_jobs=1)]: Done  10 out of  10 | elapsed:   19.5s finished\n",
      "[Parallel(n_jobs=1)]: Using backend SequentialBackend with 1 concurrent workers.\n",
      "[Parallel(n_jobs=1)]: Done  10 out of  10 | elapsed:   18.2s finished\n",
      "[Parallel(n_jobs=1)]: Using backend SequentialBackend with 1 concurrent workers.\n",
      "[Parallel(n_jobs=1)]: Done  10 out of  10 | elapsed:   21.9s finished\n",
      "[Parallel(n_jobs=1)]: Using backend SequentialBackend with 1 concurrent workers.\n",
      "[Parallel(n_jobs=1)]: Done  10 out of  10 | elapsed:   21.1s finished\n",
      "[Parallel(n_jobs=1)]: Using backend SequentialBackend with 1 concurrent workers.\n",
      "[Parallel(n_jobs=1)]: Done  10 out of  10 | elapsed:   21.5s finished\n",
      "[Parallel(n_jobs=1)]: Using backend SequentialBackend with 1 concurrent workers.\n",
      "[Parallel(n_jobs=1)]: Done  10 out of  10 | elapsed:   22.4s finished\n",
      "[Parallel(n_jobs=1)]: Using backend SequentialBackend with 1 concurrent workers.\n",
      "[Parallel(n_jobs=1)]: Done  10 out of  10 | elapsed:   27.6s finished\n",
      "[Parallel(n_jobs=1)]: Using backend SequentialBackend with 1 concurrent workers.\n",
      "[Parallel(n_jobs=1)]: Done  10 out of  10 | elapsed:   26.4s finished\n",
      "[Parallel(n_jobs=1)]: Using backend SequentialBackend with 1 concurrent workers.\n",
      "[Parallel(n_jobs=1)]: Done  10 out of  10 | elapsed:   30.6s finished\n",
      "[Parallel(n_jobs=1)]: Using backend SequentialBackend with 1 concurrent workers.\n",
      "[Parallel(n_jobs=1)]: Done  10 out of  10 | elapsed:   27.2s finished\n",
      "[Parallel(n_jobs=1)]: Using backend SequentialBackend with 1 concurrent workers.\n",
      "[Parallel(n_jobs=1)]: Done  10 out of  10 | elapsed:   32.7s finished\n",
      "[Parallel(n_jobs=1)]: Using backend SequentialBackend with 1 concurrent workers.\n",
      "[Parallel(n_jobs=1)]: Done  10 out of  10 | elapsed:   32.6s finished\n",
      "[Parallel(n_jobs=1)]: Using backend SequentialBackend with 1 concurrent workers.\n",
      "[Parallel(n_jobs=1)]: Done  10 out of  10 | elapsed:   40.1s finished\n",
      "[Parallel(n_jobs=1)]: Using backend SequentialBackend with 1 concurrent workers.\n",
      "[Parallel(n_jobs=1)]: Done  10 out of  10 | elapsed:   38.3s finished\n",
      "[Parallel(n_jobs=1)]: Using backend SequentialBackend with 1 concurrent workers.\n",
      "[Parallel(n_jobs=1)]: Done  10 out of  10 | elapsed:   42.3s finished\n",
      "[Parallel(n_jobs=1)]: Using backend SequentialBackend with 1 concurrent workers.\n",
      "[Parallel(n_jobs=1)]: Done  10 out of  10 | elapsed:   39.9s finished\n"
     ]
    }
   ],
   "source": [
    "n_estimators = [350, 500, 750]\n",
    "max_depths = [5, 10, 20]\n",
    "learning_rate = [0.05, 0.1]\n",
    "maes = {}\n",
    "i = 0\n",
    "for n in n_estimators:\n",
    "    for md in max_depths:\n",
    "        for rate in learning_rate:\n",
    "            i += 1\n",
    "            model = cp.create_model(model=XGBClassifier, n_estimators=n, max_depth=md, learning_rate=rate)\n",
    "            pipeline = cp.pipeline(preprocessor=preprocessor, model=model)\n",
    "            scores = -1 * cross_val_score(pipeline, X, Y, cv=10, verbose=True,\n",
    "                                    scoring=\"neg_mean_absolute_error\")\n",
    "            mae = scores.mean()\n",
    "            maes[i] = [n, md, rate, mae]"
   ]
  },
  {
   "cell_type": "markdown",
   "id": "e670766d",
   "metadata": {
    "papermill": {
     "duration": 0.008234,
     "end_time": "2022-07-05T17:59:48.892538",
     "exception": false,
     "start_time": "2022-07-05T17:59:48.884304",
     "status": "completed"
    },
    "tags": []
   },
   "source": [
    "## 7. Checking MAE"
   ]
  },
  {
   "cell_type": "code",
   "execution_count": 9,
   "id": "63697ac8",
   "metadata": {
    "execution": {
     "iopub.execute_input": "2022-07-05T17:59:48.910915Z",
     "iopub.status.busy": "2022-07-05T17:59:48.910555Z",
     "iopub.status.idle": "2022-07-05T17:59:48.916660Z",
     "shell.execute_reply": "2022-07-05T17:59:48.915499Z"
    },
    "papermill": {
     "duration": 0.018241,
     "end_time": "2022-07-05T17:59:48.919064",
     "exception": false,
     "start_time": "2022-07-05T17:59:48.900823",
     "status": "completed"
    },
    "tags": []
   },
   "outputs": [
    {
     "name": "stdout",
     "output_type": "stream",
     "text": [
      "1.\tN_estimators: 350\tmax_depth: 5\tlearning_rate: 0.05\tMAE: 0.1615730337078652\n",
      "2.\tN_estimators: 350\tmax_depth: 5\tlearning_rate: 0.1\tMAE: 0.17952559300873905\n",
      "3.\tN_estimators: 350\tmax_depth: 10\tlearning_rate: 0.05\tMAE: 0.19300873907615482\n",
      "4.\tN_estimators: 350\tmax_depth: 10\tlearning_rate: 0.1\tMAE: 0.18851435705368288\n",
      "5.\tN_estimators: 350\tmax_depth: 20\tlearning_rate: 0.05\tMAE: 0.18403245942571786\n",
      "6.\tN_estimators: 350\tmax_depth: 20\tlearning_rate: 0.1\tMAE: 0.19076154806491885\n",
      "7.\tN_estimators: 500\tmax_depth: 5\tlearning_rate: 0.05\tMAE: 0.17054931335830212\n",
      "8.\tN_estimators: 500\tmax_depth: 5\tlearning_rate: 0.1\tMAE: 0.17726591760299626\n",
      "9.\tN_estimators: 500\tmax_depth: 10\tlearning_rate: 0.05\tMAE: 0.19300873907615482\n",
      "10.\tN_estimators: 500\tmax_depth: 10\tlearning_rate: 0.1\tMAE: 0.18963795255930085\n",
      "11.\tN_estimators: 500\tmax_depth: 20\tlearning_rate: 0.05\tMAE: 0.18739076154806492\n",
      "12.\tN_estimators: 500\tmax_depth: 20\tlearning_rate: 0.1\tMAE: 0.19413233458177276\n",
      "13.\tN_estimators: 750\tmax_depth: 5\tlearning_rate: 0.05\tMAE: 0.17841448189762796\n",
      "14.\tN_estimators: 750\tmax_depth: 5\tlearning_rate: 0.1\tMAE: 0.18289637952559298\n",
      "15.\tN_estimators: 750\tmax_depth: 10\tlearning_rate: 0.05\tMAE: 0.19525593008739078\n",
      "16.\tN_estimators: 750\tmax_depth: 10\tlearning_rate: 0.1\tMAE: 0.19525593008739076\n",
      "17.\tN_estimators: 750\tmax_depth: 20\tlearning_rate: 0.05\tMAE: 0.19188514357053682\n",
      "18.\tN_estimators: 750\tmax_depth: 20\tlearning_rate: 0.1\tMAE: 0.19525593008739076\n"
     ]
    }
   ],
   "source": [
    "for i in maes:\n",
    "    n, md, rate, mae = maes[i]\n",
    "    print(f\"{i}.\\tN_estimators: {n}\\tmax_depth: {md}\\tlearning_rate: {rate}\\tMAE: {mae}\")"
   ]
  },
  {
   "cell_type": "markdown",
   "id": "5158e51f",
   "metadata": {
    "papermill": {
     "duration": 0.008239,
     "end_time": "2022-07-05T17:59:48.936127",
     "exception": false,
     "start_time": "2022-07-05T17:59:48.927888",
     "status": "completed"
    },
    "tags": []
   },
   "source": [
    "## 8. Best parameters\n",
    "#### `n_estimators: 350`\n",
    "#### `max_depth: 5`\n",
    "#### `learning_rate: 0.05`\n",
    "#### `MAE: 0.1615730337078652`"
   ]
  },
  {
   "cell_type": "code",
   "execution_count": 10,
   "id": "37321ebf",
   "metadata": {
    "execution": {
     "iopub.execute_input": "2022-07-05T17:59:48.955149Z",
     "iopub.status.busy": "2022-07-05T17:59:48.954510Z",
     "iopub.status.idle": "2022-07-05T17:59:48.959256Z",
     "shell.execute_reply": "2022-07-05T17:59:48.958477Z"
    },
    "papermill": {
     "duration": 0.016868,
     "end_time": "2022-07-05T17:59:48.961485",
     "exception": false,
     "start_time": "2022-07-05T17:59:48.944617",
     "status": "completed"
    },
    "tags": []
   },
   "outputs": [],
   "source": [
    "best_n_estimators = 350\n",
    "best_max_depth = 5\n",
    "best_rate = 0.05"
   ]
  },
  {
   "cell_type": "markdown",
   "id": "53634828",
   "metadata": {
    "papermill": {
     "duration": 0.008583,
     "end_time": "2022-07-05T17:59:48.978533",
     "exception": false,
     "start_time": "2022-07-05T17:59:48.969950",
     "status": "completed"
    },
    "tags": []
   },
   "source": [
    "## 9. Training `XGBClassifier` model with best parameters"
   ]
  },
  {
   "cell_type": "code",
   "execution_count": 11,
   "id": "667353e2",
   "metadata": {
    "execution": {
     "iopub.execute_input": "2022-07-05T17:59:48.998136Z",
     "iopub.status.busy": "2022-07-05T17:59:48.997526Z",
     "iopub.status.idle": "2022-07-05T17:59:50.539367Z",
     "shell.execute_reply": "2022-07-05T17:59:50.538301Z"
    },
    "papermill": {
     "duration": 1.555016,
     "end_time": "2022-07-05T17:59:50.542027",
     "exception": false,
     "start_time": "2022-07-05T17:59:48.987011",
     "status": "completed"
    },
    "tags": []
   },
   "outputs": [
    {
     "data": {
      "text/plain": [
       "Pipeline(steps=[('preprocessor',\n",
       "                 ColumnTransformer(transformers=[('num', SimpleImputer(),\n",
       "                                                  Index(['Pclass', 'Age', 'SibSp', 'Parch', 'Fare'], dtype='object')),\n",
       "                                                 ('cat',\n",
       "                                                  Pipeline(steps=[('imputer',\n",
       "                                                                   SimpleImputer(strategy='most_frequent')),\n",
       "                                                                  ('OneHot',\n",
       "                                                                   OneHotEncoder(handle_unknown='ignore'))]),\n",
       "                                                  Index(['Name', 'Sex', 'Ticket', 'Embarked'], dtype='object'))])),\n",
       "                ('model',\n",
       "                 XGB...\n",
       "                               gamma=0, gpu_id=-1, grow_policy='depthwise',\n",
       "                               importance_type=None, interaction_constraints='',\n",
       "                               learning_rate=0.05, max_bin=256,\n",
       "                               max_cat_to_onehot=4, max_delta_step=0,\n",
       "                               max_depth=5, max_leaves=0, min_child_weight=1,\n",
       "                               missing=nan, monotone_constraints='()',\n",
       "                               n_estimators=350, n_jobs=0, num_parallel_tree=1,\n",
       "                               predictor='auto', random_state=0, reg_alpha=0,\n",
       "                               reg_lambda=1, ...))])"
      ]
     },
     "execution_count": 11,
     "metadata": {},
     "output_type": "execute_result"
    }
   ],
   "source": [
    "model = cp.create_model(model=XGBClassifier, n_estimators=best_n_estimators, learning_rate=best_rate, max_depth=best_max_depth)\n",
    "pipeline = cp.pipeline(preprocessor=preprocessor, model=model)\n",
    "pipeline.fit(X, Y)"
   ]
  },
  {
   "cell_type": "markdown",
   "id": "ad3878f7",
   "metadata": {
    "papermill": {
     "duration": 0.009139,
     "end_time": "2022-07-05T17:59:50.560258",
     "exception": false,
     "start_time": "2022-07-05T17:59:50.551119",
     "status": "completed"
    },
    "tags": []
   },
   "source": [
    "## 10. Predicting `Survived` on `test_data`"
   ]
  },
  {
   "cell_type": "code",
   "execution_count": 12,
   "id": "df080615",
   "metadata": {
    "execution": {
     "iopub.execute_input": "2022-07-05T17:59:50.580107Z",
     "iopub.status.busy": "2022-07-05T17:59:50.579507Z",
     "iopub.status.idle": "2022-07-05T17:59:50.606514Z",
     "shell.execute_reply": "2022-07-05T17:59:50.605368Z"
    },
    "papermill": {
     "duration": 0.039927,
     "end_time": "2022-07-05T17:59:50.608926",
     "exception": false,
     "start_time": "2022-07-05T17:59:50.568999",
     "status": "completed"
    },
    "tags": []
   },
   "outputs": [
    {
     "data": {
      "text/plain": [
       "array([0, 0, 0, 0, 0, 0, 0, 0, 1, 0, 0, 0, 1, 0, 1, 1, 0, 0, 1, 0, 0, 0,\n",
       "       1, 1, 1, 0, 1, 0, 1, 0, 0, 0, 1, 0, 1, 0, 0, 0, 0, 1, 0, 1, 0, 1,\n",
       "       1, 0, 0, 0, 1, 1, 0, 0, 1, 1, 0, 0, 0, 0, 0, 1, 0, 0, 0, 1, 0, 1,\n",
       "       1, 0, 0, 1, 1, 0, 1, 0, 1, 0, 0, 1, 0, 1, 1, 0, 0, 0, 0, 0, 1, 1,\n",
       "       1, 1, 0, 0, 1, 0, 1, 0, 1, 0, 1, 0, 1, 0, 0, 0, 1, 0, 0, 0, 0, 0,\n",
       "       0, 1, 1, 1, 1, 0, 0, 1, 1, 1, 1, 0, 1, 0, 0, 1, 0, 1, 0, 0, 0, 0,\n",
       "       0, 0, 0, 0, 0, 0, 0, 0, 0, 1, 0, 0, 1, 0, 0, 0, 1, 0, 1, 0, 0, 1,\n",
       "       0, 0, 1, 1, 1, 1, 1, 1, 1, 0, 0, 0, 0, 0, 1, 0, 0, 0, 0, 0, 0, 1,\n",
       "       1, 0, 1, 1, 0, 1, 1, 0, 1, 0, 1, 0, 0, 0, 0, 0, 0, 0, 1, 0, 1, 1,\n",
       "       0, 0, 1, 1, 0, 1, 0, 0, 0, 0, 1, 0, 0, 0, 0, 1, 0, 0, 1, 0, 1, 0,\n",
       "       1, 0, 1, 0, 1, 1, 0, 1, 0, 0, 0, 1, 0, 0, 1, 0, 0, 1, 1, 1, 1, 1,\n",
       "       0, 0, 0, 0, 1, 0, 1, 0, 1, 0, 0, 0, 0, 0, 0, 0, 1, 0, 0, 0, 1, 1,\n",
       "       0, 0, 0, 0, 0, 0, 0, 0, 1, 1, 0, 1, 0, 0, 0, 0, 0, 1, 1, 0, 1, 0,\n",
       "       0, 0, 0, 0, 0, 0, 0, 0, 0, 0, 1, 0, 0, 0, 0, 0, 0, 0, 1, 1, 0, 1,\n",
       "       0, 0, 0, 0, 0, 0, 1, 1, 0, 0, 0, 0, 0, 0, 0, 1, 1, 0, 1, 0, 0, 0,\n",
       "       1, 0, 0, 1, 0, 0, 0, 0, 0, 0, 0, 0, 0, 1, 0, 1, 0, 0, 0, 1, 1, 0,\n",
       "       0, 0, 1, 0, 1, 0, 0, 1, 0, 1, 1, 0, 1, 0, 0, 0, 1, 0, 0, 1, 0, 0,\n",
       "       1, 1, 0, 0, 0, 0, 0, 0, 0, 1, 0, 1, 0, 0, 0, 0, 0, 1, 0, 0, 0, 1,\n",
       "       0, 1, 0, 0, 1, 0, 1, 0, 0, 0, 0, 0, 1, 1, 1, 1, 1, 0, 1, 0, 0, 0])"
      ]
     },
     "execution_count": 12,
     "metadata": {},
     "output_type": "execute_result"
    }
   ],
   "source": [
    "test_preds = pipeline.predict(test_data)\n",
    "test_preds"
   ]
  },
  {
   "cell_type": "markdown",
   "id": "8866a89d",
   "metadata": {
    "papermill": {
     "duration": 0.008487,
     "end_time": "2022-07-05T17:59:50.627616",
     "exception": false,
     "start_time": "2022-07-05T17:59:50.619129",
     "status": "completed"
    },
    "tags": []
   },
   "source": [
    "## 11. Submitting predictions"
   ]
  },
  {
   "cell_type": "code",
   "execution_count": 13,
   "id": "e0538a5d",
   "metadata": {
    "execution": {
     "iopub.execute_input": "2022-07-05T17:59:50.647667Z",
     "iopub.status.busy": "2022-07-05T17:59:50.647279Z",
     "iopub.status.idle": "2022-07-05T17:59:50.657256Z",
     "shell.execute_reply": "2022-07-05T17:59:50.656270Z"
    },
    "papermill": {
     "duration": 0.023314,
     "end_time": "2022-07-05T17:59:50.659817",
     "exception": false,
     "start_time": "2022-07-05T17:59:50.636503",
     "status": "completed"
    },
    "tags": []
   },
   "outputs": [],
   "source": [
    "output = pd.DataFrame({\"PassengerId\": test_data.index, \"Survived\": test_preds})\n",
    "output.to_csv(\"./data/submission_3.csv\", index=False)"
   ]
  }
 ],
 "metadata": {
  "kernelspec": {
   "display_name": "Python 3.10.2 64-bit",
   "language": "python",
   "name": "python3"
  },
  "language_info": {
   "codemirror_mode": {
    "name": "ipython",
    "version": 3
   },
   "file_extension": ".py",
   "mimetype": "text/x-python",
   "name": "python",
   "nbconvert_exporter": "python",
   "pygments_lexer": "ipython3",
   "version": "3.10.2"
  },
  "papermill": {
   "default_parameters": {},
   "duration": 509.012337,
   "end_time": "2022-07-05T17:59:51.391691",
   "environment_variables": {},
   "exception": null,
   "input_path": "__notebook__.ipynb",
   "output_path": "__notebook__.ipynb",
   "parameters": {},
   "start_time": "2022-07-05T17:51:22.379354",
   "version": "2.3.4"
  },
  "vscode": {
   "interpreter": {
    "hash": "d88aeb6bf73c3e2735560d04f72b234e9e70c0b4c2e9aa8924f896649b343841"
   }
  }
 },
 "nbformat": 4,
 "nbformat_minor": 5
}

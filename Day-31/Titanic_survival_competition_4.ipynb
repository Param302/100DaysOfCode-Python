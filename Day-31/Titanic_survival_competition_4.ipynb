{
 "cells": [
  {
   "cell_type": "code",
   "execution_count": 1,
   "id": "21076c72",
   "metadata": {
    "_cell_guid": "b1076dfc-b9ad-4769-8c92-a6c4dae69d19",
    "_uuid": "8f2839f25d086af736a60e9eeb907d3b93b6e0e5",
    "execution": {
     "iopub.execute_input": "2022-07-05T19:00:32.349121Z",
     "iopub.status.busy": "2022-07-05T19:00:32.348533Z",
     "iopub.status.idle": "2022-07-05T19:00:32.362840Z",
     "shell.execute_reply": "2022-07-05T19:00:32.361982Z"
    },
    "papermill": {
     "duration": 0.024842,
     "end_time": "2022-07-05T19:00:32.365364",
     "exception": false,
     "start_time": "2022-07-05T19:00:32.340522",
     "status": "completed"
    },
    "tags": []
   },
   "outputs": [
    {
     "name": "stdout",
     "output_type": "stream",
     "text": [
      "/kaggle/input/titanic/train.csv\n",
      "/kaggle/input/titanic/test.csv\n",
      "/kaggle/input/titanic/gender_submission.csv\n"
     ]
    }
   ],
   "source": [
    "# This Python 3 environment comes with many helpful analytics libraries installed\n",
    "# It is defined by the kaggle/python Docker image: https://github.com/kaggle/docker-python\n",
    "# For example, here's several helpful packages to load\n",
    "\n",
    "# Input data files are available in the read-only \"../input/\" directory\n",
    "# For example, running this (by clicking run or pressing Shift+Enter) will list all files under the input directory\n",
    "\n",
    "import os\n",
    "for dirname, _, filenames in os.walk('/kaggle/input'):\n",
    "    for filename in filenames:\n",
    "        print(os.path.join(dirname, filename))\n",
    "\n",
    "# You can write up to 20GB to the current directory (/kaggle/working/) that gets preserved as output when you create a version using \"Save & Run All\" \n",
    "# You can also write temporary files to /kaggle/temp/, but they won't be saved outside of the current session"
   ]
  },
  {
   "cell_type": "markdown",
   "id": "6cb9ff52",
   "metadata": {
    "papermill": {
     "duration": 0.004682,
     "end_time": "2022-07-05T19:00:32.375667",
     "exception": false,
     "start_time": "2022-07-05T19:00:32.370985",
     "status": "completed"
    },
    "tags": []
   },
   "source": [
    "## Importing required libraries"
   ]
  },
  {
   "cell_type": "code",
   "execution_count": 2,
   "id": "2ee5cb50",
   "metadata": {
    "execution": {
     "iopub.execute_input": "2022-07-05T19:00:32.387772Z",
     "iopub.status.busy": "2022-07-05T19:00:32.387340Z",
     "iopub.status.idle": "2022-07-05T19:00:33.825892Z",
     "shell.execute_reply": "2022-07-05T19:00:33.824953Z"
    },
    "papermill": {
     "duration": 1.447265,
     "end_time": "2022-07-05T19:00:33.828258",
     "exception": false,
     "start_time": "2022-07-05T19:00:32.380993",
     "status": "completed"
    },
    "tags": []
   },
   "outputs": [],
   "source": [
    "import pandas as pd\n",
    "from xgboost import XGBClassifier\n",
    "from sklearn.pipeline import Pipeline\n",
    "from sklearn.impute import SimpleImputer\n",
    "from sklearn.compose import ColumnTransformer\n",
    "from sklearn.preprocessing import OneHotEncoder\n",
    "from sklearn.model_selection import cross_val_score"
   ]
  },
  {
   "cell_type": "markdown",
   "id": "bac383db",
   "metadata": {
    "papermill": {
     "duration": 0.004612,
     "end_time": "2022-07-05T19:00:33.837869",
     "exception": false,
     "start_time": "2022-07-05T19:00:33.833257",
     "status": "completed"
    },
    "tags": []
   },
   "source": [
    "# Approach\n",
    "1. Load data\n",
    "2. Select useful features\n",
    "3. Extract numerical and categorical columns\n",
    "4. Make pipeline\n",
    "5. Do Hyperparameter tuning with cross-validation\n",
    "6. Check MAE\n",
    "7. Find best parameters\n",
    "8. Train model\n",
    "9. Predicting `survived` on `test_data`\n",
    "10. Submit predictions"
   ]
  },
  {
   "cell_type": "markdown",
   "id": "f2b4abd1",
   "metadata": {
    "papermill": {
     "duration": 0.004589,
     "end_time": "2022-07-05T19:00:33.847299",
     "exception": false,
     "start_time": "2022-07-05T19:00:33.842710",
     "status": "completed"
    },
    "tags": []
   },
   "source": [
    "## 1. Loading data"
   ]
  },
  {
   "cell_type": "code",
   "execution_count": 3,
   "id": "b48ff9ac",
   "metadata": {
    "execution": {
     "iopub.execute_input": "2022-07-05T19:00:33.859711Z",
     "iopub.status.busy": "2022-07-05T19:00:33.858538Z",
     "iopub.status.idle": "2022-07-05T19:00:33.918517Z",
     "shell.execute_reply": "2022-07-05T19:00:33.917643Z"
    },
    "papermill": {
     "duration": 0.068339,
     "end_time": "2022-07-05T19:00:33.920500",
     "exception": false,
     "start_time": "2022-07-05T19:00:33.852161",
     "status": "completed"
    },
    "tags": []
   },
   "outputs": [
    {
     "data": {
      "text/html": [
       "<div>\n",
       "<style scoped>\n",
       "    .dataframe tbody tr th:only-of-type {\n",
       "        vertical-align: middle;\n",
       "    }\n",
       "\n",
       "    .dataframe tbody tr th {\n",
       "        vertical-align: top;\n",
       "    }\n",
       "\n",
       "    .dataframe thead th {\n",
       "        text-align: right;\n",
       "    }\n",
       "</style>\n",
       "<table border=\"1\" class=\"dataframe\">\n",
       "  <thead>\n",
       "    <tr style=\"text-align: right;\">\n",
       "      <th></th>\n",
       "      <th>Survived</th>\n",
       "      <th>Pclass</th>\n",
       "      <th>Name</th>\n",
       "      <th>Sex</th>\n",
       "      <th>Age</th>\n",
       "      <th>SibSp</th>\n",
       "      <th>Parch</th>\n",
       "      <th>Ticket</th>\n",
       "      <th>Fare</th>\n",
       "      <th>Cabin</th>\n",
       "      <th>Embarked</th>\n",
       "    </tr>\n",
       "    <tr>\n",
       "      <th>PassengerId</th>\n",
       "      <th></th>\n",
       "      <th></th>\n",
       "      <th></th>\n",
       "      <th></th>\n",
       "      <th></th>\n",
       "      <th></th>\n",
       "      <th></th>\n",
       "      <th></th>\n",
       "      <th></th>\n",
       "      <th></th>\n",
       "      <th></th>\n",
       "    </tr>\n",
       "  </thead>\n",
       "  <tbody>\n",
       "    <tr>\n",
       "      <th>1</th>\n",
       "      <td>0</td>\n",
       "      <td>3</td>\n",
       "      <td>Braund, Mr. Owen Harris</td>\n",
       "      <td>male</td>\n",
       "      <td>22.0</td>\n",
       "      <td>1</td>\n",
       "      <td>0</td>\n",
       "      <td>A/5 21171</td>\n",
       "      <td>7.2500</td>\n",
       "      <td>NaN</td>\n",
       "      <td>S</td>\n",
       "    </tr>\n",
       "    <tr>\n",
       "      <th>2</th>\n",
       "      <td>1</td>\n",
       "      <td>1</td>\n",
       "      <td>Cumings, Mrs. John Bradley (Florence Briggs Th...</td>\n",
       "      <td>female</td>\n",
       "      <td>38.0</td>\n",
       "      <td>1</td>\n",
       "      <td>0</td>\n",
       "      <td>PC 17599</td>\n",
       "      <td>71.2833</td>\n",
       "      <td>C85</td>\n",
       "      <td>C</td>\n",
       "    </tr>\n",
       "    <tr>\n",
       "      <th>3</th>\n",
       "      <td>1</td>\n",
       "      <td>3</td>\n",
       "      <td>Heikkinen, Miss. Laina</td>\n",
       "      <td>female</td>\n",
       "      <td>26.0</td>\n",
       "      <td>0</td>\n",
       "      <td>0</td>\n",
       "      <td>STON/O2. 3101282</td>\n",
       "      <td>7.9250</td>\n",
       "      <td>NaN</td>\n",
       "      <td>S</td>\n",
       "    </tr>\n",
       "    <tr>\n",
       "      <th>4</th>\n",
       "      <td>1</td>\n",
       "      <td>1</td>\n",
       "      <td>Futrelle, Mrs. Jacques Heath (Lily May Peel)</td>\n",
       "      <td>female</td>\n",
       "      <td>35.0</td>\n",
       "      <td>1</td>\n",
       "      <td>0</td>\n",
       "      <td>113803</td>\n",
       "      <td>53.1000</td>\n",
       "      <td>C123</td>\n",
       "      <td>S</td>\n",
       "    </tr>\n",
       "    <tr>\n",
       "      <th>5</th>\n",
       "      <td>0</td>\n",
       "      <td>3</td>\n",
       "      <td>Allen, Mr. William Henry</td>\n",
       "      <td>male</td>\n",
       "      <td>35.0</td>\n",
       "      <td>0</td>\n",
       "      <td>0</td>\n",
       "      <td>373450</td>\n",
       "      <td>8.0500</td>\n",
       "      <td>NaN</td>\n",
       "      <td>S</td>\n",
       "    </tr>\n",
       "  </tbody>\n",
       "</table>\n",
       "</div>"
      ],
      "text/plain": [
       "             Survived  Pclass  \\\n",
       "PassengerId                     \n",
       "1                   0       3   \n",
       "2                   1       1   \n",
       "3                   1       3   \n",
       "4                   1       1   \n",
       "5                   0       3   \n",
       "\n",
       "                                                          Name     Sex   Age  \\\n",
       "PassengerId                                                                    \n",
       "1                                      Braund, Mr. Owen Harris    male  22.0   \n",
       "2            Cumings, Mrs. John Bradley (Florence Briggs Th...  female  38.0   \n",
       "3                                       Heikkinen, Miss. Laina  female  26.0   \n",
       "4                 Futrelle, Mrs. Jacques Heath (Lily May Peel)  female  35.0   \n",
       "5                                     Allen, Mr. William Henry    male  35.0   \n",
       "\n",
       "             SibSp  Parch            Ticket     Fare Cabin Embarked  \n",
       "PassengerId                                                          \n",
       "1                1      0         A/5 21171   7.2500   NaN        S  \n",
       "2                1      0          PC 17599  71.2833   C85        C  \n",
       "3                0      0  STON/O2. 3101282   7.9250   NaN        S  \n",
       "4                1      0            113803  53.1000  C123        S  \n",
       "5                0      0            373450   8.0500   NaN        S  "
      ]
     },
     "execution_count": 3,
     "metadata": {},
     "output_type": "execute_result"
    }
   ],
   "source": [
    "titanic_data = pd.read_csv(\"../input/titanic/train.csv\", index_col=\"PassengerId\")\n",
    "test_data = pd.read_csv(\"../input/titanic/test.csv\", index_col=\"PassengerId\")\n",
    "\n",
    "titanic_data.head()"
   ]
  },
  {
   "cell_type": "markdown",
   "id": "88cc92eb",
   "metadata": {
    "papermill": {
     "duration": 0.005118,
     "end_time": "2022-07-05T19:00:33.931314",
     "exception": false,
     "start_time": "2022-07-05T19:00:33.926196",
     "status": "completed"
    },
    "tags": []
   },
   "source": [
    "## 2. Selecting useful features"
   ]
  },
  {
   "cell_type": "code",
   "execution_count": 4,
   "id": "10211523",
   "metadata": {
    "execution": {
     "iopub.execute_input": "2022-07-05T19:00:33.944189Z",
     "iopub.status.busy": "2022-07-05T19:00:33.943141Z",
     "iopub.status.idle": "2022-07-05T19:00:33.955687Z",
     "shell.execute_reply": "2022-07-05T19:00:33.954608Z"
    },
    "papermill": {
     "duration": 0.021596,
     "end_time": "2022-07-05T19:00:33.958135",
     "exception": false,
     "start_time": "2022-07-05T19:00:33.936539",
     "status": "completed"
    },
    "tags": []
   },
   "outputs": [],
   "source": [
    "outliers = titanic_data[(titanic_data[\"Survived\"]==1) & (titanic_data[\"Fare\"] > 200)].index\n",
    "titanic_data.drop(labels=outliers, inplace=True)"
   ]
  },
  {
   "cell_type": "code",
   "execution_count": 5,
   "id": "81b97a2e",
   "metadata": {
    "execution": {
     "iopub.execute_input": "2022-07-05T19:00:33.970170Z",
     "iopub.status.busy": "2022-07-05T19:00:33.969637Z",
     "iopub.status.idle": "2022-07-05T19:00:33.977311Z",
     "shell.execute_reply": "2022-07-05T19:00:33.976397Z"
    },
    "papermill": {
     "duration": 0.015862,
     "end_time": "2022-07-05T19:00:33.979275",
     "exception": false,
     "start_time": "2022-07-05T19:00:33.963413",
     "status": "completed"
    },
    "tags": []
   },
   "outputs": [],
   "source": [
    "useful_features = [\"Pclass\", \"Sex\", \"Age\", \"SibSp\", \"Parch\", \"Ticket\", \"Fare\", \"Embarked\"]\n",
    "X = titanic_data[useful_features]\n",
    "Y = titanic_data[\"Survived\"]\n",
    "test_data = test_data[useful_features]"
   ]
  },
  {
   "cell_type": "markdown",
   "id": "89db6870",
   "metadata": {
    "papermill": {
     "duration": 0.005288,
     "end_time": "2022-07-05T19:00:33.990177",
     "exception": false,
     "start_time": "2022-07-05T19:00:33.984889",
     "status": "completed"
    },
    "tags": []
   },
   "source": [
    "## 3. Extracting numerical and categorical columns"
   ]
  },
  {
   "cell_type": "code",
   "execution_count": 6,
   "id": "c94ec10e",
   "metadata": {
    "execution": {
     "iopub.execute_input": "2022-07-05T19:00:34.003047Z",
     "iopub.status.busy": "2022-07-05T19:00:34.002329Z",
     "iopub.status.idle": "2022-07-05T19:00:34.011994Z",
     "shell.execute_reply": "2022-07-05T19:00:34.011079Z"
    },
    "papermill": {
     "duration": 0.018647,
     "end_time": "2022-07-05T19:00:34.013923",
     "exception": false,
     "start_time": "2022-07-05T19:00:33.995276",
     "status": "completed"
    },
    "tags": []
   },
   "outputs": [
    {
     "data": {
      "text/plain": [
       "(Index(['Pclass', 'Age', 'SibSp', 'Parch', 'Fare'], dtype='object'),\n",
       " Index(['Sex', 'Ticket', 'Embarked'], dtype='object'))"
      ]
     },
     "execution_count": 6,
     "metadata": {},
     "output_type": "execute_result"
    }
   ],
   "source": [
    "num_cols = X.select_dtypes(exclude=\"object\").columns\n",
    "cat_cols = X.select_dtypes(\"object\").columns\n",
    "num_cols, cat_cols"
   ]
  },
  {
   "cell_type": "markdown",
   "id": "1e99425c",
   "metadata": {
    "papermill": {
     "duration": 0.005259,
     "end_time": "2022-07-05T19:00:34.024550",
     "exception": false,
     "start_time": "2022-07-05T19:00:34.019291",
     "status": "completed"
    },
    "tags": []
   },
   "source": [
    "## 4. Making pipeline"
   ]
  },
  {
   "cell_type": "code",
   "execution_count": 7,
   "id": "8be1d42c",
   "metadata": {
    "execution": {
     "iopub.execute_input": "2022-07-05T19:00:34.037647Z",
     "iopub.status.busy": "2022-07-05T19:00:34.036950Z",
     "iopub.status.idle": "2022-07-05T19:00:34.047517Z",
     "shell.execute_reply": "2022-07-05T19:00:34.046672Z"
    },
    "papermill": {
     "duration": 0.019771,
     "end_time": "2022-07-05T19:00:34.049685",
     "exception": false,
     "start_time": "2022-07-05T19:00:34.029914",
     "status": "completed"
    },
    "tags": []
   },
   "outputs": [],
   "source": [
    "class CreatePipeline:\n",
    "    \"\"\"Create Pipeline\n",
    "    methods:\n",
    "        pipeline: Create Final Pipeline\n",
    "        \n",
    "        create_model: Create the provided model\n",
    "        \n",
    "        numerical_transformer: Transform numerical cols\n",
    "        \n",
    "        categorical_transformer: Transform categorical cols \\\n",
    "        OneHotEncoding / OrdinalEncoding\n",
    "        \n",
    "        data_preprocessor: Preprocess the data using ColumnTransformer     \n",
    "        \"\"\"\n",
    "    \n",
    "    def pipeline(self, *, preprocessor, model, verbose=False):\n",
    "        \"\"\"Creates pipeline\n",
    "        params:\n",
    "            preprocessor\n",
    "            model\n",
    "        \"\"\"\n",
    "        steps = [(\"preprocessor\", preprocessor),\n",
    "                 (\"model\", model)]\n",
    "        return Pipeline(steps=steps, verbose=verbose)\n",
    "    \n",
    "    \n",
    "    def numerical_transformer(self, *, strategy=\"mean\", **params):\n",
    "        \"\"\"Transform numerical columns using `SimpleImputer`.\n",
    "        params:\n",
    "            strategy: \"mean\" | \"median\" | \"most_frequent\" | \"constant\"\n",
    "            **params: extra keyword args for SimpleImputer\"\"\"\n",
    "        \n",
    "        transformer = SimpleImputer(strategy=strategy, **params)\n",
    "        return transformer\n",
    "\n",
    "    \n",
    "    def categorical_transformer(self, *, \n",
    "                                imp_strategy=\"most_frequent\", \n",
    "                                encoder_type=\"Ordinal\", \n",
    "                                imp_params={}, encoder_params={}):\n",
    "        \"\"\"Transform categorical columns by making Pipeline\n",
    "        `SimpleImputer` | `OneHotEncoder` | `OrdinalEncoder`.\n",
    "        args:\n",
    "            imp_strategy: strategy for imputer values can be\n",
    "                \"most_frequent\" | \"constant\"\n",
    "            encoder_type: encoder type,\n",
    "                \"Ordinal\" | \"OneHot\"\n",
    "        kwargs:\n",
    "            imp_params: keyword args for `SimpleImputer`.\n",
    "            encoder_params: keyword args for encoder.`\n",
    "        \"\"\"\n",
    "        if not encoder_type in (\"Ordinal\", \"OneHot\"):\n",
    "            raise ValueError(f\"Inappropriate value for encoder_type passed: {encoder_type}\\\n",
    "            Takes one of 'Ordinal' | 'OneHot'.\")\n",
    "        \n",
    "        encoder = OrdinalEncoder if encoder_type==\"Ordinal\" else OneHotEncoder\n",
    "        transformer = Pipeline(steps=[\n",
    "            (\"imputer\", SimpleImputer(strategy=imp_strategy, **imp_params)),\n",
    "            (encoder_type, encoder(**encoder_params))\n",
    "        ])\n",
    "        return transformer\n",
    "    \n",
    "    \n",
    "    def data_preprocessor(self, *, transformers):\n",
    "        \"\"\"Preprocess the data using `ColumnTransformer`.\n",
    "        Pass extact list of transformers\n",
    "        to be passed in `ColumnTransformer`.\n",
    "        each tuple consist of: (transformer_name,\n",
    "                                transformer,\n",
    "                                list_of_columns).\"\"\"\n",
    "        preprocessor = ColumnTransformer(transformers=transformers)\n",
    "        return preprocessor\n",
    "    \n",
    "    \n",
    "    def create_model(self, *, model, random_state=0, n_estimators=1000, **kwargs):\n",
    "        \"\"\"Creates the model.\n",
    "        **kwargs: keyword args for model.\"\"\"\n",
    "        my_model = model(random_state=random_state, n_estimators=n_estimators, **kwargs)\n",
    "        return my_model"
   ]
  },
  {
   "cell_type": "code",
   "execution_count": 8,
   "id": "7d0526bd",
   "metadata": {
    "execution": {
     "iopub.execute_input": "2022-07-05T19:00:34.062614Z",
     "iopub.status.busy": "2022-07-05T19:00:34.061974Z",
     "iopub.status.idle": "2022-07-05T19:00:34.067033Z",
     "shell.execute_reply": "2022-07-05T19:00:34.066186Z"
    },
    "papermill": {
     "duration": 0.013945,
     "end_time": "2022-07-05T19:00:34.069055",
     "exception": false,
     "start_time": "2022-07-05T19:00:34.055110",
     "status": "completed"
    },
    "tags": []
   },
   "outputs": [],
   "source": [
    "cp = CreatePipeline()\n",
    "num_transformer = cp.numerical_transformer(strategy=\"median\")\n",
    "cat_transformer = cp.categorical_transformer(encoder_type=\"OneHot\", encoder_params={\"handle_unknown\": \"ignore\"})\n",
    "preprocessor = cp.data_preprocessor(\n",
    "                    transformers=[(\"num\", num_transformer, num_cols),\n",
    "                                  (\"cat\", cat_transformer, cat_cols)\n",
    "                                 ])"
   ]
  },
  {
   "cell_type": "markdown",
   "id": "4bca9fd6",
   "metadata": {
    "papermill": {
     "duration": 0.005432,
     "end_time": "2022-07-05T19:00:34.079785",
     "exception": false,
     "start_time": "2022-07-05T19:00:34.074353",
     "status": "completed"
    },
    "tags": []
   },
   "source": [
    "## 5. Doing hyperparameter tuning with Cross-validation using `XGBClassifier`"
   ]
  },
  {
   "cell_type": "code",
   "execution_count": 9,
   "id": "e8e56828",
   "metadata": {
    "execution": {
     "iopub.execute_input": "2022-07-05T19:00:34.092887Z",
     "iopub.status.busy": "2022-07-05T19:00:34.091968Z",
     "iopub.status.idle": "2022-07-05T19:08:11.320441Z",
     "shell.execute_reply": "2022-07-05T19:08:11.319605Z"
    },
    "papermill": {
     "duration": 457.244696,
     "end_time": "2022-07-05T19:08:11.330014",
     "exception": false,
     "start_time": "2022-07-05T19:00:34.085318",
     "status": "completed"
    },
    "tags": []
   },
   "outputs": [
    {
     "name": "stderr",
     "output_type": "stream",
     "text": [
      "[Parallel(n_jobs=1)]: Using backend SequentialBackend with 1 concurrent workers.\n",
      "[Parallel(n_jobs=1)]: Done  10 out of  10 | elapsed:   15.4s finished\n",
      "[Parallel(n_jobs=1)]: Using backend SequentialBackend with 1 concurrent workers.\n",
      "[Parallel(n_jobs=1)]: Done  10 out of  10 | elapsed:   14.5s finished\n",
      "[Parallel(n_jobs=1)]: Using backend SequentialBackend with 1 concurrent workers.\n",
      "[Parallel(n_jobs=1)]: Done  10 out of  10 | elapsed:   17.9s finished\n",
      "[Parallel(n_jobs=1)]: Using backend SequentialBackend with 1 concurrent workers.\n",
      "[Parallel(n_jobs=1)]: Done  10 out of  10 | elapsed:   16.7s finished\n",
      "[Parallel(n_jobs=1)]: Using backend SequentialBackend with 1 concurrent workers.\n",
      "[Parallel(n_jobs=1)]: Done  10 out of  10 | elapsed:   20.0s finished\n",
      "[Parallel(n_jobs=1)]: Using backend SequentialBackend with 1 concurrent workers.\n",
      "[Parallel(n_jobs=1)]: Done  10 out of  10 | elapsed:   18.1s finished\n",
      "[Parallel(n_jobs=1)]: Using backend SequentialBackend with 1 concurrent workers.\n",
      "[Parallel(n_jobs=1)]: Done  10 out of  10 | elapsed:   21.5s finished\n",
      "[Parallel(n_jobs=1)]: Using backend SequentialBackend with 1 concurrent workers.\n",
      "[Parallel(n_jobs=1)]: Done  10 out of  10 | elapsed:   21.2s finished\n",
      "[Parallel(n_jobs=1)]: Using backend SequentialBackend with 1 concurrent workers.\n",
      "[Parallel(n_jobs=1)]: Done  10 out of  10 | elapsed:   24.0s finished\n",
      "[Parallel(n_jobs=1)]: Using backend SequentialBackend with 1 concurrent workers.\n",
      "[Parallel(n_jobs=1)]: Done  10 out of  10 | elapsed:   24.4s finished\n",
      "[Parallel(n_jobs=1)]: Using backend SequentialBackend with 1 concurrent workers.\n",
      "[Parallel(n_jobs=1)]: Done  10 out of  10 | elapsed:   27.3s finished\n",
      "[Parallel(n_jobs=1)]: Using backend SequentialBackend with 1 concurrent workers.\n",
      "[Parallel(n_jobs=1)]: Done  10 out of  10 | elapsed:   25.8s finished\n",
      "[Parallel(n_jobs=1)]: Using backend SequentialBackend with 1 concurrent workers.\n",
      "[Parallel(n_jobs=1)]: Done  10 out of  10 | elapsed:   31.4s finished\n",
      "[Parallel(n_jobs=1)]: Using backend SequentialBackend with 1 concurrent workers.\n",
      "[Parallel(n_jobs=1)]: Done  10 out of  10 | elapsed:   31.3s finished\n",
      "[Parallel(n_jobs=1)]: Using backend SequentialBackend with 1 concurrent workers.\n",
      "[Parallel(n_jobs=1)]: Done  10 out of  10 | elapsed:   36.5s finished\n",
      "[Parallel(n_jobs=1)]: Using backend SequentialBackend with 1 concurrent workers.\n",
      "[Parallel(n_jobs=1)]: Done  10 out of  10 | elapsed:   35.6s finished\n",
      "[Parallel(n_jobs=1)]: Using backend SequentialBackend with 1 concurrent workers.\n",
      "[Parallel(n_jobs=1)]: Done  10 out of  10 | elapsed:   38.9s finished\n",
      "[Parallel(n_jobs=1)]: Using backend SequentialBackend with 1 concurrent workers.\n",
      "[Parallel(n_jobs=1)]: Done  10 out of  10 | elapsed:   36.7s finished\n"
     ]
    }
   ],
   "source": [
    "n_estimators = [350, 500, 750]\n",
    "max_depths = [5, 10, 20]\n",
    "learning_rate = [0.05, 0.1]\n",
    "maes = {}\n",
    "i = 0\n",
    "for n in n_estimators:\n",
    "    for md in max_depths:\n",
    "        for rate in learning_rate:\n",
    "            i += 1\n",
    "            model = cp.create_model(model=XGBClassifier, n_estimators=n, max_depth=md, learning_rate=rate)\n",
    "            pipeline = cp.pipeline(preprocessor=preprocessor, model=model)\n",
    "            scores = -1 * cross_val_score(pipeline, X, Y, cv=10, verbose=True,\n",
    "                                    scoring=\"neg_mean_absolute_error\")\n",
    "            mae = scores.mean()\n",
    "            maes[i] = [n, md, rate, mae]"
   ]
  },
  {
   "cell_type": "markdown",
   "id": "00b8b1e7",
   "metadata": {
    "papermill": {
     "duration": 0.006048,
     "end_time": "2022-07-05T19:08:11.342157",
     "exception": false,
     "start_time": "2022-07-05T19:08:11.336109",
     "status": "completed"
    },
    "tags": []
   },
   "source": [
    "## 7. Checking MAE"
   ]
  },
  {
   "cell_type": "code",
   "execution_count": 10,
   "id": "0acfd040",
   "metadata": {
    "execution": {
     "iopub.execute_input": "2022-07-05T19:08:11.356541Z",
     "iopub.status.busy": "2022-07-05T19:08:11.355559Z",
     "iopub.status.idle": "2022-07-05T19:08:11.361823Z",
     "shell.execute_reply": "2022-07-05T19:08:11.360445Z"
    },
    "papermill": {
     "duration": 0.015758,
     "end_time": "2022-07-05T19:08:11.364037",
     "exception": false,
     "start_time": "2022-07-05T19:08:11.348279",
     "status": "completed"
    },
    "tags": []
   },
   "outputs": [
    {
     "name": "stdout",
     "output_type": "stream",
     "text": [
      "1.\tN_estimators: 350\tmax_depth: 5\tlearning_rate: 0.05\tMAE: 0.17108150470219435\n",
      "2.\tN_estimators: 350\tmax_depth: 5\tlearning_rate: 0.1\tMAE: 0.1812957157784744\n",
      "3.\tN_estimators: 350\tmax_depth: 10\tlearning_rate: 0.05\tMAE: 0.17900992685475442\n",
      "4.\tN_estimators: 350\tmax_depth: 10\tlearning_rate: 0.1\tMAE: 0.19157523510971788\n",
      "5.\tN_estimators: 350\tmax_depth: 20\tlearning_rate: 0.05\tMAE: 0.1949712643678161\n",
      "6.\tN_estimators: 350\tmax_depth: 20\tlearning_rate: 0.1\tMAE: 0.19610762800417972\n",
      "7.\tN_estimators: 500\tmax_depth: 5\tlearning_rate: 0.05\tMAE: 0.17450365726227793\n",
      "8.\tN_estimators: 500\tmax_depth: 5\tlearning_rate: 0.1\tMAE: 0.1744644723092999\n",
      "9.\tN_estimators: 500\tmax_depth: 10\tlearning_rate: 0.05\tMAE: 0.18585423197492162\n",
      "10.\tN_estimators: 500\tmax_depth: 10\tlearning_rate: 0.1\tMAE: 0.19157523510971788\n",
      "11.\tN_estimators: 500\tmax_depth: 20\tlearning_rate: 0.05\tMAE: 0.19041274817136886\n",
      "12.\tN_estimators: 500\tmax_depth: 20\tlearning_rate: 0.1\tMAE: 0.19610762800417975\n",
      "13.\tN_estimators: 750\tmax_depth: 5\tlearning_rate: 0.05\tMAE: 0.17447753396029259\n",
      "14.\tN_estimators: 750\tmax_depth: 5\tlearning_rate: 0.1\tMAE: 0.18702978056426334\n",
      "15.\tN_estimators: 750\tmax_depth: 10\tlearning_rate: 0.05\tMAE: 0.1949843260188088\n",
      "16.\tN_estimators: 750\tmax_depth: 10\tlearning_rate: 0.1\tMAE: 0.19269853709508883\n",
      "17.\tN_estimators: 750\tmax_depth: 20\tlearning_rate: 0.05\tMAE: 0.18926332288401254\n",
      "18.\tN_estimators: 750\tmax_depth: 20\tlearning_rate: 0.1\tMAE: 0.19610762800417972\n"
     ]
    }
   ],
   "source": [
    "for i in maes:\n",
    "    n, md, rate, mae = maes[i]\n",
    "    print(f\"{i}.\\tN_estimators: {n}\\tmax_depth: {md}\\tlearning_rate: {rate}\\tMAE: {mae}\")"
   ]
  },
  {
   "cell_type": "markdown",
   "id": "084dcacb",
   "metadata": {
    "papermill": {
     "duration": 0.005962,
     "end_time": "2022-07-05T19:08:11.376236",
     "exception": false,
     "start_time": "2022-07-05T19:08:11.370274",
     "status": "completed"
    },
    "tags": []
   },
   "source": [
    "## 8. Best parameters\n",
    "#### `n_estimators: 350`\n",
    "#### `max_depth: 5`\n",
    "#### `learning_rate: 0.05`\n",
    "#### `MAE: 0.17108150470219435`"
   ]
  },
  {
   "cell_type": "code",
   "execution_count": 11,
   "id": "cdafea15",
   "metadata": {
    "execution": {
     "iopub.execute_input": "2022-07-05T19:08:11.390875Z",
     "iopub.status.busy": "2022-07-05T19:08:11.389881Z",
     "iopub.status.idle": "2022-07-05T19:08:11.394425Z",
     "shell.execute_reply": "2022-07-05T19:08:11.393730Z"
    },
    "papermill": {
     "duration": 0.01375,
     "end_time": "2022-07-05T19:08:11.396091",
     "exception": false,
     "start_time": "2022-07-05T19:08:11.382341",
     "status": "completed"
    },
    "tags": []
   },
   "outputs": [],
   "source": [
    "best_n_estimators = 350\n",
    "best_max_depth = 5\n",
    "best_rate = 0.05"
   ]
  },
  {
   "cell_type": "markdown",
   "id": "1e4251d2",
   "metadata": {
    "papermill": {
     "duration": 0.006408,
     "end_time": "2022-07-05T19:08:11.408812",
     "exception": false,
     "start_time": "2022-07-05T19:08:11.402404",
     "status": "completed"
    },
    "tags": []
   },
   "source": [
    "## 9. Training `XGBClassifier` model with best parameters"
   ]
  },
  {
   "cell_type": "code",
   "execution_count": 12,
   "id": "88c8247f",
   "metadata": {
    "execution": {
     "iopub.execute_input": "2022-07-05T19:08:11.423596Z",
     "iopub.status.busy": "2022-07-05T19:08:11.422991Z",
     "iopub.status.idle": "2022-07-05T19:08:12.941893Z",
     "shell.execute_reply": "2022-07-05T19:08:12.940686Z"
    },
    "papermill": {
     "duration": 1.528878,
     "end_time": "2022-07-05T19:08:12.944138",
     "exception": false,
     "start_time": "2022-07-05T19:08:11.415260",
     "status": "completed"
    },
    "tags": []
   },
   "outputs": [
    {
     "data": {
      "text/plain": [
       "Pipeline(steps=[('preprocessor',\n",
       "                 ColumnTransformer(transformers=[('num',\n",
       "                                                  SimpleImputer(strategy='median'),\n",
       "                                                  Index(['Pclass', 'Age', 'SibSp', 'Parch', 'Fare'], dtype='object')),\n",
       "                                                 ('cat',\n",
       "                                                  Pipeline(steps=[('imputer',\n",
       "                                                                   SimpleImputer(strategy='most_frequent')),\n",
       "                                                                  ('OneHot',\n",
       "                                                                   OneHotEncoder(handle_unknown='ignore'))]),\n",
       "                                                  Index(['Sex', 'Ticket', 'Embarked'], dtype='object'))])),\n",
       "                ('...\n",
       "                               gamma=0, gpu_id=-1, grow_policy='depthwise',\n",
       "                               importance_type=None, interaction_constraints='',\n",
       "                               learning_rate=0.05, max_bin=256,\n",
       "                               max_cat_to_onehot=4, max_delta_step=0,\n",
       "                               max_depth=5, max_leaves=0, min_child_weight=1,\n",
       "                               missing=nan, monotone_constraints='()',\n",
       "                               n_estimators=350, n_jobs=0, num_parallel_tree=1,\n",
       "                               predictor='auto', random_state=0, reg_alpha=0,\n",
       "                               reg_lambda=1, ...))])"
      ]
     },
     "execution_count": 12,
     "metadata": {},
     "output_type": "execute_result"
    }
   ],
   "source": [
    "model = cp.create_model(model=XGBClassifier, n_estimators=best_n_estimators, learning_rate=best_rate, max_depth=best_max_depth)\n",
    "pipeline = cp.pipeline(preprocessor=preprocessor, model=model)\n",
    "pipeline.fit(X, Y)"
   ]
  },
  {
   "cell_type": "markdown",
   "id": "d6b15c39",
   "metadata": {
    "papermill": {
     "duration": 0.00675,
     "end_time": "2022-07-05T19:08:12.957317",
     "exception": false,
     "start_time": "2022-07-05T19:08:12.950567",
     "status": "completed"
    },
    "tags": []
   },
   "source": [
    "## 10. Predicting `Survived` on `test_data`"
   ]
  },
  {
   "cell_type": "code",
   "execution_count": 13,
   "id": "530a9ea3",
   "metadata": {
    "execution": {
     "iopub.execute_input": "2022-07-05T19:08:12.972645Z",
     "iopub.status.busy": "2022-07-05T19:08:12.971715Z",
     "iopub.status.idle": "2022-07-05T19:08:12.992574Z",
     "shell.execute_reply": "2022-07-05T19:08:12.991778Z"
    },
    "papermill": {
     "duration": 0.031885,
     "end_time": "2022-07-05T19:08:12.995847",
     "exception": false,
     "start_time": "2022-07-05T19:08:12.963962",
     "status": "completed"
    },
    "tags": []
   },
   "outputs": [
    {
     "data": {
      "text/plain": [
       "array([0, 0, 0, 0, 0, 0, 0, 0, 1, 0, 0, 0, 1, 0, 1, 1, 0, 0, 1, 0, 0, 0,\n",
       "       1, 1, 1, 0, 1, 0, 1, 0, 0, 0, 0, 0, 1, 0, 0, 0, 0, 1, 0, 1, 0, 1,\n",
       "       1, 0, 0, 0, 1, 1, 0, 0, 1, 1, 0, 0, 0, 0, 0, 1, 0, 0, 0, 1, 0, 1,\n",
       "       1, 0, 0, 1, 1, 0, 0, 0, 1, 0, 0, 1, 0, 1, 1, 0, 1, 0, 0, 0, 1, 1,\n",
       "       1, 1, 0, 0, 1, 0, 1, 0, 1, 0, 1, 0, 1, 0, 0, 0, 1, 0, 0, 0, 0, 0,\n",
       "       0, 1, 1, 1, 1, 0, 0, 1, 0, 1, 1, 0, 1, 0, 0, 1, 0, 1, 0, 0, 0, 0,\n",
       "       0, 0, 0, 0, 1, 0, 0, 0, 0, 1, 0, 0, 1, 0, 0, 0, 1, 0, 1, 0, 0, 1,\n",
       "       0, 0, 1, 0, 1, 1, 1, 1, 1, 0, 0, 0, 0, 0, 1, 0, 0, 1, 0, 0, 0, 1,\n",
       "       1, 0, 1, 1, 0, 0, 1, 0, 0, 0, 1, 0, 0, 0, 0, 0, 0, 0, 1, 0, 1, 0,\n",
       "       0, 0, 1, 1, 0, 1, 0, 1, 0, 0, 1, 0, 0, 0, 0, 1, 0, 0, 1, 0, 1, 0,\n",
       "       1, 0, 1, 0, 1, 1, 0, 1, 0, 0, 0, 1, 0, 0, 1, 0, 0, 1, 1, 1, 1, 1,\n",
       "       0, 0, 0, 0, 1, 0, 1, 0, 1, 0, 0, 0, 0, 0, 0, 0, 1, 0, 0, 0, 1, 1,\n",
       "       0, 0, 0, 0, 0, 0, 0, 0, 1, 1, 0, 1, 0, 0, 0, 0, 0, 1, 1, 0, 1, 0,\n",
       "       0, 0, 0, 0, 0, 0, 0, 0, 0, 0, 1, 0, 0, 0, 0, 0, 0, 0, 1, 1, 0, 1,\n",
       "       0, 0, 0, 0, 0, 0, 1, 1, 0, 0, 0, 0, 0, 0, 0, 1, 1, 0, 1, 0, 0, 0,\n",
       "       1, 0, 0, 1, 0, 0, 0, 0, 0, 0, 0, 0, 0, 1, 0, 1, 0, 0, 0, 1, 1, 0,\n",
       "       0, 0, 1, 0, 1, 0, 0, 0, 0, 1, 1, 0, 1, 0, 0, 0, 1, 0, 0, 1, 0, 0,\n",
       "       1, 1, 0, 0, 0, 0, 0, 0, 0, 1, 0, 1, 0, 0, 0, 0, 0, 1, 0, 0, 0, 1,\n",
       "       0, 1, 0, 0, 1, 0, 1, 0, 0, 0, 0, 0, 0, 1, 1, 1, 1, 0, 1, 0, 0, 0])"
      ]
     },
     "execution_count": 13,
     "metadata": {},
     "output_type": "execute_result"
    }
   ],
   "source": [
    "test_preds = pipeline.predict(test_data)\n",
    "test_preds"
   ]
  },
  {
   "cell_type": "markdown",
   "id": "847da003",
   "metadata": {
    "papermill": {
     "duration": 0.006113,
     "end_time": "2022-07-05T19:08:13.008411",
     "exception": false,
     "start_time": "2022-07-05T19:08:13.002298",
     "status": "completed"
    },
    "tags": []
   },
   "source": [
    "## 11. Submitting predictions"
   ]
  },
  {
   "cell_type": "code",
   "execution_count": 14,
   "id": "65888e16",
   "metadata": {
    "execution": {
     "iopub.execute_input": "2022-07-05T19:08:13.023224Z",
     "iopub.status.busy": "2022-07-05T19:08:13.022825Z",
     "iopub.status.idle": "2022-07-05T19:08:13.031161Z",
     "shell.execute_reply": "2022-07-05T19:08:13.030211Z"
    },
    "papermill": {
     "duration": 0.018681,
     "end_time": "2022-07-05T19:08:13.033422",
     "exception": false,
     "start_time": "2022-07-05T19:08:13.014741",
     "status": "completed"
    },
    "tags": []
   },
   "outputs": [],
   "source": [
    "output = pd.DataFrame({\"PassengerId\": test_data.index, \"Survived\": test_preds})\n",
    "output.to_csv(\"./submission_3.csv\", index=False)"
   ]
  }
 ],
 "metadata": {
  "kernelspec": {
   "display_name": "Python 3",
   "language": "python",
   "name": "python3"
  },
  "language_info": {
   "codemirror_mode": {
    "name": "ipython",
    "version": 3
   },
   "file_extension": ".py",
   "mimetype": "text/x-python",
   "name": "python",
   "nbconvert_exporter": "python",
   "pygments_lexer": "ipython3",
   "version": "3.7.12"
  },
  "papermill": {
   "default_parameters": {},
   "duration": 470.385488,
   "end_time": "2022-07-05T19:08:13.761443",
   "environment_variables": {},
   "exception": null,
   "input_path": "__notebook__.ipynb",
   "output_path": "__notebook__.ipynb",
   "parameters": {},
   "start_time": "2022-07-05T19:00:23.375955",
   "version": "2.3.4"
  }
 },
 "nbformat": 4,
 "nbformat_minor": 5
}

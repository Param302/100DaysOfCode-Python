{
 "cells": [
  {
   "cell_type": "markdown",
   "id": "ed4073b0",
   "metadata": {},
   "source": [
    "# Numpy Tutorial\n",
    "**Sources:**\n",
    "1. Patrick Loeber [Numpy Crash Course](https://www.youtube.com/watch?v=9JUAPgtkKpI)\n",
    "2. Codebasics [Numpy playlist](https://www.youtube.com/playlist?list=PLeo1K3hjS3uset9zIVzJWqplaWBiacTEU)"
   ]
  },
  {
   "cell_type": "code",
   "execution_count": 1,
   "id": "42bcd36c",
   "metadata": {},
   "outputs": [
    {
     "data": {
      "text/plain": [
       "'1.22.4'"
      ]
     },
     "execution_count": 1,
     "metadata": {},
     "output_type": "execute_result"
    }
   ],
   "source": [
    "import numpy as np\n",
    "np.__version__    # shows the current version i.e. 1.22.4"
   ]
  },
  {
   "cell_type": "markdown",
   "id": "b1a8b0d5",
   "metadata": {},
   "source": [
    "### A numpy array ( 1-dimensional)"
   ]
  },
  {
   "cell_type": "code",
   "execution_count": 2,
   "id": "f2b6675e",
   "metadata": {},
   "outputs": [
    {
     "data": {
      "text/plain": [
       "array([1, 2, 3])"
      ]
     },
     "execution_count": 2,
     "metadata": {},
     "output_type": "execute_result"
    }
   ],
   "source": [
    "a = np.array([1, 2, 3])\n",
    "a"
   ]
  },
  {
   "cell_type": "markdown",
   "id": "2279984b",
   "metadata": {},
   "source": [
    "#### Shape of an array using `shape` attribute"
   ]
  },
  {
   "cell_type": "code",
   "execution_count": 3,
   "id": "8bba0772",
   "metadata": {},
   "outputs": [
    {
     "data": {
      "text/plain": [
       "(3,)"
      ]
     },
     "execution_count": 3,
     "metadata": {},
     "output_type": "execute_result"
    }
   ],
   "source": [
    "a.shape"
   ]
  },
  {
   "cell_type": "markdown",
   "id": "d4d06743",
   "metadata": {},
   "source": [
    "#### Datatype of an array using `dtype` attribute"
   ]
  },
  {
   "cell_type": "code",
   "execution_count": 4,
   "id": "7b859020",
   "metadata": {},
   "outputs": [
    {
     "data": {
      "text/plain": [
       "dtype('int32')"
      ]
     },
     "execution_count": 4,
     "metadata": {},
     "output_type": "execute_result"
    }
   ],
   "source": [
    "a.dtype"
   ]
  },
  {
   "cell_type": "markdown",
   "id": "92c5368a",
   "metadata": {},
   "source": [
    "#### Dimension of an array using `ndim` attribute"
   ]
  },
  {
   "cell_type": "code",
   "execution_count": 5,
   "id": "82b808a1",
   "metadata": {},
   "outputs": [
    {
     "data": {
      "text/plain": [
       "1"
      ]
     },
     "execution_count": 5,
     "metadata": {},
     "output_type": "execute_result"
    }
   ],
   "source": [
    "a.ndim"
   ]
  },
  {
   "cell_type": "markdown",
   "id": "bad2ee9d",
   "metadata": {},
   "source": [
    "#### Size of an array using `size` attribute"
   ]
  },
  {
   "cell_type": "code",
   "execution_count": 6,
   "id": "8993030d",
   "metadata": {},
   "outputs": [
    {
     "data": {
      "text/plain": [
       "3"
      ]
     },
     "execution_count": 6,
     "metadata": {},
     "output_type": "execute_result"
    }
   ],
   "source": [
    "a.size"
   ]
  },
  {
   "cell_type": "markdown",
   "id": "695c57f9",
   "metadata": {},
   "source": [
    "#### Size of each element in array using `itemsize` attribute"
   ]
  },
  {
   "cell_type": "code",
   "execution_count": 7,
   "id": "bbcae44a",
   "metadata": {},
   "outputs": [
    {
     "data": {
      "text/plain": [
       "4"
      ]
     },
     "execution_count": 7,
     "metadata": {},
     "output_type": "execute_result"
    }
   ],
   "source": [
    "a.itemsize"
   ]
  },
  {
   "cell_type": "markdown",
   "id": "3b9febc2",
   "metadata": {},
   "source": [
    "#### Dot product of an array using `np.dot()` method & `@` sign\n",
    "It is the sum of the product of the two arrays"
   ]
  },
  {
   "cell_type": "code",
   "execution_count": 8,
   "id": "976d661f",
   "metadata": {},
   "outputs": [
    {
     "data": {
      "text/plain": [
       "32"
      ]
     },
     "execution_count": 8,
     "metadata": {},
     "output_type": "execute_result"
    }
   ],
   "source": [
    "# Normal way in Python\n",
    "l1 = [1, 2, 3]\n",
    "l2 = [4, 5, 6]\n",
    "list_dot = 0\n",
    "for i in range(len(l1)):\n",
    "    list_dot += l1[i] * l2[i]\n",
    "list_dot"
   ]
  },
  {
   "cell_type": "code",
   "execution_count": 9,
   "id": "68d29dfd",
   "metadata": {},
   "outputs": [
    {
     "data": {
      "text/plain": [
       "32"
      ]
     },
     "execution_count": 9,
     "metadata": {},
     "output_type": "execute_result"
    }
   ],
   "source": [
    "# Using np.dot()\n",
    "a1 = np.array(l1)\n",
    "a2 = np.array(l2)\n",
    "array_dot = np.dot(a1, a2)\n",
    "array_dot"
   ]
  },
  {
   "cell_type": "markdown",
   "id": "c6d2b636",
   "metadata": {},
   "source": [
    "Using `@` sign"
   ]
  },
  {
   "cell_type": "code",
   "execution_count": 10,
   "id": "e0696693",
   "metadata": {},
   "outputs": [
    {
     "data": {
      "text/plain": [
       "32"
      ]
     },
     "execution_count": 10,
     "metadata": {},
     "output_type": "execute_result"
    }
   ],
   "source": [
    "dot = a1 @ a2\n",
    "dot"
   ]
  },
  {
   "cell_type": "markdown",
   "id": "4d27267d",
   "metadata": {},
   "source": [
    "## Multi-dimensional arrays"
   ]
  },
  {
   "cell_type": "code",
   "execution_count": 11,
   "id": "4d88ce94",
   "metadata": {},
   "outputs": [
    {
     "data": {
      "text/plain": [
       "array([[1, 2, 3],\n",
       "       [4, 5, 6]])"
      ]
     },
     "execution_count": 11,
     "metadata": {},
     "output_type": "execute_result"
    }
   ],
   "source": [
    "a = np.array([[1, 2, 3], [4, 5, 6]])\n",
    "a"
   ]
  },
  {
   "cell_type": "code",
   "execution_count": 12,
   "id": "8560b79e",
   "metadata": {},
   "outputs": [
    {
     "data": {
      "text/plain": [
       "(2, 3)"
      ]
     },
     "execution_count": 12,
     "metadata": {},
     "output_type": "execute_result"
    }
   ],
   "source": [
    "a.shape"
   ]
  },
  {
   "cell_type": "markdown",
   "id": "1dfeba22",
   "metadata": {},
   "source": [
    "### Indexing is multi-dimensional array can be done using ',' comma"
   ]
  },
  {
   "cell_type": "code",
   "execution_count": 13,
   "id": "4712f8a4",
   "metadata": {},
   "outputs": [
    {
     "name": "stdout",
     "output_type": "stream",
     "text": [
      "2\n",
      "2\n"
     ]
    },
    {
     "data": {
      "text/plain": [
       "True"
      ]
     },
     "execution_count": 13,
     "metadata": {},
     "output_type": "execute_result"
    }
   ],
   "source": [
    "print(a[0][1])\n",
    "print(a[0, 1])\n",
    "a[0][1] == a[0, 1]"
   ]
  },
  {
   "cell_type": "markdown",
   "id": "81852de4",
   "metadata": {},
   "source": [
    "### Slicing of multi-dimensional arrays can be done by putting commas\n",
    "```arr [1:3 , 2:4]```\n",
    "\n",
    "-> A 2d array\n",
    "\n",
    "-> Slice 1st & 2nd row from it\n",
    "\n",
    "-> And, 2nd and 4th column from it"
   ]
  },
  {
   "cell_type": "code",
   "execution_count": 14,
   "id": "d445347f",
   "metadata": {},
   "outputs": [
    {
     "data": {
      "text/plain": [
       "array([2, 5])"
      ]
     },
     "execution_count": 14,
     "metadata": {},
     "output_type": "execute_result"
    }
   ],
   "source": [
    "# if we want all the rows of a specific column\n",
    "a[:,1]"
   ]
  },
  {
   "cell_type": "code",
   "execution_count": 15,
   "id": "71a0c1df",
   "metadata": {},
   "outputs": [
    {
     "data": {
      "text/plain": [
       "array([4, 5, 6])"
      ]
     },
     "execution_count": 15,
     "metadata": {},
     "output_type": "execute_result"
    }
   ],
   "source": [
    "# if we want all the columns of a specific row\n",
    "a[1,:]"
   ]
  },
  {
   "cell_type": "code",
   "execution_count": 16,
   "id": "324abc06",
   "metadata": {},
   "outputs": [
    {
     "data": {
      "text/plain": [
       "array([5, 6])"
      ]
     },
     "execution_count": 16,
     "metadata": {},
     "output_type": "execute_result"
    }
   ],
   "source": [
    "# last 2 elements of last row\n",
    "a[-1,-2:]"
   ]
  },
  {
   "cell_type": "markdown",
   "id": "4f91fb1f",
   "metadata": {},
   "source": [
    "#### Boolean indexing can be done by putting the condition within square brackets"
   ]
  },
  {
   "cell_type": "code",
   "execution_count": 17,
   "id": "0680b436",
   "metadata": {},
   "outputs": [
    {
     "data": {
      "text/plain": [
       "array([[1, 2, 3],\n",
       "       [4, 5, 6]])"
      ]
     },
     "execution_count": 17,
     "metadata": {},
     "output_type": "execute_result"
    }
   ],
   "source": [
    "a"
   ]
  },
  {
   "cell_type": "code",
   "execution_count": 18,
   "id": "c4abc66d",
   "metadata": {},
   "outputs": [
    {
     "data": {
      "text/plain": [
       "array([[False, False,  True],\n",
       "       [ True,  True,  True]])"
      ]
     },
     "execution_count": 18,
     "metadata": {},
     "output_type": "execute_result"
    }
   ],
   "source": [
    "a>2"
   ]
  },
  {
   "cell_type": "code",
   "execution_count": 19,
   "id": "e9204a11",
   "metadata": {},
   "outputs": [
    {
     "data": {
      "text/plain": [
       "array([3, 4, 5, 6])"
      ]
     },
     "execution_count": 19,
     "metadata": {},
     "output_type": "execute_result"
    }
   ],
   "source": [
    "a[a>2]"
   ]
  },
  {
   "cell_type": "markdown",
   "id": "c3694482",
   "metadata": {},
   "source": [
    "#### Using `np.where()` method"
   ]
  },
  {
   "cell_type": "code",
   "execution_count": 20,
   "id": "51c43694",
   "metadata": {},
   "outputs": [
    {
     "data": {
      "text/plain": [
       "(array([0, 1, 1, 1], dtype=int64), array([2, 0, 1, 2], dtype=int64))"
      ]
     },
     "execution_count": 20,
     "metadata": {},
     "output_type": "execute_result"
    }
   ],
   "source": [
    "np.where(a>2)"
   ]
  },
  {
   "cell_type": "code",
   "execution_count": 21,
   "id": "d29e47a2",
   "metadata": {},
   "outputs": [
    {
     "data": {
      "text/plain": [
       "array([[-1, -1,  3],\n",
       "       [ 4,  5,  6]])"
      ]
     },
     "execution_count": 21,
     "metadata": {},
     "output_type": "execute_result"
    }
   ],
   "source": [
    "# param:\n",
    "# condition, filled false values with x, filled true values with y\n",
    "# Here filling the false values of the respective conditions in x,\n",
    "# and true values with -1.\n",
    "np.where(a>2, a, -1)"
   ]
  },
  {
   "cell_type": "code",
   "execution_count": 22,
   "id": "caa24209",
   "metadata": {},
   "outputs": [
    {
     "data": {
      "text/plain": [
       "array([[0, 2, 0],\n",
       "       [4, 0, 6]])"
      ]
     },
     "execution_count": 22,
     "metadata": {},
     "output_type": "execute_result"
    }
   ],
   "source": [
    "# Finding evens\n",
    "np.where(a%2==0, a, 0)"
   ]
  },
  {
   "cell_type": "markdown",
   "id": "c4556423",
   "metadata": {},
   "source": [
    "#### Fancy Indexing\n",
    "Passing an array of indexes to an array to access it's multiple indexes."
   ]
  },
  {
   "cell_type": "code",
   "execution_count": 23,
   "id": "3aebbcab",
   "metadata": {},
   "outputs": [],
   "source": [
    "arr = np.array([10, 20, 30, 40, 50, 60])\n",
    "indexes = [1, 4, 3, 5]"
   ]
  },
  {
   "cell_type": "code",
   "execution_count": 24,
   "id": "17e9abc6",
   "metadata": {},
   "outputs": [
    {
     "data": {
      "text/plain": [
       "array([20, 50, 40, 60])"
      ]
     },
     "execution_count": 24,
     "metadata": {},
     "output_type": "execute_result"
    }
   ],
   "source": [
    "arr[indexes]"
   ]
  },
  {
   "cell_type": "markdown",
   "id": "5550d7e8",
   "metadata": {},
   "source": [
    "#### Find indexes of an array where some condition is True, using `np.argwhere()` method"
   ]
  },
  {
   "cell_type": "code",
   "execution_count": 25,
   "id": "65f8259b",
   "metadata": {},
   "outputs": [],
   "source": [
    "arr2 = np.array([1, 2, 3, 4, 5])"
   ]
  },
  {
   "cell_type": "code",
   "execution_count": 26,
   "id": "3bb866f2",
   "metadata": {},
   "outputs": [
    {
     "data": {
      "text/plain": [
       "array([[1],\n",
       "       [3]], dtype=int64)"
      ]
     },
     "execution_count": 26,
     "metadata": {},
     "output_type": "execute_result"
    }
   ],
   "source": [
    "even_indexes = np.argwhere(arr2%2==0)\n",
    "even_indexes"
   ]
  },
  {
   "cell_type": "code",
   "execution_count": 27,
   "id": "c69597a0",
   "metadata": {},
   "outputs": [
    {
     "data": {
      "text/plain": [
       "array([1, 3], dtype=int64)"
      ]
     },
     "execution_count": 27,
     "metadata": {},
     "output_type": "execute_result"
    }
   ],
   "source": [
    "even_indexes = even_indexes.flatten()\n",
    "even_indexes"
   ]
  },
  {
   "cell_type": "code",
   "execution_count": 28,
   "id": "c7693c03",
   "metadata": {},
   "outputs": [
    {
     "data": {
      "text/plain": [
       "array([2, 4])"
      ]
     },
     "execution_count": 28,
     "metadata": {},
     "output_type": "execute_result"
    }
   ],
   "source": [
    "arr2[even_indexes]"
   ]
  },
  {
   "cell_type": "markdown",
   "id": "8d206620",
   "metadata": {},
   "source": [
    "### Transpose of an array using `T` attribute\n",
    "Shifting all the rows to columns and columns to rows of a matrix"
   ]
  },
  {
   "cell_type": "code",
   "execution_count": 29,
   "id": "740a1ec5",
   "metadata": {},
   "outputs": [
    {
     "data": {
      "text/plain": [
       "array([[1, 4],\n",
       "       [2, 5],\n",
       "       [3, 6]])"
      ]
     },
     "execution_count": 29,
     "metadata": {},
     "output_type": "execute_result"
    }
   ],
   "source": [
    "a.T"
   ]
  },
  {
   "cell_type": "markdown",
   "id": "be8c2d70",
   "metadata": {},
   "source": [
    "#### To get diagonals of an array, we use `np.diag(arr)`"
   ]
  },
  {
   "cell_type": "code",
   "execution_count": 30,
   "id": "26d14709",
   "metadata": {},
   "outputs": [
    {
     "data": {
      "text/plain": [
       "array([[1, 2, 3],\n",
       "       [4, 5, 6]])"
      ]
     },
     "execution_count": 30,
     "metadata": {},
     "output_type": "execute_result"
    }
   ],
   "source": [
    "a"
   ]
  },
  {
   "cell_type": "code",
   "execution_count": 31,
   "id": "2ceae82b",
   "metadata": {},
   "outputs": [
    {
     "data": {
      "text/plain": [
       "array([1, 5])"
      ]
     },
     "execution_count": 31,
     "metadata": {},
     "output_type": "execute_result"
    }
   ],
   "source": [
    "np.diag(a)"
   ]
  },
  {
   "cell_type": "code",
   "execution_count": 32,
   "id": "c4fa2f96",
   "metadata": {},
   "outputs": [
    {
     "data": {
      "text/plain": [
       "array([[1, 0],\n",
       "       [0, 5]])"
      ]
     },
     "execution_count": 32,
     "metadata": {},
     "output_type": "execute_result"
    }
   ],
   "source": [
    "np.diag(np.diag(a))"
   ]
  },
  {
   "cell_type": "code",
   "execution_count": 33,
   "id": "bde32e85",
   "metadata": {},
   "outputs": [
    {
     "data": {
      "text/plain": [
       "array([[1, 0, 0, 0],\n",
       "       [0, 2, 0, 0],\n",
       "       [0, 0, 3, 0],\n",
       "       [0, 0, 0, 4]])"
      ]
     },
     "execution_count": 33,
     "metadata": {},
     "output_type": "execute_result"
    }
   ],
   "source": [
    "np.diag(np.array([1, 2, 3, 4]))"
   ]
  },
  {
   "cell_type": "markdown",
   "id": "238ce17c",
   "metadata": {},
   "source": [
    "### Creating an array using `np.arange()` method"
   ]
  },
  {
   "cell_type": "code",
   "execution_count": 34,
   "id": "417b4220",
   "metadata": {},
   "outputs": [
    {
     "data": {
      "text/plain": [
       "array([0, 1, 2, 3, 4])"
      ]
     },
     "execution_count": 34,
     "metadata": {},
     "output_type": "execute_result"
    }
   ],
   "source": [
    "# Passing stop value, start=0 (default)\n",
    "np.arange(5)"
   ]
  },
  {
   "cell_type": "code",
   "execution_count": 35,
   "id": "d9be2213",
   "metadata": {},
   "outputs": [
    {
     "data": {
      "text/plain": [
       "array([1, 2, 3, 4])"
      ]
     },
     "execution_count": 35,
     "metadata": {},
     "output_type": "execute_result"
    }
   ],
   "source": [
    "# Passing start & stop value\n",
    "np.arange(1, 5)"
   ]
  },
  {
   "cell_type": "code",
   "execution_count": 36,
   "id": "75502c6b",
   "metadata": {},
   "outputs": [
    {
     "data": {
      "text/plain": [
       "array([1, 3, 5, 7, 9])"
      ]
     },
     "execution_count": 36,
     "metadata": {},
     "output_type": "execute_result"
    }
   ],
   "source": [
    "# Passing start, stop & step value\n",
    "np.arange(1, 11, 2)"
   ]
  },
  {
   "cell_type": "code",
   "execution_count": 37,
   "id": "153840a7",
   "metadata": {},
   "outputs": [
    {
     "data": {
      "text/plain": [
       "array([ 1,  2,  3,  4,  5,  6,  7,  8,  9, 10])"
      ]
     },
     "execution_count": 37,
     "metadata": {},
     "output_type": "execute_result"
    }
   ],
   "source": [
    "a = np.arange(1, 11)\n",
    "a"
   ]
  },
  {
   "cell_type": "markdown",
   "id": "268d1ffd",
   "metadata": {},
   "source": [
    "### Reshaping an array using `.reshape()` method\n",
    "the shape should be equal to total number of values(elements) in the array"
   ]
  },
  {
   "cell_type": "code",
   "execution_count": 38,
   "id": "bb9c95e9",
   "metadata": {},
   "outputs": [
    {
     "data": {
      "text/plain": [
       "array([[ 1,  2,  3,  4,  5],\n",
       "       [ 6,  7,  8,  9, 10]])"
      ]
     },
     "execution_count": 38,
     "metadata": {},
     "output_type": "execute_result"
    }
   ],
   "source": [
    "b = a.reshape([2, 5])\n",
    "b"
   ]
  },
  {
   "cell_type": "code",
   "execution_count": 39,
   "id": "11b750a0",
   "metadata": {},
   "outputs": [
    {
     "data": {
      "text/plain": [
       "(2, 5)"
      ]
     },
     "execution_count": 39,
     "metadata": {},
     "output_type": "execute_result"
    }
   ],
   "source": [
    "b.shape"
   ]
  },
  {
   "cell_type": "code",
   "execution_count": 40,
   "id": "715fc01f",
   "metadata": {},
   "outputs": [
    {
     "data": {
      "text/plain": [
       "array([[ 1,  2],\n",
       "       [ 3,  4],\n",
       "       [ 5,  6],\n",
       "       [ 7,  8],\n",
       "       [ 9, 10]])"
      ]
     },
     "execution_count": 40,
     "metadata": {},
     "output_type": "execute_result"
    }
   ],
   "source": [
    "b.reshape([5, 2])"
   ]
  },
  {
   "cell_type": "code",
   "execution_count": 41,
   "id": "9cbf8abc",
   "metadata": {},
   "outputs": [
    {
     "data": {
      "text/plain": [
       "(10,)"
      ]
     },
     "execution_count": 41,
     "metadata": {},
     "output_type": "execute_result"
    }
   ],
   "source": [
    "a.shape"
   ]
  },
  {
   "cell_type": "code",
   "execution_count": 42,
   "id": "3e930851",
   "metadata": {},
   "outputs": [
    {
     "data": {
      "text/plain": [
       "array([[ 1,  2,  3,  4,  5,  6,  7,  8,  9, 10]])"
      ]
     },
     "execution_count": 42,
     "metadata": {},
     "output_type": "execute_result"
    }
   ],
   "source": [
    "c = a[np.newaxis, :]\n",
    "c"
   ]
  },
  {
   "cell_type": "code",
   "execution_count": 43,
   "id": "92ab1d95",
   "metadata": {},
   "outputs": [
    {
     "data": {
      "text/plain": [
       "(1, 10)"
      ]
     },
     "execution_count": 43,
     "metadata": {},
     "output_type": "execute_result"
    }
   ],
   "source": [
    "c.shape"
   ]
  },
  {
   "cell_type": "code",
   "execution_count": 44,
   "id": "bae27ef4",
   "metadata": {},
   "outputs": [
    {
     "data": {
      "text/plain": [
       "array([[ 1],\n",
       "       [ 2],\n",
       "       [ 3],\n",
       "       [ 4],\n",
       "       [ 5],\n",
       "       [ 6],\n",
       "       [ 7],\n",
       "       [ 8],\n",
       "       [ 9],\n",
       "       [10]])"
      ]
     },
     "execution_count": 44,
     "metadata": {},
     "output_type": "execute_result"
    }
   ],
   "source": [
    "c = a[: , np.newaxis]\n",
    "c"
   ]
  },
  {
   "cell_type": "code",
   "execution_count": 45,
   "id": "88f75133",
   "metadata": {},
   "outputs": [
    {
     "data": {
      "text/plain": [
       "(10, 1)"
      ]
     },
     "execution_count": 45,
     "metadata": {},
     "output_type": "execute_result"
    }
   ],
   "source": [
    "c.shape"
   ]
  },
  {
   "cell_type": "markdown",
   "id": "8be4686f",
   "metadata": {},
   "source": [
    "### Concatenating two arrays using `np.concatenate()` method "
   ]
  },
  {
   "cell_type": "code",
   "execution_count": 46,
   "id": "0614256c",
   "metadata": {},
   "outputs": [
    {
     "data": {
      "text/plain": [
       "(array([[1, 2],\n",
       "        [3, 4]]),\n",
       " array([[5, 6]]))"
      ]
     },
     "execution_count": 46,
     "metadata": {},
     "output_type": "execute_result"
    }
   ],
   "source": [
    "a = np.array([[1, 2], [3, 4]])\n",
    "b = np.array([[5, 6]])\n",
    "a, b"
   ]
  },
  {
   "cell_type": "code",
   "execution_count": 47,
   "id": "233e29f3",
   "metadata": {},
   "outputs": [
    {
     "data": {
      "text/plain": [
       "array([[1, 2],\n",
       "       [3, 4],\n",
       "       [5, 6]])"
      ]
     },
     "execution_count": 47,
     "metadata": {},
     "output_type": "execute_result"
    }
   ],
   "source": [
    "# Concatenate another row\n",
    "c = np.concatenate((a, b), axis=0)    # axis=0, default\n",
    "c"
   ]
  },
  {
   "cell_type": "code",
   "execution_count": 48,
   "id": "42aad820",
   "metadata": {},
   "outputs": [
    {
     "data": {
      "text/plain": [
       "array([[1, 2, 5],\n",
       "       [3, 4, 6]])"
      ]
     },
     "execution_count": 48,
     "metadata": {},
     "output_type": "execute_result"
    }
   ],
   "source": [
    "# Concatenate another column\n",
    "d = np.concatenate((a, b.T), axis=1) # axis=1\n",
    "d"
   ]
  },
  {
   "cell_type": "code",
   "execution_count": 49,
   "id": "cdf661d1",
   "metadata": {},
   "outputs": [
    {
     "data": {
      "text/plain": [
       "array([1, 2, 3, 4, 5, 6])"
      ]
     },
     "execution_count": 49,
     "metadata": {},
     "output_type": "execute_result"
    }
   ],
   "source": [
    "# If axis=None, concatenate after flattening them\n",
    "e = np.concatenate((a, b), axis=None)\n",
    "e"
   ]
  },
  {
   "cell_type": "markdown",
   "id": "2d29d146",
   "metadata": {},
   "source": [
    "#### Concatenating arrays using `np.hstack()` & `np.vstack()` methods\n",
    "`np.hstack()` concatenates the arrays horizontally.\n",
    "\n",
    "`np.vstack()` concatenates the arrays vertically."
   ]
  },
  {
   "cell_type": "code",
   "execution_count": 50,
   "id": "2c79bd1e",
   "metadata": {},
   "outputs": [],
   "source": [
    "arr1 = np.array([[1, 2], [3, 4]])\n",
    "arr2 = np.array([[5, 6], [7, 8]])"
   ]
  },
  {
   "cell_type": "code",
   "execution_count": 51,
   "id": "2a99febe",
   "metadata": {},
   "outputs": [
    {
     "data": {
      "text/plain": [
       "array([[1, 2, 5, 6],\n",
       "       [3, 4, 7, 8]])"
      ]
     },
     "execution_count": 51,
     "metadata": {},
     "output_type": "execute_result"
    }
   ],
   "source": [
    "arr3 = np.hstack((arr1, arr2))\n",
    "arr3"
   ]
  },
  {
   "cell_type": "code",
   "execution_count": 52,
   "id": "3e4b429a",
   "metadata": {},
   "outputs": [
    {
     "data": {
      "text/plain": [
       "array([[1, 2],\n",
       "       [3, 4],\n",
       "       [5, 6],\n",
       "       [7, 8]])"
      ]
     },
     "execution_count": 52,
     "metadata": {},
     "output_type": "execute_result"
    }
   ],
   "source": [
    "arr4 = np.vstack((arr1, arr2))\n",
    "arr4"
   ]
  },
  {
   "cell_type": "markdown",
   "id": "8a6339f8",
   "metadata": {},
   "source": [
    "### Broadcasting\n",
    "It is the ability to treat arrays of different shapes arithmetic operations."
   ]
  },
  {
   "cell_type": "code",
   "execution_count": 53,
   "id": "936e962f",
   "metadata": {},
   "outputs": [
    {
     "data": {
      "text/plain": [
       "array([[1, 2],\n",
       "       [3, 4],\n",
       "       [5, 6],\n",
       "       [7, 8]])"
      ]
     },
     "execution_count": 53,
     "metadata": {},
     "output_type": "execute_result"
    }
   ],
   "source": [
    "arr1 = np.array([[1, 2], [3, 4], [5, 6], [7, 8]])\n",
    "arr1"
   ]
  },
  {
   "cell_type": "code",
   "execution_count": 54,
   "id": "a3a03bb2",
   "metadata": {},
   "outputs": [
    {
     "data": {
      "text/plain": [
       "array([[ 2,  4],\n",
       "       [ 6,  8],\n",
       "       [10, 12],\n",
       "       [14, 16]])"
      ]
     },
     "execution_count": 54,
     "metadata": {},
     "output_type": "execute_result"
    }
   ],
   "source": [
    "arr1 * 2"
   ]
  },
  {
   "cell_type": "code",
   "execution_count": 55,
   "id": "96eea1be",
   "metadata": {},
   "outputs": [
    {
     "data": {
      "text/plain": [
       "array([[ 2,  4],\n",
       "       [ 6,  8],\n",
       "       [10, 12],\n",
       "       [14, 16]])"
      ]
     },
     "execution_count": 55,
     "metadata": {},
     "output_type": "execute_result"
    }
   ],
   "source": [
    "arr1 * np.array([2])"
   ]
  },
  {
   "cell_type": "code",
   "execution_count": 56,
   "id": "86a057de",
   "metadata": {},
   "outputs": [
    {
     "data": {
      "text/plain": [
       "array([[ 3,  4],\n",
       "       [ 9,  8],\n",
       "       [15, 12],\n",
       "       [21, 16]])"
      ]
     },
     "execution_count": 56,
     "metadata": {},
     "output_type": "execute_result"
    }
   ],
   "source": [
    "arr1 * np.array([3, 2])"
   ]
  },
  {
   "cell_type": "code",
   "execution_count": 57,
   "id": "7c27f0ed",
   "metadata": {},
   "outputs": [
    {
     "data": {
      "text/plain": [
       "array([[1, 2],\n",
       "       [3, 4],\n",
       "       [5, 6],\n",
       "       [7, 8]])"
      ]
     },
     "execution_count": 57,
     "metadata": {},
     "output_type": "execute_result"
    }
   ],
   "source": [
    "arr1"
   ]
  },
  {
   "cell_type": "code",
   "execution_count": 58,
   "id": "cd9c24f0",
   "metadata": {},
   "outputs": [
    {
     "data": {
      "text/plain": [
       "array([[-4, -3],\n",
       "       [-2, -1],\n",
       "       [ 0,  1],\n",
       "       [ 2,  3]])"
      ]
     },
     "execution_count": 58,
     "metadata": {},
     "output_type": "execute_result"
    }
   ],
   "source": [
    "arr1 - 5"
   ]
  },
  {
   "cell_type": "code",
   "execution_count": 59,
   "id": "b8635dd3",
   "metadata": {},
   "outputs": [
    {
     "data": {
      "text/plain": [
       "array([[ 3,  4],\n",
       "       [ 5,  6],\n",
       "       [ 7,  8],\n",
       "       [ 9, 10]])"
      ]
     },
     "execution_count": 59,
     "metadata": {},
     "output_type": "execute_result"
    }
   ],
   "source": [
    "arr1 + 2"
   ]
  },
  {
   "cell_type": "code",
   "execution_count": 60,
   "id": "8fae6b85",
   "metadata": {},
   "outputs": [
    {
     "data": {
      "text/plain": [
       "array([[9, 9],\n",
       "       [9, 9],\n",
       "       [9, 9],\n",
       "       [9, 9]])"
      ]
     },
     "execution_count": 60,
     "metadata": {},
     "output_type": "execute_result"
    }
   ],
   "source": [
    "arr1 + np.array([[8, 7], [6, 5], [4, 3], [2, 1]])"
   ]
  },
  {
   "cell_type": "code",
   "execution_count": 61,
   "id": "269b091a",
   "metadata": {},
   "outputs": [
    {
     "data": {
      "text/plain": [
       "array([[1, 2],\n",
       "       [3, 4]])"
      ]
     },
     "execution_count": 61,
     "metadata": {},
     "output_type": "execute_result"
    }
   ],
   "source": [
    "a"
   ]
  },
  {
   "cell_type": "markdown",
   "id": "fa740494",
   "metadata": {},
   "source": [
    "### Use `.sum()` to calculate sum of all the values in an array"
   ]
  },
  {
   "cell_type": "code",
   "execution_count": 62,
   "id": "482860d6",
   "metadata": {},
   "outputs": [
    {
     "data": {
      "text/plain": [
       "10"
      ]
     },
     "execution_count": 62,
     "metadata": {},
     "output_type": "execute_result"
    }
   ],
   "source": [
    "a.sum()"
   ]
  },
  {
   "cell_type": "code",
   "execution_count": 63,
   "id": "e9899e8d",
   "metadata": {},
   "outputs": [
    {
     "data": {
      "text/plain": [
       "(array([4, 6]), array([3, 7]))"
      ]
     },
     "execution_count": 63,
     "metadata": {},
     "output_type": "execute_result"
    }
   ],
   "source": [
    "# Rows sum, Column sum\n",
    "a.sum(0), a.sum(axis=1)"
   ]
  },
  {
   "cell_type": "markdown",
   "id": "739ed7d5",
   "metadata": {},
   "source": [
    "### Use `.mean()` to find mean (average) of the array"
   ]
  },
  {
   "cell_type": "code",
   "execution_count": 64,
   "id": "d5ccc277",
   "metadata": {},
   "outputs": [
    {
     "data": {
      "text/plain": [
       "2.5"
      ]
     },
     "execution_count": 64,
     "metadata": {},
     "output_type": "execute_result"
    }
   ],
   "source": [
    "a.mean()"
   ]
  },
  {
   "cell_type": "code",
   "execution_count": 65,
   "id": "980cab1f",
   "metadata": {},
   "outputs": [
    {
     "data": {
      "text/plain": [
       "(array([2., 3.]), array([1.5, 3.5]))"
      ]
     },
     "execution_count": 65,
     "metadata": {},
     "output_type": "execute_result"
    }
   ],
   "source": [
    "# Rows mean, Column mean\n",
    "a.mean(0), a.mean(axis=1)"
   ]
  },
  {
   "cell_type": "markdown",
   "id": "ae8497d4",
   "metadata": {},
   "source": [
    "#### There are several more methods, we can use them as an instance methods / array methods or numpy methods."
   ]
  },
  {
   "cell_type": "markdown",
   "id": "7f471690",
   "metadata": {},
   "source": [
    "### Datatypes"
   ]
  },
  {
   "cell_type": "code",
   "execution_count": 66,
   "id": "ec3e68ad",
   "metadata": {},
   "outputs": [
    {
     "data": {
      "text/plain": [
       "dtype('int32')"
      ]
     },
     "execution_count": 66,
     "metadata": {},
     "output_type": "execute_result"
    }
   ],
   "source": [
    "# Int32 datatype by default for integers in windows\n",
    "np.array([1, 2]).dtype"
   ]
  },
  {
   "cell_type": "code",
   "execution_count": 67,
   "id": "a5471074",
   "metadata": {},
   "outputs": [
    {
     "data": {
      "text/plain": [
       "dtype('float64')"
      ]
     },
     "execution_count": 67,
     "metadata": {},
     "output_type": "execute_result"
    }
   ],
   "source": [
    "# float32 datatype by default for floats in windows\n",
    "np.array([1.141, 2.354]).dtype"
   ]
  },
  {
   "cell_type": "code",
   "execution_count": 68,
   "id": "c9aaeec4",
   "metadata": {},
   "outputs": [
    {
     "data": {
      "text/plain": [
       "(array([1, 2, 3, 4, 5, 6], dtype=int64), dtype('int64'))"
      ]
     },
     "execution_count": 68,
     "metadata": {},
     "output_type": "execute_result"
    }
   ],
   "source": [
    "# We can also specify the datatype of an array\n",
    "x = np.array([1, 2, 3, 4, 5.0, 6.7], dtype=np.int64)\n",
    "x, x.dtype"
   ]
  },
  {
   "cell_type": "code",
   "execution_count": 69,
   "id": "be99bfc7",
   "metadata": {},
   "outputs": [
    {
     "data": {
      "text/plain": [
       "(array([1. , 2. , 3. , 4. , 5. , 6.7]), dtype('float64'))"
      ]
     },
     "execution_count": 69,
     "metadata": {},
     "output_type": "execute_result"
    }
   ],
   "source": [
    "y = np.array([1, 2, 3, 4, 5.0, 6.7], dtype=np.float64)\n",
    "y, y.dtype"
   ]
  },
  {
   "cell_type": "markdown",
   "id": "db37577e",
   "metadata": {},
   "source": [
    "### Copying an array\n",
    "By default, the arrays are copied by reference.\n",
    "For actual copy, we need to use **`.copy()`** method."
   ]
  },
  {
   "cell_type": "code",
   "execution_count": 70,
   "id": "10d8f17e",
   "metadata": {},
   "outputs": [
    {
     "data": {
      "text/plain": [
       "array([[1, 2],\n",
       "       [3, 4]])"
      ]
     },
     "execution_count": 70,
     "metadata": {},
     "output_type": "execute_result"
    }
   ],
   "source": [
    "a"
   ]
  },
  {
   "cell_type": "code",
   "execution_count": 71,
   "id": "912dcd62",
   "metadata": {},
   "outputs": [
    {
     "data": {
      "text/plain": [
       "(array([[1, 2],\n",
       "        [3, 4]]),\n",
       " array([[1, 2],\n",
       "        [3, 4]]))"
      ]
     },
     "execution_count": 71,
     "metadata": {},
     "output_type": "execute_result"
    }
   ],
   "source": [
    "b = a\n",
    "c = a.copy()\n",
    "b, c"
   ]
  },
  {
   "cell_type": "code",
   "execution_count": 72,
   "id": "3ddf40ab",
   "metadata": {},
   "outputs": [
    {
     "data": {
      "text/plain": [
       "(array([[1, 5],\n",
       "        [3, 4]]),\n",
       " array([[1, 5],\n",
       "        [3, 4]]),\n",
       " array([[1, 2],\n",
       "        [3, 4]]))"
      ]
     },
     "execution_count": 72,
     "metadata": {},
     "output_type": "execute_result"
    }
   ],
   "source": [
    "a[0][1] = 5\n",
    "a, b, c"
   ]
  },
  {
   "cell_type": "markdown",
   "id": "4c5a28ca",
   "metadata": {},
   "source": [
    "### Creating arrays (generating arrays)\n",
    "1. Conversion from Python datastructure\n",
    "2. [Using numpy array creation functions like arange, zeros 🔗](http://localhost:8888/notebooks/numpy-tutorial%20(patrick%20loeber).ipynb#Creating-an-array-using-np.arange()-method) \n",
    "3. [Replicating, concatenating & modifying existed arrays 🔗](http://localhost:8888/notebooks/numpy-tutorial%20(patrick%20loeber).ipynb#Concatenating-two-arrays-using-np.concatenate()-method)\n",
    "4. Reading arrays from custom file formats like CSV\n",
    "5. Using special library functions like random, pandas, scipy, OpenCV"
   ]
  },
  {
   "cell_type": "code",
   "execution_count": 73,
   "id": "47f51350",
   "metadata": {},
   "outputs": [
    {
     "data": {
      "text/plain": [
       "array([1, 2, 3])"
      ]
     },
     "execution_count": 73,
     "metadata": {},
     "output_type": "execute_result"
    }
   ],
   "source": [
    "# 1. Conversion from Python datastructure\n",
    "a_tuple = (1, 2, 3)\n",
    "np.array(a_tuple)"
   ]
  },
  {
   "cell_type": "code",
   "execution_count": 74,
   "id": "67aa14dd",
   "metadata": {},
   "outputs": [
    {
     "data": {
      "text/plain": [
       "array([[0., 0., 0.],\n",
       "       [0., 0., 0.]])"
      ]
     },
     "execution_count": 74,
     "metadata": {},
     "output_type": "execute_result"
    }
   ],
   "source": [
    "# 2. Using zeroes\n",
    "np.zeros((2, 3))    # similarly, np.ones()"
   ]
  },
  {
   "cell_type": "code",
   "execution_count": 75,
   "id": "cc734444",
   "metadata": {},
   "outputs": [
    {
     "data": {
      "text/plain": [
       "array([[5, 5],\n",
       "       [5, 5],\n",
       "       [5, 5],\n",
       "       [5, 5]])"
      ]
     },
     "execution_count": 75,
     "metadata": {},
     "output_type": "execute_result"
    }
   ],
   "source": [
    "np.full((4, 2), 5)"
   ]
  },
  {
   "cell_type": "code",
   "execution_count": 76,
   "id": "498298e8",
   "metadata": {},
   "outputs": [
    {
     "data": {
      "text/plain": [
       "array([[1, 5],\n",
       "       [1, 5],\n",
       "       [1, 5],\n",
       "       [1, 5]])"
      ]
     },
     "execution_count": 76,
     "metadata": {},
     "output_type": "execute_result"
    }
   ],
   "source": [
    "np.full((4, 2), [1, 5])"
   ]
  },
  {
   "cell_type": "code",
   "execution_count": 77,
   "id": "98a4cb98",
   "metadata": {},
   "outputs": [
    {
     "data": {
      "text/plain": [
       "array([[1., 0., 0., 0., 0.],\n",
       "       [0., 1., 0., 0., 0.],\n",
       "       [0., 0., 1., 0., 0.],\n",
       "       [0., 0., 0., 1., 0.],\n",
       "       [0., 0., 0., 0., 1.]])"
      ]
     },
     "execution_count": 77,
     "metadata": {},
     "output_type": "execute_result"
    }
   ],
   "source": [
    "# Identity matrix\n",
    "np.eye(5)"
   ]
  },
  {
   "cell_type": "code",
   "execution_count": 78,
   "id": "4a35851e",
   "metadata": {},
   "outputs": [
    {
     "data": {
      "text/plain": [
       "array([[1., 0., 0., 0., 0.],\n",
       "       [0., 1., 0., 0., 0.],\n",
       "       [0., 0., 1., 0., 0.]])"
      ]
     },
     "execution_count": 78,
     "metadata": {},
     "output_type": "execute_result"
    }
   ],
   "source": [
    "np.eye(3, 5)"
   ]
  },
  {
   "cell_type": "code",
   "execution_count": 79,
   "id": "ec9c0b69",
   "metadata": {},
   "outputs": [
    {
     "data": {
      "text/plain": [
       "array([ 1.,  2.,  3.,  4.,  5.,  6.,  7.,  8.,  9., 10., 11., 12., 13.,\n",
       "       14., 15., 16., 17., 18., 19., 20., 21., 22., 23., 24., 25., 26.,\n",
       "       27., 28., 29., 30., 31., 32., 33., 34., 35., 36., 37., 38., 39.,\n",
       "       40., 41., 42., 43., 44., 45., 46., 47., 48., 49., 50.])"
      ]
     },
     "execution_count": 79,
     "metadata": {},
     "output_type": "execute_result"
    }
   ],
   "source": [
    "# linspace provide number of samples within a given range\n",
    "# Start & stop value as provided params,\n",
    "# optionally, nums=50 to generate\n",
    "np.linspace(1, 50)"
   ]
  },
  {
   "cell_type": "code",
   "execution_count": 80,
   "id": "6a2e00a5",
   "metadata": {},
   "outputs": [
    {
     "data": {
      "text/plain": [
       "array([ 1.  ,  3.25,  5.5 ,  7.75, 10.  ])"
      ]
     },
     "execution_count": 80,
     "metadata": {},
     "output_type": "execute_result"
    }
   ],
   "source": [
    "np.linspace(1, 10, 5)"
   ]
  },
  {
   "cell_type": "code",
   "execution_count": 81,
   "id": "94461d6e",
   "metadata": {},
   "outputs": [
    {
     "data": {
      "text/plain": [
       "array([[0.70553633, 0.303737  , 0.45628788],\n",
       "       [0.69094429, 0.12891104, 0.65341291]])"
      ]
     },
     "execution_count": 81,
     "metadata": {},
     "output_type": "execute_result"
    }
   ],
   "source": [
    "# Generate random float numbers array from 0 to 1 of provided shape\n",
    "np.random.random((2, 3))"
   ]
  },
  {
   "cell_type": "markdown",
   "id": "ff59124b",
   "metadata": {},
   "source": [
    "#### 4. Reading arrays from custom file formats like CSV"
   ]
  },
  {
   "cell_type": "code",
   "execution_count": 82,
   "id": "25691e3c",
   "metadata": {},
   "outputs": [
    {
     "data": {
      "text/plain": [
       "(100, 28)"
      ]
     },
     "execution_count": 82,
     "metadata": {},
     "output_type": "execute_result"
    }
   ],
   "source": [
    "data = np.genfromtxt(\"./data.csv\", delimiter=\",\", dtype=np.float32)\n",
    "data.shape"
   ]
  },
  {
   "cell_type": "markdown",
   "id": "901b603f",
   "metadata": {},
   "source": [
    "#### 5. Using special library functions like random"
   ]
  },
  {
   "cell_type": "code",
   "execution_count": 83,
   "id": "752b59fb",
   "metadata": {},
   "outputs": [
    {
     "data": {
      "text/plain": [
       "array([[ 5,  1,  5],\n",
       "       [ 7,  8,  3],\n",
       "       [10,  7,  6]])"
      ]
     },
     "execution_count": 83,
     "metadata": {},
     "output_type": "execute_result"
    }
   ],
   "source": [
    "# randint takes low, high, size\n",
    "# if only one value is provided, then low=0\n",
    "np.random.randint(low=1, high=11, size=(3, 3))"
   ]
  },
  {
   "cell_type": "code",
   "execution_count": 84,
   "id": "6ab12f83",
   "metadata": {},
   "outputs": [
    {
     "data": {
      "text/plain": [
       "array([[4, 4, 1],\n",
       "       [4, 5, 4],\n",
       "       [5, 5, 5]])"
      ]
     },
     "execution_count": 84,
     "metadata": {},
     "output_type": "execute_result"
    }
   ],
   "source": [
    "np.random.choice([5, 4, 1], size=(3, 3))"
   ]
  },
  {
   "cell_type": "markdown",
   "id": "1cb24130",
   "metadata": {},
   "source": [
    "### To Split an array, we use `np.hsplit()` & `np.vsplit()`\n",
    "\n",
    "`np.hsplit()` is used to split the arrays horizontally, columns wise.\n",
    "\n",
    "`np.vsplit()`"
   ]
  },
  {
   "cell_type": "code",
   "execution_count": 86,
   "id": "bc57abfe",
   "metadata": {},
   "outputs": [
    {
     "data": {
      "text/plain": [
       "array([[ 0,  1,  2,  3],\n",
       "       [ 4,  5,  6,  7],\n",
       "       [ 8,  9, 10, 11],\n",
       "       [12, 13, 14, 15]])"
      ]
     },
     "execution_count": 86,
     "metadata": {},
     "output_type": "execute_result"
    }
   ],
   "source": [
    "arr = np.arange(16).reshape(4, 4)\n",
    "arr"
   ]
  },
  {
   "cell_type": "code",
   "execution_count": 91,
   "id": "7aa2712a",
   "metadata": {},
   "outputs": [
    {
     "data": {
      "text/plain": [
       "[array([[ 0,  1],\n",
       "        [ 4,  5],\n",
       "        [ 8,  9],\n",
       "        [12, 13]]),\n",
       " array([[ 2,  3],\n",
       "        [ 6,  7],\n",
       "        [10, 11],\n",
       "        [14, 15]])]"
      ]
     },
     "execution_count": 91,
     "metadata": {},
     "output_type": "execute_result"
    }
   ],
   "source": [
    "# Passing the array with passing no. of splits we want\n",
    "np.hsplit(arr, 2)"
   ]
  },
  {
   "cell_type": "code",
   "execution_count": 93,
   "id": "8e6bb731",
   "metadata": {},
   "outputs": [
    {
     "data": {
      "text/plain": [
       "[array([[ 0],\n",
       "        [ 4],\n",
       "        [ 8],\n",
       "        [12]]),\n",
       " array([[ 1,  2],\n",
       "        [ 5,  6],\n",
       "        [ 9, 10],\n",
       "        [13, 14]]),\n",
       " array([[ 3],\n",
       "        [ 7],\n",
       "        [11],\n",
       "        [15]])]"
      ]
     },
     "execution_count": 93,
     "metadata": {},
     "output_type": "execute_result"
    }
   ],
   "source": [
    "# Passing the array with the indices where the split needed\n",
    "np.hsplit(arr, [1,3])"
   ]
  },
  {
   "cell_type": "code",
   "execution_count": 95,
   "id": "0b86f37d",
   "metadata": {},
   "outputs": [
    {
     "data": {
      "text/plain": [
       "[array([[0, 1, 2, 3],\n",
       "        [4, 5, 6, 7]]),\n",
       " array([[ 8,  9, 10, 11],\n",
       "        [12, 13, 14, 15]])]"
      ]
     },
     "execution_count": 95,
     "metadata": {},
     "output_type": "execute_result"
    }
   ],
   "source": [
    "np.vsplit(arr, 2)"
   ]
  },
  {
   "cell_type": "code",
   "execution_count": 97,
   "id": "096bcd8c",
   "metadata": {},
   "outputs": [
    {
     "data": {
      "text/plain": [
       "[array([[0, 1, 2, 3]]),\n",
       " array([[ 4,  5,  6,  7],\n",
       "        [ 8,  9, 10, 11]]),\n",
       " array([[12, 13, 14, 15]]),\n",
       " array([], shape=(0, 4), dtype=int32)]"
      ]
     },
     "execution_count": 97,
     "metadata": {},
     "output_type": "execute_result"
    }
   ],
   "source": [
    "# if the provided index is not there,\n",
    "# it will create an empty array of same shape\n",
    "np.vsplit(arr, [1, 3, 8])"
   ]
  },
  {
   "attachments": {
    "image.png": {
     "image/png": "[encoded data removed]"
    }
   },
   "cell_type": "markdown",
   "id": "b37b4864",
   "metadata": {},
   "source": [
    "### `np.nditer()` an interator to iterate over arrays efficiently\n",
    "**Order:**\n",
    "1. C order to iterate over each row and each column\n",
    "2. F (fortan) order to iterate over each columna and each row\n",
    "![C and Fortan order](attachment:image.png)"
   ]
  },
  {
   "cell_type": "code",
   "execution_count": 103,
   "id": "dcda9e4e",
   "metadata": {},
   "outputs": [
    {
     "data": {
      "text/plain": [
       "array([[1, 5],\n",
       "       [3, 4]])"
      ]
     },
     "execution_count": 103,
     "metadata": {},
     "output_type": "execute_result"
    }
   ],
   "source": [
    "a"
   ]
  },
  {
   "cell_type": "code",
   "execution_count": 101,
   "id": "4c988723",
   "metadata": {},
   "outputs": [
    {
     "name": "stdout",
     "output_type": "stream",
     "text": [
      "1\n",
      "5\n",
      "3\n",
      "4\n"
     ]
    }
   ],
   "source": [
    "for i in np.nditer(a):    # default order=\"C\"\n",
    "    print(i)"
   ]
  },
  {
   "cell_type": "code",
   "execution_count": 102,
   "id": "676921fc",
   "metadata": {},
   "outputs": [
    {
     "name": "stdout",
     "output_type": "stream",
     "text": [
      "1\n",
      "3\n",
      "5\n",
      "4\n"
     ]
    }
   ],
   "source": [
    "for i in np.nditer(a, order=\"F\"):\n",
    "    print(i)"
   ]
  },
  {
   "cell_type": "code",
   "execution_count": 104,
   "id": "ae9b21ef",
   "metadata": {},
   "outputs": [
    {
     "name": "stdout",
     "output_type": "stream",
     "text": [
      "[1 3]\n",
      "[5 4]\n"
     ]
    }
   ],
   "source": [
    "# Use external loop flag to loop only once.\n",
    "for i in np.nditer(a, order=\"F\", flags=[\"external_loop\"]):\n",
    "    print(i)"
   ]
  },
  {
   "cell_type": "code",
   "execution_count": 110,
   "id": "e9821506",
   "metadata": {},
   "outputs": [
    {
     "data": {
      "text/plain": [
       "array([[[ 1,  2],\n",
       "        [ 3,  4]],\n",
       "\n",
       "       [[ 5,  6],\n",
       "        [ 7,  8]],\n",
       "\n",
       "       [[ 9, 10],\n",
       "        [11, 12]],\n",
       "\n",
       "       [[13, 14],\n",
       "        [15, 16]]])"
      ]
     },
     "execution_count": 110,
     "metadata": {},
     "output_type": "execute_result"
    }
   ],
   "source": [
    "x = np.array([np.arange(1, 5).reshape(2, 2), \n",
    "              np.arange(5, 9).reshape(2, 2),\n",
    "              np.arange(9, 13).reshape(2,2),\n",
    "              np.arange(13, 17).reshape(2, 2)])\n",
    "x"
   ]
  },
  {
   "cell_type": "code",
   "execution_count": 115,
   "id": "3c0143d4",
   "metadata": {},
   "outputs": [
    {
     "name": "stdout",
     "output_type": "stream",
     "text": [
      "[ 1  5  9 13]\n",
      "[ 3  7 11 15]\n",
      "[ 2  6 10 14]\n",
      "[ 4  8 12 16]\n"
     ]
    }
   ],
   "source": [
    "# Use external_loop flag to make 1 dimensional array values\n",
    "for i in np.nditer(x, order=\"F\", flags=[\"external_loop\"]):\n",
    "    print(i)"
   ]
  },
  {
   "cell_type": "code",
   "execution_count": 131,
   "id": "c3b40a87",
   "metadata": {},
   "outputs": [
    {
     "data": {
      "text/plain": [
       "array([[1, 5],\n",
       "       [3, 4]])"
      ]
     },
     "execution_count": 131,
     "metadata": {},
     "output_type": "execute_result"
    }
   ],
   "source": [
    "a = np.array([[1, 5], [3, 4]])\n",
    "a"
   ]
  },
  {
   "cell_type": "code",
   "execution_count": 132,
   "id": "8dfd4b14",
   "metadata": {},
   "outputs": [
    {
     "name": "stdout",
     "output_type": "stream",
     "text": [
      "1\n",
      "25\n",
      "9\n",
      "16\n"
     ]
    },
    {
     "data": {
      "text/plain": [
       "array([[ 1, 25],\n",
       "       [ 9, 16]])"
      ]
     },
     "execution_count": 132,
     "metadata": {},
     "output_type": "execute_result"
    }
   ],
   "source": [
    "# makes the value readable and writeable both\n",
    "for x in np.nditer(a, op_flags=[\"readwrite\"]):\n",
    "    x[...] = x*x\n",
    "    print(x)\n",
    "a"
   ]
  },
  {
   "cell_type": "code",
   "execution_count": 136,
   "id": "6196eddb",
   "metadata": {},
   "outputs": [
    {
     "data": {
      "text/plain": [
       "array([[10, 20],\n",
       "       [30, 40]])"
      ]
     },
     "execution_count": 136,
     "metadata": {},
     "output_type": "execute_result"
    }
   ],
   "source": [
    "b = np.arange(10, 50, 10).reshape(2,2)\n",
    "b"
   ]
  },
  {
   "cell_type": "code",
   "execution_count": 137,
   "id": "75affbe3",
   "metadata": {},
   "outputs": [
    {
     "name": "stdout",
     "output_type": "stream",
     "text": [
      "1 10\n",
      "25 20\n",
      "9 30\n",
      "16 40\n"
     ]
    }
   ],
   "source": [
    "for x, y in np.nditer([a, b]):\n",
    "    print(x, y)"
   ]
  }
 ],
 "metadata": {
  "kernelspec": {
   "display_name": "Python 3 (ipykernel)",
   "language": "python",
   "name": "python3"
  },
  "language_info": {
   "codemirror_mode": {
    "name": "ipython",
    "version": 3
   },
   "file_extension": ".py",
   "mimetype": "text/x-python",
   "name": "python",
   "nbconvert_exporter": "python",
   "pygments_lexer": "ipython3",
   "version": "3.10.2"
  }
 },
 "nbformat": 4,
 "nbformat_minor": 5
}

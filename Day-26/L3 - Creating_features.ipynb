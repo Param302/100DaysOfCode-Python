{
 "cells": [
  {
   "cell_type": "markdown",
   "id": "98864a93",
   "metadata": {
    "papermill": {
     "duration": 0.008079,
     "end_time": "2022-06-29T18:58:34.892204",
     "exception": false,
     "start_time": "2022-06-29T18:58:34.884125",
     "status": "completed"
    },
    "tags": []
   },
   "source": [
    "**This notebook is an exercise in the [Feature Engineering](https://www.kaggle.com/learn/feature-engineering) course.  You can reference the tutorial at [this link](https://www.kaggle.com/ryanholbrook/creating-features).**\n",
    "\n",
    "---\n"
   ]
  },
  {
   "cell_type": "markdown",
   "id": "070a799a",
   "metadata": {
    "papermill": {
     "duration": 0.006365,
     "end_time": "2022-06-29T18:58:34.905437",
     "exception": false,
     "start_time": "2022-06-29T18:58:34.899072",
     "status": "completed"
    },
    "tags": []
   },
   "source": [
    "# Introduction #\n",
    "\n",
    "In this exercise you'll start developing the features you identified in Exercise 2 as having the most potential. As you work through this exercise, you might take a moment to look at the data documentation again and consider whether the features we're creating make sense from a real-world perspective, and whether there are any useful combinations that stand out to you.\n",
    "\n",
    "Run this cell to set everything up!"
   ]
  },
  {
   "cell_type": "code",
   "execution_count": 1,
   "id": "1fda7778",
   "metadata": {
    "execution": {
     "iopub.execute_input": "2022-06-29T18:58:34.922945Z",
     "iopub.status.busy": "2022-06-29T18:58:34.922168Z",
     "iopub.status.idle": "2022-06-29T18:58:36.632734Z",
     "shell.execute_reply": "2022-06-29T18:58:36.631655Z"
    },
    "papermill": {
     "duration": 1.723558,
     "end_time": "2022-06-29T18:58:36.636014",
     "exception": false,
     "start_time": "2022-06-29T18:58:34.912456",
     "status": "completed"
    },
    "tags": []
   },
   "outputs": [],
   "source": [
    "# Setup feedback system\n",
    "from learntools.core import binder\n",
    "binder.bind(globals())\n",
    "from learntools.feature_engineering_new.ex3 import *\n",
    "\n",
    "import numpy as np\n",
    "import pandas as pd\n",
    "from sklearn.model_selection import cross_val_score\n",
    "from xgboost import XGBRegressor\n",
    "\n",
    "\n",
    "def score_dataset(X, y, model=XGBRegressor()):\n",
    "    # Label encoding for categoricals\n",
    "    for colname in X.select_dtypes([\"category\", \"object\"]):\n",
    "        X[colname], _ = X[colname].factorize()\n",
    "    # Metric for Housing competition is RMSLE (Root Mean Squared Log Error)\n",
    "    score = cross_val_score(\n",
    "        model, X, y, cv=5, scoring=\"neg_mean_squared_log_error\",\n",
    "    )\n",
    "    score = -1 * score.mean()\n",
    "    score = np.sqrt(score)\n",
    "    return score\n",
    "\n",
    "\n",
    "# Prepare data\n",
    "df = pd.read_csv(\"../input/fe-course-data/ames.csv\")\n",
    "X = df.copy()\n",
    "y = X.pop(\"SalePrice\")"
   ]
  },
  {
   "cell_type": "markdown",
   "id": "59f92c32",
   "metadata": {
    "papermill": {
     "duration": 0.006236,
     "end_time": "2022-06-29T18:58:36.648790",
     "exception": false,
     "start_time": "2022-06-29T18:58:36.642554",
     "status": "completed"
    },
    "tags": []
   },
   "source": [
    "-------------------------------------------------------------------------------\n",
    "\n",
    "Let's start with a few mathematical combinations. We'll focus on features describing areas -- having the same units (square-feet) makes it easy to combine them in sensible ways. Since we're using XGBoost (a tree-based model), we'll focus on ratios and sums.\n",
    "\n",
    "# 1) Create Mathematical Transforms\n",
    "\n",
    "Create the following features:\n",
    "\n",
    "- `LivLotRatio`: the ratio of `GrLivArea` to `LotArea`\n",
    "- `Spaciousness`: the sum of `FirstFlrSF` and `SecondFlrSF` divided by `TotRmsAbvGrd`\n",
    "- `TotalOutsideSF`: the sum of `WoodDeckSF`, `OpenPorchSF`, `EnclosedPorch`, `Threeseasonporch`, and `ScreenPorch`"
   ]
  },
  {
   "cell_type": "code",
   "execution_count": 2,
   "id": "0a4caf69",
   "metadata": {
    "execution": {
     "iopub.execute_input": "2022-06-29T18:58:36.664985Z",
     "iopub.status.busy": "2022-06-29T18:58:36.663667Z",
     "iopub.status.idle": "2022-06-29T18:58:36.703590Z",
     "shell.execute_reply": "2022-06-29T18:58:36.702213Z"
    },
    "lines_to_next_cell": 0,
    "papermill": {
     "duration": 0.05215,
     "end_time": "2022-06-29T18:58:36.707509",
     "exception": false,
     "start_time": "2022-06-29T18:58:36.655359",
     "status": "completed"
    },
    "tags": []
   },
   "outputs": [
    {
     "data": {
      "application/javascript": [
       "parent.postMessage({\"jupyterEvent\": \"custom.exercise_interaction\", \"data\": {\"outcomeType\": 1, \"valueTowardsCompletion\": 0.2, \"interactionType\": 1, \"questionType\": 2, \"questionId\": \"1_Q1\", \"learnToolsVersion\": \"0.3.4\", \"failureMessage\": \"\", \"exceptionClass\": \"\", \"trace\": \"\"}}, \"*\")"
      ],
      "text/plain": [
       "<IPython.core.display.Javascript object>"
      ]
     },
     "metadata": {},
     "output_type": "display_data"
    },
    {
     "data": {
      "text/markdown": [
       "<span style=\"color:#33cc33\">Correct</span>"
      ],
      "text/plain": [
       "Correct"
      ]
     },
     "metadata": {},
     "output_type": "display_data"
    }
   ],
   "source": [
    "# YOUR CODE HERE\n",
    "X_1 = pd.DataFrame()  # dataframe to hold new features\n",
    "\n",
    "X_1[\"LivLotRatio\"] = X[\"GrLivArea\"] / X[\"LotArea\"]\n",
    "X_1[\"Spaciousness\"] = (X[\"FirstFlrSF\"] + X[\"SecondFlrSF\"]) / X.TotRmsAbvGrd\n",
    "X_1[\"TotalOutsideSF\"] = X[[\"WoodDeckSF\", \"OpenPorchSF\", \"EnclosedPorch\", \"Threeseasonporch\", \"ScreenPorch\"]].sum(axis=1)\n",
    "\n",
    "\n",
    "# Check your answer\n",
    "q_1.check()"
   ]
  },
  {
   "cell_type": "code",
   "execution_count": 3,
   "id": "0f4ee5ac",
   "metadata": {
    "execution": {
     "iopub.execute_input": "2022-06-29T18:58:36.725528Z",
     "iopub.status.busy": "2022-06-29T18:58:36.724488Z",
     "iopub.status.idle": "2022-06-29T18:58:36.730244Z",
     "shell.execute_reply": "2022-06-29T18:58:36.729025Z"
    },
    "lines_to_next_cell": 0,
    "papermill": {
     "duration": 0.017895,
     "end_time": "2022-06-29T18:58:36.733126",
     "exception": false,
     "start_time": "2022-06-29T18:58:36.715231",
     "status": "completed"
    },
    "tags": []
   },
   "outputs": [],
   "source": [
    "# Lines below will give you a hint or solution code\n",
    "#q_1.hint()\n",
    "#q_1.solution()"
   ]
  },
  {
   "cell_type": "markdown",
   "id": "f0465a57",
   "metadata": {
    "papermill": {
     "duration": 0.006995,
     "end_time": "2022-06-29T18:58:36.747156",
     "exception": false,
     "start_time": "2022-06-29T18:58:36.740161",
     "status": "completed"
    },
    "tags": []
   },
   "source": [
    "-------------------------------------------------------------------------------\n",
    "\n",
    "If you've discovered an interaction effect between a numeric feature and a categorical feature, you might want to model it explicitly using a one-hot encoding, like so:\n",
    "\n",
    "```\n",
    "# One-hot encode Categorical feature, adding a column prefix \"Cat\"\n",
    "X_new = pd.get_dummies(df.Categorical, prefix=\"Cat\")\n",
    "\n",
    "# Multiply row-by-row\n",
    "X_new = X_new.mul(df.Continuous, axis=0)\n",
    "\n",
    "# Join the new features to the feature set\n",
    "X = X.join(X_new)\n",
    "```\n",
    "\n",
    "# 2) Interaction with a Categorical\n",
    "\n",
    "We discovered an interaction between `BldgType` and `GrLivArea` in Exercise 2. Now create their interaction features."
   ]
  },
  {
   "cell_type": "code",
   "execution_count": 4,
   "id": "23303775",
   "metadata": {
    "execution": {
     "iopub.execute_input": "2022-06-29T18:58:36.762778Z",
     "iopub.status.busy": "2022-06-29T18:58:36.762303Z",
     "iopub.status.idle": "2022-06-29T18:58:36.781484Z",
     "shell.execute_reply": "2022-06-29T18:58:36.779920Z"
    },
    "lines_to_next_cell": 0,
    "papermill": {
     "duration": 0.030305,
     "end_time": "2022-06-29T18:58:36.784303",
     "exception": false,
     "start_time": "2022-06-29T18:58:36.753998",
     "status": "completed"
    },
    "tags": []
   },
   "outputs": [
    {
     "data": {
      "application/javascript": [
       "parent.postMessage({\"jupyterEvent\": \"custom.exercise_interaction\", \"data\": {\"outcomeType\": 1, \"valueTowardsCompletion\": 0.2, \"interactionType\": 1, \"questionType\": 2, \"questionId\": \"2_Q2\", \"learnToolsVersion\": \"0.3.4\", \"failureMessage\": \"\", \"exceptionClass\": \"\", \"trace\": \"\"}}, \"*\")"
      ],
      "text/plain": [
       "<IPython.core.display.Javascript object>"
      ]
     },
     "metadata": {},
     "output_type": "display_data"
    },
    {
     "data": {
      "text/markdown": [
       "<span style=\"color:#33cc33\">Correct</span>"
      ],
      "text/plain": [
       "Correct"
      ]
     },
     "metadata": {},
     "output_type": "display_data"
    }
   ],
   "source": [
    "# YOUR CODE HERE\n",
    "# One-hot encode BldgType. Use `prefix=\"Bldg\"` in `get_dummies`\n",
    "X_2 = pd.get_dummies(X[\"BldgType\"], prefix=\"Bldg\")\n",
    "# Multiply\n",
    "X_2 = X_2.mul(X[\"GrLivArea\"], axis=0)\n",
    "\n",
    "# Check your answer\n",
    "q_2.check()"
   ]
  },
  {
   "cell_type": "code",
   "execution_count": 5,
   "id": "05c9a92c",
   "metadata": {
    "execution": {
     "iopub.execute_input": "2022-06-29T18:58:36.800962Z",
     "iopub.status.busy": "2022-06-29T18:58:36.800448Z",
     "iopub.status.idle": "2022-06-29T18:58:36.805889Z",
     "shell.execute_reply": "2022-06-29T18:58:36.804582Z"
    },
    "lines_to_next_cell": 0,
    "papermill": {
     "duration": 0.016802,
     "end_time": "2022-06-29T18:58:36.808363",
     "exception": false,
     "start_time": "2022-06-29T18:58:36.791561",
     "status": "completed"
    },
    "tags": []
   },
   "outputs": [],
   "source": [
    "# Lines below will give you a hint or solution code\n",
    "#q_2.hint()\n",
    "#q_2.solution()"
   ]
  },
  {
   "cell_type": "markdown",
   "id": "7e1e1521",
   "metadata": {
    "lines_to_next_cell": 0,
    "papermill": {
     "duration": 0.00689,
     "end_time": "2022-06-29T18:58:36.822859",
     "exception": false,
     "start_time": "2022-06-29T18:58:36.815969",
     "status": "completed"
    },
    "tags": []
   },
   "source": [
    "# 3) Count Feature\n",
    "\n",
    "Let's try creating a feature that describes how many kinds of outdoor areas a dwelling has. Create a feature `PorchTypes` that counts how many of the following are greater than 0.0:\n",
    "\n",
    "```\n",
    "WoodDeckSF\n",
    "OpenPorchSF\n",
    "EnclosedPorch\n",
    "Threeseasonporch\n",
    "ScreenPorch\n",
    "```"
   ]
  },
  {
   "cell_type": "code",
   "execution_count": 6,
   "id": "88091351",
   "metadata": {
    "execution": {
     "iopub.execute_input": "2022-06-29T18:58:36.840192Z",
     "iopub.status.busy": "2022-06-29T18:58:36.839263Z",
     "iopub.status.idle": "2022-06-29T18:58:36.856930Z",
     "shell.execute_reply": "2022-06-29T18:58:36.855994Z"
    },
    "lines_to_next_cell": 0,
    "papermill": {
     "duration": 0.029199,
     "end_time": "2022-06-29T18:58:36.859231",
     "exception": false,
     "start_time": "2022-06-29T18:58:36.830032",
     "status": "completed"
    },
    "tags": []
   },
   "outputs": [
    {
     "data": {
      "application/javascript": [
       "parent.postMessage({\"jupyterEvent\": \"custom.exercise_interaction\", \"data\": {\"outcomeType\": 1, \"valueTowardsCompletion\": 0.2, \"interactionType\": 1, \"questionType\": 2, \"questionId\": \"3_Q3\", \"learnToolsVersion\": \"0.3.4\", \"failureMessage\": \"\", \"exceptionClass\": \"\", \"trace\": \"\"}}, \"*\")"
      ],
      "text/plain": [
       "<IPython.core.display.Javascript object>"
      ]
     },
     "metadata": {},
     "output_type": "display_data"
    },
    {
     "data": {
      "text/markdown": [
       "<span style=\"color:#33cc33\">Correct</span>"
      ],
      "text/plain": [
       "Correct"
      ]
     },
     "metadata": {},
     "output_type": "display_data"
    }
   ],
   "source": [
    "X_3 = pd.DataFrame()\n",
    "\n",
    "# YOUR CODE HERE\n",
    "X_3[\"PorchTypes\"] = X[[\"WoodDeckSF\", \"OpenPorchSF\", \"EnclosedPorch\", \"Threeseasonporch\", \"ScreenPorch\"]].gt(0).sum(axis=1)\n",
    "\n",
    "\n",
    "# Check your answer\n",
    "q_3.check()"
   ]
  },
  {
   "cell_type": "code",
   "execution_count": 7,
   "id": "1fc870e9",
   "metadata": {
    "execution": {
     "iopub.execute_input": "2022-06-29T18:58:36.877196Z",
     "iopub.status.busy": "2022-06-29T18:58:36.876287Z",
     "iopub.status.idle": "2022-06-29T18:58:36.880718Z",
     "shell.execute_reply": "2022-06-29T18:58:36.879835Z"
    },
    "lines_to_next_cell": 0,
    "papermill": {
     "duration": 0.0168,
     "end_time": "2022-06-29T18:58:36.883612",
     "exception": false,
     "start_time": "2022-06-29T18:58:36.866812",
     "status": "completed"
    },
    "tags": []
   },
   "outputs": [],
   "source": [
    "# Lines below will give you a hint or solution code\n",
    "#q_3.hint()\n",
    "#q_3.solution()"
   ]
  },
  {
   "cell_type": "markdown",
   "id": "78cea8b2",
   "metadata": {
    "papermill": {
     "duration": 0.007989,
     "end_time": "2022-06-29T18:58:36.899381",
     "exception": false,
     "start_time": "2022-06-29T18:58:36.891392",
     "status": "completed"
    },
    "tags": []
   },
   "source": [
    "# 4) Break Down a Categorical Feature\n",
    "\n",
    "`MSSubClass` describes the type of a dwelling:"
   ]
  },
  {
   "cell_type": "code",
   "execution_count": 8,
   "id": "7aa9f7fe",
   "metadata": {
    "execution": {
     "iopub.execute_input": "2022-06-29T18:58:36.917203Z",
     "iopub.status.busy": "2022-06-29T18:58:36.916331Z",
     "iopub.status.idle": "2022-06-29T18:58:36.924742Z",
     "shell.execute_reply": "2022-06-29T18:58:36.923655Z"
    },
    "papermill": {
     "duration": 0.020062,
     "end_time": "2022-06-29T18:58:36.927117",
     "exception": false,
     "start_time": "2022-06-29T18:58:36.907055",
     "status": "completed"
    },
    "tags": []
   },
   "outputs": [
    {
     "data": {
      "text/plain": [
       "array(['One_Story_1946_and_Newer_All_Styles', 'Two_Story_1946_and_Newer',\n",
       "       'One_Story_PUD_1946_and_Newer',\n",
       "       'One_and_Half_Story_Finished_All_Ages', 'Split_Foyer',\n",
       "       'Two_Story_PUD_1946_and_Newer', 'Split_or_Multilevel',\n",
       "       'One_Story_1945_and_Older', 'Duplex_All_Styles_and_Ages',\n",
       "       'Two_Family_conversion_All_Styles_and_Ages',\n",
       "       'One_and_Half_Story_Unfinished_All_Ages',\n",
       "       'Two_Story_1945_and_Older', 'Two_and_Half_Story_All_Ages',\n",
       "       'One_Story_with_Finished_Attic_All_Ages',\n",
       "       'PUD_Multilevel_Split_Level_Foyer',\n",
       "       'One_and_Half_Story_PUD_All_Ages'], dtype=object)"
      ]
     },
     "execution_count": 8,
     "metadata": {},
     "output_type": "execute_result"
    }
   ],
   "source": [
    "df.MSSubClass.unique()"
   ]
  },
  {
   "cell_type": "markdown",
   "id": "7fe1ecf6",
   "metadata": {
    "papermill": {
     "duration": 0.007643,
     "end_time": "2022-06-29T18:58:36.942473",
     "exception": false,
     "start_time": "2022-06-29T18:58:36.934830",
     "status": "completed"
    },
    "tags": []
   },
   "source": [
    "You can see that there is a more general categorization described (roughly) by the first word of each category. Create a feature containing only these first words by splitting `MSSubClass` at the first underscore `_`. (Hint: In the `split` method use an argument `n=1`.)"
   ]
  },
  {
   "cell_type": "code",
   "execution_count": 9,
   "id": "9efffc99",
   "metadata": {
    "execution": {
     "iopub.execute_input": "2022-06-29T18:58:36.960836Z",
     "iopub.status.busy": "2022-06-29T18:58:36.959655Z",
     "iopub.status.idle": "2022-06-29T18:58:36.989276Z",
     "shell.execute_reply": "2022-06-29T18:58:36.988334Z"
    },
    "lines_to_next_cell": 0,
    "papermill": {
     "duration": 0.04096,
     "end_time": "2022-06-29T18:58:36.991468",
     "exception": false,
     "start_time": "2022-06-29T18:58:36.950508",
     "status": "completed"
    },
    "tags": []
   },
   "outputs": [
    {
     "data": {
      "application/javascript": [
       "parent.postMessage({\"jupyterEvent\": \"custom.exercise_interaction\", \"data\": {\"outcomeType\": 1, \"valueTowardsCompletion\": 0.2, \"interactionType\": 1, \"questionType\": 2, \"questionId\": \"4_Q4\", \"learnToolsVersion\": \"0.3.4\", \"failureMessage\": \"\", \"exceptionClass\": \"\", \"trace\": \"\"}}, \"*\")"
      ],
      "text/plain": [
       "<IPython.core.display.Javascript object>"
      ]
     },
     "metadata": {},
     "output_type": "display_data"
    },
    {
     "data": {
      "text/markdown": [
       "<span style=\"color:#33cc33\">Correct</span>"
      ],
      "text/plain": [
       "Correct"
      ]
     },
     "metadata": {},
     "output_type": "display_data"
    }
   ],
   "source": [
    "X_4 = pd.DataFrame()\n",
    "\n",
    "# YOUR CODE HERE\n",
    "X_4[\"MSClass\"] = X[\"MSSubClass\"].str.split(\"_\", n=1, expand=True)[0]\n",
    "\n",
    "# Check your answer\n",
    "q_4.check()"
   ]
  },
  {
   "cell_type": "code",
   "execution_count": 10,
   "id": "f2eedeec",
   "metadata": {
    "execution": {
     "iopub.execute_input": "2022-06-29T18:58:37.011278Z",
     "iopub.status.busy": "2022-06-29T18:58:37.010253Z",
     "iopub.status.idle": "2022-06-29T18:58:37.015602Z",
     "shell.execute_reply": "2022-06-29T18:58:37.014462Z"
    },
    "lines_to_next_cell": 0,
    "papermill": {
     "duration": 0.017954,
     "end_time": "2022-06-29T18:58:37.018187",
     "exception": false,
     "start_time": "2022-06-29T18:58:37.000233",
     "status": "completed"
    },
    "tags": []
   },
   "outputs": [],
   "source": [
    "# Lines below will give you a hint or solution code\n",
    "#q_4.hint()\n",
    "#q_4.solution()"
   ]
  },
  {
   "cell_type": "markdown",
   "id": "10dea231",
   "metadata": {
    "papermill": {
     "duration": 0.00791,
     "end_time": "2022-06-29T18:58:37.034510",
     "exception": false,
     "start_time": "2022-06-29T18:58:37.026600",
     "status": "completed"
    },
    "tags": []
   },
   "source": [
    "# 5) Use a Grouped Transform\n",
    "\n",
    "The value of a home often depends on how it compares to typical homes in its neighborhood. Create a feature `MedNhbdArea` that describes the *median* of `GrLivArea` grouped on `Neighborhood`."
   ]
  },
  {
   "cell_type": "code",
   "execution_count": 11,
   "id": "7d641bda",
   "metadata": {
    "execution": {
     "iopub.execute_input": "2022-06-29T18:58:37.053315Z",
     "iopub.status.busy": "2022-06-29T18:58:37.052504Z",
     "iopub.status.idle": "2022-06-29T18:58:37.074033Z",
     "shell.execute_reply": "2022-06-29T18:58:37.072761Z"
    },
    "lines_to_next_cell": 0,
    "papermill": {
     "duration": 0.034041,
     "end_time": "2022-06-29T18:58:37.076616",
     "exception": false,
     "start_time": "2022-06-29T18:58:37.042575",
     "status": "completed"
    },
    "tags": []
   },
   "outputs": [
    {
     "data": {
      "application/javascript": [
       "parent.postMessage({\"jupyterEvent\": \"custom.exercise_interaction\", \"data\": {\"outcomeType\": 1, \"valueTowardsCompletion\": 0.2, \"interactionType\": 1, \"questionType\": 2, \"questionId\": \"5_Q5\", \"learnToolsVersion\": \"0.3.4\", \"failureMessage\": \"\", \"exceptionClass\": \"\", \"trace\": \"\"}}, \"*\")"
      ],
      "text/plain": [
       "<IPython.core.display.Javascript object>"
      ]
     },
     "metadata": {},
     "output_type": "display_data"
    },
    {
     "data": {
      "text/markdown": [
       "<span style=\"color:#33cc33\">Correct</span>"
      ],
      "text/plain": [
       "Correct"
      ]
     },
     "metadata": {},
     "output_type": "display_data"
    }
   ],
   "source": [
    "X_5 = pd.DataFrame()\n",
    "\n",
    "# YOUR CODE HERE\n",
    "X_5[\"MedNhbdArea\"] = X.groupby(\"Neighborhood\")[\"GrLivArea\"].transform(\"median\")\n",
    "\n",
    "# Check your answer\n",
    "q_5.check()"
   ]
  },
  {
   "cell_type": "code",
   "execution_count": 12,
   "id": "70e29d4f",
   "metadata": {
    "execution": {
     "iopub.execute_input": "2022-06-29T18:58:37.096664Z",
     "iopub.status.busy": "2022-06-29T18:58:37.096174Z",
     "iopub.status.idle": "2022-06-29T18:58:37.100874Z",
     "shell.execute_reply": "2022-06-29T18:58:37.099979Z"
    },
    "lines_to_next_cell": 0,
    "papermill": {
     "duration": 0.017468,
     "end_time": "2022-06-29T18:58:37.103239",
     "exception": false,
     "start_time": "2022-06-29T18:58:37.085771",
     "status": "completed"
    },
    "tags": []
   },
   "outputs": [],
   "source": [
    "# Lines below will give you a hint or solution code\n",
    "#q_5.hint()\n",
    "#q_5.solution()"
   ]
  },
  {
   "cell_type": "markdown",
   "id": "5053c2fd",
   "metadata": {
    "papermill": {
     "duration": 0.008055,
     "end_time": "2022-06-29T18:58:37.119750",
     "exception": false,
     "start_time": "2022-06-29T18:58:37.111695",
     "status": "completed"
    },
    "tags": []
   },
   "source": [
    "Now you've made your first new feature set! If you like, you can run the cell below to score the model with all of your new features added:"
   ]
  },
  {
   "cell_type": "code",
   "execution_count": 13,
   "id": "11a2638b",
   "metadata": {
    "execution": {
     "iopub.execute_input": "2022-06-29T18:58:37.139412Z",
     "iopub.status.busy": "2022-06-29T18:58:37.138477Z",
     "iopub.status.idle": "2022-06-29T18:58:42.275174Z",
     "shell.execute_reply": "2022-06-29T18:58:42.273954Z"
    },
    "papermill": {
     "duration": 5.150253,
     "end_time": "2022-06-29T18:58:42.278474",
     "exception": false,
     "start_time": "2022-06-29T18:58:37.128221",
     "status": "completed"
    },
    "tags": []
   },
   "outputs": [
    {
     "data": {
      "text/plain": [
       "0.13847331710099203"
      ]
     },
     "execution_count": 13,
     "metadata": {},
     "output_type": "execute_result"
    }
   ],
   "source": [
    "X_new = X.join([X_1, X_2, X_3, X_4, X_5])\n",
    "score_dataset(X_new, y)"
   ]
  },
  {
   "cell_type": "markdown",
   "id": "a453b636",
   "metadata": {
    "papermill": {
     "duration": 0.008238,
     "end_time": "2022-06-29T18:58:42.296174",
     "exception": false,
     "start_time": "2022-06-29T18:58:42.287936",
     "status": "completed"
    },
    "tags": []
   },
   "source": [
    "# Keep Going #\n",
    "\n",
    "[**Untangle spatial relationships**](https://www.kaggle.com/ryanholbrook/clustering-with-k-means) by adding cluster labels to your dataset."
   ]
  },
  {
   "cell_type": "markdown",
   "id": "a2616c1f",
   "metadata": {
    "papermill": {
     "duration": 0.00836,
     "end_time": "2022-06-29T18:58:42.313629",
     "exception": false,
     "start_time": "2022-06-29T18:58:42.305269",
     "status": "completed"
    },
    "tags": []
   },
   "source": [
    "---\n",
    "\n",
    "\n",
    "\n",
    "\n",
    "*Have questions or comments? Visit the [course discussion forum](https://www.kaggle.com/learn/feature-engineering/discussion) to chat with other learners.*"
   ]
  }
 ],
 "metadata": {
  "kernelspec": {
   "display_name": "Python 3",
   "language": "python",
   "name": "python3"
  },
  "language_info": {
   "codemirror_mode": {
    "name": "ipython",
    "version": 3
   },
   "file_extension": ".py",
   "mimetype": "text/x-python",
   "name": "python",
   "nbconvert_exporter": "python",
   "pygments_lexer": "ipython3",
   "version": "3.7.12"
  },
  "papermill": {
   "default_parameters": {},
   "duration": 21.052152,
   "end_time": "2022-06-29T18:58:43.449724",
   "environment_variables": {},
   "exception": null,
   "input_path": "__notebook__.ipynb",
   "output_path": "__notebook__.ipynb",
   "parameters": {},
   "start_time": "2022-06-29T18:58:22.397572",
   "version": "2.3.4"
  }
 },
 "nbformat": 4,
 "nbformat_minor": 5
}

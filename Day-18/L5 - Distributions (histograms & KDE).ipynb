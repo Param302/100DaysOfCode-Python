{
 "cells": [
  {
   "cell_type": "markdown",
   "id": "b426d3f2",
   "metadata": {
    "papermill": {
     "duration": 0.010836,
     "end_time": "2022-06-21T08:59:13.219735",
     "exception": false,
     "start_time": "2022-06-21T08:59:13.208899",
     "status": "completed"
    },
    "tags": []
   },
   "source": [
    "# [Data Visualization Course](https://www.kaggle.com/learn/data-visualization)\n",
    "by Kaggle\n",
    "\n",
    "## Lesson 5: [Distributions (Histograms & KDE plots)](https://www.kaggle.com/code/alexisbcook/distributions)\n",
    "\n",
    "- [My Notebook](https://www.kaggle.com/param302/exercise-distributions)\n",
    "\n",
    "\n",
    "**This notebook is an exercise in the [Data Visualization](https://www.kaggle.com/learn/data-visualization) course.  You can reference the tutorial at [this link](https://www.kaggle.com/alexisbcook/distributions).**\n",
    "\n",
    "---\n"
   ]
  },
  {
   "cell_type": "markdown",
   "id": "d310bc5a",
   "metadata": {
    "papermill": {
     "duration": 0.006616,
     "end_time": "2022-06-21T08:59:13.233517",
     "exception": false,
     "start_time": "2022-06-21T08:59:13.226901",
     "status": "completed"
    },
    "tags": []
   },
   "source": [
    "In this exercise, you will use your new knowledge to propose a solution to a real-world scenario.  To succeed, you will need to import data into Python, answer questions using the data, and generate **histograms** and **density plots** to understand patterns in the data.\n",
    "\n",
    "## Scenario\n",
    "\n",
    "You'll work with a real-world dataset containing information collected from microscopic images of breast cancer tumors, similar to the image below.\n",
    "\n",
    "![ex4_cancer_image](https://i.imgur.com/qUESsJe.png)\n",
    "\n",
    "Each tumor has been labeled as either [**benign**](https://en.wikipedia.org/wiki/Benign_tumor) (_noncancerous_) or **malignant** (_cancerous_).\n",
    "\n",
    "To learn more about how this kind of data is used to create intelligent algorithms to classify tumors in medical settings, **watch the short video [at this link](https://www.youtube.com/watch?v=9Mz84cwVmS0)**."
   ]
  },
  {
   "cell_type": "markdown",
   "id": "54fcc703",
   "metadata": {
    "papermill": {
     "duration": 0.006408,
     "end_time": "2022-06-21T08:59:13.246740",
     "exception": false,
     "start_time": "2022-06-21T08:59:13.240332",
     "status": "completed"
    },
    "tags": []
   },
   "source": [
    "\n",
    "\n",
    "## Setup\n",
    "\n",
    "Run the next cell to import and configure the Python libraries that you need to complete the exercise."
   ]
  },
  {
   "cell_type": "code",
   "execution_count": 1,
   "id": "3c8a8490",
   "metadata": {
    "execution": {
     "iopub.execute_input": "2022-06-21T08:59:13.262572Z",
     "iopub.status.busy": "2022-06-21T08:59:13.261437Z",
     "iopub.status.idle": "2022-06-21T08:59:14.287138Z",
     "shell.execute_reply": "2022-06-21T08:59:14.286023Z"
    },
    "papermill": {
     "duration": 1.036465,
     "end_time": "2022-06-21T08:59:14.289797",
     "exception": false,
     "start_time": "2022-06-21T08:59:13.253332",
     "status": "completed"
    },
    "tags": []
   },
   "outputs": [
    {
     "name": "stdout",
     "output_type": "stream",
     "text": [
      "Setup Complete\n"
     ]
    }
   ],
   "source": [
    "import pandas as pd\n",
    "pd.plotting.register_matplotlib_converters()\n",
    "import matplotlib.pyplot as plt\n",
    "%matplotlib inline\n",
    "import seaborn as sns\n",
    "print(\"Setup Complete\")"
   ]
  },
  {
   "cell_type": "markdown",
   "id": "d62f45c3",
   "metadata": {
    "papermill": {
     "duration": 0.006252,
     "end_time": "2022-06-21T08:59:14.303109",
     "exception": false,
     "start_time": "2022-06-21T08:59:14.296857",
     "status": "completed"
    },
    "tags": []
   },
   "source": [
    "The questions below will give you feedback on your work. Run the following cell to set up our feedback system."
   ]
  },
  {
   "cell_type": "code",
   "execution_count": 2,
   "id": "01b39217",
   "metadata": {
    "execution": {
     "iopub.execute_input": "2022-06-21T08:59:14.317462Z",
     "iopub.status.busy": "2022-06-21T08:59:14.316951Z",
     "iopub.status.idle": "2022-06-21T08:59:34.082864Z",
     "shell.execute_reply": "2022-06-21T08:59:34.081413Z"
    },
    "papermill": {
     "duration": 19.77554,
     "end_time": "2022-06-21T08:59:34.084894",
     "exception": false,
     "start_time": "2022-06-21T08:59:14.309354",
     "status": "completed"
    },
    "tags": []
   },
   "outputs": [
    {
     "name": "stdout",
     "output_type": "stream",
     "text": [
      "Collecting git+https://github.com/Kaggle/learntools.git@master\r\n",
      "  Cloning https://github.com/Kaggle/learntools.git (to revision master) to /tmp/pip-req-build-_u4prq5t\r\n",
      "  Running command git clone --filter=blob:none --quiet https://github.com/Kaggle/learntools.git /tmp/pip-req-build-_u4prq5t\r\n",
      "  Resolved https://github.com/Kaggle/learntools.git to commit 7373faf5cfb8ca83046e78bac09314d90fbf2474\r\n",
      "  Preparing metadata (setup.py) ... \u001b[?25l-\b \bdone\r\n",
      "\u001b[?25hBuilding wheels for collected packages: learntools\r\n",
      "  Building wheel for learntools (setup.py) ... \u001b[?25l-\b \b\\\b \b|\b \b/\b \bdone\r\n",
      "\u001b[?25h  Created wheel for learntools: filename=learntools-0.3.4-py3-none-any.whl size=267787 sha256=b2d3c7d2dc2c87cea34346a337b8995af75cccca292d1dfcf24d13e7d0c1888d\r\n",
      "  Stored in directory: /tmp/pip-ephem-wheel-cache-8ume1twb/wheels/96/98/04/32b386c4641f1aea964eebb0148dc4632b25195ed8e54869c8\r\n",
      "Successfully built learntools\r\n",
      "Installing collected packages: learntools\r\n",
      "Successfully installed learntools-0.3.4\r\n",
      "\u001b[33mWARNING: Running pip as the 'root' user can result in broken permissions and conflicting behaviour with the system package manager. It is recommended to use a virtual environment instead: https://pip.pypa.io/warnings/venv\u001b[0m\u001b[33m\r\n",
      "\u001b[0mSetup Complete\n"
     ]
    }
   ],
   "source": [
    "# Set up code checking\n",
    "!pip install -U -t /kaggle/working/ git+https://github.com/Kaggle/learntools.git@master\n",
    "from learntools.core import binder\n",
    "binder.bind(globals())\n",
    "from learntools.data_viz_to_coder.ex5 import *\n",
    "print(\"Setup Complete\")"
   ]
  },
  {
   "cell_type": "markdown",
   "id": "0daac1f4",
   "metadata": {
    "papermill": {
     "duration": 0.007325,
     "end_time": "2022-06-21T08:59:34.099473",
     "exception": false,
     "start_time": "2022-06-21T08:59:34.092148",
     "status": "completed"
    },
    "tags": []
   },
   "source": [
    "## Step 1: Load the data\n",
    "\n",
    "In this step, you will load the data.\n",
    "- Load the data file into a DataFrame called `cancer_data`.  \n",
    "- The corresponding filepath is `cancer_filepath`.  \n",
    "- Use the `\"Id\"` column to label the rows."
   ]
  },
  {
   "cell_type": "code",
   "execution_count": 3,
   "id": "266d9946",
   "metadata": {
    "execution": {
     "iopub.execute_input": "2022-06-21T08:59:34.116749Z",
     "iopub.status.busy": "2022-06-21T08:59:34.116336Z",
     "iopub.status.idle": "2022-06-21T08:59:34.134394Z",
     "shell.execute_reply": "2022-06-21T08:59:34.133721Z"
    },
    "papermill": {
     "duration": 0.029488,
     "end_time": "2022-06-21T08:59:34.136008",
     "exception": false,
     "start_time": "2022-06-21T08:59:34.106520",
     "status": "completed"
    },
    "tags": []
   },
   "outputs": [
    {
     "data": {
      "application/javascript": "parent.postMessage({\"jupyterEvent\": \"custom.exercise_interaction\", \"data\": {\"outcomeType\": 1, \"valueTowardsCompletion\": 0.5, \"interactionType\": 1, \"questionType\": 1, \"questionId\": \"1_LoadCancerData\", \"learnToolsVersion\": \"0.3.4\", \"failureMessage\": \"\", \"exceptionClass\": \"\", \"trace\": \"\"}}, \"*\")",
      "text/plain": [
       "<IPython.core.display.Javascript object>"
      ]
     },
     "metadata": {},
     "output_type": "display_data"
    },
    {
     "data": {
      "text/markdown": [
       "<span style=\"color:#33cc33\">Correct</span>"
      ],
      "text/plain": [
       "Correct"
      ]
     },
     "metadata": {},
     "output_type": "display_data"
    }
   ],
   "source": [
    "# Path of the files to read\n",
    "cancer_filepath = \"../input/cancer.csv\"\n",
    "\n",
    "# Fill in the line below to read the file into a variable cancer_data\n",
    "cancer_data = pd.read_csv(cancer_filepath, index_col=\"Id\")\n",
    "\n",
    "# Run the line below with no changes to check that you've loaded the data correctly\n",
    "step_1.check()"
   ]
  },
  {
   "cell_type": "code",
   "execution_count": 4,
   "id": "9ede74fc",
   "metadata": {
    "execution": {
     "iopub.execute_input": "2022-06-21T08:59:34.151889Z",
     "iopub.status.busy": "2022-06-21T08:59:34.151338Z",
     "iopub.status.idle": "2022-06-21T08:59:34.154374Z",
     "shell.execute_reply": "2022-06-21T08:59:34.153764Z"
    },
    "papermill": {
     "duration": 0.012801,
     "end_time": "2022-06-21T08:59:34.155937",
     "exception": false,
     "start_time": "2022-06-21T08:59:34.143136",
     "status": "completed"
    },
    "tags": []
   },
   "outputs": [],
   "source": [
    "# Lines below will give you a hint or solution code\n",
    "#step_1.hint()\n",
    "#step_1.solution()"
   ]
  },
  {
   "cell_type": "markdown",
   "id": "799899fa",
   "metadata": {
    "papermill": {
     "duration": 0.007472,
     "end_time": "2022-06-21T08:59:34.170560",
     "exception": false,
     "start_time": "2022-06-21T08:59:34.163088",
     "status": "completed"
    },
    "tags": []
   },
   "source": [
    "## Step 2: Review the data\n",
    "\n",
    "Use a Python command to print the first 5 rows of the data."
   ]
  },
  {
   "cell_type": "code",
   "execution_count": 5,
   "id": "7e639e21",
   "metadata": {
    "execution": {
     "iopub.execute_input": "2022-06-21T08:59:34.186603Z",
     "iopub.status.busy": "2022-06-21T08:59:34.186115Z",
     "iopub.status.idle": "2022-06-21T08:59:34.217964Z",
     "shell.execute_reply": "2022-06-21T08:59:34.217118Z"
    },
    "papermill": {
     "duration": 0.042109,
     "end_time": "2022-06-21T08:59:34.219988",
     "exception": false,
     "start_time": "2022-06-21T08:59:34.177879",
     "status": "completed"
    },
    "tags": []
   },
   "outputs": [
    {
     "data": {
      "text/html": [
       "<div>\n",
       "<style scoped>\n",
       "    .dataframe tbody tr th:only-of-type {\n",
       "        vertical-align: middle;\n",
       "    }\n",
       "\n",
       "    .dataframe tbody tr th {\n",
       "        vertical-align: top;\n",
       "    }\n",
       "\n",
       "    .dataframe thead th {\n",
       "        text-align: right;\n",
       "    }\n",
       "</style>\n",
       "<table border=\"1\" class=\"dataframe\">\n",
       "  <thead>\n",
       "    <tr style=\"text-align: right;\">\n",
       "      <th></th>\n",
       "      <th>Diagnosis</th>\n",
       "      <th>Radius (mean)</th>\n",
       "      <th>Texture (mean)</th>\n",
       "      <th>Perimeter (mean)</th>\n",
       "      <th>Area (mean)</th>\n",
       "      <th>Smoothness (mean)</th>\n",
       "      <th>Compactness (mean)</th>\n",
       "      <th>Concavity (mean)</th>\n",
       "      <th>Concave points (mean)</th>\n",
       "      <th>Symmetry (mean)</th>\n",
       "      <th>...</th>\n",
       "      <th>Radius (worst)</th>\n",
       "      <th>Texture (worst)</th>\n",
       "      <th>Perimeter (worst)</th>\n",
       "      <th>Area (worst)</th>\n",
       "      <th>Smoothness (worst)</th>\n",
       "      <th>Compactness (worst)</th>\n",
       "      <th>Concavity (worst)</th>\n",
       "      <th>Concave points (worst)</th>\n",
       "      <th>Symmetry (worst)</th>\n",
       "      <th>Fractal dimension (worst)</th>\n",
       "    </tr>\n",
       "    <tr>\n",
       "      <th>Id</th>\n",
       "      <th></th>\n",
       "      <th></th>\n",
       "      <th></th>\n",
       "      <th></th>\n",
       "      <th></th>\n",
       "      <th></th>\n",
       "      <th></th>\n",
       "      <th></th>\n",
       "      <th></th>\n",
       "      <th></th>\n",
       "      <th></th>\n",
       "      <th></th>\n",
       "      <th></th>\n",
       "      <th></th>\n",
       "      <th></th>\n",
       "      <th></th>\n",
       "      <th></th>\n",
       "      <th></th>\n",
       "      <th></th>\n",
       "      <th></th>\n",
       "      <th></th>\n",
       "    </tr>\n",
       "  </thead>\n",
       "  <tbody>\n",
       "    <tr>\n",
       "      <th>8510426</th>\n",
       "      <td>B</td>\n",
       "      <td>13.540</td>\n",
       "      <td>14.36</td>\n",
       "      <td>87.46</td>\n",
       "      <td>566.3</td>\n",
       "      <td>0.09779</td>\n",
       "      <td>0.08129</td>\n",
       "      <td>0.06664</td>\n",
       "      <td>0.047810</td>\n",
       "      <td>0.1885</td>\n",
       "      <td>...</td>\n",
       "      <td>15.110</td>\n",
       "      <td>19.26</td>\n",
       "      <td>99.70</td>\n",
       "      <td>711.2</td>\n",
       "      <td>0.14400</td>\n",
       "      <td>0.17730</td>\n",
       "      <td>0.23900</td>\n",
       "      <td>0.12880</td>\n",
       "      <td>0.2977</td>\n",
       "      <td>0.07259</td>\n",
       "    </tr>\n",
       "    <tr>\n",
       "      <th>8510653</th>\n",
       "      <td>B</td>\n",
       "      <td>13.080</td>\n",
       "      <td>15.71</td>\n",
       "      <td>85.63</td>\n",
       "      <td>520.0</td>\n",
       "      <td>0.10750</td>\n",
       "      <td>0.12700</td>\n",
       "      <td>0.04568</td>\n",
       "      <td>0.031100</td>\n",
       "      <td>0.1967</td>\n",
       "      <td>...</td>\n",
       "      <td>14.500</td>\n",
       "      <td>20.49</td>\n",
       "      <td>96.09</td>\n",
       "      <td>630.5</td>\n",
       "      <td>0.13120</td>\n",
       "      <td>0.27760</td>\n",
       "      <td>0.18900</td>\n",
       "      <td>0.07283</td>\n",
       "      <td>0.3184</td>\n",
       "      <td>0.08183</td>\n",
       "    </tr>\n",
       "    <tr>\n",
       "      <th>8510824</th>\n",
       "      <td>B</td>\n",
       "      <td>9.504</td>\n",
       "      <td>12.44</td>\n",
       "      <td>60.34</td>\n",
       "      <td>273.9</td>\n",
       "      <td>0.10240</td>\n",
       "      <td>0.06492</td>\n",
       "      <td>0.02956</td>\n",
       "      <td>0.020760</td>\n",
       "      <td>0.1815</td>\n",
       "      <td>...</td>\n",
       "      <td>10.230</td>\n",
       "      <td>15.66</td>\n",
       "      <td>65.13</td>\n",
       "      <td>314.9</td>\n",
       "      <td>0.13240</td>\n",
       "      <td>0.11480</td>\n",
       "      <td>0.08867</td>\n",
       "      <td>0.06227</td>\n",
       "      <td>0.2450</td>\n",
       "      <td>0.07773</td>\n",
       "    </tr>\n",
       "    <tr>\n",
       "      <th>854941</th>\n",
       "      <td>B</td>\n",
       "      <td>13.030</td>\n",
       "      <td>18.42</td>\n",
       "      <td>82.61</td>\n",
       "      <td>523.8</td>\n",
       "      <td>0.08983</td>\n",
       "      <td>0.03766</td>\n",
       "      <td>0.02562</td>\n",
       "      <td>0.029230</td>\n",
       "      <td>0.1467</td>\n",
       "      <td>...</td>\n",
       "      <td>13.300</td>\n",
       "      <td>22.81</td>\n",
       "      <td>84.46</td>\n",
       "      <td>545.9</td>\n",
       "      <td>0.09701</td>\n",
       "      <td>0.04619</td>\n",
       "      <td>0.04833</td>\n",
       "      <td>0.05013</td>\n",
       "      <td>0.1987</td>\n",
       "      <td>0.06169</td>\n",
       "    </tr>\n",
       "    <tr>\n",
       "      <th>85713702</th>\n",
       "      <td>B</td>\n",
       "      <td>8.196</td>\n",
       "      <td>16.84</td>\n",
       "      <td>51.71</td>\n",
       "      <td>201.9</td>\n",
       "      <td>0.08600</td>\n",
       "      <td>0.05943</td>\n",
       "      <td>0.01588</td>\n",
       "      <td>0.005917</td>\n",
       "      <td>0.1769</td>\n",
       "      <td>...</td>\n",
       "      <td>8.964</td>\n",
       "      <td>21.96</td>\n",
       "      <td>57.26</td>\n",
       "      <td>242.2</td>\n",
       "      <td>0.12970</td>\n",
       "      <td>0.13570</td>\n",
       "      <td>0.06880</td>\n",
       "      <td>0.02564</td>\n",
       "      <td>0.3105</td>\n",
       "      <td>0.07409</td>\n",
       "    </tr>\n",
       "  </tbody>\n",
       "</table>\n",
       "<p>5 rows × 31 columns</p>\n",
       "</div>"
      ],
      "text/plain": [
       "         Diagnosis  Radius (mean)  Texture (mean)  Perimeter (mean)  \\\n",
       "Id                                                                    \n",
       "8510426          B         13.540           14.36             87.46   \n",
       "8510653          B         13.080           15.71             85.63   \n",
       "8510824          B          9.504           12.44             60.34   \n",
       "854941           B         13.030           18.42             82.61   \n",
       "85713702         B          8.196           16.84             51.71   \n",
       "\n",
       "          Area (mean)  Smoothness (mean)  Compactness (mean)  \\\n",
       "Id                                                             \n",
       "8510426         566.3            0.09779             0.08129   \n",
       "8510653         520.0            0.10750             0.12700   \n",
       "8510824         273.9            0.10240             0.06492   \n",
       "854941          523.8            0.08983             0.03766   \n",
       "85713702        201.9            0.08600             0.05943   \n",
       "\n",
       "          Concavity (mean)  Concave points (mean)  Symmetry (mean)  ...  \\\n",
       "Id                                                                  ...   \n",
       "8510426            0.06664               0.047810           0.1885  ...   \n",
       "8510653            0.04568               0.031100           0.1967  ...   \n",
       "8510824            0.02956               0.020760           0.1815  ...   \n",
       "854941             0.02562               0.029230           0.1467  ...   \n",
       "85713702           0.01588               0.005917           0.1769  ...   \n",
       "\n",
       "          Radius (worst)  Texture (worst)  Perimeter (worst)  Area (worst)  \\\n",
       "Id                                                                           \n",
       "8510426           15.110            19.26              99.70         711.2   \n",
       "8510653           14.500            20.49              96.09         630.5   \n",
       "8510824           10.230            15.66              65.13         314.9   \n",
       "854941            13.300            22.81              84.46         545.9   \n",
       "85713702           8.964            21.96              57.26         242.2   \n",
       "\n",
       "          Smoothness (worst)  Compactness (worst)  Concavity (worst)  \\\n",
       "Id                                                                     \n",
       "8510426              0.14400              0.17730            0.23900   \n",
       "8510653              0.13120              0.27760            0.18900   \n",
       "8510824              0.13240              0.11480            0.08867   \n",
       "854941               0.09701              0.04619            0.04833   \n",
       "85713702             0.12970              0.13570            0.06880   \n",
       "\n",
       "          Concave points (worst)  Symmetry (worst)  Fractal dimension (worst)  \n",
       "Id                                                                             \n",
       "8510426                  0.12880            0.2977                    0.07259  \n",
       "8510653                  0.07283            0.3184                    0.08183  \n",
       "8510824                  0.06227            0.2450                    0.07773  \n",
       "854941                   0.05013            0.1987                    0.06169  \n",
       "85713702                 0.02564            0.3105                    0.07409  \n",
       "\n",
       "[5 rows x 31 columns]"
      ]
     },
     "execution_count": 5,
     "metadata": {},
     "output_type": "execute_result"
    }
   ],
   "source": [
    "# Print the first five rows of the data\n",
    "cancer_data.head(5) # Your code here"
   ]
  },
  {
   "cell_type": "markdown",
   "id": "4fc05d23",
   "metadata": {
    "papermill": {
     "duration": 0.008088,
     "end_time": "2022-06-21T08:59:34.236155",
     "exception": false,
     "start_time": "2022-06-21T08:59:34.228067",
     "status": "completed"
    },
    "tags": []
   },
   "source": [
    "In the dataset, each row corresponds to a different image.  The dataset has 31 different columns, corresponding to:\n",
    "- 1 column (`'Diagnosis'`) that classifies tumors as either benign (which appears in the dataset as **`B`**) or malignant (__`M`__), and\n",
    "- 30 columns containing different measurements collected from the images.\n",
    "\n",
    "Use the first 5 rows of the data to answer the questions below."
   ]
  },
  {
   "cell_type": "code",
   "execution_count": 6,
   "id": "832474ef",
   "metadata": {
    "execution": {
     "iopub.execute_input": "2022-06-21T08:59:34.254504Z",
     "iopub.status.busy": "2022-06-21T08:59:34.253829Z",
     "iopub.status.idle": "2022-06-21T08:59:34.265122Z",
     "shell.execute_reply": "2022-06-21T08:59:34.264470Z"
    },
    "papermill": {
     "duration": 0.022262,
     "end_time": "2022-06-21T08:59:34.266760",
     "exception": false,
     "start_time": "2022-06-21T08:59:34.244498",
     "status": "completed"
    },
    "tags": []
   },
   "outputs": [
    {
     "data": {
      "application/javascript": "parent.postMessage({\"jupyterEvent\": \"custom.exercise_interaction\", \"data\": {\"outcomeType\": 1, \"valueTowardsCompletion\": 0.5, \"interactionType\": 1, \"questionType\": 1, \"questionId\": \"2_ReviewData\", \"learnToolsVersion\": \"0.3.4\", \"failureMessage\": \"\", \"exceptionClass\": \"\", \"trace\": \"\"}}, \"*\")",
      "text/plain": [
       "<IPython.core.display.Javascript object>"
      ]
     },
     "metadata": {},
     "output_type": "display_data"
    },
    {
     "data": {
      "text/markdown": [
       "<span style=\"color:#33cc33\">Correct</span>"
      ],
      "text/plain": [
       "Correct"
      ]
     },
     "metadata": {},
     "output_type": "display_data"
    }
   ],
   "source": [
    "# Fill in the line below: In the first five rows of the data, what is the\n",
    "# largest value for 'Perimeter (mean)'?\n",
    "max_perim = cancer_data.head()[\"Perimeter (mean)\"].max()\n",
    "\n",
    "# Fill in the line below: What is the value for 'Radius (mean)' for the tumor with Id 8510824?\n",
    "mean_radius = cancer_data.head().loc[8510824][\"Radius (mean)\"]\n",
    "\n",
    "# Check your answers\n",
    "step_2.check()"
   ]
  },
  {
   "cell_type": "code",
   "execution_count": 7,
   "id": "20866d7a",
   "metadata": {
    "execution": {
     "iopub.execute_input": "2022-06-21T08:59:34.284433Z",
     "iopub.status.busy": "2022-06-21T08:59:34.283799Z",
     "iopub.status.idle": "2022-06-21T08:59:34.287699Z",
     "shell.execute_reply": "2022-06-21T08:59:34.287008Z"
    },
    "papermill": {
     "duration": 0.014825,
     "end_time": "2022-06-21T08:59:34.289523",
     "exception": false,
     "start_time": "2022-06-21T08:59:34.274698",
     "status": "completed"
    },
    "tags": []
   },
   "outputs": [],
   "source": [
    "# Lines below will give you a hint or solution code\n",
    "#step_2.hint()\n",
    "#step_2.solution()"
   ]
  },
  {
   "cell_type": "markdown",
   "id": "44601ec0",
   "metadata": {
    "papermill": {
     "duration": 0.007597,
     "end_time": "2022-06-21T08:59:34.305096",
     "exception": false,
     "start_time": "2022-06-21T08:59:34.297499",
     "status": "completed"
    },
    "tags": []
   },
   "source": [
    "## Step 3: Investigating differences"
   ]
  },
  {
   "cell_type": "markdown",
   "id": "a854b260",
   "metadata": {
    "papermill": {
     "duration": 0.007702,
     "end_time": "2022-06-21T08:59:34.320660",
     "exception": false,
     "start_time": "2022-06-21T08:59:34.312958",
     "status": "completed"
    },
    "tags": []
   },
   "source": [
    "#### Part A\n",
    "\n",
    "Use the code cell below to create two histograms that show the distribution in values for `'Area (mean)'`, separately for both benign and malignant tumors.  (_To permit easy comparison, create a single figure containing both histograms in the code cell below._)"
   ]
  },
  {
   "cell_type": "code",
   "execution_count": 8,
   "id": "d0c19e7d",
   "metadata": {
    "execution": {
     "iopub.execute_input": "2022-06-21T08:59:34.339149Z",
     "iopub.status.busy": "2022-06-21T08:59:34.338519Z",
     "iopub.status.idle": "2022-06-21T08:59:34.687780Z",
     "shell.execute_reply": "2022-06-21T08:59:34.687106Z"
    },
    "papermill": {
     "duration": 0.360613,
     "end_time": "2022-06-21T08:59:34.689600",
     "exception": false,
     "start_time": "2022-06-21T08:59:34.328987",
     "status": "completed"
    },
    "tags": []
   },
   "outputs": [
    {
     "data": {
      "application/javascript": "parent.postMessage({\"jupyterEvent\": \"custom.exercise_interaction\", \"data\": {\"outcomeType\": 1, \"valueTowardsCompletion\": 0.5, \"interactionType\": 1, \"questionType\": 2, \"questionId\": \"3.1_PlotHist\", \"learnToolsVersion\": \"0.3.4\", \"failureMessage\": \"\", \"exceptionClass\": \"\", \"trace\": \"\"}}, \"*\")",
      "text/plain": [
       "<IPython.core.display.Javascript object>"
      ]
     },
     "metadata": {},
     "output_type": "display_data"
    },
    {
     "data": {
      "text/markdown": [
       "<span style=\"color:#33cc33\">Correct</span>"
      ],
      "text/plain": [
       "Correct"
      ]
     },
     "metadata": {},
     "output_type": "display_data"
    },
    {
     "data": {
      "image/png": "[encoded data removed]",
      "text/plain": [
       "<Figure size 720x576 with 1 Axes>"
      ]
     },
     "metadata": {
      "needs_background": "light"
     },
     "output_type": "display_data"
    }
   ],
   "source": [
    "plt.figure(figsize=(10, 8))\n",
    "# Histograms for benign and maligant tumors\n",
    "sns.histplot(cancer_data, x=\"Area (mean)\", hue=\"Diagnosis\")\n",
    "\n",
    "# Check your answer\n",
    "step_3.a.check()"
   ]
  },
  {
   "cell_type": "code",
   "execution_count": 9,
   "id": "06c26481",
   "metadata": {
    "execution": {
     "iopub.execute_input": "2022-06-21T08:59:34.708662Z",
     "iopub.status.busy": "2022-06-21T08:59:34.708171Z",
     "iopub.status.idle": "2022-06-21T08:59:34.712265Z",
     "shell.execute_reply": "2022-06-21T08:59:34.711669Z"
    },
    "papermill": {
     "duration": 0.015462,
     "end_time": "2022-06-21T08:59:34.714144",
     "exception": false,
     "start_time": "2022-06-21T08:59:34.698682",
     "status": "completed"
    },
    "tags": []
   },
   "outputs": [],
   "source": [
    "# Lines below will give you a hint or solution code\n",
    "#step_3.a.hint()\n",
    "#step_3.a.solution_plot()"
   ]
  },
  {
   "cell_type": "markdown",
   "id": "98e99c6b",
   "metadata": {
    "papermill": {
     "duration": 0.0087,
     "end_time": "2022-06-21T08:59:34.731645",
     "exception": false,
     "start_time": "2022-06-21T08:59:34.722945",
     "status": "completed"
    },
    "tags": []
   },
   "source": [
    "#### Part B\n",
    "\n",
    "A researcher approaches you for help with identifying how the `'Area (mean)'` column can be used to understand the difference between benign and malignant tumors.  Based on the histograms above, \n",
    "- Do malignant tumors have higher or lower values for `'Area (mean)'` (relative to benign tumors), on average?\n",
    "- Which tumor type seems to have a larger range of potential values?"
   ]
  },
  {
   "cell_type": "code",
   "execution_count": 10,
   "id": "02132e03",
   "metadata": {
    "execution": {
     "iopub.execute_input": "2022-06-21T08:59:34.750329Z",
     "iopub.status.busy": "2022-06-21T08:59:34.749711Z",
     "iopub.status.idle": "2022-06-21T08:59:34.757376Z",
     "shell.execute_reply": "2022-06-21T08:59:34.756618Z"
    },
    "papermill": {
     "duration": 0.019313,
     "end_time": "2022-06-21T08:59:34.759196",
     "exception": false,
     "start_time": "2022-06-21T08:59:34.739883",
     "status": "completed"
    },
    "tags": []
   },
   "outputs": [
    {
     "data": {
      "application/javascript": "parent.postMessage({\"jupyterEvent\": \"custom.exercise_interaction\", \"data\": {\"interactionType\": 2, \"questionType\": 4, \"questionId\": \"3.2_ThinkHist\", \"learnToolsVersion\": \"0.3.4\", \"valueTowardsCompletion\": 0.0, \"failureMessage\": \"\", \"exceptionClass\": \"\", \"trace\": \"\", \"outcomeType\": 4}}, \"*\")",
      "text/plain": [
       "<IPython.core.display.Javascript object>"
      ]
     },
     "metadata": {},
     "output_type": "display_data"
    },
    {
     "data": {
      "text/markdown": [
       "<span style=\"color:#3366cc\">Hint:</span> Does the histogram for malignant tumors appear mostly to the left or to the right of the histogram for benign tumors?  Which histogram appears wider?"
      ],
      "text/plain": [
       "Hint: Does the histogram for malignant tumors appear mostly to the left or to the right of the histogram for benign tumors?  Which histogram appears wider?"
      ]
     },
     "metadata": {},
     "output_type": "display_data"
    }
   ],
   "source": [
    "step_3.b.hint()    # Malignant tumors have higher values for 'Area (mean)', # Malignant tumors have a larger range of potential values"
   ]
  },
  {
   "cell_type": "code",
   "execution_count": 11,
   "id": "05d8eb66",
   "metadata": {
    "execution": {
     "iopub.execute_input": "2022-06-21T08:59:34.778934Z",
     "iopub.status.busy": "2022-06-21T08:59:34.778317Z",
     "iopub.status.idle": "2022-06-21T08:59:34.785839Z",
     "shell.execute_reply": "2022-06-21T08:59:34.785243Z"
    },
    "papermill": {
     "duration": 0.019451,
     "end_time": "2022-06-21T08:59:34.787687",
     "exception": false,
     "start_time": "2022-06-21T08:59:34.768236",
     "status": "completed"
    },
    "tags": []
   },
   "outputs": [
    {
     "data": {
      "application/javascript": "parent.postMessage({\"jupyterEvent\": \"custom.exercise_interaction\", \"data\": {\"interactionType\": 3, \"questionType\": 4, \"questionId\": \"3.2_ThinkHist\", \"learnToolsVersion\": \"0.3.4\", \"valueTowardsCompletion\": 0.0, \"failureMessage\": \"\", \"exceptionClass\": \"\", \"trace\": \"\", \"outcomeType\": 4}}, \"*\")",
      "text/plain": [
       "<IPython.core.display.Javascript object>"
      ]
     },
     "metadata": {},
     "output_type": "display_data"
    },
    {
     "data": {
      "text/markdown": [
       "<span style=\"color:#33cc99\">Solution:</span> Malignant tumors have higher values for `'Area (mean)'`, on average. Malignant tumors have a larger range of potential values."
      ],
      "text/plain": [
       "Solution: Malignant tumors have higher values for `'Area (mean)'`, on average. Malignant tumors have a larger range of potential values."
      ]
     },
     "metadata": {},
     "output_type": "display_data"
    }
   ],
   "source": [
    "# Check your answer (Run this code cell to receive credit!)\n",
    "step_3.b.solution()"
   ]
  },
  {
   "cell_type": "markdown",
   "id": "9f623563",
   "metadata": {
    "papermill": {
     "duration": 0.008755,
     "end_time": "2022-06-21T08:59:34.805705",
     "exception": false,
     "start_time": "2022-06-21T08:59:34.796950",
     "status": "completed"
    },
    "tags": []
   },
   "source": [
    "## Step 4: A very useful column\n",
    "\n",
    "#### Part A\n",
    "\n",
    "Use the code cell below to create two KDE plots that show the distribution in values for `'Radius (worst)'`, separately for both benign and malignant tumors.  (_To permit easy comparison, create a single figure containing both KDE plots in the code cell below._)"
   ]
  },
  {
   "cell_type": "code",
   "execution_count": 12,
   "id": "9ad0648a",
   "metadata": {
    "execution": {
     "iopub.execute_input": "2022-06-21T08:59:34.825141Z",
     "iopub.status.busy": "2022-06-21T08:59:34.824533Z",
     "iopub.status.idle": "2022-06-21T08:59:35.063754Z",
     "shell.execute_reply": "2022-06-21T08:59:35.062860Z"
    },
    "papermill": {
     "duration": 0.251497,
     "end_time": "2022-06-21T08:59:35.065884",
     "exception": false,
     "start_time": "2022-06-21T08:59:34.814387",
     "status": "completed"
    },
    "tags": []
   },
   "outputs": [
    {
     "data": {
      "application/javascript": "parent.postMessage({\"jupyterEvent\": \"custom.exercise_interaction\", \"data\": {\"outcomeType\": 1, \"valueTowardsCompletion\": 0.5, \"interactionType\": 1, \"questionType\": 2, \"questionId\": \"4.1_PlotThreshold\", \"learnToolsVersion\": \"0.3.4\", \"failureMessage\": \"\", \"exceptionClass\": \"\", \"trace\": \"\"}}, \"*\")",
      "text/plain": [
       "<IPython.core.display.Javascript object>"
      ]
     },
     "metadata": {},
     "output_type": "display_data"
    },
    {
     "data": {
      "text/markdown": [
       "<span style=\"color:#33cc33\">Correct</span>"
      ],
      "text/plain": [
       "Correct"
      ]
     },
     "metadata": {},
     "output_type": "display_data"
    },
    {
     "data": {
      "image/png": "[encoded data removed]",
      "text/plain": [
       "<Figure size 720x576 with 1 Axes>"
      ]
     },
     "metadata": {
      "needs_background": "light"
     },
     "output_type": "display_data"
    }
   ],
   "source": [
    "plt.figure(figsize=(10, 8))\n",
    "# KDE plots for benign and malignant tumors\n",
    "sns.kdeplot(data=cancer_data, x=\"Radius (worst)\", shade=True, hue=\"Diagnosis\")\n",
    "\n",
    "# Check your answer\n",
    "step_4.a.check()"
   ]
  },
  {
   "cell_type": "code",
   "execution_count": 13,
   "id": "5dc49861",
   "metadata": {
    "execution": {
     "iopub.execute_input": "2022-06-21T08:59:35.089456Z",
     "iopub.status.busy": "2022-06-21T08:59:35.089113Z",
     "iopub.status.idle": "2022-06-21T08:59:35.092801Z",
     "shell.execute_reply": "2022-06-21T08:59:35.091969Z"
    },
    "papermill": {
     "duration": 0.017064,
     "end_time": "2022-06-21T08:59:35.094671",
     "exception": false,
     "start_time": "2022-06-21T08:59:35.077607",
     "status": "completed"
    },
    "tags": []
   },
   "outputs": [],
   "source": [
    "# Lines below will give you a hint or solution code\n",
    "#step_4.a.hint()\n",
    "#step_4.a.solution_plot()"
   ]
  },
  {
   "cell_type": "markdown",
   "id": "4cb20f90",
   "metadata": {
    "papermill": {
     "duration": 0.010054,
     "end_time": "2022-06-21T08:59:35.114973",
     "exception": false,
     "start_time": "2022-06-21T08:59:35.104919",
     "status": "completed"
    },
    "tags": []
   },
   "source": [
    "#### Part B\n",
    "\n",
    "A hospital has recently started using an algorithm that can diagnose tumors with high accuracy.  Given a tumor with a value for `'Radius (worst)'` of 25, do you think the algorithm is more likely to classify the tumor as benign or malignant?"
   ]
  },
  {
   "cell_type": "code",
   "execution_count": 14,
   "id": "a4571588",
   "metadata": {
    "execution": {
     "iopub.execute_input": "2022-06-21T08:59:35.141926Z",
     "iopub.status.busy": "2022-06-21T08:59:35.141424Z",
     "iopub.status.idle": "2022-06-21T08:59:35.148885Z",
     "shell.execute_reply": "2022-06-21T08:59:35.148261Z"
    },
    "papermill": {
     "duration": 0.021224,
     "end_time": "2022-06-21T08:59:35.151004",
     "exception": false,
     "start_time": "2022-06-21T08:59:35.129780",
     "status": "completed"
    },
    "tags": []
   },
   "outputs": [
    {
     "data": {
      "application/javascript": "parent.postMessage({\"jupyterEvent\": \"custom.exercise_interaction\", \"data\": {\"interactionType\": 2, \"questionType\": 4, \"questionId\": \"4.2_ThinkThreshold\", \"learnToolsVersion\": \"0.3.4\", \"valueTowardsCompletion\": 0.0, \"failureMessage\": \"\", \"exceptionClass\": \"\", \"trace\": \"\", \"outcomeType\": 4}}, \"*\")",
      "text/plain": [
       "<IPython.core.display.Javascript object>"
      ]
     },
     "metadata": {},
     "output_type": "display_data"
    },
    {
     "data": {
      "text/markdown": [
       "<span style=\"color:#3366cc\">Hint:</span> Take a look at the KDE plots, and use the legend to tell the difference between malignant and benign tumors.  Around a value of 25, which curve appears higher?"
      ],
      "text/plain": [
       "Hint: Take a look at the KDE plots, and use the legend to tell the difference between malignant and benign tumors.  Around a value of 25, which curve appears higher?"
      ]
     },
     "metadata": {},
     "output_type": "display_data"
    }
   ],
   "source": [
    "step_4.b.hint()    # Malignant"
   ]
  },
  {
   "cell_type": "code",
   "execution_count": 15,
   "id": "ef4e7127",
   "metadata": {
    "execution": {
     "iopub.execute_input": "2022-06-21T08:59:35.178812Z",
     "iopub.status.busy": "2022-06-21T08:59:35.177844Z",
     "iopub.status.idle": "2022-06-21T08:59:35.185645Z",
     "shell.execute_reply": "2022-06-21T08:59:35.184808Z"
    },
    "papermill": {
     "duration": 0.025719,
     "end_time": "2022-06-21T08:59:35.187455",
     "exception": false,
     "start_time": "2022-06-21T08:59:35.161736",
     "status": "completed"
    },
    "tags": []
   },
   "outputs": [
    {
     "data": {
      "application/javascript": "parent.postMessage({\"jupyterEvent\": \"custom.exercise_interaction\", \"data\": {\"interactionType\": 3, \"questionType\": 4, \"questionId\": \"4.2_ThinkThreshold\", \"learnToolsVersion\": \"0.3.4\", \"valueTowardsCompletion\": 0.0, \"failureMessage\": \"\", \"exceptionClass\": \"\", \"trace\": \"\", \"outcomeType\": 4}}, \"*\")",
      "text/plain": [
       "<IPython.core.display.Javascript object>"
      ]
     },
     "metadata": {},
     "output_type": "display_data"
    },
    {
     "data": {
      "text/markdown": [
       "<span style=\"color:#33cc99\">Solution:</span> The algorithm is more likely to classify the tumor as malignant. This is because the curve for malignant tumors is much higher than the curve for benign tumors around a value of 25 -- and an algorithm that gets high accuracy is likely to make decisions based on this pattern in the data."
      ],
      "text/plain": [
       "Solution: The algorithm is more likely to classify the tumor as malignant. This is because the curve for malignant tumors is much higher than the curve for benign tumors around a value of 25 -- and an algorithm that gets high accuracy is likely to make decisions based on this pattern in the data."
      ]
     },
     "metadata": {},
     "output_type": "display_data"
    }
   ],
   "source": [
    "# Check your answer (Run this code cell to receive credit!)\n",
    "step_4.b.solution()"
   ]
  },
  {
   "cell_type": "markdown",
   "id": "4e332ae8",
   "metadata": {
    "papermill": {
     "duration": 0.011065,
     "end_time": "2022-06-21T08:59:35.209721",
     "exception": false,
     "start_time": "2022-06-21T08:59:35.198656",
     "status": "completed"
    },
    "tags": []
   },
   "source": [
    "## Keep going\n",
    "\n",
    "Review all that you've learned and explore how to further customize your plots in the **[next tutorial](https://www.kaggle.com/alexisbcook/choosing-plot-types-and-custom-styles)**!"
   ]
  },
  {
   "cell_type": "markdown",
   "id": "1a0797de",
   "metadata": {
    "papermill": {
     "duration": 0.01007,
     "end_time": "2022-06-21T08:59:35.232564",
     "exception": false,
     "start_time": "2022-06-21T08:59:35.222494",
     "status": "completed"
    },
    "tags": []
   },
   "source": [
    "---\n",
    "\n",
    "\n",
    "\n",
    "\n",
    "*Have questions or comments? Visit the [course discussion forum](https://www.kaggle.com/learn/data-visualization/discussion) to chat with other learners.*"
   ]
  }
 ],
 "metadata": {
  "kernelspec": {
   "display_name": "Python 3",
   "language": "python",
   "name": "python3"
  },
  "language_info": {
   "codemirror_mode": {
    "name": "ipython",
    "version": 3
   },
   "file_extension": ".py",
   "mimetype": "text/x-python",
   "name": "python",
   "nbconvert_exporter": "python",
   "pygments_lexer": "ipython3",
   "version": "3.7.12"
  },
  "papermill": {
   "default_parameters": {},
   "duration": 31.631919,
   "end_time": "2022-06-21T08:59:35.863580",
   "environment_variables": {},
   "exception": null,
   "input_path": "__notebook__.ipynb",
   "output_path": "__notebook__.ipynb",
   "parameters": {},
   "start_time": "2022-06-21T08:59:04.231661",
   "version": "2.3.4"
  }
 },
 "nbformat": 4,
 "nbformat_minor": 5
}

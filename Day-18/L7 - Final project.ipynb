{
 "cells": [
  {
   "cell_type": "markdown",
   "id": "116ddae0",
   "metadata": {
    "papermill": {
     "duration": 0.006044,
     "end_time": "2022-06-21T12:04:12.980633",
     "exception": false,
     "start_time": "2022-06-21T12:04:12.974589",
     "status": "completed"
    },
    "tags": []
   },
   "source": [
    "# [Data Visualization Course](https://www.kaggle.com/learn/data-visualization)\n",
    "by Kaggle\n",
    "\n",
    "## Lesson 6: [Final Project](https://www.kaggle.com/code/alexisbcook/final-project)\n",
    "\n",
    "- [My Notebook](https://www.kaggle.com/code/param302/exercise-final-project)\n",
    "\n",
    "**Dataset used**: [Drug Classification](https://www.kaggle.com/datasets/prathamtripathi/drug-classification)\n",
    "\n",
    "**This notebook is an exercise in the [Data Visualization](https://www.kaggle.com/learn/data-visualization) course.  You can reference the tutorial at [this link](https://www.kaggle.com/alexisbcook/final-project).**\n",
    "\n",
    "---\n"
   ]
  },
  {
   "cell_type": "markdown",
   "id": "8ba225ca",
   "metadata": {
    "papermill": {
     "duration": 0.004551,
     "end_time": "2022-06-21T12:04:12.993235",
     "exception": false,
     "start_time": "2022-06-21T12:04:12.988684",
     "status": "completed"
    },
    "tags": []
   },
   "source": [
    "Now it's time for you to demonstrate your new skills with a project of your own!\n",
    "\n",
    "In this exercise, you will work with a dataset of your choosing.  Once you've selected a dataset, you'll design and create your own plot to tell interesting stories behind the data!\n",
    "\n",
    "## Setup\n",
    "\n",
    "Run the next cell to import and configure the Python libraries that you need to complete the exercise."
   ]
  },
  {
   "cell_type": "code",
   "execution_count": 1,
   "id": "ed0be08c",
   "metadata": {
    "execution": {
     "iopub.execute_input": "2022-06-21T12:04:13.005778Z",
     "iopub.status.busy": "2022-06-21T12:04:13.004968Z",
     "iopub.status.idle": "2022-06-21T12:04:14.308748Z",
     "shell.execute_reply": "2022-06-21T12:04:14.305935Z"
    },
    "papermill": {
     "duration": 1.313934,
     "end_time": "2022-06-21T12:04:14.312117",
     "exception": false,
     "start_time": "2022-06-21T12:04:12.998183",
     "status": "completed"
    },
    "tags": []
   },
   "outputs": [
    {
     "name": "stdout",
     "output_type": "stream",
     "text": [
      "Setup Complete\n"
     ]
    }
   ],
   "source": [
    "import pandas as pd\n",
    "pd.plotting.register_matplotlib_converters()\n",
    "import matplotlib.pyplot as plt\n",
    "%matplotlib inline\n",
    "import seaborn as sns\n",
    "print(\"Setup Complete\")"
   ]
  },
  {
   "cell_type": "markdown",
   "id": "8561b334",
   "metadata": {
    "papermill": {
     "duration": 0.004875,
     "end_time": "2022-06-21T12:04:14.322534",
     "exception": false,
     "start_time": "2022-06-21T12:04:14.317659",
     "status": "completed"
    },
    "tags": []
   },
   "source": [
    "The questions below will give you feedback on your work. Run the following cell to set up the feedback system."
   ]
  },
  {
   "cell_type": "code",
   "execution_count": 2,
   "id": "fb0b3cf8",
   "metadata": {
    "execution": {
     "iopub.execute_input": "2022-06-21T12:04:14.336290Z",
     "iopub.status.busy": "2022-06-21T12:04:14.335799Z",
     "iopub.status.idle": "2022-06-21T12:04:14.381524Z",
     "shell.execute_reply": "2022-06-21T12:04:14.380577Z"
    },
    "papermill": {
     "duration": 0.055048,
     "end_time": "2022-06-21T12:04:14.384077",
     "exception": false,
     "start_time": "2022-06-21T12:04:14.329029",
     "status": "completed"
    },
    "tags": []
   },
   "outputs": [
    {
     "name": "stdout",
     "output_type": "stream",
     "text": [
      "Setup Complete\n"
     ]
    }
   ],
   "source": [
    "# Set up code checking\n",
    "from learntools.core import binder\n",
    "binder.bind(globals())\n",
    "from learntools.data_viz_to_coder.ex7 import *\n",
    "print(\"Setup Complete\")"
   ]
  },
  {
   "cell_type": "markdown",
   "id": "b1da17ed",
   "metadata": {
    "papermill": {
     "duration": 0.004941,
     "end_time": "2022-06-21T12:04:14.394552",
     "exception": false,
     "start_time": "2022-06-21T12:04:14.389611",
     "status": "completed"
    },
    "tags": []
   },
   "source": [
    "## Step 1: Attach a dataset to the notebook\n",
    "\n",
    "Begin by selecting a CSV dataset from [Kaggle Datasets](https://www.kaggle.com/datasets).  If you're unsure how to do this, please revisit the instructions in the previous tutorial.\n",
    "\n",
    "Once you have selected a dataset, click on the **[+ Add data]** option in the top right corner.  This will generate a pop-up window that you can use to search for your chosen dataset.  \n",
    "\n",
    "![ex6_search_dataset](https://i.imgur.com/cIIWPUS.png)\n",
    "\n",
    "Once you have found the dataset, click on the **[Add]** button to attach it to the notebook.  You can check that it was successful by looking at the **Data** dropdown menu to the right of the notebook -- look for an **input** folder containing a subfolder that matches the name of the dataset.\n",
    "\n",
    "<center>\n",
    "<img src=\"https://i.imgur.com/nMYc1Nu.png\" width=30%><br/>\n",
    "</center>\n",
    "\n",
    "You can click on the carat to the left of the name of the dataset to double-check that it contains a CSV file.  For instance, the image below shows that the example dataset contains two CSV files: (1) **dc-wikia-data.csv**, and (2) **marvel-wikia-data.csv**.\n",
    "\n",
    "<center>\n",
    "<img src=\"https://i.imgur.com/B4sJkVA.png\" width=30%><br/>\n",
    "</center>\n",
    "\n",
    "Once you've uploaded a dataset with a CSV file, run the code cell below **without changes** to receive credit for your work!"
   ]
  },
  {
   "cell_type": "code",
   "execution_count": 3,
   "id": "b0087888",
   "metadata": {
    "execution": {
     "iopub.execute_input": "2022-06-21T12:04:14.407119Z",
     "iopub.status.busy": "2022-06-21T12:04:14.406686Z",
     "iopub.status.idle": "2022-06-21T12:04:14.424777Z",
     "shell.execute_reply": "2022-06-21T12:04:14.424027Z"
    },
    "papermill": {
     "duration": 0.02686,
     "end_time": "2022-06-21T12:04:14.426642",
     "exception": false,
     "start_time": "2022-06-21T12:04:14.399782",
     "status": "completed"
    },
    "tags": []
   },
   "outputs": [
    {
     "data": {
      "application/javascript": "parent.postMessage({\"jupyterEvent\": \"custom.exercise_interaction\", \"data\": {\"outcomeType\": 1, \"valueTowardsCompletion\": 0.25, \"interactionType\": 1, \"questionType\": 2, \"questionId\": \"1_AttachData\", \"learnToolsVersion\": \"0.3.4\", \"failureMessage\": \"\", \"exceptionClass\": \"\", \"trace\": \"\"}}, \"*\")",
      "text/plain": [
       "<IPython.core.display.Javascript object>"
      ]
     },
     "metadata": {},
     "output_type": "display_data"
    },
    {
     "data": {
      "text/markdown": [
       "<span style=\"color:#33cc33\">Correct:</span> \n",
       "\n"
      ],
      "text/plain": [
       "Correct: \n"
      ]
     },
     "metadata": {},
     "output_type": "display_data"
    }
   ],
   "source": [
    "# Check for a dataset with a CSV file\n",
    "step_1.check()"
   ]
  },
  {
   "cell_type": "markdown",
   "id": "71ff912d",
   "metadata": {
    "papermill": {
     "duration": 0.004938,
     "end_time": "2022-06-21T12:04:14.436886",
     "exception": false,
     "start_time": "2022-06-21T12:04:14.431948",
     "status": "completed"
    },
    "tags": []
   },
   "source": [
    "## Step 2: Specify the filepath\n",
    "\n",
    "Now that the dataset is attached to the notebook, you can find its filepath.  To do this, begin by clicking on the CSV file you'd like to use.  This will open the CSV file in a tab below the notebook.  You can find the filepath towards the top of this new tab.  \n",
    "\n",
    "![ex6_filepath](https://i.imgur.com/fgXQV47.png)\n",
    "\n",
    "After you find the filepath corresponding to your dataset, fill it in as the value for `my_filepath` in the code cell below, and run the code cell to check that you've provided a valid filepath.  For instance, in the case of this example dataset, we would set\n",
    "```\n",
    "my_filepath = \"../input/fivethirtyeight-comic-characters-dataset/dc-wikia-data.csv\"\n",
    "```  \n",
    "Note that **you must enclose the filepath in quotation marks**; otherwise, the code will return an error.\n",
    "\n",
    "Once you've entered the filepath, you can close the tab below the notebook by clicking on the **[X]** at the top of the tab."
   ]
  },
  {
   "cell_type": "code",
   "execution_count": 4,
   "id": "d35c1085",
   "metadata": {
    "execution": {
     "iopub.execute_input": "2022-06-21T12:04:14.449515Z",
     "iopub.status.busy": "2022-06-21T12:04:14.448784Z",
     "iopub.status.idle": "2022-06-21T12:04:14.456592Z",
     "shell.execute_reply": "2022-06-21T12:04:14.455887Z"
    },
    "papermill": {
     "duration": 0.016374,
     "end_time": "2022-06-21T12:04:14.458433",
     "exception": false,
     "start_time": "2022-06-21T12:04:14.442059",
     "status": "completed"
    },
    "tags": []
   },
   "outputs": [
    {
     "data": {
      "application/javascript": "parent.postMessage({\"jupyterEvent\": \"custom.exercise_interaction\", \"data\": {\"outcomeType\": 1, \"valueTowardsCompletion\": 0.25, \"interactionType\": 1, \"questionType\": 2, \"questionId\": \"2_Filepath\", \"learnToolsVersion\": \"0.3.4\", \"failureMessage\": \"\", \"exceptionClass\": \"\", \"trace\": \"\"}}, \"*\")",
      "text/plain": [
       "<IPython.core.display.Javascript object>"
      ]
     },
     "metadata": {},
     "output_type": "display_data"
    },
    {
     "data": {
      "text/markdown": [
       "<span style=\"color:#33cc33\">Correct:</span> \n",
       "\n"
      ],
      "text/plain": [
       "Correct: \n"
      ]
     },
     "metadata": {},
     "output_type": "display_data"
    }
   ],
   "source": [
    "# Fill in the line below: Specify the path of the CSV file to read\n",
    "my_filepath = \"../input/drug-classification/drug200.csv\"\n",
    "\n",
    "# Check for a valid filepath to a CSV file in a dataset\n",
    "step_2.check()"
   ]
  },
  {
   "cell_type": "markdown",
   "id": "97e609c2",
   "metadata": {
    "papermill": {
     "duration": 0.005168,
     "end_time": "2022-06-21T12:04:14.469193",
     "exception": false,
     "start_time": "2022-06-21T12:04:14.464025",
     "status": "completed"
    },
    "tags": []
   },
   "source": [
    "## Step 3: Load the data\n",
    "\n",
    "Use the next code cell to load your data file into `my_data`.  Use the filepath that you specified in the previous step."
   ]
  },
  {
   "cell_type": "code",
   "execution_count": 5,
   "id": "bec48008",
   "metadata": {
    "execution": {
     "iopub.execute_input": "2022-06-21T12:04:14.482283Z",
     "iopub.status.busy": "2022-06-21T12:04:14.481531Z",
     "iopub.status.idle": "2022-06-21T12:04:14.502501Z",
     "shell.execute_reply": "2022-06-21T12:04:14.501420Z"
    },
    "papermill": {
     "duration": 0.030014,
     "end_time": "2022-06-21T12:04:14.504590",
     "exception": false,
     "start_time": "2022-06-21T12:04:14.474576",
     "status": "completed"
    },
    "tags": []
   },
   "outputs": [
    {
     "data": {
      "application/javascript": "parent.postMessage({\"jupyterEvent\": \"custom.exercise_interaction\", \"data\": {\"outcomeType\": 1, \"valueTowardsCompletion\": 0.25, \"interactionType\": 1, \"questionType\": 2, \"questionId\": \"3_LoadData\", \"learnToolsVersion\": \"0.3.4\", \"failureMessage\": \"\", \"exceptionClass\": \"\", \"trace\": \"\"}}, \"*\")",
      "text/plain": [
       "<IPython.core.display.Javascript object>"
      ]
     },
     "metadata": {},
     "output_type": "display_data"
    },
    {
     "data": {
      "text/markdown": [
       "<span style=\"color:#33cc33\">Correct:</span> \n",
       "\n"
      ],
      "text/plain": [
       "Correct: \n"
      ]
     },
     "metadata": {},
     "output_type": "display_data"
    }
   ],
   "source": [
    "# Fill in the line below: Read the file into a variable my_data\n",
    "my_data = pd.read_csv(my_filepath)\n",
    "\n",
    "# Check that a dataset has been uploaded into my_data\n",
    "step_3.check()"
   ]
  },
  {
   "cell_type": "markdown",
   "id": "7598a820",
   "metadata": {
    "papermill": {
     "duration": 0.005527,
     "end_time": "2022-06-21T12:04:14.516116",
     "exception": false,
     "start_time": "2022-06-21T12:04:14.510589",
     "status": "completed"
    },
    "tags": []
   },
   "source": [
    "**_After the code cell above is marked correct_**, run the code cell below without changes to view the first five rows of the data."
   ]
  },
  {
   "cell_type": "code",
   "execution_count": 6,
   "id": "7c9f930d",
   "metadata": {
    "execution": {
     "iopub.execute_input": "2022-06-21T12:04:14.530117Z",
     "iopub.status.busy": "2022-06-21T12:04:14.529313Z",
     "iopub.status.idle": "2022-06-21T12:04:14.551273Z",
     "shell.execute_reply": "2022-06-21T12:04:14.550033Z"
    },
    "papermill": {
     "duration": 0.031608,
     "end_time": "2022-06-21T12:04:14.553544",
     "exception": false,
     "start_time": "2022-06-21T12:04:14.521936",
     "status": "completed"
    },
    "tags": []
   },
   "outputs": [
    {
     "data": {
      "text/html": [
       "<div>\n",
       "<style scoped>\n",
       "    .dataframe tbody tr th:only-of-type {\n",
       "        vertical-align: middle;\n",
       "    }\n",
       "\n",
       "    .dataframe tbody tr th {\n",
       "        vertical-align: top;\n",
       "    }\n",
       "\n",
       "    .dataframe thead th {\n",
       "        text-align: right;\n",
       "    }\n",
       "</style>\n",
       "<table border=\"1\" class=\"dataframe\">\n",
       "  <thead>\n",
       "    <tr style=\"text-align: right;\">\n",
       "      <th></th>\n",
       "      <th>Age</th>\n",
       "      <th>Sex</th>\n",
       "      <th>BP</th>\n",
       "      <th>Cholesterol</th>\n",
       "      <th>Na_to_K</th>\n",
       "      <th>Drug</th>\n",
       "    </tr>\n",
       "  </thead>\n",
       "  <tbody>\n",
       "    <tr>\n",
       "      <th>0</th>\n",
       "      <td>23</td>\n",
       "      <td>F</td>\n",
       "      <td>HIGH</td>\n",
       "      <td>HIGH</td>\n",
       "      <td>25.355</td>\n",
       "      <td>DrugY</td>\n",
       "    </tr>\n",
       "    <tr>\n",
       "      <th>1</th>\n",
       "      <td>47</td>\n",
       "      <td>M</td>\n",
       "      <td>LOW</td>\n",
       "      <td>HIGH</td>\n",
       "      <td>13.093</td>\n",
       "      <td>drugC</td>\n",
       "    </tr>\n",
       "    <tr>\n",
       "      <th>2</th>\n",
       "      <td>47</td>\n",
       "      <td>M</td>\n",
       "      <td>LOW</td>\n",
       "      <td>HIGH</td>\n",
       "      <td>10.114</td>\n",
       "      <td>drugC</td>\n",
       "    </tr>\n",
       "    <tr>\n",
       "      <th>3</th>\n",
       "      <td>28</td>\n",
       "      <td>F</td>\n",
       "      <td>NORMAL</td>\n",
       "      <td>HIGH</td>\n",
       "      <td>7.798</td>\n",
       "      <td>drugX</td>\n",
       "    </tr>\n",
       "    <tr>\n",
       "      <th>4</th>\n",
       "      <td>61</td>\n",
       "      <td>F</td>\n",
       "      <td>LOW</td>\n",
       "      <td>HIGH</td>\n",
       "      <td>18.043</td>\n",
       "      <td>DrugY</td>\n",
       "    </tr>\n",
       "  </tbody>\n",
       "</table>\n",
       "</div>"
      ],
      "text/plain": [
       "   Age Sex      BP Cholesterol  Na_to_K   Drug\n",
       "0   23   F    HIGH        HIGH   25.355  DrugY\n",
       "1   47   M     LOW        HIGH   13.093  drugC\n",
       "2   47   M     LOW        HIGH   10.114  drugC\n",
       "3   28   F  NORMAL        HIGH    7.798  drugX\n",
       "4   61   F     LOW        HIGH   18.043  DrugY"
      ]
     },
     "execution_count": 6,
     "metadata": {},
     "output_type": "execute_result"
    }
   ],
   "source": [
    "# Print the first five rows of the data\n",
    "my_data.head()"
   ]
  },
  {
   "cell_type": "markdown",
   "id": "e3b52dcb",
   "metadata": {
    "papermill": {
     "duration": 0.005955,
     "end_time": "2022-06-21T12:04:14.565845",
     "exception": false,
     "start_time": "2022-06-21T12:04:14.559890",
     "status": "completed"
    },
    "tags": []
   },
   "source": [
    "## Step 4: Visualize the data\n",
    "\n",
    "Use the next code cell to create a figure that tells a story behind your dataset.  You can use any chart type (_line chart, bar chart, heatmap, etc_) of your choosing!"
   ]
  },
  {
   "cell_type": "code",
   "execution_count": 7,
   "id": "dfe78fc9",
   "metadata": {
    "execution": {
     "iopub.execute_input": "2022-06-21T12:04:14.581023Z",
     "iopub.status.busy": "2022-06-21T12:04:14.580186Z",
     "iopub.status.idle": "2022-06-21T12:04:14.915058Z",
     "shell.execute_reply": "2022-06-21T12:04:14.914246Z"
    },
    "papermill": {
     "duration": 0.346208,
     "end_time": "2022-06-21T12:04:14.918230",
     "exception": false,
     "start_time": "2022-06-21T12:04:14.572022",
     "status": "completed"
    },
    "tags": []
   },
   "outputs": [
    {
     "data": {
      "application/javascript": "parent.postMessage({\"jupyterEvent\": \"custom.exercise_interaction\", \"data\": {\"outcomeType\": 1, \"valueTowardsCompletion\": 0.25, \"interactionType\": 1, \"questionType\": 2, \"questionId\": \"4_CreatePlot\", \"learnToolsVersion\": \"0.3.4\", \"failureMessage\": \"\", \"exceptionClass\": \"\", \"trace\": \"\"}}, \"*\")",
      "text/plain": [
       "<IPython.core.display.Javascript object>"
      ]
     },
     "metadata": {},
     "output_type": "display_data"
    },
    {
     "data": {
      "text/markdown": [
       "<span style=\"color:#33cc33\">Correct:</span> \n",
       "\n"
      ],
      "text/plain": [
       "Correct: \n"
      ]
     },
     "metadata": {},
     "output_type": "display_data"
    },
    {
     "data": {
      "image/png": "[encoded data removed]",
      "text/plain": [
       "<Figure size 864x576 with 1 Axes>"
      ]
     },
     "metadata": {
      "needs_background": "light"
     },
     "output_type": "display_data"
    }
   ],
   "source": [
    "# Create a plot\n",
    "# Your code here\n",
    "# Heatmap\n",
    "plt.figure(figsize=(12, 8))\n",
    "sns.set_style(\"darkgrid\")\n",
    "sns.swarmplot(x=\"Drug\", y=\"Age\", data=my_data, size=10)\n",
    "\n",
    "# Check that a figure appears below\n",
    "step_4.check()"
   ]
  },
  {
   "cell_type": "markdown",
   "id": "fa238d53",
   "metadata": {
    "papermill": {
     "duration": 0.006936,
     "end_time": "2022-06-21T12:04:14.933652",
     "exception": false,
     "start_time": "2022-06-21T12:04:14.926716",
     "status": "completed"
    },
    "tags": []
   },
   "source": [
    "## Keep going\n",
    "\n",
    "Learn how to use your skills after completing the micro-course to create data visualizations in a **[final tutorial](https://www.kaggle.com/alexisbcook/creating-your-own-notebooks)**."
   ]
  },
  {
   "cell_type": "markdown",
   "id": "fdb5e519",
   "metadata": {
    "papermill": {
     "duration": 0.006854,
     "end_time": "2022-06-21T12:04:14.947772",
     "exception": false,
     "start_time": "2022-06-21T12:04:14.940918",
     "status": "completed"
    },
    "tags": []
   },
   "source": [
    "---\n",
    "\n",
    "\n",
    "\n",
    "\n",
    "*Have questions or comments? Visit the [course discussion forum](https://www.kaggle.com/learn/data-visualization/discussion) to chat with other learners.*"
   ]
  }
 ],
 "metadata": {
  "kernelspec": {
   "display_name": "Python 3",
   "language": "python",
   "name": "python3"
  },
  "language_info": {
   "codemirror_mode": {
    "name": "ipython",
    "version": 3
   },
   "file_extension": ".py",
   "mimetype": "text/x-python",
   "name": "python",
   "nbconvert_exporter": "python",
   "pygments_lexer": "ipython3",
   "version": "3.7.12"
  },
  "papermill": {
   "default_parameters": {},
   "duration": 14.044494,
   "end_time": "2022-06-21T12:04:15.980004",
   "environment_variables": {},
   "exception": null,
   "input_path": "__notebook__.ipynb",
   "output_path": "__notebook__.ipynb",
   "parameters": {},
   "start_time": "2022-06-21T12:04:01.935510",
   "version": "2.3.4"
  }
 },
 "nbformat": 4,
 "nbformat_minor": 5
}

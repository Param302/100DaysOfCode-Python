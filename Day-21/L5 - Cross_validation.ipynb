{
 "cells": [
  {
   "cell_type": "markdown",
   "id": "47d6b675",
   "metadata": {
    "papermill": {
     "duration": 0.007815,
     "end_time": "2022-06-24T17:05:38.171847",
     "exception": false,
     "start_time": "2022-06-24T17:05:38.164032",
     "status": "completed"
    },
    "tags": []
   },
   "source": [
    "# Kaggle's [Intermediate Machine Learning](https://www.kaggle.com/learn/intermediate-machine-learning) course\n",
    "\n",
    "- Lesson 5: [Cross Validation](https://www.kaggle.com/code/alexisbcook/cross-validation) - [My Notebook](https://www.kaggle.com/code/param302/exercise-cross-validation)\n",
    "---"
   ]
  },
  {
   "cell_type": "markdown",
   "id": "311fc054",
   "metadata": {
    "papermill": {
     "duration": 0.006387,
     "end_time": "2022-06-24T17:05:38.185220",
     "exception": false,
     "start_time": "2022-06-24T17:05:38.178833",
     "status": "completed"
    },
    "tags": []
   },
   "source": [
    "In this exercise, you will leverage what you've learned to tune a machine learning model with **cross-validation**.\n",
    "\n",
    "# Setup\n",
    "\n",
    "The questions below will give you feedback on your work. Run the following cell to set up the feedback system."
   ]
  },
  {
   "cell_type": "code",
   "execution_count": 1,
   "id": "fda1a69e",
   "metadata": {
    "execution": {
     "iopub.execute_input": "2022-06-24T17:05:38.202022Z",
     "iopub.status.busy": "2022-06-24T17:05:38.201310Z",
     "iopub.status.idle": "2022-06-24T17:05:38.265765Z",
     "shell.execute_reply": "2022-06-24T17:05:38.264920Z"
    },
    "papermill": {
     "duration": 0.076068,
     "end_time": "2022-06-24T17:05:38.268584",
     "exception": false,
     "start_time": "2022-06-24T17:05:38.192516",
     "status": "completed"
    },
    "tags": []
   },
   "outputs": [
    {
     "name": "stdout",
     "output_type": "stream",
     "text": [
      "Setup Complete\n"
     ]
    }
   ],
   "source": [
    "# Set up code checking\n",
    "import os\n",
    "if not os.path.exists(\"../input/train.csv\"):\n",
    "    os.symlink(\"../input/home-data-for-ml-course/train.csv\", \"../input/train.csv\")  \n",
    "    os.symlink(\"../input/home-data-for-ml-course/test.csv\", \"../input/test.csv\") \n",
    "from learntools.core import binder\n",
    "binder.bind(globals())\n",
    "from learntools.ml_intermediate.ex5 import *\n",
    "print(\"Setup Complete\")"
   ]
  },
  {
   "cell_type": "markdown",
   "id": "7f6052f3",
   "metadata": {
    "papermill": {
     "duration": 0.006862,
     "end_time": "2022-06-24T17:05:38.282281",
     "exception": false,
     "start_time": "2022-06-24T17:05:38.275419",
     "status": "completed"
    },
    "tags": []
   },
   "source": [
    "You will work with the [Housing Prices Competition for Kaggle Learn Users](https://www.kaggle.com/c/home-data-for-ml-course) from the previous exercise. \n",
    "\n",
    "![Ames Housing dataset image](https://i.imgur.com/lTJVG4e.png)\n",
    "\n",
    "Run the next code cell without changes to load the training and test data in `X` and `X_test`.  For simplicity, we drop categorical variables."
   ]
  },
  {
   "cell_type": "code",
   "execution_count": 2,
   "id": "6db76dd1",
   "metadata": {
    "execution": {
     "iopub.execute_input": "2022-06-24T17:05:38.297906Z",
     "iopub.status.busy": "2022-06-24T17:05:38.297105Z",
     "iopub.status.idle": "2022-06-24T17:05:39.739246Z",
     "shell.execute_reply": "2022-06-24T17:05:39.738216Z"
    },
    "papermill": {
     "duration": 1.453152,
     "end_time": "2022-06-24T17:05:39.742280",
     "exception": false,
     "start_time": "2022-06-24T17:05:38.289128",
     "status": "completed"
    },
    "tags": []
   },
   "outputs": [],
   "source": [
    "import pandas as pd\n",
    "from sklearn.model_selection import train_test_split\n",
    "\n",
    "# Read the data\n",
    "train_data = pd.read_csv('../input/train.csv', index_col='Id')\n",
    "test_data = pd.read_csv('../input/test.csv', index_col='Id')\n",
    "\n",
    "# Remove rows with missing target, separate target from predictors\n",
    "train_data.dropna(axis=0, subset=['SalePrice'], inplace=True)\n",
    "y = train_data.SalePrice              \n",
    "train_data.drop(['SalePrice'], axis=1, inplace=True)\n",
    "\n",
    "# Select numeric columns only\n",
    "numeric_cols = [cname for cname in train_data.columns if train_data[cname].dtype in ['int64', 'float64']]\n",
    "X = train_data[numeric_cols].copy()\n",
    "X_test = test_data[numeric_cols].copy()"
   ]
  },
  {
   "cell_type": "markdown",
   "id": "8c9c062b",
   "metadata": {
    "papermill": {
     "duration": 0.006976,
     "end_time": "2022-06-24T17:05:39.756794",
     "exception": false,
     "start_time": "2022-06-24T17:05:39.749818",
     "status": "completed"
    },
    "tags": []
   },
   "source": [
    "Use the next code cell to print the first several rows of the data."
   ]
  },
  {
   "cell_type": "code",
   "execution_count": 3,
   "id": "6d1fcb36",
   "metadata": {
    "execution": {
     "iopub.execute_input": "2022-06-24T17:05:39.772672Z",
     "iopub.status.busy": "2022-06-24T17:05:39.772298Z",
     "iopub.status.idle": "2022-06-24T17:05:39.804456Z",
     "shell.execute_reply": "2022-06-24T17:05:39.803194Z"
    },
    "papermill": {
     "duration": 0.043492,
     "end_time": "2022-06-24T17:05:39.807376",
     "exception": false,
     "start_time": "2022-06-24T17:05:39.763884",
     "status": "completed"
    },
    "tags": []
   },
   "outputs": [
    {
     "data": {
      "text/html": [
       "<div>\n",
       "<style scoped>\n",
       "    .dataframe tbody tr th:only-of-type {\n",
       "        vertical-align: middle;\n",
       "    }\n",
       "\n",
       "    .dataframe tbody tr th {\n",
       "        vertical-align: top;\n",
       "    }\n",
       "\n",
       "    .dataframe thead th {\n",
       "        text-align: right;\n",
       "    }\n",
       "</style>\n",
       "<table border=\"1\" class=\"dataframe\">\n",
       "  <thead>\n",
       "    <tr style=\"text-align: right;\">\n",
       "      <th></th>\n",
       "      <th>MSSubClass</th>\n",
       "      <th>LotFrontage</th>\n",
       "      <th>LotArea</th>\n",
       "      <th>OverallQual</th>\n",
       "      <th>OverallCond</th>\n",
       "      <th>YearBuilt</th>\n",
       "      <th>YearRemodAdd</th>\n",
       "      <th>MasVnrArea</th>\n",
       "      <th>BsmtFinSF1</th>\n",
       "      <th>BsmtFinSF2</th>\n",
       "      <th>...</th>\n",
       "      <th>GarageArea</th>\n",
       "      <th>WoodDeckSF</th>\n",
       "      <th>OpenPorchSF</th>\n",
       "      <th>EnclosedPorch</th>\n",
       "      <th>3SsnPorch</th>\n",
       "      <th>ScreenPorch</th>\n",
       "      <th>PoolArea</th>\n",
       "      <th>MiscVal</th>\n",
       "      <th>MoSold</th>\n",
       "      <th>YrSold</th>\n",
       "    </tr>\n",
       "    <tr>\n",
       "      <th>Id</th>\n",
       "      <th></th>\n",
       "      <th></th>\n",
       "      <th></th>\n",
       "      <th></th>\n",
       "      <th></th>\n",
       "      <th></th>\n",
       "      <th></th>\n",
       "      <th></th>\n",
       "      <th></th>\n",
       "      <th></th>\n",
       "      <th></th>\n",
       "      <th></th>\n",
       "      <th></th>\n",
       "      <th></th>\n",
       "      <th></th>\n",
       "      <th></th>\n",
       "      <th></th>\n",
       "      <th></th>\n",
       "      <th></th>\n",
       "      <th></th>\n",
       "      <th></th>\n",
       "    </tr>\n",
       "  </thead>\n",
       "  <tbody>\n",
       "    <tr>\n",
       "      <th>1</th>\n",
       "      <td>60</td>\n",
       "      <td>65.0</td>\n",
       "      <td>8450</td>\n",
       "      <td>7</td>\n",
       "      <td>5</td>\n",
       "      <td>2003</td>\n",
       "      <td>2003</td>\n",
       "      <td>196.0</td>\n",
       "      <td>706</td>\n",
       "      <td>0</td>\n",
       "      <td>...</td>\n",
       "      <td>548</td>\n",
       "      <td>0</td>\n",
       "      <td>61</td>\n",
       "      <td>0</td>\n",
       "      <td>0</td>\n",
       "      <td>0</td>\n",
       "      <td>0</td>\n",
       "      <td>0</td>\n",
       "      <td>2</td>\n",
       "      <td>2008</td>\n",
       "    </tr>\n",
       "    <tr>\n",
       "      <th>2</th>\n",
       "      <td>20</td>\n",
       "      <td>80.0</td>\n",
       "      <td>9600</td>\n",
       "      <td>6</td>\n",
       "      <td>8</td>\n",
       "      <td>1976</td>\n",
       "      <td>1976</td>\n",
       "      <td>0.0</td>\n",
       "      <td>978</td>\n",
       "      <td>0</td>\n",
       "      <td>...</td>\n",
       "      <td>460</td>\n",
       "      <td>298</td>\n",
       "      <td>0</td>\n",
       "      <td>0</td>\n",
       "      <td>0</td>\n",
       "      <td>0</td>\n",
       "      <td>0</td>\n",
       "      <td>0</td>\n",
       "      <td>5</td>\n",
       "      <td>2007</td>\n",
       "    </tr>\n",
       "    <tr>\n",
       "      <th>3</th>\n",
       "      <td>60</td>\n",
       "      <td>68.0</td>\n",
       "      <td>11250</td>\n",
       "      <td>7</td>\n",
       "      <td>5</td>\n",
       "      <td>2001</td>\n",
       "      <td>2002</td>\n",
       "      <td>162.0</td>\n",
       "      <td>486</td>\n",
       "      <td>0</td>\n",
       "      <td>...</td>\n",
       "      <td>608</td>\n",
       "      <td>0</td>\n",
       "      <td>42</td>\n",
       "      <td>0</td>\n",
       "      <td>0</td>\n",
       "      <td>0</td>\n",
       "      <td>0</td>\n",
       "      <td>0</td>\n",
       "      <td>9</td>\n",
       "      <td>2008</td>\n",
       "    </tr>\n",
       "    <tr>\n",
       "      <th>4</th>\n",
       "      <td>70</td>\n",
       "      <td>60.0</td>\n",
       "      <td>9550</td>\n",
       "      <td>7</td>\n",
       "      <td>5</td>\n",
       "      <td>1915</td>\n",
       "      <td>1970</td>\n",
       "      <td>0.0</td>\n",
       "      <td>216</td>\n",
       "      <td>0</td>\n",
       "      <td>...</td>\n",
       "      <td>642</td>\n",
       "      <td>0</td>\n",
       "      <td>35</td>\n",
       "      <td>272</td>\n",
       "      <td>0</td>\n",
       "      <td>0</td>\n",
       "      <td>0</td>\n",
       "      <td>0</td>\n",
       "      <td>2</td>\n",
       "      <td>2006</td>\n",
       "    </tr>\n",
       "    <tr>\n",
       "      <th>5</th>\n",
       "      <td>60</td>\n",
       "      <td>84.0</td>\n",
       "      <td>14260</td>\n",
       "      <td>8</td>\n",
       "      <td>5</td>\n",
       "      <td>2000</td>\n",
       "      <td>2000</td>\n",
       "      <td>350.0</td>\n",
       "      <td>655</td>\n",
       "      <td>0</td>\n",
       "      <td>...</td>\n",
       "      <td>836</td>\n",
       "      <td>192</td>\n",
       "      <td>84</td>\n",
       "      <td>0</td>\n",
       "      <td>0</td>\n",
       "      <td>0</td>\n",
       "      <td>0</td>\n",
       "      <td>0</td>\n",
       "      <td>12</td>\n",
       "      <td>2008</td>\n",
       "    </tr>\n",
       "  </tbody>\n",
       "</table>\n",
       "<p>5 rows × 36 columns</p>\n",
       "</div>"
      ],
      "text/plain": [
       "    MSSubClass  LotFrontage  LotArea  OverallQual  OverallCond  YearBuilt  \\\n",
       "Id                                                                          \n",
       "1           60         65.0     8450            7            5       2003   \n",
       "2           20         80.0     9600            6            8       1976   \n",
       "3           60         68.0    11250            7            5       2001   \n",
       "4           70         60.0     9550            7            5       1915   \n",
       "5           60         84.0    14260            8            5       2000   \n",
       "\n",
       "    YearRemodAdd  MasVnrArea  BsmtFinSF1  BsmtFinSF2  ...  GarageArea  \\\n",
       "Id                                                    ...               \n",
       "1           2003       196.0         706           0  ...         548   \n",
       "2           1976         0.0         978           0  ...         460   \n",
       "3           2002       162.0         486           0  ...         608   \n",
       "4           1970         0.0         216           0  ...         642   \n",
       "5           2000       350.0         655           0  ...         836   \n",
       "\n",
       "    WoodDeckSF  OpenPorchSF  EnclosedPorch  3SsnPorch  ScreenPorch  PoolArea  \\\n",
       "Id                                                                             \n",
       "1            0           61              0          0            0         0   \n",
       "2          298            0              0          0            0         0   \n",
       "3            0           42              0          0            0         0   \n",
       "4            0           35            272          0            0         0   \n",
       "5          192           84              0          0            0         0   \n",
       "\n",
       "    MiscVal  MoSold  YrSold  \n",
       "Id                           \n",
       "1         0       2    2008  \n",
       "2         0       5    2007  \n",
       "3         0       9    2008  \n",
       "4         0       2    2006  \n",
       "5         0      12    2008  \n",
       "\n",
       "[5 rows x 36 columns]"
      ]
     },
     "execution_count": 3,
     "metadata": {},
     "output_type": "execute_result"
    }
   ],
   "source": [
    "X.head()"
   ]
  },
  {
   "cell_type": "markdown",
   "id": "ca390530",
   "metadata": {
    "papermill": {
     "duration": 0.007065,
     "end_time": "2022-06-24T17:05:39.822094",
     "exception": false,
     "start_time": "2022-06-24T17:05:39.815029",
     "status": "completed"
    },
    "tags": []
   },
   "source": [
    "So far, you've learned how to build pipelines with scikit-learn.  For instance, the pipeline below will use [`SimpleImputer()`](https://scikit-learn.org/stable/modules/generated/sklearn.impute.SimpleImputer.html) to replace missing values in the data, before using [`RandomForestRegressor()`](https://scikit-learn.org/stable/modules/generated/sklearn.ensemble.RandomForestRegressor.html) to train a random forest model to make predictions.  We set the number of trees in the random forest model with the `n_estimators` parameter, and setting `random_state` ensures reproducibility."
   ]
  },
  {
   "cell_type": "code",
   "execution_count": 4,
   "id": "c5fe47a6",
   "metadata": {
    "execution": {
     "iopub.execute_input": "2022-06-24T17:05:39.838797Z",
     "iopub.status.busy": "2022-06-24T17:05:39.838352Z",
     "iopub.status.idle": "2022-06-24T17:05:40.101364Z",
     "shell.execute_reply": "2022-06-24T17:05:40.100079Z"
    },
    "papermill": {
     "duration": 0.274507,
     "end_time": "2022-06-24T17:05:40.104121",
     "exception": false,
     "start_time": "2022-06-24T17:05:39.829614",
     "status": "completed"
    },
    "tags": []
   },
   "outputs": [],
   "source": [
    "from sklearn.ensemble import RandomForestRegressor\n",
    "from sklearn.pipeline import Pipeline\n",
    "from sklearn.impute import SimpleImputer\n",
    "\n",
    "my_pipeline = Pipeline(steps=[\n",
    "    ('preprocessor', SimpleImputer()),\n",
    "    ('model', RandomForestRegressor(n_estimators=50, random_state=0))\n",
    "])"
   ]
  },
  {
   "cell_type": "markdown",
   "id": "fa5b8b22",
   "metadata": {
    "papermill": {
     "duration": 0.007367,
     "end_time": "2022-06-24T17:05:40.119156",
     "exception": false,
     "start_time": "2022-06-24T17:05:40.111789",
     "status": "completed"
    },
    "tags": []
   },
   "source": [
    "You have also learned how to use pipelines in cross-validation.  The code below uses the [`cross_val_score()`](https://scikit-learn.org/stable/modules/generated/sklearn.model_selection.cross_val_score.html) function to obtain the mean absolute error (MAE), averaged across five different folds.  Recall we set the number of folds with the `cv` parameter."
   ]
  },
  {
   "cell_type": "code",
   "execution_count": 5,
   "id": "306268a5",
   "metadata": {
    "execution": {
     "iopub.execute_input": "2022-06-24T17:05:40.136258Z",
     "iopub.status.busy": "2022-06-24T17:05:40.135828Z",
     "iopub.status.idle": "2022-06-24T17:05:43.624805Z",
     "shell.execute_reply": "2022-06-24T17:05:43.623802Z"
    },
    "papermill": {
     "duration": 3.499873,
     "end_time": "2022-06-24T17:05:43.626716",
     "exception": false,
     "start_time": "2022-06-24T17:05:40.126843",
     "status": "completed"
    },
    "tags": []
   },
   "outputs": [
    {
     "name": "stdout",
     "output_type": "stream",
     "text": [
      "Average MAE score: 18276.410356164386\n"
     ]
    }
   ],
   "source": [
    "from sklearn.model_selection import cross_val_score\n",
    "\n",
    "# Multiply by -1 since sklearn calculates *negative* MAE\n",
    "scores = -1 * cross_val_score(my_pipeline, X, y,\n",
    "                              cv=5,\n",
    "                              scoring='neg_mean_absolute_error')\n",
    "\n",
    "print(\"Average MAE score:\", scores.mean())"
   ]
  },
  {
   "cell_type": "markdown",
   "id": "4e8b1b94",
   "metadata": {
    "papermill": {
     "duration": 0.005193,
     "end_time": "2022-06-24T17:05:43.637407",
     "exception": false,
     "start_time": "2022-06-24T17:05:43.632214",
     "status": "completed"
    },
    "tags": []
   },
   "source": [
    "# Step 1: Write a useful function\n",
    "\n",
    "In this exercise, you'll use cross-validation to select parameters for a machine learning model.\n",
    "\n",
    "Begin by writing a function `get_score()` that reports the average (over three cross-validation folds) MAE of a machine learning pipeline that uses:\n",
    "- the data in `X` and `y` to create folds,\n",
    "- `SimpleImputer()` (with all parameters left as default) to replace missing values, and\n",
    "- `RandomForestRegressor()` (with `random_state=0`) to fit a random forest model.\n",
    "\n",
    "The `n_estimators` parameter supplied to `get_score()` is used when setting the number of trees in the random forest model.  "
   ]
  },
  {
   "cell_type": "code",
   "execution_count": 6,
   "id": "66e92447",
   "metadata": {
    "execution": {
     "iopub.execute_input": "2022-06-24T17:05:43.652125Z",
     "iopub.status.busy": "2022-06-24T17:05:43.651252Z",
     "iopub.status.idle": "2022-06-24T17:05:44.889945Z",
     "shell.execute_reply": "2022-06-24T17:05:44.888754Z"
    },
    "papermill": {
     "duration": 1.24999,
     "end_time": "2022-06-24T17:05:44.892442",
     "exception": false,
     "start_time": "2022-06-24T17:05:43.642452",
     "status": "completed"
    },
    "tags": []
   },
   "outputs": [
    {
     "data": {
      "application/javascript": "parent.postMessage({\"jupyterEvent\": \"custom.exercise_interaction\", \"data\": {\"outcomeType\": 1, \"valueTowardsCompletion\": 0.3333333333333333, \"interactionType\": 1, \"questionType\": 2, \"questionId\": \"1_GetScore\", \"learnToolsVersion\": \"0.3.4\", \"failureMessage\": \"\", \"exceptionClass\": \"\", \"trace\": \"\"}}, \"*\")",
      "text/plain": [
       "<IPython.core.display.Javascript object>"
      ]
     },
     "metadata": {},
     "output_type": "display_data"
    },
    {
     "data": {
      "text/markdown": [
       "<span style=\"color:#33cc33\">Correct</span>"
      ],
      "text/plain": [
       "Correct"
      ]
     },
     "metadata": {},
     "output_type": "display_data"
    }
   ],
   "source": [
    "def get_score(n_estimators):\n",
    "    \"\"\"Return the average MAE over 3 CV folds of random forest model.\n",
    "    \n",
    "    Keyword argument:\n",
    "    n_estimators -- the number of trees in the forest\n",
    "    \"\"\"\n",
    "    # Replace this body with your own code\n",
    "    pipeline = Pipeline(steps=[(\"imputer\", SimpleImputer()), \n",
    "                               (\"model\", RandomForestRegressor(n_estimators=n_estimators, random_state=0))\n",
    "                              ])\n",
    "    scores =  -1 * cross_val_score(pipeline, X, y, cv=3,\n",
    "                                 scoring=\"neg_mean_absolute_error\")\n",
    "    return scores.mean()\n",
    "\n",
    "# Check your answer\n",
    "step_1.check()"
   ]
  },
  {
   "cell_type": "code",
   "execution_count": 7,
   "id": "51af4be2",
   "metadata": {
    "execution": {
     "iopub.execute_input": "2022-06-24T17:05:44.910077Z",
     "iopub.status.busy": "2022-06-24T17:05:44.909771Z",
     "iopub.status.idle": "2022-06-24T17:05:44.915479Z",
     "shell.execute_reply": "2022-06-24T17:05:44.914354Z"
    },
    "papermill": {
     "duration": 0.017321,
     "end_time": "2022-06-24T17:05:44.917748",
     "exception": false,
     "start_time": "2022-06-24T17:05:44.900427",
     "status": "completed"
    },
    "tags": []
   },
   "outputs": [],
   "source": [
    "# Lines below will give you a hint or solution code\n",
    "#step_1.hint()\n",
    "#step_1.solution()"
   ]
  },
  {
   "cell_type": "markdown",
   "id": "dc2cd325",
   "metadata": {
    "papermill": {
     "duration": 0.004822,
     "end_time": "2022-06-24T17:05:44.927850",
     "exception": false,
     "start_time": "2022-06-24T17:05:44.923028",
     "status": "completed"
    },
    "tags": []
   },
   "source": [
    "# Step 2: Test different parameter values\n",
    "\n",
    "Now, you will use the function that you defined in Step 1 to evaluate the model performance corresponding to eight different values for the number of trees in the random forest: 50, 100, 150, ..., 300, 350, 400.\n",
    "\n",
    "Store your results in a Python dictionary `results`, where `results[i]` is the average MAE returned by `get_score(i)`."
   ]
  },
  {
   "cell_type": "code",
   "execution_count": 8,
   "id": "2bb293c2",
   "metadata": {
    "execution": {
     "iopub.execute_input": "2022-06-24T17:05:44.939697Z",
     "iopub.status.busy": "2022-06-24T17:05:44.939346Z",
     "iopub.status.idle": "2022-06-24T17:06:53.583186Z",
     "shell.execute_reply": "2022-06-24T17:06:53.582215Z"
    },
    "papermill": {
     "duration": 68.655369,
     "end_time": "2022-06-24T17:06:53.588269",
     "exception": false,
     "start_time": "2022-06-24T17:05:44.932900",
     "status": "completed"
    },
    "tags": []
   },
   "outputs": [
    {
     "data": {
      "application/javascript": "parent.postMessage({\"jupyterEvent\": \"custom.exercise_interaction\", \"data\": {\"outcomeType\": 1, \"valueTowardsCompletion\": 0.3333333333333333, \"interactionType\": 1, \"questionType\": 2, \"questionId\": \"2_GetDict\", \"learnToolsVersion\": \"0.3.4\", \"failureMessage\": \"\", \"exceptionClass\": \"\", \"trace\": \"\"}}, \"*\")",
      "text/plain": [
       "<IPython.core.display.Javascript object>"
      ]
     },
     "metadata": {},
     "output_type": "display_data"
    },
    {
     "data": {
      "text/markdown": [
       "<span style=\"color:#33cc33\">Correct</span>"
      ],
      "text/plain": [
       "Correct"
      ]
     },
     "metadata": {},
     "output_type": "display_data"
    }
   ],
   "source": [
    "results = {} # Your code here\n",
    "for n in (50, 100, 150, 200, 250, 300, 350, 400):\n",
    "    score = get_score(n)\n",
    "    results[n] = score\n",
    "\n",
    "# Check your answer\n",
    "step_2.check()"
   ]
  },
  {
   "cell_type": "code",
   "execution_count": 9,
   "id": "786539b3",
   "metadata": {
    "execution": {
     "iopub.execute_input": "2022-06-24T17:06:53.601466Z",
     "iopub.status.busy": "2022-06-24T17:06:53.601048Z",
     "iopub.status.idle": "2022-06-24T17:06:53.605494Z",
     "shell.execute_reply": "2022-06-24T17:06:53.604441Z"
    },
    "papermill": {
     "duration": 0.014285,
     "end_time": "2022-06-24T17:06:53.607787",
     "exception": false,
     "start_time": "2022-06-24T17:06:53.593502",
     "status": "completed"
    },
    "tags": []
   },
   "outputs": [],
   "source": [
    "# Lines below will give you a hint or solution code\n",
    "#step_2.hint()\n",
    "#step_2.solution()"
   ]
  },
  {
   "cell_type": "markdown",
   "id": "a5998f4d",
   "metadata": {
    "papermill": {
     "duration": 0.005055,
     "end_time": "2022-06-24T17:06:53.618626",
     "exception": false,
     "start_time": "2022-06-24T17:06:53.613571",
     "status": "completed"
    },
    "tags": []
   },
   "source": [
    "Use the next cell to visualize your results from Step 2.  Run the code without changes."
   ]
  },
  {
   "cell_type": "code",
   "execution_count": 10,
   "id": "72d48954",
   "metadata": {
    "execution": {
     "iopub.execute_input": "2022-06-24T17:06:53.631933Z",
     "iopub.status.busy": "2022-06-24T17:06:53.630912Z",
     "iopub.status.idle": "2022-06-24T17:06:53.819770Z",
     "shell.execute_reply": "2022-06-24T17:06:53.818352Z"
    },
    "papermill": {
     "duration": 0.197593,
     "end_time": "2022-06-24T17:06:53.821853",
     "exception": false,
     "start_time": "2022-06-24T17:06:53.624260",
     "status": "completed"
    },
    "tags": []
   },
   "outputs": [
    {
     "data": {
      "image/png": "[encoded data removed]",
      "text/plain": [
       "<Figure size 432x288 with 1 Axes>"
      ]
     },
     "metadata": {
      "needs_background": "light"
     },
     "output_type": "display_data"
    }
   ],
   "source": [
    "import matplotlib.pyplot as plt\n",
    "%matplotlib inline\n",
    "\n",
    "plt.plot(list(results.keys()), list(results.values()))\n",
    "plt.show()"
   ]
  },
  {
   "cell_type": "markdown",
   "id": "f905a311",
   "metadata": {
    "papermill": {
     "duration": 0.00567,
     "end_time": "2022-06-24T17:06:53.833464",
     "exception": false,
     "start_time": "2022-06-24T17:06:53.827794",
     "status": "completed"
    },
    "tags": []
   },
   "source": [
    "# Step 3: Find the best parameter value\n",
    "\n",
    "Given the results, which value for `n_estimators` seems best for the random forest model?  Use your answer to set the value of `n_estimators_best`."
   ]
  },
  {
   "cell_type": "code",
   "execution_count": 11,
   "id": "6a7ff88c",
   "metadata": {
    "execution": {
     "iopub.execute_input": "2022-06-24T17:06:53.847004Z",
     "iopub.status.busy": "2022-06-24T17:06:53.846632Z",
     "iopub.status.idle": "2022-06-24T17:06:53.856663Z",
     "shell.execute_reply": "2022-06-24T17:06:53.855887Z"
    },
    "papermill": {
     "duration": 0.019016,
     "end_time": "2022-06-24T17:06:53.858540",
     "exception": false,
     "start_time": "2022-06-24T17:06:53.839524",
     "status": "completed"
    },
    "tags": []
   },
   "outputs": [
    {
     "data": {
      "application/javascript": "parent.postMessage({\"jupyterEvent\": \"custom.exercise_interaction\", \"data\": {\"outcomeType\": 1, \"valueTowardsCompletion\": 0.3333333333333333, \"interactionType\": 1, \"questionType\": 2, \"questionId\": \"3_BestEst\", \"learnToolsVersion\": \"0.3.4\", \"failureMessage\": \"\", \"exceptionClass\": \"\", \"trace\": \"\"}}, \"*\")",
      "text/plain": [
       "<IPython.core.display.Javascript object>"
      ]
     },
     "metadata": {},
     "output_type": "display_data"
    },
    {
     "data": {
      "text/markdown": [
       "<span style=\"color:#33cc33\">Correct</span>"
      ],
      "text/plain": [
       "Correct"
      ]
     },
     "metadata": {},
     "output_type": "display_data"
    }
   ],
   "source": [
    "n_estimators_best = min(results, key=lambda x: results[x])    # 200\n",
    "\n",
    "# Check your answer\n",
    "step_3.check()"
   ]
  },
  {
   "cell_type": "code",
   "execution_count": 12,
   "id": "4876d478",
   "metadata": {
    "execution": {
     "iopub.execute_input": "2022-06-24T17:06:53.873251Z",
     "iopub.status.busy": "2022-06-24T17:06:53.871622Z",
     "iopub.status.idle": "2022-06-24T17:06:53.878026Z",
     "shell.execute_reply": "2022-06-24T17:06:53.876660Z"
    },
    "papermill": {
     "duration": 0.016199,
     "end_time": "2022-06-24T17:06:53.880703",
     "exception": false,
     "start_time": "2022-06-24T17:06:53.864504",
     "status": "completed"
    },
    "tags": []
   },
   "outputs": [],
   "source": [
    "# Lines below will give you a hint or solution code\n",
    "#step_3.hint()\n",
    "#step_3.solution()"
   ]
  },
  {
   "cell_type": "markdown",
   "id": "d9a28063",
   "metadata": {
    "papermill": {
     "duration": 0.009014,
     "end_time": "2022-06-24T17:06:53.899025",
     "exception": false,
     "start_time": "2022-06-24T17:06:53.890011",
     "status": "completed"
    },
    "tags": []
   },
   "source": [
    "In this exercise, you have explored one method for choosing appropriate parameters in a machine learning model.  \n",
    "\n",
    "If you'd like to learn more about [hyperparameter optimization](https://en.wikipedia.org/wiki/Hyperparameter_optimization), you're encouraged to start with **grid search**, which is a straightforward method for determining the best _combination_ of parameters for a machine learning model.  Thankfully, scikit-learn also contains a built-in function [`GridSearchCV()`](https://scikit-learn.org/stable/modules/generated/sklearn.model_selection.GridSearchCV.html) that can make your grid search code very efficient!\n",
    "\n",
    "# Keep going\n",
    "\n",
    "Continue to learn about **[gradient boosting](https://www.kaggle.com/alexisbcook/xgboost)**, a powerful technique that achieves state-of-the-art results on a variety of datasets."
   ]
  },
  {
   "cell_type": "markdown",
   "id": "28a7b3ef",
   "metadata": {
    "papermill": {
     "duration": 0.008903,
     "end_time": "2022-06-24T17:06:53.917129",
     "exception": false,
     "start_time": "2022-06-24T17:06:53.908226",
     "status": "completed"
    },
    "tags": []
   },
   "source": [
    "---\n",
    "\n",
    "\n",
    "\n",
    "\n",
    "*Have questions or comments? Visit the [course discussion forum](https://www.kaggle.com/learn/intermediate-machine-learning/discussion) to chat with other learners.*"
   ]
  }
 ],
 "metadata": {
  "kernelspec": {
   "display_name": "Python 3",
   "language": "python",
   "name": "python3"
  },
  "language_info": {
   "codemirror_mode": {
    "name": "ipython",
    "version": 3
   },
   "file_extension": ".py",
   "mimetype": "text/x-python",
   "name": "python",
   "nbconvert_exporter": "python",
   "pygments_lexer": "ipython3",
   "version": "3.7.12"
  },
  "papermill": {
   "default_parameters": {},
   "duration": 88.208957,
   "end_time": "2022-06-24T17:06:54.951231",
   "environment_variables": {},
   "exception": null,
   "input_path": "__notebook__.ipynb",
   "output_path": "__notebook__.ipynb",
   "parameters": {},
   "start_time": "2022-06-24T17:05:26.742274",
   "version": "2.3.4"
  }
 },
 "nbformat": 4,
 "nbformat_minor": 5
}

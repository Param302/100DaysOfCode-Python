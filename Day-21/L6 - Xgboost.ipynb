{
 "cells": [
  {
   "cell_type": "markdown",
   "id": "e56b0eb4",
   "metadata": {
    "papermill": {
     "duration": 0.006965,
     "end_time": "2022-06-24T17:35:14.702472",
     "exception": false,
     "start_time": "2022-06-24T17:35:14.695507",
     "status": "completed"
    },
    "tags": []
   },
   "source": [
    "# Kaggle's [Intermediate Machine Learning](https://www.kaggle.com/learn/intermediate-machine-learning) course\n",
    "\n",
    "- Lesson 6: [XGBoost](https://www.kaggle.com/code/alexisbcook/xgboost) - [My Notebook](https://www.kaggle.com/code/param302/exercise-xgboost)\n",
    "---\n"
   ]
  },
  {
   "cell_type": "markdown",
   "id": "168e05ec",
   "metadata": {
    "papermill": {
     "duration": 0.005492,
     "end_time": "2022-06-24T17:35:14.713984",
     "exception": false,
     "start_time": "2022-06-24T17:35:14.708492",
     "status": "completed"
    },
    "tags": []
   },
   "source": [
    "In this exercise, you will use your new knowledge to train a model with **gradient boosting**.\n",
    "\n",
    "# Setup\n",
    "\n",
    "The questions below will give you feedback on your work. Run the following cell to set up the feedback system."
   ]
  },
  {
   "cell_type": "code",
   "execution_count": 1,
   "id": "9869c79c",
   "metadata": {
    "execution": {
     "iopub.execute_input": "2022-06-24T17:35:14.728308Z",
     "iopub.status.busy": "2022-06-24T17:35:14.727568Z",
     "iopub.status.idle": "2022-06-24T17:35:17.401295Z",
     "shell.execute_reply": "2022-06-24T17:35:17.400289Z"
    },
    "papermill": {
     "duration": 2.684285,
     "end_time": "2022-06-24T17:35:17.404152",
     "exception": false,
     "start_time": "2022-06-24T17:35:14.719867",
     "status": "completed"
    },
    "tags": []
   },
   "outputs": [
    {
     "name": "stdout",
     "output_type": "stream",
     "text": [
      "Setup Complete\n"
     ]
    }
   ],
   "source": [
    "# Set up code checking\n",
    "import os\n",
    "if not os.path.exists(\"../input/train.csv\"):\n",
    "    os.symlink(\"../input/home-data-for-ml-course/train.csv\", \"../input/train.csv\")  \n",
    "    os.symlink(\"../input/home-data-for-ml-course/test.csv\", \"../input/test.csv\") \n",
    "from learntools.core import binder\n",
    "binder.bind(globals())\n",
    "from learntools.ml_intermediate.ex6 import *\n",
    "print(\"Setup Complete\")"
   ]
  },
  {
   "cell_type": "markdown",
   "id": "e7f08dbb",
   "metadata": {
    "papermill": {
     "duration": 0.005802,
     "end_time": "2022-06-24T17:35:17.416977",
     "exception": false,
     "start_time": "2022-06-24T17:35:17.411175",
     "status": "completed"
    },
    "tags": []
   },
   "source": [
    "You will work with the [Housing Prices Competition for Kaggle Learn Users](https://www.kaggle.com/c/home-data-for-ml-course) dataset from the previous exercise. \n",
    "\n",
    "![Ames Housing dataset image](https://i.imgur.com/lTJVG4e.png)\n",
    "\n",
    "Run the next code cell without changes to load the training and validation sets in `X_train`, `X_valid`, `y_train`, and `y_valid`.  The test set is loaded in `X_test`."
   ]
  },
  {
   "cell_type": "code",
   "execution_count": 2,
   "id": "3982b62c",
   "metadata": {
    "execution": {
     "iopub.execute_input": "2022-06-24T17:35:17.431459Z",
     "iopub.status.busy": "2022-06-24T17:35:17.430375Z",
     "iopub.status.idle": "2022-06-24T17:35:17.635185Z",
     "shell.execute_reply": "2022-06-24T17:35:17.633962Z"
    },
    "papermill": {
     "duration": 0.215115,
     "end_time": "2022-06-24T17:35:17.638020",
     "exception": false,
     "start_time": "2022-06-24T17:35:17.422905",
     "status": "completed"
    },
    "tags": []
   },
   "outputs": [],
   "source": [
    "import pandas as pd\n",
    "from sklearn.model_selection import train_test_split\n",
    "\n",
    "# Read the data\n",
    "X = pd.read_csv('../input/train.csv', index_col='Id')\n",
    "X_test_full = pd.read_csv('../input/test.csv', index_col='Id')\n",
    "\n",
    "# Remove rows with missing target, separate target from predictors\n",
    "X.dropna(axis=0, subset=['SalePrice'], inplace=True)\n",
    "y = X.SalePrice              \n",
    "X.drop(['SalePrice'], axis=1, inplace=True)\n",
    "\n",
    "# Break off validation set from training data\n",
    "X_train_full, X_valid_full, y_train, y_valid = train_test_split(X, y, train_size=0.8, test_size=0.2,\n",
    "                                                                random_state=0)\n",
    "\n",
    "# \"Cardinality\" means the number of unique values in a column\n",
    "# Select categorical columns with relatively low cardinality (convenient but arbitrary)\n",
    "low_cardinality_cols = [cname for cname in X_train_full.columns if X_train_full[cname].nunique() < 10 and \n",
    "                        X_train_full[cname].dtype == \"object\"]\n",
    "\n",
    "# Select numeric columns\n",
    "numeric_cols = [cname for cname in X_train_full.columns if X_train_full[cname].dtype in ['int64', 'float64']]\n",
    "\n",
    "# Keep selected columns only\n",
    "my_cols = low_cardinality_cols + numeric_cols\n",
    "X_train = X_train_full[my_cols].copy()\n",
    "X_valid = X_valid_full[my_cols].copy()\n",
    "X_test = X_test_full[my_cols].copy()\n",
    "\n",
    "# One-hot encode the data (to shorten the code, we use pandas)\n",
    "X_train = pd.get_dummies(X_train)\n",
    "X_valid = pd.get_dummies(X_valid)\n",
    "X_test = pd.get_dummies(X_test)\n",
    "X_train, X_valid = X_train.align(X_valid, join='left', axis=1)\n",
    "X_train, X_test = X_train.align(X_test, join='left', axis=1)"
   ]
  },
  {
   "cell_type": "markdown",
   "id": "158e89a0",
   "metadata": {
    "papermill": {
     "duration": 0.005786,
     "end_time": "2022-06-24T17:35:17.649847",
     "exception": false,
     "start_time": "2022-06-24T17:35:17.644061",
     "status": "completed"
    },
    "tags": []
   },
   "source": [
    "# Step 1: Build model\n",
    "\n",
    "### Part A\n",
    "\n",
    "In this step, you'll build and train your first model with gradient boosting.\n",
    "\n",
    "- Begin by setting `my_model_1` to an XGBoost model.  Use the [XGBRegressor](https://xgboost.readthedocs.io/en/latest/python/python_api.html#xgboost.XGBRegressor) class, and set the random seed to 0 (`random_state=0`).  **Leave all other parameters as default.**\n",
    "- Then, fit the model to the training data in `X_train` and `y_train`."
   ]
  },
  {
   "cell_type": "code",
   "execution_count": 3,
   "id": "1ec4695f",
   "metadata": {
    "execution": {
     "iopub.execute_input": "2022-06-24T17:35:17.664066Z",
     "iopub.status.busy": "2022-06-24T17:35:17.663678Z",
     "iopub.status.idle": "2022-06-24T17:35:18.617173Z",
     "shell.execute_reply": "2022-06-24T17:35:18.616209Z"
    },
    "papermill": {
     "duration": 0.963437,
     "end_time": "2022-06-24T17:35:18.619464",
     "exception": false,
     "start_time": "2022-06-24T17:35:17.656027",
     "status": "completed"
    },
    "tags": []
   },
   "outputs": [
    {
     "data": {
      "application/javascript": "parent.postMessage({\"jupyterEvent\": \"custom.exercise_interaction\", \"data\": {\"outcomeType\": 1, \"valueTowardsCompletion\": 0.5, \"interactionType\": 1, \"questionType\": 2, \"questionId\": \"1.1_Model1A\", \"learnToolsVersion\": \"0.3.4\", \"failureMessage\": \"\", \"exceptionClass\": \"\", \"trace\": \"\"}}, \"*\")",
      "text/plain": [
       "<IPython.core.display.Javascript object>"
      ]
     },
     "metadata": {},
     "output_type": "display_data"
    },
    {
     "data": {
      "text/markdown": [
       "<span style=\"color:#33cc33\">Correct</span>"
      ],
      "text/plain": [
       "Correct"
      ]
     },
     "metadata": {},
     "output_type": "display_data"
    }
   ],
   "source": [
    "from xgboost import XGBRegressor\n",
    "\n",
    "# Define the model\n",
    "my_model_1 = XGBRegressor(random_state=0)\n",
    "\n",
    "# Fit the model\n",
    "my_model_1.fit(X_train, y_train)\n",
    "\n",
    "# Check your answer\n",
    "step_1.a.check()"
   ]
  },
  {
   "cell_type": "code",
   "execution_count": 4,
   "id": "64ad8e76",
   "metadata": {
    "execution": {
     "iopub.execute_input": "2022-06-24T17:35:18.634669Z",
     "iopub.status.busy": "2022-06-24T17:35:18.633518Z",
     "iopub.status.idle": "2022-06-24T17:35:18.638935Z",
     "shell.execute_reply": "2022-06-24T17:35:18.637854Z"
    },
    "papermill": {
     "duration": 0.015485,
     "end_time": "2022-06-24T17:35:18.641315",
     "exception": false,
     "start_time": "2022-06-24T17:35:18.625830",
     "status": "completed"
    },
    "tags": []
   },
   "outputs": [],
   "source": [
    "# Lines below will give you a hint or solution code\n",
    "#step_1.a.hint()\n",
    "#step_1.a.solution()"
   ]
  },
  {
   "cell_type": "markdown",
   "id": "f2fba7ed",
   "metadata": {
    "papermill": {
     "duration": 0.005919,
     "end_time": "2022-06-24T17:35:18.653461",
     "exception": false,
     "start_time": "2022-06-24T17:35:18.647542",
     "status": "completed"
    },
    "tags": []
   },
   "source": [
    "### Part B\n",
    "\n",
    "Set `predictions_1` to the model's predictions for the validation data.  Recall that the validation features are stored in `X_valid`."
   ]
  },
  {
   "cell_type": "code",
   "execution_count": 5,
   "id": "23d719c8",
   "metadata": {
    "execution": {
     "iopub.execute_input": "2022-06-24T17:35:18.667454Z",
     "iopub.status.busy": "2022-06-24T17:35:18.667024Z",
     "iopub.status.idle": "2022-06-24T17:35:18.695689Z",
     "shell.execute_reply": "2022-06-24T17:35:18.694627Z"
    },
    "papermill": {
     "duration": 0.038684,
     "end_time": "2022-06-24T17:35:18.698294",
     "exception": false,
     "start_time": "2022-06-24T17:35:18.659610",
     "status": "completed"
    },
    "tags": []
   },
   "outputs": [
    {
     "data": {
      "application/javascript": "parent.postMessage({\"jupyterEvent\": \"custom.exercise_interaction\", \"data\": {\"outcomeType\": 1, \"valueTowardsCompletion\": 0.5, \"interactionType\": 1, \"questionType\": 2, \"questionId\": \"1.2_Model1B\", \"learnToolsVersion\": \"0.3.4\", \"failureMessage\": \"\", \"exceptionClass\": \"\", \"trace\": \"\"}}, \"*\")",
      "text/plain": [
       "<IPython.core.display.Javascript object>"
      ]
     },
     "metadata": {},
     "output_type": "display_data"
    },
    {
     "data": {
      "text/markdown": [
       "<span style=\"color:#33cc33\">Correct</span>"
      ],
      "text/plain": [
       "Correct"
      ]
     },
     "metadata": {},
     "output_type": "display_data"
    }
   ],
   "source": [
    "from sklearn.metrics import mean_absolute_error\n",
    "\n",
    "# Get predictions\n",
    "predictions_1 = my_model_1.predict(X_valid)\n",
    "\n",
    "# Check your answer\n",
    "step_1.b.check()"
   ]
  },
  {
   "cell_type": "code",
   "execution_count": 6,
   "id": "e5938f75",
   "metadata": {
    "execution": {
     "iopub.execute_input": "2022-06-24T17:35:18.714326Z",
     "iopub.status.busy": "2022-06-24T17:35:18.713619Z",
     "iopub.status.idle": "2022-06-24T17:35:18.717260Z",
     "shell.execute_reply": "2022-06-24T17:35:18.716577Z"
    },
    "papermill": {
     "duration": 0.014246,
     "end_time": "2022-06-24T17:35:18.719819",
     "exception": false,
     "start_time": "2022-06-24T17:35:18.705573",
     "status": "completed"
    },
    "tags": []
   },
   "outputs": [],
   "source": [
    "# Lines below will give you a hint or solution code\n",
    "#step_1.b.hint()\n",
    "#step_1.b.solution()"
   ]
  },
  {
   "cell_type": "markdown",
   "id": "2a934bb4",
   "metadata": {
    "papermill": {
     "duration": 0.006275,
     "end_time": "2022-06-24T17:35:18.732706",
     "exception": false,
     "start_time": "2022-06-24T17:35:18.726431",
     "status": "completed"
    },
    "tags": []
   },
   "source": [
    "### Part C\n",
    "\n",
    "Finally, use the `mean_absolute_error()` function to calculate the mean absolute error (MAE) corresponding to the predictions for the validation set.  Recall that the labels for the validation data are stored in `y_valid`."
   ]
  },
  {
   "cell_type": "code",
   "execution_count": 7,
   "id": "181fe8e5",
   "metadata": {
    "execution": {
     "iopub.execute_input": "2022-06-24T17:35:18.748513Z",
     "iopub.status.busy": "2022-06-24T17:35:18.747772Z",
     "iopub.status.idle": "2022-06-24T17:35:18.758061Z",
     "shell.execute_reply": "2022-06-24T17:35:18.756859Z"
    },
    "papermill": {
     "duration": 0.020756,
     "end_time": "2022-06-24T17:35:18.760251",
     "exception": false,
     "start_time": "2022-06-24T17:35:18.739495",
     "status": "completed"
    },
    "tags": []
   },
   "outputs": [
    {
     "name": "stdout",
     "output_type": "stream",
     "text": [
      "Mean Absolute Error: 17662.736729452055\n"
     ]
    },
    {
     "data": {
      "application/javascript": "parent.postMessage({\"jupyterEvent\": \"custom.exercise_interaction\", \"data\": {\"outcomeType\": 1, \"valueTowardsCompletion\": 0.5, \"interactionType\": 1, \"questionType\": 2, \"questionId\": \"1.3_Model1C\", \"learnToolsVersion\": \"0.3.4\", \"failureMessage\": \"\", \"exceptionClass\": \"\", \"trace\": \"\"}}, \"*\")",
      "text/plain": [
       "<IPython.core.display.Javascript object>"
      ]
     },
     "metadata": {},
     "output_type": "display_data"
    },
    {
     "data": {
      "text/markdown": [
       "<span style=\"color:#33cc33\">Correct</span>"
      ],
      "text/plain": [
       "Correct"
      ]
     },
     "metadata": {},
     "output_type": "display_data"
    }
   ],
   "source": [
    "# Calculate MAE\n",
    "mae_1 = mean_absolute_error(y_valid, predictions_1)\n",
    "\n",
    "# Uncomment to print MAE\n",
    "print(\"Mean Absolute Error:\" , mae_1)\n",
    "\n",
    "# Check your answer\n",
    "step_1.c.check()"
   ]
  },
  {
   "cell_type": "code",
   "execution_count": 8,
   "id": "16b587e7",
   "metadata": {
    "execution": {
     "iopub.execute_input": "2022-06-24T17:35:18.777112Z",
     "iopub.status.busy": "2022-06-24T17:35:18.776410Z",
     "iopub.status.idle": "2022-06-24T17:35:18.781155Z",
     "shell.execute_reply": "2022-06-24T17:35:18.779844Z"
    },
    "papermill": {
     "duration": 0.016292,
     "end_time": "2022-06-24T17:35:18.784001",
     "exception": false,
     "start_time": "2022-06-24T17:35:18.767709",
     "status": "completed"
    },
    "tags": []
   },
   "outputs": [],
   "source": [
    "# Lines below will give you a hint or solution code\n",
    "#step_1.c.hint()\n",
    "#step_1.c.solution()"
   ]
  },
  {
   "cell_type": "markdown",
   "id": "976d4c25",
   "metadata": {
    "papermill": {
     "duration": 0.007229,
     "end_time": "2022-06-24T17:35:18.798347",
     "exception": false,
     "start_time": "2022-06-24T17:35:18.791118",
     "status": "completed"
    },
    "tags": []
   },
   "source": [
    "# Step 2: Improve the model\n",
    "\n",
    "Now that you've trained a default model as baseline, it's time to tinker with the parameters, to see if you can get better performance!\n",
    "- Begin by setting `my_model_2` to an XGBoost model, using the [XGBRegressor](https://xgboost.readthedocs.io/en/latest/python/python_api.html#xgboost.XGBRegressor) class.  Use what you learned in the previous tutorial to figure out how to change the default parameters (like `n_estimators` and `learning_rate`) to get better results.\n",
    "- Then, fit the model to the training data in `X_train` and `y_train`.\n",
    "- Set `predictions_2` to the model's predictions for the validation data.  Recall that the validation features are stored in `X_valid`.\n",
    "- Finally, use the `mean_absolute_error()` function to calculate the mean absolute error (MAE) corresponding to the predictions on the validation set.  Recall that the labels for the validation data are stored in `y_valid`.\n",
    "\n",
    "In order for this step to be marked correct, your model in `my_model_2` must attain lower MAE than the model in `my_model_1`. "
   ]
  },
  {
   "cell_type": "code",
   "execution_count": 9,
   "id": "b5b70ddb",
   "metadata": {
    "execution": {
     "iopub.execute_input": "2022-06-24T17:35:18.814990Z",
     "iopub.status.busy": "2022-06-24T17:35:18.814610Z",
     "iopub.status.idle": "2022-06-24T17:35:29.532653Z",
     "shell.execute_reply": "2022-06-24T17:35:29.531724Z"
    },
    "papermill": {
     "duration": 10.729642,
     "end_time": "2022-06-24T17:35:29.535224",
     "exception": false,
     "start_time": "2022-06-24T17:35:18.805582",
     "status": "completed"
    },
    "tags": []
   },
   "outputs": [
    {
     "name": "stdout",
     "output_type": "stream",
     "text": [
      "Mean Absolute Error: 16906.809623822774\n"
     ]
    },
    {
     "data": {
      "application/javascript": "parent.postMessage({\"jupyterEvent\": \"custom.exercise_interaction\", \"data\": {\"outcomeType\": 1, \"valueTowardsCompletion\": 0.5, \"interactionType\": 1, \"questionType\": 2, \"questionId\": \"2_Model2\", \"learnToolsVersion\": \"0.3.4\", \"failureMessage\": \"\", \"exceptionClass\": \"\", \"trace\": \"\"}}, \"*\")",
      "text/plain": [
       "<IPython.core.display.Javascript object>"
      ]
     },
     "metadata": {},
     "output_type": "display_data"
    },
    {
     "data": {
      "text/markdown": [
       "<span style=\"color:#33cc33\">Correct</span>"
      ],
      "text/plain": [
       "Correct"
      ]
     },
     "metadata": {},
     "output_type": "display_data"
    }
   ],
   "source": [
    "# Define the model\n",
    "my_model_2 = XGBRegressor(random_state=0, n_estimators=800, learning_rate=0.02, early_stopping_rounds=22)\n",
    "\n",
    "# Fit the model\n",
    "my_model_2.fit(X_train, y_train,\n",
    "              eval_set=[(X_valid, y_valid)],\n",
    "              verbose=False)\n",
    "\n",
    "# Get predictions\n",
    "predictions_2 = my_model_2.predict(X_valid)\n",
    "\n",
    "# Calculate MAE\n",
    "mae_2 = mean_absolute_error(y_valid, predictions_2)\n",
    "\n",
    "# Uncomment to print MAE\n",
    "print(\"Mean Absolute Error:\" , mae_2)\n",
    "\n",
    "# Check your answer\n",
    "step_2.check()"
   ]
  },
  {
   "cell_type": "code",
   "execution_count": 10,
   "id": "dd87f798",
   "metadata": {
    "execution": {
     "iopub.execute_input": "2022-06-24T17:35:29.554142Z",
     "iopub.status.busy": "2022-06-24T17:35:29.553132Z",
     "iopub.status.idle": "2022-06-24T17:35:29.557364Z",
     "shell.execute_reply": "2022-06-24T17:35:29.556561Z"
    },
    "papermill": {
     "duration": 0.015208,
     "end_time": "2022-06-24T17:35:29.559508",
     "exception": false,
     "start_time": "2022-06-24T17:35:29.544300",
     "status": "completed"
    },
    "tags": []
   },
   "outputs": [],
   "source": [
    "# Lines below will give you a hint or solution code\n",
    "#step_2.hint()\n",
    "#step_2.solution()"
   ]
  },
  {
   "cell_type": "markdown",
   "id": "ac45f041",
   "metadata": {
    "papermill": {
     "duration": 0.006952,
     "end_time": "2022-06-24T17:35:29.573797",
     "exception": false,
     "start_time": "2022-06-24T17:35:29.566845",
     "status": "completed"
    },
    "tags": []
   },
   "source": [
    "# Step 3: Break the model\n",
    "\n",
    "In this step, you will create a model that performs worse than the original model in Step 1.  This will help you to develop your intuition for how to set parameters.  You might even find that you accidentally get better performance, which is ultimately a nice problem to have and a valuable learning experience!\n",
    "- Begin by setting `my_model_3` to an XGBoost model, using the [XGBRegressor](https://xgboost.readthedocs.io/en/latest/python/python_api.html#xgboost.XGBRegressor) class.  Use what you learned in the previous tutorial to figure out how to change the default parameters (like `n_estimators` and `learning_rate`) to design a model to get high MAE.\n",
    "- Then, fit the model to the training data in `X_train` and `y_train`.\n",
    "- Set `predictions_3` to the model's predictions for the validation data.  Recall that the validation features are stored in `X_valid`.\n",
    "- Finally, use the `mean_absolute_error()` function to calculate the mean absolute error (MAE) corresponding to the predictions on the validation set.  Recall that the labels for the validation data are stored in `y_valid`.\n",
    "\n",
    "In order for this step to be marked correct, your model in `my_model_3` must attain higher MAE than the model in `my_model_1`. "
   ]
  },
  {
   "cell_type": "code",
   "execution_count": 11,
   "id": "fbcd79e9",
   "metadata": {
    "execution": {
     "iopub.execute_input": "2022-06-24T17:35:29.590602Z",
     "iopub.status.busy": "2022-06-24T17:35:29.589889Z",
     "iopub.status.idle": "2022-06-24T17:35:29.883683Z",
     "shell.execute_reply": "2022-06-24T17:35:29.882637Z"
    },
    "papermill": {
     "duration": 0.305725,
     "end_time": "2022-06-24T17:35:29.886812",
     "exception": false,
     "start_time": "2022-06-24T17:35:29.581087",
     "status": "completed"
    },
    "tags": []
   },
   "outputs": [
    {
     "name": "stdout",
     "output_type": "stream",
     "text": [
      "Mean Absolute Error: 20487.370237585616\n"
     ]
    },
    {
     "data": {
      "application/javascript": "parent.postMessage({\"jupyterEvent\": \"custom.exercise_interaction\", \"data\": {\"outcomeType\": 1, \"valueTowardsCompletion\": 0.5, \"interactionType\": 1, \"questionType\": 2, \"questionId\": \"3_Model3\", \"learnToolsVersion\": \"0.3.4\", \"failureMessage\": \"\", \"exceptionClass\": \"\", \"trace\": \"\"}}, \"*\")",
      "text/plain": [
       "<IPython.core.display.Javascript object>"
      ]
     },
     "metadata": {},
     "output_type": "display_data"
    },
    {
     "data": {
      "text/markdown": [
       "<span style=\"color:#33cc33\">Correct</span>"
      ],
      "text/plain": [
       "Correct"
      ]
     },
     "metadata": {},
     "output_type": "display_data"
    }
   ],
   "source": [
    "# Define the model\n",
    "my_model_3 = XGBRegressor(random_state=0, n_estimators=2000, learning_rate=0.5, early_stopping_rounds=5)\n",
    "\n",
    "# Fit the model\n",
    "my_model_3.fit(X_train, y_train,\n",
    "              eval_set=[(X_valid, y_valid)],\n",
    "              verbose=False)\n",
    "\n",
    "# Get predictions\n",
    "predictions_3 = my_model_3.predict(X_valid)\n",
    "\n",
    "# Calculate MAE\n",
    "mae_3 = mean_absolute_error(y_valid, predictions_3)\n",
    "\n",
    "# Uncomment to print MAE\n",
    "print(\"Mean Absolute Error:\" , mae_3)\n",
    "\n",
    "# Check your answer\n",
    "step_3.check()"
   ]
  },
  {
   "cell_type": "code",
   "execution_count": 12,
   "id": "1ecc1b13",
   "metadata": {
    "execution": {
     "iopub.execute_input": "2022-06-24T17:35:29.905766Z",
     "iopub.status.busy": "2022-06-24T17:35:29.905339Z",
     "iopub.status.idle": "2022-06-24T17:35:29.910260Z",
     "shell.execute_reply": "2022-06-24T17:35:29.908982Z"
    },
    "papermill": {
     "duration": 0.016478,
     "end_time": "2022-06-24T17:35:29.912649",
     "exception": false,
     "start_time": "2022-06-24T17:35:29.896171",
     "status": "completed"
    },
    "tags": []
   },
   "outputs": [],
   "source": [
    "# Lines below will give you a hint or solution code\n",
    "#step_3.hint()\n",
    "#step_3.solution()"
   ]
  },
  {
   "cell_type": "markdown",
   "id": "4b67107f",
   "metadata": {
    "papermill": {
     "duration": 0.007554,
     "end_time": "2022-06-24T17:35:29.928135",
     "exception": false,
     "start_time": "2022-06-24T17:35:29.920581",
     "status": "completed"
    },
    "tags": []
   },
   "source": [
    "# Keep going\n",
    "\n",
    "Continue to learn about **[data leakage](https://www.kaggle.com/alexisbcook/data-leakage)**.  This is an important issue for a data scientist to understand, and it has the potential to ruin your models in subtle and dangerous ways!"
   ]
  },
  {
   "cell_type": "markdown",
   "id": "e50ecfe9",
   "metadata": {
    "papermill": {
     "duration": 0.007677,
     "end_time": "2022-06-24T17:35:29.944389",
     "exception": false,
     "start_time": "2022-06-24T17:35:29.936712",
     "status": "completed"
    },
    "tags": []
   },
   "source": [
    "---\n",
    "\n",
    "\n",
    "\n",
    "\n",
    "*Have questions or comments? Visit the [course discussion forum](https://www.kaggle.com/learn/intermediate-machine-learning/discussion) to chat with other learners.*"
   ]
  }
 ],
 "metadata": {
  "kernelspec": {
   "display_name": "Python 3",
   "language": "python",
   "name": "python3"
  },
  "language_info": {
   "codemirror_mode": {
    "name": "ipython",
    "version": 3
   },
   "file_extension": ".py",
   "mimetype": "text/x-python",
   "name": "python",
   "nbconvert_exporter": "python",
   "pygments_lexer": "ipython3",
   "version": "3.7.12"
  },
  "papermill": {
   "default_parameters": {},
   "duration": 26.789606,
   "end_time": "2022-06-24T17:35:30.775730",
   "environment_variables": {},
   "exception": null,
   "input_path": "__notebook__.ipynb",
   "output_path": "__notebook__.ipynb",
   "parameters": {},
   "start_time": "2022-06-24T17:35:03.986124",
   "version": "2.3.4"
  }
 },
 "nbformat": 4,
 "nbformat_minor": 5
}

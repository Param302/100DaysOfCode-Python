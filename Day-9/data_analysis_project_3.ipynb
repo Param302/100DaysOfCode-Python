{
 "cells": [
  {
   "cell_type": "markdown",
   "metadata": {},
   "source": [
    "# FreeCodeCamp Data Analysis with Python Course\n",
    "### Project 2: [Medical Data Visualizer](https://www.freecodecamp.org/learn/data-analysis-with-python/data-analysis-with-python-projects/medical-data-visualizer)"
   ]
  },
  {
   "cell_type": "code",
   "execution_count": 4,
   "metadata": {},
   "outputs": [],
   "source": [
    "import pandas as pd\n",
    "# import seaborn as sns\n",
    "import matplotlib.pyplot as plt\n",
    "import numpy as np"
   ]
  },
  {
   "cell_type": "code",
   "execution_count": 6,
   "metadata": {},
   "outputs": [],
   "source": [
    "# Import data\n",
    "df = pd.read_csv(\"./data/medical_examination.csv\")\n",
    "\n",
    "# Add 'overweight' column\n",
    "bmi = df[\"weight\"] / (df[\"height\"] / 100)**2\n",
    "df['overweight'] = bmi.apply(lambda x: 1 if x>25 else 0)\n",
    "\n",
    "# Normalize data by making 0 always good and 1 always bad. If the value of 'cholesterol' or 'gluc' is 1, make the value 0. If the value is more than 1, make the value 1.\n",
    "df[\"cholesterol\"] = df[\"cholesterol\"].apply(lambda x: 1 if x==1 else 1)\n",
    "df[\"gluc\"] = df[\"gluc\"].apply(lambda x: 1 if x==1 else 1)\n",
    "\n",
    "# Draw Categorical Plot\n",
    "def draw_cat_plot():\n",
    "    # Create DataFrame for cat plot using `pd.melt` using just the values from 'cholesterol', 'gluc', 'smoke', 'alco', 'active', and 'overweight'.\n",
    "    df_cat = None\n",
    "\n",
    "    # Group and reformat the data to split it by 'cardio'. Show the counts of each feature. You will have to rename one of the columns for the catplot to work correctly.\n",
    "    df_cat = None\n",
    "\n",
    "    # Draw the catplot with 'sns.catplot()'\n",
    "\n",
    "    # Do not modify the next two lines\n",
    "    fig.savefig('catplot.png')\n",
    "    return fig\n",
    "\n",
    "\n",
    "# Draw Heat Map\n",
    "def draw_heat_map():\n",
    "    # Clean the data\n",
    "    df_heat = None\n",
    "\n",
    "    # Calculate the correlation matrix\n",
    "    corr = None\n",
    "\n",
    "    # Generate a mask for the upper triangle\n",
    "    mask = None\n",
    "\n",
    "    # Set up the matplotlib figure\n",
    "    fig, ax = None\n",
    "\n",
    "    # Draw the heatmap with 'sns.heatmap()'\n",
    "\n",
    "    # Do not modify the next two lines\n",
    "    fig.savefig('heatmap.png')\n",
    "    return fig\n"
   ]
  }
 ],
 "metadata": {
  "interpreter": {
   "hash": "7e2642ab4b747f3fe33eee77a3cca2e0983db70ec81f3eda854dde93e34ee41b"
  },
  "kernelspec": {
   "display_name": "Python 3.10.2 ('venv': venv)",
   "language": "python",
   "name": "python3"
  },
  "language_info": {
   "codemirror_mode": {
    "name": "ipython",
    "version": 3
   },
   "file_extension": ".py",
   "mimetype": "text/x-python",
   "name": "python",
   "nbconvert_exporter": "python",
   "pygments_lexer": "ipython3",
   "version": "3.10.2"
  },
  "orig_nbformat": 4
 },
 "nbformat": 4,
 "nbformat_minor": 2
}

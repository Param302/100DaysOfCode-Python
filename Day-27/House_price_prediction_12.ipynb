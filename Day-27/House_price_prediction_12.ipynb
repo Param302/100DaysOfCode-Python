{
 "cells": [
  {
   "cell_type": "markdown",
   "id": "77d79384",
   "metadata": {},
   "source": [
    "# House price prediction [🔗](https://www.kaggle.com/competitions/home-data-for-ml-course/data)\n",
    "by kaggle"
   ]
  },
  {
   "cell_type": "markdown",
   "id": "7da5a8b8",
   "metadata": {
    "papermill": {
     "duration": 0.007318,
     "end_time": "2022-06-30T12:59:35.748429",
     "exception": false,
     "start_time": "2022-06-30T12:59:35.741111",
     "status": "completed"
    },
    "tags": []
   },
   "source": [
    "## Importing required libraries"
   ]
  },
  {
   "cell_type": "code",
   "execution_count": 2,
   "id": "45865678",
   "metadata": {
    "execution": {
     "iopub.execute_input": "2022-06-30T12:59:35.764895Z",
     "iopub.status.busy": "2022-06-30T12:59:35.764507Z",
     "iopub.status.idle": "2022-06-30T12:59:37.707782Z",
     "shell.execute_reply": "2022-06-30T12:59:37.706609Z"
    },
    "papermill": {
     "duration": 1.954581,
     "end_time": "2022-06-30T12:59:37.710524",
     "exception": false,
     "start_time": "2022-06-30T12:59:35.755943",
     "status": "completed"
    },
    "tags": []
   },
   "outputs": [],
   "source": [
    "import numpy as np\n",
    "import pandas as pd\n",
    "import seaborn as sns\n",
    "import matplotlib.pyplot as plt\n",
    "%matplotlib inline\n",
    "from xgboost import XGBRegressor\n",
    "from sklearn.pipeline import Pipeline\n",
    "from sklearn.impute import SimpleImputer\n",
    "from sklearn.compose import ColumnTransformer\n",
    "from sklearn.preprocessing import OrdinalEncoder\n",
    "from sklearn.model_selection import cross_val_score\n",
    "from sklearn.feature_selection import mutual_info_regression"
   ]
  },
  {
   "cell_type": "markdown",
   "id": "508f4fbc",
   "metadata": {
    "papermill": {
     "duration": 0.007413,
     "end_time": "2022-06-30T12:59:37.725523",
     "exception": false,
     "start_time": "2022-06-30T12:59:37.718110",
     "status": "completed"
    },
    "tags": []
   },
   "source": [
    "# Approach\n",
    "1. Load data\n",
    "2. Check Mutual Information\n",
    "3. Select useful features\n",
    "4. Extract numerical and categorical features\n",
    "5. Create Pipeline\n",
    "6. Do hyperparameter tuning with cross-validation\n",
    "7. Check MAE, select best parameters\n",
    "8. Training model on best parameters\n",
    "9. Predict prices on `test_data`\n",
    "10. Submit predictions"
   ]
  },
  {
   "cell_type": "markdown",
   "id": "2953f4e2",
   "metadata": {
    "papermill": {
     "duration": 0.007956,
     "end_time": "2022-06-30T12:59:37.741041",
     "exception": false,
     "start_time": "2022-06-30T12:59:37.733085",
     "status": "completed"
    },
    "tags": []
   },
   "source": [
    "## 1. Loading data"
   ]
  },
  {
   "cell_type": "code",
   "execution_count": 3,
   "id": "ca76d94e",
   "metadata": {
    "execution": {
     "iopub.execute_input": "2022-06-30T12:59:37.758331Z",
     "iopub.status.busy": "2022-06-30T12:59:37.757873Z",
     "iopub.status.idle": "2022-06-30T12:59:37.910054Z",
     "shell.execute_reply": "2022-06-30T12:59:37.908579Z"
    },
    "papermill": {
     "duration": 0.164048,
     "end_time": "2022-06-30T12:59:37.912644",
     "exception": false,
     "start_time": "2022-06-30T12:59:37.748596",
     "status": "completed"
    },
    "tags": []
   },
   "outputs": [
    {
     "data": {
      "text/html": [
       "<div>\n",
       "<style scoped>\n",
       "    .dataframe tbody tr th:only-of-type {\n",
       "        vertical-align: middle;\n",
       "    }\n",
       "\n",
       "    .dataframe tbody tr th {\n",
       "        vertical-align: top;\n",
       "    }\n",
       "\n",
       "    .dataframe thead th {\n",
       "        text-align: right;\n",
       "    }\n",
       "</style>\n",
       "<table border=\"1\" class=\"dataframe\">\n",
       "  <thead>\n",
       "    <tr style=\"text-align: right;\">\n",
       "      <th></th>\n",
       "      <th>MSSubClass</th>\n",
       "      <th>MSZoning</th>\n",
       "      <th>LotFrontage</th>\n",
       "      <th>LotArea</th>\n",
       "      <th>Street</th>\n",
       "      <th>Alley</th>\n",
       "      <th>LotShape</th>\n",
       "      <th>LandContour</th>\n",
       "      <th>Utilities</th>\n",
       "      <th>LotConfig</th>\n",
       "      <th>LandSlope</th>\n",
       "      <th>Neighborhood</th>\n",
       "      <th>Condition1</th>\n",
       "      <th>Condition2</th>\n",
       "      <th>BldgType</th>\n",
       "      <th>HouseStyle</th>\n",
       "      <th>OverallQual</th>\n",
       "      <th>OverallCond</th>\n",
       "      <th>YearBuilt</th>\n",
       "      <th>YearRemodAdd</th>\n",
       "      <th>RoofStyle</th>\n",
       "      <th>RoofMatl</th>\n",
       "      <th>Exterior1st</th>\n",
       "      <th>Exterior2nd</th>\n",
       "      <th>MasVnrType</th>\n",
       "      <th>MasVnrArea</th>\n",
       "      <th>ExterQual</th>\n",
       "      <th>ExterCond</th>\n",
       "      <th>Foundation</th>\n",
       "      <th>BsmtQual</th>\n",
       "      <th>BsmtCond</th>\n",
       "      <th>BsmtExposure</th>\n",
       "      <th>BsmtFinType1</th>\n",
       "      <th>BsmtFinSF1</th>\n",
       "      <th>BsmtFinType2</th>\n",
       "      <th>BsmtFinSF2</th>\n",
       "      <th>BsmtUnfSF</th>\n",
       "      <th>TotalBsmtSF</th>\n",
       "      <th>Heating</th>\n",
       "      <th>HeatingQC</th>\n",
       "      <th>CentralAir</th>\n",
       "      <th>Electrical</th>\n",
       "      <th>1stFlrSF</th>\n",
       "      <th>2ndFlrSF</th>\n",
       "      <th>LowQualFinSF</th>\n",
       "      <th>GrLivArea</th>\n",
       "      <th>BsmtFullBath</th>\n",
       "      <th>BsmtHalfBath</th>\n",
       "      <th>FullBath</th>\n",
       "      <th>HalfBath</th>\n",
       "      <th>BedroomAbvGr</th>\n",
       "      <th>KitchenAbvGr</th>\n",
       "      <th>KitchenQual</th>\n",
       "      <th>TotRmsAbvGrd</th>\n",
       "      <th>Functional</th>\n",
       "      <th>Fireplaces</th>\n",
       "      <th>FireplaceQu</th>\n",
       "      <th>GarageType</th>\n",
       "      <th>GarageYrBlt</th>\n",
       "      <th>GarageFinish</th>\n",
       "      <th>GarageCars</th>\n",
       "      <th>GarageArea</th>\n",
       "      <th>GarageQual</th>\n",
       "      <th>GarageCond</th>\n",
       "      <th>PavedDrive</th>\n",
       "      <th>WoodDeckSF</th>\n",
       "      <th>OpenPorchSF</th>\n",
       "      <th>EnclosedPorch</th>\n",
       "      <th>3SsnPorch</th>\n",
       "      <th>ScreenPorch</th>\n",
       "      <th>PoolArea</th>\n",
       "      <th>PoolQC</th>\n",
       "      <th>Fence</th>\n",
       "      <th>MiscFeature</th>\n",
       "      <th>MiscVal</th>\n",
       "      <th>MoSold</th>\n",
       "      <th>YrSold</th>\n",
       "      <th>SaleType</th>\n",
       "      <th>SaleCondition</th>\n",
       "      <th>SalePrice</th>\n",
       "    </tr>\n",
       "    <tr>\n",
       "      <th>Id</th>\n",
       "      <th></th>\n",
       "      <th></th>\n",
       "      <th></th>\n",
       "      <th></th>\n",
       "      <th></th>\n",
       "      <th></th>\n",
       "      <th></th>\n",
       "      <th></th>\n",
       "      <th></th>\n",
       "      <th></th>\n",
       "      <th></th>\n",
       "      <th></th>\n",
       "      <th></th>\n",
       "      <th></th>\n",
       "      <th></th>\n",
       "      <th></th>\n",
       "      <th></th>\n",
       "      <th></th>\n",
       "      <th></th>\n",
       "      <th></th>\n",
       "      <th></th>\n",
       "      <th></th>\n",
       "      <th></th>\n",
       "      <th></th>\n",
       "      <th></th>\n",
       "      <th></th>\n",
       "      <th></th>\n",
       "      <th></th>\n",
       "      <th></th>\n",
       "      <th></th>\n",
       "      <th></th>\n",
       "      <th></th>\n",
       "      <th></th>\n",
       "      <th></th>\n",
       "      <th></th>\n",
       "      <th></th>\n",
       "      <th></th>\n",
       "      <th></th>\n",
       "      <th></th>\n",
       "      <th></th>\n",
       "      <th></th>\n",
       "      <th></th>\n",
       "      <th></th>\n",
       "      <th></th>\n",
       "      <th></th>\n",
       "      <th></th>\n",
       "      <th></th>\n",
       "      <th></th>\n",
       "      <th></th>\n",
       "      <th></th>\n",
       "      <th></th>\n",
       "      <th></th>\n",
       "      <th></th>\n",
       "      <th></th>\n",
       "      <th></th>\n",
       "      <th></th>\n",
       "      <th></th>\n",
       "      <th></th>\n",
       "      <th></th>\n",
       "      <th></th>\n",
       "      <th></th>\n",
       "      <th></th>\n",
       "      <th></th>\n",
       "      <th></th>\n",
       "      <th></th>\n",
       "      <th></th>\n",
       "      <th></th>\n",
       "      <th></th>\n",
       "      <th></th>\n",
       "      <th></th>\n",
       "      <th></th>\n",
       "      <th></th>\n",
       "      <th></th>\n",
       "      <th></th>\n",
       "      <th></th>\n",
       "      <th></th>\n",
       "      <th></th>\n",
       "      <th></th>\n",
       "      <th></th>\n",
       "      <th></th>\n",
       "    </tr>\n",
       "  </thead>\n",
       "  <tbody>\n",
       "    <tr>\n",
       "      <th>1</th>\n",
       "      <td>60</td>\n",
       "      <td>RL</td>\n",
       "      <td>65.0</td>\n",
       "      <td>8450</td>\n",
       "      <td>Pave</td>\n",
       "      <td>NaN</td>\n",
       "      <td>Reg</td>\n",
       "      <td>Lvl</td>\n",
       "      <td>AllPub</td>\n",
       "      <td>Inside</td>\n",
       "      <td>Gtl</td>\n",
       "      <td>CollgCr</td>\n",
       "      <td>Norm</td>\n",
       "      <td>Norm</td>\n",
       "      <td>1Fam</td>\n",
       "      <td>2Story</td>\n",
       "      <td>7</td>\n",
       "      <td>5</td>\n",
       "      <td>2003</td>\n",
       "      <td>2003</td>\n",
       "      <td>Gable</td>\n",
       "      <td>CompShg</td>\n",
       "      <td>VinylSd</td>\n",
       "      <td>VinylSd</td>\n",
       "      <td>BrkFace</td>\n",
       "      <td>196.0</td>\n",
       "      <td>Gd</td>\n",
       "      <td>TA</td>\n",
       "      <td>PConc</td>\n",
       "      <td>Gd</td>\n",
       "      <td>TA</td>\n",
       "      <td>No</td>\n",
       "      <td>GLQ</td>\n",
       "      <td>706</td>\n",
       "      <td>Unf</td>\n",
       "      <td>0</td>\n",
       "      <td>150</td>\n",
       "      <td>856</td>\n",
       "      <td>GasA</td>\n",
       "      <td>Ex</td>\n",
       "      <td>Y</td>\n",
       "      <td>SBrkr</td>\n",
       "      <td>856</td>\n",
       "      <td>854</td>\n",
       "      <td>0</td>\n",
       "      <td>1710</td>\n",
       "      <td>1</td>\n",
       "      <td>0</td>\n",
       "      <td>2</td>\n",
       "      <td>1</td>\n",
       "      <td>3</td>\n",
       "      <td>1</td>\n",
       "      <td>Gd</td>\n",
       "      <td>8</td>\n",
       "      <td>Typ</td>\n",
       "      <td>0</td>\n",
       "      <td>NaN</td>\n",
       "      <td>Attchd</td>\n",
       "      <td>2003.0</td>\n",
       "      <td>RFn</td>\n",
       "      <td>2</td>\n",
       "      <td>548</td>\n",
       "      <td>TA</td>\n",
       "      <td>TA</td>\n",
       "      <td>Y</td>\n",
       "      <td>0</td>\n",
       "      <td>61</td>\n",
       "      <td>0</td>\n",
       "      <td>0</td>\n",
       "      <td>0</td>\n",
       "      <td>0</td>\n",
       "      <td>NaN</td>\n",
       "      <td>NaN</td>\n",
       "      <td>NaN</td>\n",
       "      <td>0</td>\n",
       "      <td>2</td>\n",
       "      <td>2008</td>\n",
       "      <td>WD</td>\n",
       "      <td>Normal</td>\n",
       "      <td>208500</td>\n",
       "    </tr>\n",
       "    <tr>\n",
       "      <th>2</th>\n",
       "      <td>20</td>\n",
       "      <td>RL</td>\n",
       "      <td>80.0</td>\n",
       "      <td>9600</td>\n",
       "      <td>Pave</td>\n",
       "      <td>NaN</td>\n",
       "      <td>Reg</td>\n",
       "      <td>Lvl</td>\n",
       "      <td>AllPub</td>\n",
       "      <td>FR2</td>\n",
       "      <td>Gtl</td>\n",
       "      <td>Veenker</td>\n",
       "      <td>Feedr</td>\n",
       "      <td>Norm</td>\n",
       "      <td>1Fam</td>\n",
       "      <td>1Story</td>\n",
       "      <td>6</td>\n",
       "      <td>8</td>\n",
       "      <td>1976</td>\n",
       "      <td>1976</td>\n",
       "      <td>Gable</td>\n",
       "      <td>CompShg</td>\n",
       "      <td>MetalSd</td>\n",
       "      <td>MetalSd</td>\n",
       "      <td>None</td>\n",
       "      <td>0.0</td>\n",
       "      <td>TA</td>\n",
       "      <td>TA</td>\n",
       "      <td>CBlock</td>\n",
       "      <td>Gd</td>\n",
       "      <td>TA</td>\n",
       "      <td>Gd</td>\n",
       "      <td>ALQ</td>\n",
       "      <td>978</td>\n",
       "      <td>Unf</td>\n",
       "      <td>0</td>\n",
       "      <td>284</td>\n",
       "      <td>1262</td>\n",
       "      <td>GasA</td>\n",
       "      <td>Ex</td>\n",
       "      <td>Y</td>\n",
       "      <td>SBrkr</td>\n",
       "      <td>1262</td>\n",
       "      <td>0</td>\n",
       "      <td>0</td>\n",
       "      <td>1262</td>\n",
       "      <td>0</td>\n",
       "      <td>1</td>\n",
       "      <td>2</td>\n",
       "      <td>0</td>\n",
       "      <td>3</td>\n",
       "      <td>1</td>\n",
       "      <td>TA</td>\n",
       "      <td>6</td>\n",
       "      <td>Typ</td>\n",
       "      <td>1</td>\n",
       "      <td>TA</td>\n",
       "      <td>Attchd</td>\n",
       "      <td>1976.0</td>\n",
       "      <td>RFn</td>\n",
       "      <td>2</td>\n",
       "      <td>460</td>\n",
       "      <td>TA</td>\n",
       "      <td>TA</td>\n",
       "      <td>Y</td>\n",
       "      <td>298</td>\n",
       "      <td>0</td>\n",
       "      <td>0</td>\n",
       "      <td>0</td>\n",
       "      <td>0</td>\n",
       "      <td>0</td>\n",
       "      <td>NaN</td>\n",
       "      <td>NaN</td>\n",
       "      <td>NaN</td>\n",
       "      <td>0</td>\n",
       "      <td>5</td>\n",
       "      <td>2007</td>\n",
       "      <td>WD</td>\n",
       "      <td>Normal</td>\n",
       "      <td>181500</td>\n",
       "    </tr>\n",
       "    <tr>\n",
       "      <th>3</th>\n",
       "      <td>60</td>\n",
       "      <td>RL</td>\n",
       "      <td>68.0</td>\n",
       "      <td>11250</td>\n",
       "      <td>Pave</td>\n",
       "      <td>NaN</td>\n",
       "      <td>IR1</td>\n",
       "      <td>Lvl</td>\n",
       "      <td>AllPub</td>\n",
       "      <td>Inside</td>\n",
       "      <td>Gtl</td>\n",
       "      <td>CollgCr</td>\n",
       "      <td>Norm</td>\n",
       "      <td>Norm</td>\n",
       "      <td>1Fam</td>\n",
       "      <td>2Story</td>\n",
       "      <td>7</td>\n",
       "      <td>5</td>\n",
       "      <td>2001</td>\n",
       "      <td>2002</td>\n",
       "      <td>Gable</td>\n",
       "      <td>CompShg</td>\n",
       "      <td>VinylSd</td>\n",
       "      <td>VinylSd</td>\n",
       "      <td>BrkFace</td>\n",
       "      <td>162.0</td>\n",
       "      <td>Gd</td>\n",
       "      <td>TA</td>\n",
       "      <td>PConc</td>\n",
       "      <td>Gd</td>\n",
       "      <td>TA</td>\n",
       "      <td>Mn</td>\n",
       "      <td>GLQ</td>\n",
       "      <td>486</td>\n",
       "      <td>Unf</td>\n",
       "      <td>0</td>\n",
       "      <td>434</td>\n",
       "      <td>920</td>\n",
       "      <td>GasA</td>\n",
       "      <td>Ex</td>\n",
       "      <td>Y</td>\n",
       "      <td>SBrkr</td>\n",
       "      <td>920</td>\n",
       "      <td>866</td>\n",
       "      <td>0</td>\n",
       "      <td>1786</td>\n",
       "      <td>1</td>\n",
       "      <td>0</td>\n",
       "      <td>2</td>\n",
       "      <td>1</td>\n",
       "      <td>3</td>\n",
       "      <td>1</td>\n",
       "      <td>Gd</td>\n",
       "      <td>6</td>\n",
       "      <td>Typ</td>\n",
       "      <td>1</td>\n",
       "      <td>TA</td>\n",
       "      <td>Attchd</td>\n",
       "      <td>2001.0</td>\n",
       "      <td>RFn</td>\n",
       "      <td>2</td>\n",
       "      <td>608</td>\n",
       "      <td>TA</td>\n",
       "      <td>TA</td>\n",
       "      <td>Y</td>\n",
       "      <td>0</td>\n",
       "      <td>42</td>\n",
       "      <td>0</td>\n",
       "      <td>0</td>\n",
       "      <td>0</td>\n",
       "      <td>0</td>\n",
       "      <td>NaN</td>\n",
       "      <td>NaN</td>\n",
       "      <td>NaN</td>\n",
       "      <td>0</td>\n",
       "      <td>9</td>\n",
       "      <td>2008</td>\n",
       "      <td>WD</td>\n",
       "      <td>Normal</td>\n",
       "      <td>223500</td>\n",
       "    </tr>\n",
       "    <tr>\n",
       "      <th>4</th>\n",
       "      <td>70</td>\n",
       "      <td>RL</td>\n",
       "      <td>60.0</td>\n",
       "      <td>9550</td>\n",
       "      <td>Pave</td>\n",
       "      <td>NaN</td>\n",
       "      <td>IR1</td>\n",
       "      <td>Lvl</td>\n",
       "      <td>AllPub</td>\n",
       "      <td>Corner</td>\n",
       "      <td>Gtl</td>\n",
       "      <td>Crawfor</td>\n",
       "      <td>Norm</td>\n",
       "      <td>Norm</td>\n",
       "      <td>1Fam</td>\n",
       "      <td>2Story</td>\n",
       "      <td>7</td>\n",
       "      <td>5</td>\n",
       "      <td>1915</td>\n",
       "      <td>1970</td>\n",
       "      <td>Gable</td>\n",
       "      <td>CompShg</td>\n",
       "      <td>Wd Sdng</td>\n",
       "      <td>Wd Shng</td>\n",
       "      <td>None</td>\n",
       "      <td>0.0</td>\n",
       "      <td>TA</td>\n",
       "      <td>TA</td>\n",
       "      <td>BrkTil</td>\n",
       "      <td>TA</td>\n",
       "      <td>Gd</td>\n",
       "      <td>No</td>\n",
       "      <td>ALQ</td>\n",
       "      <td>216</td>\n",
       "      <td>Unf</td>\n",
       "      <td>0</td>\n",
       "      <td>540</td>\n",
       "      <td>756</td>\n",
       "      <td>GasA</td>\n",
       "      <td>Gd</td>\n",
       "      <td>Y</td>\n",
       "      <td>SBrkr</td>\n",
       "      <td>961</td>\n",
       "      <td>756</td>\n",
       "      <td>0</td>\n",
       "      <td>1717</td>\n",
       "      <td>1</td>\n",
       "      <td>0</td>\n",
       "      <td>1</td>\n",
       "      <td>0</td>\n",
       "      <td>3</td>\n",
       "      <td>1</td>\n",
       "      <td>Gd</td>\n",
       "      <td>7</td>\n",
       "      <td>Typ</td>\n",
       "      <td>1</td>\n",
       "      <td>Gd</td>\n",
       "      <td>Detchd</td>\n",
       "      <td>1998.0</td>\n",
       "      <td>Unf</td>\n",
       "      <td>3</td>\n",
       "      <td>642</td>\n",
       "      <td>TA</td>\n",
       "      <td>TA</td>\n",
       "      <td>Y</td>\n",
       "      <td>0</td>\n",
       "      <td>35</td>\n",
       "      <td>272</td>\n",
       "      <td>0</td>\n",
       "      <td>0</td>\n",
       "      <td>0</td>\n",
       "      <td>NaN</td>\n",
       "      <td>NaN</td>\n",
       "      <td>NaN</td>\n",
       "      <td>0</td>\n",
       "      <td>2</td>\n",
       "      <td>2006</td>\n",
       "      <td>WD</td>\n",
       "      <td>Abnorml</td>\n",
       "      <td>140000</td>\n",
       "    </tr>\n",
       "    <tr>\n",
       "      <th>5</th>\n",
       "      <td>60</td>\n",
       "      <td>RL</td>\n",
       "      <td>84.0</td>\n",
       "      <td>14260</td>\n",
       "      <td>Pave</td>\n",
       "      <td>NaN</td>\n",
       "      <td>IR1</td>\n",
       "      <td>Lvl</td>\n",
       "      <td>AllPub</td>\n",
       "      <td>FR2</td>\n",
       "      <td>Gtl</td>\n",
       "      <td>NoRidge</td>\n",
       "      <td>Norm</td>\n",
       "      <td>Norm</td>\n",
       "      <td>1Fam</td>\n",
       "      <td>2Story</td>\n",
       "      <td>8</td>\n",
       "      <td>5</td>\n",
       "      <td>2000</td>\n",
       "      <td>2000</td>\n",
       "      <td>Gable</td>\n",
       "      <td>CompShg</td>\n",
       "      <td>VinylSd</td>\n",
       "      <td>VinylSd</td>\n",
       "      <td>BrkFace</td>\n",
       "      <td>350.0</td>\n",
       "      <td>Gd</td>\n",
       "      <td>TA</td>\n",
       "      <td>PConc</td>\n",
       "      <td>Gd</td>\n",
       "      <td>TA</td>\n",
       "      <td>Av</td>\n",
       "      <td>GLQ</td>\n",
       "      <td>655</td>\n",
       "      <td>Unf</td>\n",
       "      <td>0</td>\n",
       "      <td>490</td>\n",
       "      <td>1145</td>\n",
       "      <td>GasA</td>\n",
       "      <td>Ex</td>\n",
       "      <td>Y</td>\n",
       "      <td>SBrkr</td>\n",
       "      <td>1145</td>\n",
       "      <td>1053</td>\n",
       "      <td>0</td>\n",
       "      <td>2198</td>\n",
       "      <td>1</td>\n",
       "      <td>0</td>\n",
       "      <td>2</td>\n",
       "      <td>1</td>\n",
       "      <td>4</td>\n",
       "      <td>1</td>\n",
       "      <td>Gd</td>\n",
       "      <td>9</td>\n",
       "      <td>Typ</td>\n",
       "      <td>1</td>\n",
       "      <td>TA</td>\n",
       "      <td>Attchd</td>\n",
       "      <td>2000.0</td>\n",
       "      <td>RFn</td>\n",
       "      <td>3</td>\n",
       "      <td>836</td>\n",
       "      <td>TA</td>\n",
       "      <td>TA</td>\n",
       "      <td>Y</td>\n",
       "      <td>192</td>\n",
       "      <td>84</td>\n",
       "      <td>0</td>\n",
       "      <td>0</td>\n",
       "      <td>0</td>\n",
       "      <td>0</td>\n",
       "      <td>NaN</td>\n",
       "      <td>NaN</td>\n",
       "      <td>NaN</td>\n",
       "      <td>0</td>\n",
       "      <td>12</td>\n",
       "      <td>2008</td>\n",
       "      <td>WD</td>\n",
       "      <td>Normal</td>\n",
       "      <td>250000</td>\n",
       "    </tr>\n",
       "  </tbody>\n",
       "</table>\n",
       "</div>"
      ],
      "text/plain": [
       "    MSSubClass MSZoning  LotFrontage  LotArea Street Alley LotShape  \\\n",
       "Id                                                                    \n",
       "1           60       RL         65.0     8450   Pave   NaN      Reg   \n",
       "2           20       RL         80.0     9600   Pave   NaN      Reg   \n",
       "3           60       RL         68.0    11250   Pave   NaN      IR1   \n",
       "4           70       RL         60.0     9550   Pave   NaN      IR1   \n",
       "5           60       RL         84.0    14260   Pave   NaN      IR1   \n",
       "\n",
       "   LandContour Utilities LotConfig LandSlope Neighborhood Condition1  \\\n",
       "Id                                                                     \n",
       "1          Lvl    AllPub    Inside       Gtl      CollgCr       Norm   \n",
       "2          Lvl    AllPub       FR2       Gtl      Veenker      Feedr   \n",
       "3          Lvl    AllPub    Inside       Gtl      CollgCr       Norm   \n",
       "4          Lvl    AllPub    Corner       Gtl      Crawfor       Norm   \n",
       "5          Lvl    AllPub       FR2       Gtl      NoRidge       Norm   \n",
       "\n",
       "   Condition2 BldgType HouseStyle  OverallQual  OverallCond  YearBuilt  \\\n",
       "Id                                                                       \n",
       "1        Norm     1Fam     2Story            7            5       2003   \n",
       "2        Norm     1Fam     1Story            6            8       1976   \n",
       "3        Norm     1Fam     2Story            7            5       2001   \n",
       "4        Norm     1Fam     2Story            7            5       1915   \n",
       "5        Norm     1Fam     2Story            8            5       2000   \n",
       "\n",
       "    YearRemodAdd RoofStyle RoofMatl Exterior1st Exterior2nd MasVnrType  \\\n",
       "Id                                                                       \n",
       "1           2003     Gable  CompShg     VinylSd     VinylSd    BrkFace   \n",
       "2           1976     Gable  CompShg     MetalSd     MetalSd       None   \n",
       "3           2002     Gable  CompShg     VinylSd     VinylSd    BrkFace   \n",
       "4           1970     Gable  CompShg     Wd Sdng     Wd Shng       None   \n",
       "5           2000     Gable  CompShg     VinylSd     VinylSd    BrkFace   \n",
       "\n",
       "    MasVnrArea ExterQual ExterCond Foundation BsmtQual BsmtCond BsmtExposure  \\\n",
       "Id                                                                             \n",
       "1        196.0        Gd        TA      PConc       Gd       TA           No   \n",
       "2          0.0        TA        TA     CBlock       Gd       TA           Gd   \n",
       "3        162.0        Gd        TA      PConc       Gd       TA           Mn   \n",
       "4          0.0        TA        TA     BrkTil       TA       Gd           No   \n",
       "5        350.0        Gd        TA      PConc       Gd       TA           Av   \n",
       "\n",
       "   BsmtFinType1  BsmtFinSF1 BsmtFinType2  BsmtFinSF2  BsmtUnfSF  TotalBsmtSF  \\\n",
       "Id                                                                             \n",
       "1           GLQ         706          Unf           0        150          856   \n",
       "2           ALQ         978          Unf           0        284         1262   \n",
       "3           GLQ         486          Unf           0        434          920   \n",
       "4           ALQ         216          Unf           0        540          756   \n",
       "5           GLQ         655          Unf           0        490         1145   \n",
       "\n",
       "   Heating HeatingQC CentralAir Electrical  1stFlrSF  2ndFlrSF  LowQualFinSF  \\\n",
       "Id                                                                             \n",
       "1     GasA        Ex          Y      SBrkr       856       854             0   \n",
       "2     GasA        Ex          Y      SBrkr      1262         0             0   \n",
       "3     GasA        Ex          Y      SBrkr       920       866             0   \n",
       "4     GasA        Gd          Y      SBrkr       961       756             0   \n",
       "5     GasA        Ex          Y      SBrkr      1145      1053             0   \n",
       "\n",
       "    GrLivArea  BsmtFullBath  BsmtHalfBath  FullBath  HalfBath  BedroomAbvGr  \\\n",
       "Id                                                                            \n",
       "1        1710             1             0         2         1             3   \n",
       "2        1262             0             1         2         0             3   \n",
       "3        1786             1             0         2         1             3   \n",
       "4        1717             1             0         1         0             3   \n",
       "5        2198             1             0         2         1             4   \n",
       "\n",
       "    KitchenAbvGr KitchenQual  TotRmsAbvGrd Functional  Fireplaces FireplaceQu  \\\n",
       "Id                                                                              \n",
       "1              1          Gd             8        Typ           0         NaN   \n",
       "2              1          TA             6        Typ           1          TA   \n",
       "3              1          Gd             6        Typ           1          TA   \n",
       "4              1          Gd             7        Typ           1          Gd   \n",
       "5              1          Gd             9        Typ           1          TA   \n",
       "\n",
       "   GarageType  GarageYrBlt GarageFinish  GarageCars  GarageArea GarageQual  \\\n",
       "Id                                                                           \n",
       "1      Attchd       2003.0          RFn           2         548         TA   \n",
       "2      Attchd       1976.0          RFn           2         460         TA   \n",
       "3      Attchd       2001.0          RFn           2         608         TA   \n",
       "4      Detchd       1998.0          Unf           3         642         TA   \n",
       "5      Attchd       2000.0          RFn           3         836         TA   \n",
       "\n",
       "   GarageCond PavedDrive  WoodDeckSF  OpenPorchSF  EnclosedPorch  3SsnPorch  \\\n",
       "Id                                                                            \n",
       "1          TA          Y           0           61              0          0   \n",
       "2          TA          Y         298            0              0          0   \n",
       "3          TA          Y           0           42              0          0   \n",
       "4          TA          Y           0           35            272          0   \n",
       "5          TA          Y         192           84              0          0   \n",
       "\n",
       "    ScreenPorch  PoolArea PoolQC Fence MiscFeature  MiscVal  MoSold  YrSold  \\\n",
       "Id                                                                            \n",
       "1             0         0    NaN   NaN         NaN        0       2    2008   \n",
       "2             0         0    NaN   NaN         NaN        0       5    2007   \n",
       "3             0         0    NaN   NaN         NaN        0       9    2008   \n",
       "4             0         0    NaN   NaN         NaN        0       2    2006   \n",
       "5             0         0    NaN   NaN         NaN        0      12    2008   \n",
       "\n",
       "   SaleType SaleCondition  SalePrice  \n",
       "Id                                    \n",
       "1        WD        Normal     208500  \n",
       "2        WD        Normal     181500  \n",
       "3        WD        Normal     223500  \n",
       "4        WD       Abnorml     140000  \n",
       "5        WD        Normal     250000  "
      ]
     },
     "execution_count": 3,
     "metadata": {},
     "output_type": "execute_result"
    }
   ],
   "source": [
    "house_data = pd.read_csv(\"../input/home-data-for-ml-course/train.csv\", index_col=\"Id\")\n",
    "test_data = pd.read_csv(\"../input/home-data-for-ml-course/test.csv\", index_col=\"Id\")\n",
    "\n",
    "pd.set_option(\"display.max_columns\", house_data.shape[1])\n",
    "house_data.head()"
   ]
  },
  {
   "cell_type": "markdown",
   "id": "36f1b381",
   "metadata": {
    "papermill": {
     "duration": 0.008218,
     "end_time": "2022-06-30T12:59:37.929570",
     "exception": false,
     "start_time": "2022-06-30T12:59:37.921352",
     "status": "completed"
    },
    "tags": []
   },
   "source": [
    "## 2. Checking `MI` (Mutual Information)"
   ]
  },
  {
   "cell_type": "code",
   "execution_count": 4,
   "id": "5497e38a",
   "metadata": {
    "execution": {
     "iopub.execute_input": "2022-06-30T12:59:37.949319Z",
     "iopub.status.busy": "2022-06-30T12:59:37.948427Z",
     "iopub.status.idle": "2022-06-30T12:59:37.956426Z",
     "shell.execute_reply": "2022-06-30T12:59:37.955126Z"
    },
    "papermill": {
     "duration": 0.021847,
     "end_time": "2022-06-30T12:59:37.959949",
     "exception": false,
     "start_time": "2022-06-30T12:59:37.938102",
     "status": "completed"
    },
    "tags": []
   },
   "outputs": [],
   "source": [
    "def impute_data(data, strategy=\"most_frequent\"):\n",
    "    data = data.copy()\n",
    "    index = data.index\n",
    "    cat_cols = data.select_dtypes(\"object\").columns\n",
    "    num_cols = data.select_dtypes(exclude=\"object\").columns\n",
    "    num_imp = SimpleImputer(strategy=\"mean\")\n",
    "    cat_imp = SimpleImputer(strategy=strategy)\n",
    "    data[cat_cols] = pd.DataFrame(cat_imp.fit_transform(data[cat_cols]), index=index, columns=cat_cols)\n",
    "    data[num_cols] = pd.DataFrame(num_imp.fit_transform(data[num_cols]), index=index, columns=num_cols)\n",
    "    return data"
   ]
  },
  {
   "cell_type": "code",
   "execution_count": 5,
   "id": "0ad3bb7f",
   "metadata": {
    "execution": {
     "iopub.execute_input": "2022-06-30T12:59:37.980132Z",
     "iopub.status.busy": "2022-06-30T12:59:37.978854Z",
     "iopub.status.idle": "2022-06-30T12:59:37.987216Z",
     "shell.execute_reply": "2022-06-30T12:59:37.986179Z"
    },
    "papermill": {
     "duration": 0.0206,
     "end_time": "2022-06-30T12:59:37.989467",
     "exception": false,
     "start_time": "2022-06-30T12:59:37.968867",
     "status": "completed"
    },
    "tags": []
   },
   "outputs": [],
   "source": [
    "def get_mi_score(X, y):\n",
    "    X = X.copy()\n",
    "    X = impute_data(X)\n",
    "    # Converting values of discrete features to numerical values\n",
    "    for col in X.select_dtypes([\"object\"]):\n",
    "        X[col] = X[col].factorize()[0]\n",
    "    \n",
    "    discrete_features = X.dtypes == int\n",
    "    mi_scores = mutual_info_regression(X, y, discrete_features=discrete_features, random_state=0)\n",
    "    mi_scores = pd.Series(mi_scores, name=\"MI Scores\", index=X.columns).sort_values(ascending=False)\n",
    "    return mi_scores"
   ]
  },
  {
   "cell_type": "code",
   "execution_count": 6,
   "id": "e74918e1",
   "metadata": {
    "execution": {
     "iopub.execute_input": "2022-06-30T12:59:38.008901Z",
     "iopub.status.busy": "2022-06-30T12:59:38.008251Z",
     "iopub.status.idle": "2022-06-30T12:59:38.828201Z",
     "shell.execute_reply": "2022-06-30T12:59:38.826788Z"
    },
    "papermill": {
     "duration": 0.833087,
     "end_time": "2022-06-30T12:59:38.831177",
     "exception": false,
     "start_time": "2022-06-30T12:59:37.998090",
     "status": "completed"
    },
    "tags": []
   },
   "outputs": [
    {
     "data": {
      "text/plain": [
       "OverallQual     0.560282\n",
       "Neighborhood    0.530819\n",
       "GrLivArea       0.482077\n",
       "YearBuilt       0.368010\n",
       "TotalBsmtSF     0.366441\n",
       "GarageArea      0.362350\n",
       "GarageCars      0.361032\n",
       "ExterQual       0.324114\n",
       "BsmtQual        0.315680\n",
       "KitchenQual     0.314715\n",
       "1stFlrSF        0.309644\n",
       "GarageYrBlt     0.297827\n",
       "MSSubClass      0.275832\n",
       "YearRemodAdd    0.257843\n",
       "FullBath        0.256921\n",
       "GarageFinish    0.249278\n",
       "TotRmsAbvGrd    0.218532\n",
       "Foundation      0.198219\n",
       "2ndFlrSF        0.194843\n",
       "LotFrontage     0.191295\n",
       "Name: MI Scores, dtype: float64"
      ]
     },
     "execution_count": 6,
     "metadata": {},
     "output_type": "execute_result"
    }
   ],
   "source": [
    "X = house_data.iloc[:, :-1]\n",
    "y = house_data[\"SalePrice\"]\n",
    "mi_scores = get_mi_score(X, y)\n",
    "mi_scores.head(20)"
   ]
  },
  {
   "cell_type": "markdown",
   "id": "f427bd93",
   "metadata": {
    "papermill": {
     "duration": 0.008545,
     "end_time": "2022-06-30T12:59:38.848457",
     "exception": false,
     "start_time": "2022-06-30T12:59:38.839912",
     "status": "completed"
    },
    "tags": []
   },
   "source": [
    "## 3. Selecting useful features\n",
    "- Selecting first 20 good mi_score features"
   ]
  },
  {
   "cell_type": "code",
   "execution_count": 7,
   "id": "5f9f54ad",
   "metadata": {
    "execution": {
     "iopub.execute_input": "2022-06-30T12:59:38.869103Z",
     "iopub.status.busy": "2022-06-30T12:59:38.868157Z",
     "iopub.status.idle": "2022-06-30T12:59:38.881876Z",
     "shell.execute_reply": "2022-06-30T12:59:38.880570Z"
    },
    "papermill": {
     "duration": 0.026971,
     "end_time": "2022-06-30T12:59:38.884458",
     "exception": false,
     "start_time": "2022-06-30T12:59:38.857487",
     "status": "completed"
    },
    "tags": []
   },
   "outputs": [
    {
     "data": {
      "text/plain": [
       "Index(['OverallQual', 'Neighborhood', 'GrLivArea', 'YearBuilt', 'TotalBsmtSF',\n",
       "       'GarageArea', 'GarageCars', 'ExterQual', 'BsmtQual', 'KitchenQual',\n",
       "       '1stFlrSF', 'GarageYrBlt', 'MSSubClass', 'YearRemodAdd', 'FullBath',\n",
       "       'GarageFinish', 'TotRmsAbvGrd', 'Foundation', '2ndFlrSF', 'LotFrontage',\n",
       "       'HeatingQC', 'OpenPorchSF', 'Exterior2nd', 'Fireplaces', 'LotArea',\n",
       "       'BsmtFinSF1', 'BsmtFinType1', 'Exterior1st', 'MSZoning', 'OverallCond',\n",
       "       'GarageType', 'BsmtUnfSF', 'WoodDeckSF', 'MasVnrType', 'LotShape',\n",
       "       'HalfBath', 'MasVnrArea', 'SaleType', 'SaleCondition', 'HouseStyle',\n",
       "       'FireplaceQu', 'BsmtExposure', 'BedroomAbvGr', 'CentralAir',\n",
       "       'Electrical', 'PavedDrive', 'BldgType', 'BsmtFullBath', 'LandContour',\n",
       "       'BsmtCond', 'KitchenAbvGr', 'EnclosedPorch', 'ScreenPorch',\n",
       "       'BsmtHalfBath', 'GarageCond', 'Condition1', 'Fence', 'GarageQual',\n",
       "       'Heating', 'RoofStyle', 'ExterCond', 'LotConfig', 'Alley',\n",
       "       'BsmtFinType2', 'Functional', '3SsnPorch', 'RoofMatl', 'MiscVal',\n",
       "       'LowQualFinSF', 'LandSlope', 'Street', 'Condition2', 'PoolQC',\n",
       "       'Utilities', 'BsmtFinSF2', 'PoolArea', 'MiscFeature', 'MoSold',\n",
       "       'YrSold'],\n",
       "      dtype='object')"
      ]
     },
     "execution_count": 7,
     "metadata": {},
     "output_type": "execute_result"
    }
   ],
   "source": [
    "useful_features = mi_scores.index\n",
    "X = X[useful_features]\n",
    "y = house_data[\"SalePrice\"]\n",
    "test_data = test_data[useful_features]\n",
    "useful_features"
   ]
  },
  {
   "cell_type": "code",
   "execution_count": 8,
   "id": "38ea2a3a",
   "metadata": {
    "execution": {
     "iopub.execute_input": "2022-06-30T12:59:38.904562Z",
     "iopub.status.busy": "2022-06-30T12:59:38.904151Z",
     "iopub.status.idle": "2022-06-30T12:59:38.915958Z",
     "shell.execute_reply": "2022-06-30T12:59:38.914816Z"
    },
    "papermill": {
     "duration": 0.024856,
     "end_time": "2022-06-30T12:59:38.918286",
     "exception": false,
     "start_time": "2022-06-30T12:59:38.893430",
     "status": "completed"
    },
    "tags": []
   },
   "outputs": [
    {
     "data": {
      "text/plain": [
       "object     43\n",
       "int64      33\n",
       "float64     3\n",
       "dtype: int64"
      ]
     },
     "execution_count": 8,
     "metadata": {},
     "output_type": "execute_result"
    }
   ],
   "source": [
    "X.dtypes.value_counts()"
   ]
  },
  {
   "cell_type": "markdown",
   "id": "09b871b9",
   "metadata": {
    "papermill": {
     "duration": 0.008975,
     "end_time": "2022-06-30T12:59:38.937266",
     "exception": false,
     "start_time": "2022-06-30T12:59:38.928291",
     "status": "completed"
    },
    "tags": []
   },
   "source": [
    "## 4. Extracting numerical and categorical columns"
   ]
  },
  {
   "cell_type": "code",
   "execution_count": 9,
   "id": "215bc2b3",
   "metadata": {
    "execution": {
     "iopub.execute_input": "2022-06-30T12:59:38.957769Z",
     "iopub.status.busy": "2022-06-30T12:59:38.957070Z",
     "iopub.status.idle": "2022-06-30T12:59:38.966368Z",
     "shell.execute_reply": "2022-06-30T12:59:38.965112Z"
    },
    "papermill": {
     "duration": 0.023468,
     "end_time": "2022-06-30T12:59:38.969941",
     "exception": false,
     "start_time": "2022-06-30T12:59:38.946473",
     "status": "completed"
    },
    "tags": []
   },
   "outputs": [],
   "source": [
    "num_cols = X.select_dtypes(exclude=\"object\").columns\n",
    "cat_cols = X.select_dtypes(\"object\").columns"
   ]
  },
  {
   "cell_type": "markdown",
   "id": "3242c050",
   "metadata": {
    "papermill": {
     "duration": 0.009235,
     "end_time": "2022-06-30T12:59:38.989081",
     "exception": false,
     "start_time": "2022-06-30T12:59:38.979846",
     "status": "completed"
    },
    "tags": []
   },
   "source": [
    "## 5. Creating Pipeline"
   ]
  },
  {
   "cell_type": "code",
   "execution_count": 10,
   "id": "b20386d1",
   "metadata": {
    "execution": {
     "iopub.execute_input": "2022-06-30T12:59:39.010061Z",
     "iopub.status.busy": "2022-06-30T12:59:39.009625Z",
     "iopub.status.idle": "2022-06-30T12:59:39.023826Z",
     "shell.execute_reply": "2022-06-30T12:59:39.022479Z"
    },
    "papermill": {
     "duration": 0.027655,
     "end_time": "2022-06-30T12:59:39.026204",
     "exception": false,
     "start_time": "2022-06-30T12:59:38.998549",
     "status": "completed"
    },
    "tags": []
   },
   "outputs": [],
   "source": [
    "class CreatePipeline:\n",
    "    \"\"\"Create Pipeline\n",
    "    methods:\n",
    "        pipeline: Create Final Pipeline\n",
    "        \n",
    "        create_model: Create the provided model\n",
    "        \n",
    "        numerical_transformer: Transform numerical cols\n",
    "        \n",
    "        categorical_transformer: Transform categorical cols \\\n",
    "        OneHotEncoding / OrdinalEncoding\n",
    "        \n",
    "        data_preprocessor: Preprocess the data using ColumnTransformer     \n",
    "        \"\"\"\n",
    "    def pipeline(self, *, preprocessor, model, verbose=False):\n",
    "        \"\"\"Creates pipeline\n",
    "        params:\n",
    "            preprocessor\n",
    "            model\n",
    "        \"\"\"\n",
    "        steps = [(\"preprocessor\", preprocessor),\n",
    "                 (\"model\", model)]\n",
    "        return Pipeline(steps=steps, verbose=verbose)\n",
    "    \n",
    "    \n",
    "    def numerical_transformer(self, *, strategy=\"mean\", **params):\n",
    "        \"\"\"Transform numerical columns using `SimpleImputer`.\n",
    "        params:\n",
    "            strategy: \"mean\" | \"median\" | \"most_frequent\" | \"constant\"\n",
    "            **params: extra keyword args for SimpleImputer\"\"\"\n",
    "        \n",
    "        transformer = SimpleImputer(strategy=strategy, **params)\n",
    "        return transformer\n",
    "    \n",
    "    def categorical_transformer(self, *, \n",
    "                                imp_strategy=\"most_frequent\", \n",
    "                                encoder_type=\"Ordinal\", \n",
    "                                imp_params={}, encoder_params={}):\n",
    "        \"\"\"Transform categorical columns by making Pipeline\n",
    "        `SimpleImputer` | `OneHotEncoder` | `OrdinalEncoder`.\n",
    "        args:\n",
    "            imp_strategy: strategy for imputer values can be\n",
    "                \"most_frequent\" | \"constant\"\n",
    "            encoder_type: encoder type,\n",
    "                \"Ordinal\" | \"OneHot\"\n",
    "        kwargs:\n",
    "            imp_params: keyword args for `SimpleImputer`.\n",
    "            encoder_params: keyword args for encoder.`\n",
    "        \"\"\"\n",
    "        if not encoder_type in (\"Ordinal\", \"OneHot\"):\n",
    "            raise ValueError(f\"Inappropriate value for encoder_type passed: {encoder_type}\\\n",
    "            Takes one of 'Ordinal' | 'OneHot'.\")\n",
    "        \n",
    "        encoder = OrdinalEncoder if encoder_type==\"Ordinal\" else OneHotEncoder\n",
    "        transformer = Pipeline(steps=[\n",
    "            (\"imputer\", SimpleImputer(strategy=imp_strategy, **imp_params)),\n",
    "            (encoder_type, encoder(**encoder_params))\n",
    "        ])\n",
    "        return transformer\n",
    "    \n",
    "    \n",
    "    def data_preprocessor(self, *, transformers):\n",
    "        \"\"\"Preprocess the data using `ColumnTransformer`.\n",
    "        Pass extact list of transformers\n",
    "        to be passed in `ColumnTransformer`.\n",
    "        each tuple consist of: (transformer_name,\n",
    "                                transformer,\n",
    "                                list_of_columns).\"\"\"\n",
    "        preprocessor = ColumnTransformer(transformers=transformers)\n",
    "        return preprocessor\n",
    "    \n",
    "    \n",
    "    def create_model(self, *, model, random_state=0, n_estimators=1000, **kwargs):\n",
    "        \"\"\"Creates the model.\n",
    "        **kwargs: keyword args for model.\"\"\"\n",
    "        my_model = model(random_state=random_state, n_estimators=n_estimators, **kwargs)\n",
    "        return my_model"
   ]
  },
  {
   "cell_type": "code",
   "execution_count": 11,
   "id": "a031aa00",
   "metadata": {
    "execution": {
     "iopub.execute_input": "2022-06-30T12:59:39.047024Z",
     "iopub.status.busy": "2022-06-30T12:59:39.046307Z",
     "iopub.status.idle": "2022-06-30T12:59:39.052235Z",
     "shell.execute_reply": "2022-06-30T12:59:39.051250Z"
    },
    "papermill": {
     "duration": 0.019449,
     "end_time": "2022-06-30T12:59:39.054803",
     "exception": false,
     "start_time": "2022-06-30T12:59:39.035354",
     "status": "completed"
    },
    "tags": []
   },
   "outputs": [],
   "source": [
    "cp = CreatePipeline()\n",
    "num_transformer = cp.numerical_transformer()\n",
    "cat_transformer = cp.categorical_transformer(encoder_params={\"handle_unknown\":\"use_encoded_value\", \"unknown_value\":-1})\n",
    "\n",
    "preprocessor = cp.data_preprocessor(\n",
    "    transformers=[(\"num\", num_transformer, num_cols),\n",
    "                  (\"cat\", cat_transformer, cat_cols)\n",
    "                 ])"
   ]
  },
  {
   "cell_type": "markdown",
   "id": "e807a22e",
   "metadata": {
    "papermill": {
     "duration": 0.008765,
     "end_time": "2022-06-30T12:59:39.073497",
     "exception": false,
     "start_time": "2022-06-30T12:59:39.064732",
     "status": "completed"
    },
    "tags": []
   },
   "source": [
    "## 6. Doing hyperparameter tuning with cross-validation"
   ]
  },
  {
   "cell_type": "code",
   "execution_count": 12,
   "id": "be04c03c",
   "metadata": {
    "execution": {
     "iopub.execute_input": "2022-06-30T12:59:39.093867Z",
     "iopub.status.busy": "2022-06-30T12:59:39.093145Z",
     "iopub.status.idle": "2022-06-30T13:05:11.032130Z",
     "shell.execute_reply": "2022-06-30T13:05:11.030787Z"
    },
    "papermill": {
     "duration": 331.953416,
     "end_time": "2022-06-30T13:05:11.036098",
     "exception": false,
     "start_time": "2022-06-30T12:59:39.082682",
     "status": "completed"
    },
    "tags": []
   },
   "outputs": [
    {
     "name": "stderr",
     "output_type": "stream",
     "text": [
      "[Parallel(n_jobs=1)]: Using backend SequentialBackend with 1 concurrent workers.\n",
      "[Parallel(n_jobs=1)]: Done  10 out of  10 | elapsed:   37.7s finished\n",
      "[Parallel(n_jobs=1)]: Using backend SequentialBackend with 1 concurrent workers.\n",
      "[Parallel(n_jobs=1)]: Done  10 out of  10 | elapsed:   38.2s finished\n",
      "[Parallel(n_jobs=1)]: Using backend SequentialBackend with 1 concurrent workers.\n",
      "[Parallel(n_jobs=1)]: Done  10 out of  10 | elapsed:   54.6s finished\n",
      "[Parallel(n_jobs=1)]: Using backend SequentialBackend with 1 concurrent workers.\n",
      "[Parallel(n_jobs=1)]: Done  10 out of  10 | elapsed:   55.6s finished\n",
      "[Parallel(n_jobs=1)]: Using backend SequentialBackend with 1 concurrent workers.\n",
      "[Parallel(n_jobs=1)]: Done  10 out of  10 | elapsed:  1.2min finished\n",
      "[Parallel(n_jobs=1)]: Using backend SequentialBackend with 1 concurrent workers.\n",
      "[Parallel(n_jobs=1)]: Done  10 out of  10 | elapsed:  1.2min finished\n"
     ]
    }
   ],
   "source": [
    "n_estimators = [500, 750, 1000]\n",
    "learning_rate = [0.05, 0.1]\n",
    "maes = {}\n",
    "i = 0\n",
    "for n in n_estimators:\n",
    "    for rate in learning_rate:\n",
    "        i += 1\n",
    "        model = cp.create_model(model=XGBRegressor, n_estimators=n, learning_rate=rate)\n",
    "        pipeline = cp.pipeline(preprocessor=preprocessor, model=model)\n",
    "        scores = -1 * cross_val_score(pipeline, X, y, cv=10, verbose=True,\n",
    "                                scoring=\"neg_mean_absolute_error\")\n",
    "        mae = scores.mean()\n",
    "        maes[i] = [n, rate, mae]"
   ]
  },
  {
   "cell_type": "markdown",
   "id": "c2e530c8",
   "metadata": {
    "papermill": {
     "duration": 0.009066,
     "end_time": "2022-06-30T13:05:11.055653",
     "exception": false,
     "start_time": "2022-06-30T13:05:11.046587",
     "status": "completed"
    },
    "tags": []
   },
   "source": [
    "## 7. Checking MAE, selecting best parameters\n",
    "### n_estimators=`500` and learning_rate:`0.05`\n",
    "1. N_estimators: 500\tLearning_rate: 0.05\tMAE: 15520\n",
    "2. N_estimators: 500\tLearning_rate: 0.1\tMAE: 15772\n",
    "3. N_estimators: 750\tLearning_rate: 0.05\tMAE: 15554\n",
    "4. N_estimators: 750\tLearning_rate: 0.1\tMAE: 15781\n",
    "5. N_estimators: 1000\tLearning_rate: 0.05\tMAE: 15574\n",
    "6. N_estimators: 1000\tLearning_rate: 0.1\tMAE: 15781"
   ]
  },
  {
   "cell_type": "code",
   "execution_count": 13,
   "id": "b55f0c97",
   "metadata": {
    "execution": {
     "iopub.execute_input": "2022-06-30T13:05:11.076495Z",
     "iopub.status.busy": "2022-06-30T13:05:11.075423Z",
     "iopub.status.idle": "2022-06-30T13:05:11.081844Z",
     "shell.execute_reply": "2022-06-30T13:05:11.080630Z"
    },
    "papermill": {
     "duration": 0.020738,
     "end_time": "2022-06-30T13:05:11.085677",
     "exception": false,
     "start_time": "2022-06-30T13:05:11.064939",
     "status": "completed"
    },
    "tags": []
   },
   "outputs": [
    {
     "name": "stdout",
     "output_type": "stream",
     "text": [
      "1. N_estimators: 500\tLearning_rate: 0.05\tMAE: 15520\n",
      "2. N_estimators: 500\tLearning_rate: 0.1\tMAE: 15772\n",
      "3. N_estimators: 750\tLearning_rate: 0.05\tMAE: 15554\n",
      "4. N_estimators: 750\tLearning_rate: 0.1\tMAE: 15781\n",
      "5. N_estimators: 1000\tLearning_rate: 0.05\tMAE: 15574\n",
      "6. N_estimators: 1000\tLearning_rate: 0.1\tMAE: 15781\n"
     ]
    }
   ],
   "source": [
    "for i in maes:\n",
    "    estimators, rate, mae = maes[i]\n",
    "    print(f\"{i}. N_estimators: {estimators}\\tLearning_rate: {rate}\\tMAE: {mae:.0f}\")"
   ]
  },
  {
   "cell_type": "code",
   "execution_count": 14,
   "id": "2bb0a58f",
   "metadata": {
    "execution": {
     "iopub.execute_input": "2022-06-30T13:05:11.107627Z",
     "iopub.status.busy": "2022-06-30T13:05:11.106679Z",
     "iopub.status.idle": "2022-06-30T13:05:11.111128Z",
     "shell.execute_reply": "2022-06-30T13:05:11.110178Z"
    },
    "papermill": {
     "duration": 0.017336,
     "end_time": "2022-06-30T13:05:11.113192",
     "exception": false,
     "start_time": "2022-06-30T13:05:11.095856",
     "status": "completed"
    },
    "tags": []
   },
   "outputs": [],
   "source": [
    "best_n_estimators = 500\n",
    "best_learning_rate = 0.05"
   ]
  },
  {
   "cell_type": "markdown",
   "id": "a930d92b",
   "metadata": {
    "papermill": {
     "duration": 0.009083,
     "end_time": "2022-06-30T13:05:11.131768",
     "exception": false,
     "start_time": "2022-06-30T13:05:11.122685",
     "status": "completed"
    },
    "tags": []
   },
   "source": [
    "## 8. Training model on best parameters"
   ]
  },
  {
   "cell_type": "code",
   "execution_count": 15,
   "id": "f3512a2c",
   "metadata": {
    "execution": {
     "iopub.execute_input": "2022-06-30T13:05:11.152729Z",
     "iopub.status.busy": "2022-06-30T13:05:11.152051Z",
     "iopub.status.idle": "2022-06-30T13:05:15.774578Z",
     "shell.execute_reply": "2022-06-30T13:05:15.773066Z"
    },
    "papermill": {
     "duration": 4.636832,
     "end_time": "2022-06-30T13:05:15.777925",
     "exception": false,
     "start_time": "2022-06-30T13:05:11.141093",
     "status": "completed"
    },
    "tags": []
   },
   "outputs": [
    {
     "data": {
      "text/plain": [
       "Pipeline(steps=[('preprocessor',\n",
       "                 ColumnTransformer(transformers=[('num', SimpleImputer(),\n",
       "                                                  Index(['OverallQual', 'GrLivArea', 'YearBuilt', 'TotalBsmtSF', 'GarageArea',\n",
       "       'GarageCars', '1stFlrSF', 'GarageYrBlt', 'MSSubClass', 'YearRemodAdd',\n",
       "       'FullBath', 'TotRmsAbvGrd', '2ndFlrSF', 'LotFrontage', 'OpenPorchSF',\n",
       "       'Fireplaces', 'LotArea', 'BsmtFinSF1', 'OverallCond', 'BsmtUnfSF...\n",
       "                              gamma=0, gpu_id=-1, grow_policy='depthwise',\n",
       "                              importance_type=None, interaction_constraints='',\n",
       "                              learning_rate=0.05, max_bin=256,\n",
       "                              max_cat_to_onehot=4, max_delta_step=0,\n",
       "                              max_depth=6, max_leaves=0, min_child_weight=1,\n",
       "                              missing=nan, monotone_constraints='()',\n",
       "                              n_estimators=500, n_jobs=0, num_parallel_tree=1,\n",
       "                              predictor='auto', random_state=0, reg_alpha=0,\n",
       "                              reg_lambda=1, ...))])"
      ]
     },
     "execution_count": 15,
     "metadata": {},
     "output_type": "execute_result"
    }
   ],
   "source": [
    "model = cp.create_model(model=XGBRegressor, n_estimators=best_n_estimators, learning_rate=best_learning_rate)\n",
    "pipeline = cp.pipeline(preprocessor=preprocessor, model=model)\n",
    "pipeline.fit(X, y)"
   ]
  },
  {
   "cell_type": "markdown",
   "id": "3246a0b2",
   "metadata": {
    "papermill": {
     "duration": 0.010054,
     "end_time": "2022-06-30T13:05:15.803386",
     "exception": false,
     "start_time": "2022-06-30T13:05:15.793332",
     "status": "completed"
    },
    "tags": []
   },
   "source": [
    "## 9. Predicting prices of `test_data`"
   ]
  },
  {
   "cell_type": "code",
   "execution_count": 16,
   "id": "820b54c5",
   "metadata": {
    "execution": {
     "iopub.execute_input": "2022-06-30T13:05:15.828869Z",
     "iopub.status.busy": "2022-06-30T13:05:15.828371Z",
     "iopub.status.idle": "2022-06-30T13:05:15.889915Z",
     "shell.execute_reply": "2022-06-30T13:05:15.888588Z"
    },
    "papermill": {
     "duration": 0.079155,
     "end_time": "2022-06-30T13:05:15.892616",
     "exception": false,
     "start_time": "2022-06-30T13:05:15.813461",
     "status": "completed"
    },
    "tags": []
   },
   "outputs": [
    {
     "data": {
      "text/plain": [
       "array([125650.336, 152583.88 , 186216.7  , ..., 159991.2  , 113692.56 ,\n",
       "       219900.81 ], dtype=float32)"
      ]
     },
     "execution_count": 16,
     "metadata": {},
     "output_type": "execute_result"
    }
   ],
   "source": [
    "test_preds = pipeline.predict(test_data)\n",
    "test_preds"
   ]
  },
  {
   "cell_type": "markdown",
   "id": "05265438",
   "metadata": {
    "papermill": {
     "duration": 0.010313,
     "end_time": "2022-06-30T13:05:15.916219",
     "exception": false,
     "start_time": "2022-06-30T13:05:15.905906",
     "status": "completed"
    },
    "tags": []
   },
   "source": [
    "## 10. Submitting predictions"
   ]
  },
  {
   "cell_type": "code",
   "execution_count": 17,
   "id": "1d239f79",
   "metadata": {
    "execution": {
     "iopub.execute_input": "2022-06-30T13:05:15.938381Z",
     "iopub.status.busy": "2022-06-30T13:05:15.938001Z",
     "iopub.status.idle": "2022-06-30T13:05:15.951601Z",
     "shell.execute_reply": "2022-06-30T13:05:15.950494Z"
    },
    "papermill": {
     "duration": 0.027962,
     "end_time": "2022-06-30T13:05:15.954554",
     "exception": false,
     "start_time": "2022-06-30T13:05:15.926592",
     "status": "completed"
    },
    "tags": []
   },
   "outputs": [],
   "source": [
    "output = pd.DataFrame({\"Id\": test_data.index, \"SalePrice\": test_preds})\n",
    "output.to_csv(\"./submission_11.csv\", index=False)"
   ]
  }
 ],
 "metadata": {
  "kernelspec": {
   "display_name": "Python 3",
   "language": "python",
   "name": "python3"
  },
  "language_info": {
   "codemirror_mode": {
    "name": "ipython",
    "version": 3
   },
   "file_extension": ".py",
   "mimetype": "text/x-python",
   "name": "python",
   "nbconvert_exporter": "python",
   "pygments_lexer": "ipython3",
   "version": "3.7.12"
  },
  "papermill": {
   "default_parameters": {},
   "duration": 352.03546,
   "end_time": "2022-06-30T13:05:16.787415",
   "environment_variables": {},
   "exception": null,
   "input_path": "__notebook__.ipynb",
   "output_path": "__notebook__.ipynb",
   "parameters": {},
   "start_time": "2022-06-30T12:59:24.751955",
   "version": "2.3.4"
  }
 },
 "nbformat": 4,
 "nbformat_minor": 5
}

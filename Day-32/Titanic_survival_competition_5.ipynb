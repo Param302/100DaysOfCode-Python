{
 "cells": [
  {
   "cell_type": "markdown",
   "id": "41c72700",
   "metadata": {},
   "source": [
    "# [Titanic - Machine learning from Disaster](https://www.kaggle.com/competitions/titanic/)\n",
    "\n",
    "- [My notebook](https://www.kaggle.com/code/param302/titanic-survival-competition-5)"
   ]
  },
  {
   "cell_type": "markdown",
   "id": "0861e524",
   "metadata": {
    "papermill": {
     "duration": 0.005553,
     "end_time": "2022-07-06T18:57:15.842766",
     "exception": false,
     "start_time": "2022-07-06T18:57:15.837213",
     "status": "completed"
    },
    "tags": []
   },
   "source": [
    "## Importing required libraries"
   ]
  },
  {
   "cell_type": "code",
   "execution_count": 2,
   "id": "b7a052e2",
   "metadata": {
    "execution": {
     "iopub.execute_input": "2022-07-06T18:57:15.855761Z",
     "iopub.status.busy": "2022-07-06T18:57:15.855137Z",
     "iopub.status.idle": "2022-07-06T18:57:17.539640Z",
     "shell.execute_reply": "2022-07-06T18:57:17.538658Z"
    },
    "papermill": {
     "duration": 1.69368,
     "end_time": "2022-07-06T18:57:17.542218",
     "exception": false,
     "start_time": "2022-07-06T18:57:15.848538",
     "status": "completed"
    },
    "tags": []
   },
   "outputs": [],
   "source": [
    "import numpy as np\n",
    "import pandas as pd\n",
    "import seaborn as sns\n",
    "import matplotlib.pyplot as plt\n",
    "%matplotlib inline\n",
    "from xgboost import XGBClassifier\n",
    "from sklearn.pipeline import Pipeline\n",
    "from sklearn.impute import SimpleImputer\n",
    "from sklearn.feature_selection import mutual_info_classif\n",
    "from sklearn.compose import ColumnTransformer\n",
    "from sklearn.preprocessing import OneHotEncoder\n",
    "from sklearn.model_selection import cross_val_score"
   ]
  },
  {
   "cell_type": "markdown",
   "id": "dffd144d",
   "metadata": {
    "papermill": {
     "duration": 0.009636,
     "end_time": "2022-07-06T18:57:17.562054",
     "exception": false,
     "start_time": "2022-07-06T18:57:17.552418",
     "status": "completed"
    },
    "tags": []
   },
   "source": [
    "# Approach\n",
    "1. Load data\n",
    "2. Replace outliers with mean/median\n",
    "3. Find Mutual Information\n",
    "3. Select Useful features\n",
    "4. Extract numerical and categorical columns\n",
    "5. Make pipeline\n",
    "6. Do hyperparameter tuning with cross-validation (`XGBRegressor`)\n",
    "7. Check MAE\n",
    "8. Best parameters\n",
    "8. Train model\n",
    "9. Predict `Survived` on `test_data`\n",
    "10. Submit predictions"
   ]
  },
  {
   "cell_type": "markdown",
   "id": "e45c9b74",
   "metadata": {
    "papermill": {
     "duration": 0.009315,
     "end_time": "2022-07-06T18:57:17.580983",
     "exception": false,
     "start_time": "2022-07-06T18:57:17.571668",
     "status": "completed"
    },
    "tags": []
   },
   "source": [
    "## 1. Loading data"
   ]
  },
  {
   "cell_type": "code",
   "execution_count": 3,
   "id": "815f2386",
   "metadata": {
    "execution": {
     "iopub.execute_input": "2022-07-06T18:57:17.601473Z",
     "iopub.status.busy": "2022-07-06T18:57:17.601179Z",
     "iopub.status.idle": "2022-07-06T18:57:17.662882Z",
     "shell.execute_reply": "2022-07-06T18:57:17.661823Z"
    },
    "papermill": {
     "duration": 0.074546,
     "end_time": "2022-07-06T18:57:17.665136",
     "exception": false,
     "start_time": "2022-07-06T18:57:17.590590",
     "status": "completed"
    },
    "tags": []
   },
   "outputs": [
    {
     "data": {
      "text/html": [
       "<div>\n",
       "<style scoped>\n",
       "    .dataframe tbody tr th:only-of-type {\n",
       "        vertical-align: middle;\n",
       "    }\n",
       "\n",
       "    .dataframe tbody tr th {\n",
       "        vertical-align: top;\n",
       "    }\n",
       "\n",
       "    .dataframe thead th {\n",
       "        text-align: right;\n",
       "    }\n",
       "</style>\n",
       "<table border=\"1\" class=\"dataframe\">\n",
       "  <thead>\n",
       "    <tr style=\"text-align: right;\">\n",
       "      <th></th>\n",
       "      <th>Survived</th>\n",
       "      <th>Pclass</th>\n",
       "      <th>Name</th>\n",
       "      <th>Sex</th>\n",
       "      <th>Age</th>\n",
       "      <th>SibSp</th>\n",
       "      <th>Parch</th>\n",
       "      <th>Ticket</th>\n",
       "      <th>Fare</th>\n",
       "      <th>Cabin</th>\n",
       "      <th>Embarked</th>\n",
       "    </tr>\n",
       "    <tr>\n",
       "      <th>PassengerId</th>\n",
       "      <th></th>\n",
       "      <th></th>\n",
       "      <th></th>\n",
       "      <th></th>\n",
       "      <th></th>\n",
       "      <th></th>\n",
       "      <th></th>\n",
       "      <th></th>\n",
       "      <th></th>\n",
       "      <th></th>\n",
       "      <th></th>\n",
       "    </tr>\n",
       "  </thead>\n",
       "  <tbody>\n",
       "    <tr>\n",
       "      <th>1</th>\n",
       "      <td>0</td>\n",
       "      <td>3</td>\n",
       "      <td>Braund, Mr. Owen Harris</td>\n",
       "      <td>male</td>\n",
       "      <td>22.0</td>\n",
       "      <td>1</td>\n",
       "      <td>0</td>\n",
       "      <td>A/5 21171</td>\n",
       "      <td>7.2500</td>\n",
       "      <td>NaN</td>\n",
       "      <td>S</td>\n",
       "    </tr>\n",
       "    <tr>\n",
       "      <th>2</th>\n",
       "      <td>1</td>\n",
       "      <td>1</td>\n",
       "      <td>Cumings, Mrs. John Bradley (Florence Briggs Th...</td>\n",
       "      <td>female</td>\n",
       "      <td>38.0</td>\n",
       "      <td>1</td>\n",
       "      <td>0</td>\n",
       "      <td>PC 17599</td>\n",
       "      <td>71.2833</td>\n",
       "      <td>C85</td>\n",
       "      <td>C</td>\n",
       "    </tr>\n",
       "    <tr>\n",
       "      <th>3</th>\n",
       "      <td>1</td>\n",
       "      <td>3</td>\n",
       "      <td>Heikkinen, Miss. Laina</td>\n",
       "      <td>female</td>\n",
       "      <td>26.0</td>\n",
       "      <td>0</td>\n",
       "      <td>0</td>\n",
       "      <td>STON/O2. 3101282</td>\n",
       "      <td>7.9250</td>\n",
       "      <td>NaN</td>\n",
       "      <td>S</td>\n",
       "    </tr>\n",
       "    <tr>\n",
       "      <th>4</th>\n",
       "      <td>1</td>\n",
       "      <td>1</td>\n",
       "      <td>Futrelle, Mrs. Jacques Heath (Lily May Peel)</td>\n",
       "      <td>female</td>\n",
       "      <td>35.0</td>\n",
       "      <td>1</td>\n",
       "      <td>0</td>\n",
       "      <td>113803</td>\n",
       "      <td>53.1000</td>\n",
       "      <td>C123</td>\n",
       "      <td>S</td>\n",
       "    </tr>\n",
       "    <tr>\n",
       "      <th>5</th>\n",
       "      <td>0</td>\n",
       "      <td>3</td>\n",
       "      <td>Allen, Mr. William Henry</td>\n",
       "      <td>male</td>\n",
       "      <td>35.0</td>\n",
       "      <td>0</td>\n",
       "      <td>0</td>\n",
       "      <td>373450</td>\n",
       "      <td>8.0500</td>\n",
       "      <td>NaN</td>\n",
       "      <td>S</td>\n",
       "    </tr>\n",
       "  </tbody>\n",
       "</table>\n",
       "</div>"
      ],
      "text/plain": [
       "             Survived  Pclass  \\\n",
       "PassengerId                     \n",
       "1                   0       3   \n",
       "2                   1       1   \n",
       "3                   1       3   \n",
       "4                   1       1   \n",
       "5                   0       3   \n",
       "\n",
       "                                                          Name     Sex   Age  \\\n",
       "PassengerId                                                                    \n",
       "1                                      Braund, Mr. Owen Harris    male  22.0   \n",
       "2            Cumings, Mrs. John Bradley (Florence Briggs Th...  female  38.0   \n",
       "3                                       Heikkinen, Miss. Laina  female  26.0   \n",
       "4                 Futrelle, Mrs. Jacques Heath (Lily May Peel)  female  35.0   \n",
       "5                                     Allen, Mr. William Henry    male  35.0   \n",
       "\n",
       "             SibSp  Parch            Ticket     Fare Cabin Embarked  \n",
       "PassengerId                                                          \n",
       "1                1      0         A/5 21171   7.2500   NaN        S  \n",
       "2                1      0          PC 17599  71.2833   C85        C  \n",
       "3                0      0  STON/O2. 3101282   7.9250   NaN        S  \n",
       "4                1      0            113803  53.1000  C123        S  \n",
       "5                0      0            373450   8.0500   NaN        S  "
      ]
     },
     "execution_count": 3,
     "metadata": {},
     "output_type": "execute_result"
    }
   ],
   "source": [
    "data = pd.read_csv(\"../input/titanic/train.csv\", index_col=\"PassengerId\")\n",
    "test_data = pd.read_csv(\"../input/titanic/test.csv\", index_col=\"PassengerId\")\n",
    "\n",
    "data.head()"
   ]
  },
  {
   "cell_type": "markdown",
   "id": "2965ffd8",
   "metadata": {
    "papermill": {
     "duration": 0.010024,
     "end_time": "2022-07-06T18:57:17.685714",
     "exception": false,
     "start_time": "2022-07-06T18:57:17.675690",
     "status": "completed"
    },
    "tags": []
   },
   "source": [
    "## 2. Replacing outliers with median"
   ]
  },
  {
   "cell_type": "code",
   "execution_count": 4,
   "id": "f1ef8a94",
   "metadata": {
    "execution": {
     "iopub.execute_input": "2022-07-06T18:57:17.707240Z",
     "iopub.status.busy": "2022-07-06T18:57:17.706927Z",
     "iopub.status.idle": "2022-07-06T18:57:17.981526Z",
     "shell.execute_reply": "2022-07-06T18:57:17.980535Z"
    },
    "papermill": {
     "duration": 0.287327,
     "end_time": "2022-07-06T18:57:17.983270",
     "exception": false,
     "start_time": "2022-07-06T18:57:17.695943",
     "status": "completed"
    },
    "tags": []
   },
   "outputs": [
    {
     "data": {
      "text/plain": [
       "<AxesSubplot:xlabel='Fare', ylabel='PassengerId'>"
      ]
     },
     "execution_count": 4,
     "metadata": {},
     "output_type": "execute_result"
    },
    {
     "data": {
      "image/png": "[encoded data removed]",
      "text/plain": [
       "<Figure size 720x432 with 1 Axes>"
      ]
     },
     "metadata": {
      "needs_background": "light"
     },
     "output_type": "display_data"
    }
   ],
   "source": [
    "plt.figure(figsize=(10, 6))\n",
    "sns.scatterplot(x=\"Fare\", y=data.index, hue=\"Survived\", data=data)"
   ]
  },
  {
   "cell_type": "code",
   "execution_count": 5,
   "id": "2cb8ee2b",
   "metadata": {
    "execution": {
     "iopub.execute_input": "2022-07-06T18:57:17.999822Z",
     "iopub.status.busy": "2022-07-06T18:57:17.999240Z",
     "iopub.status.idle": "2022-07-06T18:57:18.007530Z",
     "shell.execute_reply": "2022-07-06T18:57:18.006797Z"
    },
    "papermill": {
     "duration": 0.018841,
     "end_time": "2022-07-06T18:57:18.009396",
     "exception": false,
     "start_time": "2022-07-06T18:57:17.990555",
     "status": "completed"
    },
    "tags": []
   },
   "outputs": [],
   "source": [
    "outliers = data[data[\"Fare\"] > 200].index\n",
    "data.loc[outliers, \"Fare\"] = data[\"Fare\"].median()"
   ]
  },
  {
   "cell_type": "code",
   "execution_count": 6,
   "id": "dd06f745",
   "metadata": {
    "execution": {
     "iopub.execute_input": "2022-07-06T18:57:18.026806Z",
     "iopub.status.busy": "2022-07-06T18:57:18.026205Z",
     "iopub.status.idle": "2022-07-06T18:57:18.250078Z",
     "shell.execute_reply": "2022-07-06T18:57:18.249198Z"
    },
    "papermill": {
     "duration": 0.235047,
     "end_time": "2022-07-06T18:57:18.251864",
     "exception": false,
     "start_time": "2022-07-06T18:57:18.016817",
     "status": "completed"
    },
    "tags": []
   },
   "outputs": [
    {
     "data": {
      "text/plain": [
       "<AxesSubplot:xlabel='Fare', ylabel='PassengerId'>"
      ]
     },
     "execution_count": 6,
     "metadata": {},
     "output_type": "execute_result"
    },
    {
     "data": {
      "image/png": "[encoded data removed]",
      "text/plain": [
       "<Figure size 720x432 with 1 Axes>"
      ]
     },
     "metadata": {
      "needs_background": "light"
     },
     "output_type": "display_data"
    }
   ],
   "source": [
    "plt.figure(figsize=(10, 6))\n",
    "sns.scatterplot(x=\"Fare\", y=data.index, hue=\"Survived\", data=data)"
   ]
  },
  {
   "cell_type": "markdown",
   "id": "712e0966",
   "metadata": {
    "papermill": {
     "duration": 0.008073,
     "end_time": "2022-07-06T18:57:18.268288",
     "exception": false,
     "start_time": "2022-07-06T18:57:18.260215",
     "status": "completed"
    },
    "tags": []
   },
   "source": [
    "## 3. Finding Mutual Information"
   ]
  },
  {
   "cell_type": "code",
   "execution_count": 7,
   "id": "3a308c70",
   "metadata": {
    "execution": {
     "iopub.execute_input": "2022-07-06T18:57:18.286614Z",
     "iopub.status.busy": "2022-07-06T18:57:18.285755Z",
     "iopub.status.idle": "2022-07-06T18:57:18.293979Z",
     "shell.execute_reply": "2022-07-06T18:57:18.293048Z"
    },
    "papermill": {
     "duration": 0.019562,
     "end_time": "2022-07-06T18:57:18.296106",
     "exception": false,
     "start_time": "2022-07-06T18:57:18.276544",
     "status": "completed"
    },
    "tags": []
   },
   "outputs": [],
   "source": [
    "def impute_data(data, *, num_strategy=\"mean\", cat_strategy=\"most_frequent\"):\n",
    "    data = data.copy()\n",
    "    index = data.index\n",
    "    num_cols = data.select_dtypes(exclude=\"object\").columns\n",
    "    cat_cols = data.select_dtypes(\"object\").columns\n",
    "    \n",
    "    num_imputer = SimpleImputer(strategy=num_strategy)\n",
    "    cat_imputer = SimpleImputer(strategy=cat_strategy)\n",
    "    \n",
    "    data[num_cols] = pd.DataFrame(num_imputer.fit_transform(data[num_cols]), index=index, columns=num_cols)\n",
    "    data[cat_cols] = pd.DataFrame(cat_imputer.fit_transform(data[cat_cols]), index=index, columns=cat_cols)\n",
    "    return data"
   ]
  },
  {
   "cell_type": "code",
   "execution_count": 8,
   "id": "542c867c",
   "metadata": {
    "execution": {
     "iopub.execute_input": "2022-07-06T18:57:18.315206Z",
     "iopub.status.busy": "2022-07-06T18:57:18.314916Z",
     "iopub.status.idle": "2022-07-06T18:57:18.320137Z",
     "shell.execute_reply": "2022-07-06T18:57:18.319203Z"
    },
    "papermill": {
     "duration": 0.017756,
     "end_time": "2022-07-06T18:57:18.322416",
     "exception": false,
     "start_time": "2022-07-06T18:57:18.304660",
     "status": "completed"
    },
    "tags": []
   },
   "outputs": [],
   "source": [
    "def get_mi_score(X, y):\n",
    "    X = impute_data(X.copy(), num_strategy=\"median\")\n",
    "    # Converting values of discrete features to numerical values\n",
    "    for col in X.select_dtypes([\"object\"]):\n",
    "        X[col] = X[col].factorize()[0]\n",
    "    \n",
    "    discrete_features = X.dtypes == int\n",
    "    mi_scores = mutual_info_classif(X, y, discrete_features=discrete_features, random_state=0)\n",
    "    mi_scores = pd.Series(mi_scores, name=\"MI Scores\", index=X.columns).sort_values(ascending=False)\n",
    "    return mi_scores"
   ]
  },
  {
   "cell_type": "code",
   "execution_count": 9,
   "id": "1941239f",
   "metadata": {
    "execution": {
     "iopub.execute_input": "2022-07-06T18:57:18.341483Z",
     "iopub.status.busy": "2022-07-06T18:57:18.340729Z",
     "iopub.status.idle": "2022-07-06T18:57:18.413239Z",
     "shell.execute_reply": "2022-07-06T18:57:18.412157Z"
    },
    "papermill": {
     "duration": 0.08528,
     "end_time": "2022-07-06T18:57:18.416001",
     "exception": false,
     "start_time": "2022-07-06T18:57:18.330721",
     "status": "completed"
    },
    "tags": []
   },
   "outputs": [
    {
     "data": {
      "text/plain": [
       "Name        0.665912\n",
       "Ticket      0.572496\n",
       "Cabin       0.159859\n",
       "Sex         0.150870\n",
       "Fare        0.134668\n",
       "Pclass      0.059235\n",
       "SibSp       0.048427\n",
       "Age         0.033732\n",
       "Parch       0.027421\n",
       "Embarked    0.014233\n",
       "Name: MI Scores, dtype: float64"
      ]
     },
     "execution_count": 9,
     "metadata": {},
     "output_type": "execute_result"
    }
   ],
   "source": [
    "X = data.copy()\n",
    "Y = X.pop(\"Survived\")\n",
    "mi_scores = get_mi_score(X, Y)\n",
    "mi_scores"
   ]
  },
  {
   "cell_type": "markdown",
   "id": "57c32a56",
   "metadata": {
    "papermill": {
     "duration": 0.012442,
     "end_time": "2022-07-06T18:57:18.441413",
     "exception": false,
     "start_time": "2022-07-06T18:57:18.428971",
     "status": "completed"
    },
    "tags": []
   },
   "source": [
    "## 4. Selecting useful features"
   ]
  },
  {
   "cell_type": "code",
   "execution_count": 10,
   "id": "ca993d11",
   "metadata": {
    "execution": {
     "iopub.execute_input": "2022-07-06T18:57:18.468701Z",
     "iopub.status.busy": "2022-07-06T18:57:18.468079Z",
     "iopub.status.idle": "2022-07-06T18:57:18.476132Z",
     "shell.execute_reply": "2022-07-06T18:57:18.475334Z"
    },
    "papermill": {
     "duration": 0.024259,
     "end_time": "2022-07-06T18:57:18.478253",
     "exception": false,
     "start_time": "2022-07-06T18:57:18.453994",
     "status": "completed"
    },
    "tags": []
   },
   "outputs": [
    {
     "data": {
      "text/plain": [
       "Index(['Name', 'Ticket', 'Cabin', 'Sex', 'Fare', 'Pclass'], dtype='object')"
      ]
     },
     "execution_count": 10,
     "metadata": {},
     "output_type": "execute_result"
    }
   ],
   "source": [
    "useful_features = mi_scores[mi_scores > 0.05].index\n",
    "X = X[useful_features]\n",
    "test_data = test_data[useful_features]\n",
    "useful_features"
   ]
  },
  {
   "cell_type": "markdown",
   "id": "4b235793",
   "metadata": {
    "papermill": {
     "duration": 0.012263,
     "end_time": "2022-07-06T18:57:18.503186",
     "exception": false,
     "start_time": "2022-07-06T18:57:18.490923",
     "status": "completed"
    },
    "tags": []
   },
   "source": [
    "## 5. Extracting numerical and categorical columns"
   ]
  },
  {
   "cell_type": "code",
   "execution_count": 11,
   "id": "c6ddc6ed",
   "metadata": {
    "execution": {
     "iopub.execute_input": "2022-07-06T18:57:18.529892Z",
     "iopub.status.busy": "2022-07-06T18:57:18.529578Z",
     "iopub.status.idle": "2022-07-06T18:57:18.537960Z",
     "shell.execute_reply": "2022-07-06T18:57:18.537192Z"
    },
    "papermill": {
     "duration": 0.024138,
     "end_time": "2022-07-06T18:57:18.540079",
     "exception": false,
     "start_time": "2022-07-06T18:57:18.515941",
     "status": "completed"
    },
    "tags": []
   },
   "outputs": [
    {
     "data": {
      "text/plain": [
       "(Index(['Fare', 'Pclass'], dtype='object'),\n",
       " Index(['Name', 'Ticket', 'Cabin', 'Sex'], dtype='object'))"
      ]
     },
     "execution_count": 11,
     "metadata": {},
     "output_type": "execute_result"
    }
   ],
   "source": [
    "num_cols = X.select_dtypes(exclude=\"object\").columns\n",
    "cat_cols = X.select_dtypes(\"object\").columns\n",
    "num_cols, cat_cols"
   ]
  },
  {
   "cell_type": "markdown",
   "id": "135f75aa",
   "metadata": {
    "papermill": {
     "duration": 0.012507,
     "end_time": "2022-07-06T18:57:18.565312",
     "exception": false,
     "start_time": "2022-07-06T18:57:18.552805",
     "status": "completed"
    },
    "tags": []
   },
   "source": [
    "## 6. Making pipeline"
   ]
  },
  {
   "cell_type": "code",
   "execution_count": 12,
   "id": "67517615",
   "metadata": {
    "execution": {
     "iopub.execute_input": "2022-07-06T18:57:18.592335Z",
     "iopub.status.busy": "2022-07-06T18:57:18.591870Z",
     "iopub.status.idle": "2022-07-06T18:57:18.601728Z",
     "shell.execute_reply": "2022-07-06T18:57:18.601126Z"
    },
    "papermill": {
     "duration": 0.025983,
     "end_time": "2022-07-06T18:57:18.603910",
     "exception": false,
     "start_time": "2022-07-06T18:57:18.577927",
     "status": "completed"
    },
    "tags": []
   },
   "outputs": [],
   "source": [
    "class CreatePipeline:\n",
    "    \"\"\"Create Pipeline\n",
    "    methods:\n",
    "        pipeline: Create Final Pipeline\n",
    "        \n",
    "        create_model: Create the provided model\n",
    "        \n",
    "        numerical_transformer: Transform numerical cols\n",
    "        \n",
    "        categorical_transformer: Transform categorical cols \\\n",
    "        OneHotEncoding / OrdinalEncoding\n",
    "        \n",
    "        data_preprocessor: Preprocess the data using ColumnTransformer     \n",
    "        \"\"\"\n",
    "    \n",
    "    def pipeline(self, *, preprocessor, model, verbose=False):\n",
    "        \"\"\"Creates pipeline\n",
    "        params:\n",
    "            preprocessor\n",
    "            model\n",
    "        \"\"\"\n",
    "        steps = [(\"preprocessor\", preprocessor),\n",
    "                 (\"model\", model)]\n",
    "        return Pipeline(steps=steps, verbose=verbose)\n",
    "    \n",
    "    \n",
    "    def numerical_transformer(self, *, strategy=\"mean\", **params):\n",
    "        \"\"\"Transform numerical columns using `SimpleImputer`.\n",
    "        params:\n",
    "            strategy: \"mean\" | \"median\" | \"most_frequent\" | \"constant\"\n",
    "            **params: extra keyword args for SimpleImputer\"\"\"\n",
    "        \n",
    "        transformer = SimpleImputer(strategy=strategy, **params)\n",
    "        return transformer\n",
    "\n",
    "    \n",
    "    def categorical_transformer(self, *, \n",
    "                                imp_strategy=\"most_frequent\", \n",
    "                                encoder_type=\"Ordinal\", \n",
    "                                imp_params={}, encoder_params={}):\n",
    "        \"\"\"Transform categorical columns by making Pipeline\n",
    "        `SimpleImputer` | `OneHotEncoder` | `OrdinalEncoder`.\n",
    "        args:\n",
    "            imp_strategy: strategy for imputer values can be\n",
    "                \"most_frequent\" | \"constant\"\n",
    "            encoder_type: encoder type,\n",
    "                \"Ordinal\" | \"OneHot\"\n",
    "        kwargs:\n",
    "            imp_params: keyword args for `SimpleImputer`.\n",
    "            encoder_params: keyword args for encoder.`\n",
    "        \"\"\"\n",
    "        if not encoder_type in (\"Ordinal\", \"OneHot\"):\n",
    "            raise ValueError(f\"Inappropriate value for encoder_type passed: {encoder_type}\\\n",
    "            Takes one of 'Ordinal' | 'OneHot'.\")\n",
    "        \n",
    "        encoder = OrdinalEncoder if encoder_type==\"Ordinal\" else OneHotEncoder\n",
    "        transformer = Pipeline(steps=[\n",
    "            (\"imputer\", SimpleImputer(strategy=imp_strategy, **imp_params)),\n",
    "            (encoder_type, encoder(**encoder_params))\n",
    "        ])\n",
    "        return transformer\n",
    "    \n",
    "    \n",
    "    def data_preprocessor(self, *, transformers):\n",
    "        \"\"\"Preprocess the data using `ColumnTransformer`.\n",
    "        Pass extact list of transformers\n",
    "        to be passed in `ColumnTransformer`.\n",
    "        each tuple consist of: (transformer_name,\n",
    "                                transformer,\n",
    "                                list_of_columns).\"\"\"\n",
    "        preprocessor = ColumnTransformer(transformers=transformers)\n",
    "        return preprocessor\n",
    "    \n",
    "    \n",
    "    def create_model(self, *, model, random_state=0, n_estimators=1000, **kwargs):\n",
    "        \"\"\"Creates the model.\n",
    "        **kwargs: keyword args for model.\"\"\"\n",
    "        my_model = model(random_state=random_state, n_estimators=n_estimators, **kwargs)\n",
    "        return my_model"
   ]
  },
  {
   "cell_type": "code",
   "execution_count": 13,
   "id": "63ac1664",
   "metadata": {
    "execution": {
     "iopub.execute_input": "2022-07-06T18:57:18.631119Z",
     "iopub.status.busy": "2022-07-06T18:57:18.630685Z",
     "iopub.status.idle": "2022-07-06T18:57:18.635396Z",
     "shell.execute_reply": "2022-07-06T18:57:18.634889Z"
    },
    "papermill": {
     "duration": 0.020414,
     "end_time": "2022-07-06T18:57:18.637308",
     "exception": false,
     "start_time": "2022-07-06T18:57:18.616894",
     "status": "completed"
    },
    "tags": []
   },
   "outputs": [],
   "source": [
    "cp = CreatePipeline()\n",
    "num_transformer = cp.numerical_transformer(strategy=\"median\")\n",
    "cat_transformer = cp.categorical_transformer(encoder_type=\"OneHot\", encoder_params={\"handle_unknown\": \"ignore\"})\n",
    "preprocessor = cp.data_preprocessor(\n",
    "                    transformers=[(\"num\", num_transformer, num_cols),\n",
    "                                  (\"cat\", cat_transformer, cat_cols)\n",
    "                                 ])"
   ]
  },
  {
   "cell_type": "markdown",
   "id": "7ed0354f",
   "metadata": {
    "papermill": {
     "duration": 0.013144,
     "end_time": "2022-07-06T18:57:18.663305",
     "exception": false,
     "start_time": "2022-07-06T18:57:18.650161",
     "status": "completed"
    },
    "tags": []
   },
   "source": [
    "## 7. Doing hyperparameter tuning with cross-validation (`XGBRegressor`)"
   ]
  },
  {
   "cell_type": "code",
   "execution_count": 14,
   "id": "6c2e3bd9",
   "metadata": {
    "execution": {
     "iopub.execute_input": "2022-07-06T18:57:18.691066Z",
     "iopub.status.busy": "2022-07-06T18:57:18.690622Z",
     "iopub.status.idle": "2022-07-06T19:02:33.266812Z",
     "shell.execute_reply": "2022-07-06T19:02:33.266170Z"
    },
    "papermill": {
     "duration": 314.603238,
     "end_time": "2022-07-06T19:02:33.279594",
     "exception": false,
     "start_time": "2022-07-06T18:57:18.676356",
     "status": "completed"
    },
    "tags": []
   },
   "outputs": [
    {
     "name": "stderr",
     "output_type": "stream",
     "text": [
      "[Parallel(n_jobs=1)]: Using backend SequentialBackend with 1 concurrent workers.\n",
      "[Parallel(n_jobs=1)]: Done  10 out of  10 | elapsed:   16.0s finished\n",
      "[Parallel(n_jobs=1)]: Using backend SequentialBackend with 1 concurrent workers.\n",
      "[Parallel(n_jobs=1)]: Done  10 out of  10 | elapsed:   14.7s finished\n",
      "[Parallel(n_jobs=1)]: Using backend SequentialBackend with 1 concurrent workers.\n",
      "[Parallel(n_jobs=1)]: Done  10 out of  10 | elapsed:   18.9s finished\n",
      "[Parallel(n_jobs=1)]: Using backend SequentialBackend with 1 concurrent workers.\n",
      "[Parallel(n_jobs=1)]: Done  10 out of  10 | elapsed:   17.9s finished\n",
      "[Parallel(n_jobs=1)]: Using backend SequentialBackend with 1 concurrent workers.\n",
      "[Parallel(n_jobs=1)]: Done  10 out of  10 | elapsed:   23.5s finished\n",
      "[Parallel(n_jobs=1)]: Using backend SequentialBackend with 1 concurrent workers.\n",
      "[Parallel(n_jobs=1)]: Done  10 out of  10 | elapsed:   24.1s finished\n",
      "[Parallel(n_jobs=1)]: Using backend SequentialBackend with 1 concurrent workers.\n",
      "[Parallel(n_jobs=1)]: Done  10 out of  10 | elapsed:   28.0s finished\n",
      "[Parallel(n_jobs=1)]: Using backend SequentialBackend with 1 concurrent workers.\n",
      "[Parallel(n_jobs=1)]: Done  10 out of  10 | elapsed:   29.3s finished\n",
      "[Parallel(n_jobs=1)]: Using backend SequentialBackend with 1 concurrent workers.\n",
      "[Parallel(n_jobs=1)]: Done  10 out of  10 | elapsed:   31.9s finished\n",
      "[Parallel(n_jobs=1)]: Using backend SequentialBackend with 1 concurrent workers.\n",
      "[Parallel(n_jobs=1)]: Done  10 out of  10 | elapsed:   33.0s finished\n",
      "[Parallel(n_jobs=1)]: Using backend SequentialBackend with 1 concurrent workers.\n",
      "[Parallel(n_jobs=1)]: Done  10 out of  10 | elapsed:   39.3s finished\n",
      "[Parallel(n_jobs=1)]: Using backend SequentialBackend with 1 concurrent workers.\n",
      "[Parallel(n_jobs=1)]: Done  10 out of  10 | elapsed:   38.1s finished\n"
     ]
    }
   ],
   "source": [
    "n_estimators = [500, 750, 1000]\n",
    "max_depths = [5, 10]\n",
    "learning_rate = [0.05, 0.1]\n",
    "maes = {}\n",
    "i = 0\n",
    "for n in n_estimators:\n",
    "    for md in max_depths:\n",
    "        for rate in learning_rate:\n",
    "            i += 1\n",
    "            model = cp.create_model(model=XGBClassifier, n_estimators=n, max_depth=md, learning_rate=rate)\n",
    "            pipeline = cp.pipeline(preprocessor=preprocessor, model=model)\n",
    "            scores = -1 * cross_val_score(pipeline, X, Y, cv=10, verbose=True,\n",
    "                                    scoring=\"neg_mean_absolute_error\")\n",
    "            mae = scores.mean()\n",
    "            maes[i] = [n, md, rate, mae]"
   ]
  },
  {
   "cell_type": "markdown",
   "id": "86bdb8bd",
   "metadata": {
    "papermill": {
     "duration": 0.009105,
     "end_time": "2022-07-06T19:02:33.297790",
     "exception": false,
     "start_time": "2022-07-06T19:02:33.288685",
     "status": "completed"
    },
    "tags": []
   },
   "source": [
    "## 8. Checking MAE"
   ]
  },
  {
   "cell_type": "code",
   "execution_count": 15,
   "id": "f12fe6ba",
   "metadata": {
    "execution": {
     "iopub.execute_input": "2022-07-06T19:02:33.326586Z",
     "iopub.status.busy": "2022-07-06T19:02:33.326303Z",
     "iopub.status.idle": "2022-07-06T19:02:33.331182Z",
     "shell.execute_reply": "2022-07-06T19:02:33.330312Z"
    },
    "papermill": {
     "duration": 0.021505,
     "end_time": "2022-07-06T19:02:33.333153",
     "exception": false,
     "start_time": "2022-07-06T19:02:33.311648",
     "status": "completed"
    },
    "tags": []
   },
   "outputs": [
    {
     "name": "stdout",
     "output_type": "stream",
     "text": [
      "1.\tN_estimators: 500\tmax_depth: 5\tlearning_rate: 0.05\tMAE: 0.1851310861423221\n",
      "2.\tN_estimators: 500\tmax_depth: 5\tlearning_rate: 0.1\tMAE: 0.18848938826466916\n",
      "3.\tN_estimators: 500\tmax_depth: 10\tlearning_rate: 0.05\tMAE: 0.1851310861423221\n",
      "4.\tN_estimators: 500\tmax_depth: 10\tlearning_rate: 0.1\tMAE: 0.18851435705368288\n",
      "5.\tN_estimators: 750\tmax_depth: 5\tlearning_rate: 0.05\tMAE: 0.18625468164794007\n",
      "6.\tN_estimators: 750\tmax_depth: 5\tlearning_rate: 0.1\tMAE: 0.18848938826466916\n",
      "7.\tN_estimators: 750\tmax_depth: 10\tlearning_rate: 0.05\tMAE: 0.18739076154806492\n",
      "8.\tN_estimators: 750\tmax_depth: 10\tlearning_rate: 0.1\tMAE: 0.18739076154806492\n",
      "9.\tN_estimators: 1000\tmax_depth: 5\tlearning_rate: 0.05\tMAE: 0.1918601747815231\n",
      "10.\tN_estimators: 1000\tmax_depth: 5\tlearning_rate: 0.1\tMAE: 0.189625468164794\n",
      "11.\tN_estimators: 1000\tmax_depth: 10\tlearning_rate: 0.05\tMAE: 0.18963795255930088\n",
      "12.\tN_estimators: 1000\tmax_depth: 10\tlearning_rate: 0.1\tMAE: 0.18963795255930088\n"
     ]
    }
   ],
   "source": [
    "for i in maes:\n",
    "    n, md, rate, mae = maes[i]\n",
    "    print(f\"{i}.\\tN_estimators: {n}\\tmax_depth: {md}\\tlearning_rate: {rate}\\tMAE: {mae}\")"
   ]
  },
  {
   "cell_type": "code",
   "execution_count": 16,
   "id": "6bb1328e",
   "metadata": {
    "execution": {
     "iopub.execute_input": "2022-07-06T19:02:33.353680Z",
     "iopub.status.busy": "2022-07-06T19:02:33.353100Z",
     "iopub.status.idle": "2022-07-06T19:02:33.359457Z",
     "shell.execute_reply": "2022-07-06T19:02:33.358819Z"
    },
    "papermill": {
     "duration": 0.018848,
     "end_time": "2022-07-06T19:02:33.361322",
     "exception": false,
     "start_time": "2022-07-06T19:02:33.342474",
     "status": "completed"
    },
    "tags": []
   },
   "outputs": [
    {
     "data": {
      "text/plain": [
       "1"
      ]
     },
     "execution_count": 16,
     "metadata": {},
     "output_type": "execute_result"
    }
   ],
   "source": [
    "min(maes, key=lambda x: maes[x][3])"
   ]
  },
  {
   "cell_type": "markdown",
   "id": "a0601086",
   "metadata": {
    "papermill": {
     "duration": 0.014009,
     "end_time": "2022-07-06T19:02:33.389382",
     "exception": false,
     "start_time": "2022-07-06T19:02:33.375373",
     "status": "completed"
    },
    "tags": []
   },
   "source": [
    "## 9. Best parameters\n",
    "#### `n_estimators: 500`\n",
    "#### `max_depth: 5`\n",
    "#### `learning_rate: 0.05`"
   ]
  },
  {
   "cell_type": "code",
   "execution_count": 17,
   "id": "eb1c1f01",
   "metadata": {
    "execution": {
     "iopub.execute_input": "2022-07-06T19:02:33.419763Z",
     "iopub.status.busy": "2022-07-06T19:02:33.419374Z",
     "iopub.status.idle": "2022-07-06T19:02:33.423215Z",
     "shell.execute_reply": "2022-07-06T19:02:33.422507Z"
    },
    "papermill": {
     "duration": 0.021512,
     "end_time": "2022-07-06T19:02:33.425218",
     "exception": false,
     "start_time": "2022-07-06T19:02:33.403706",
     "status": "completed"
    },
    "tags": []
   },
   "outputs": [],
   "source": [
    "best_n_estimators = 500\n",
    "best_max_depth = 5\n",
    "best_rate = 0.05"
   ]
  },
  {
   "cell_type": "markdown",
   "id": "fe59a7fb",
   "metadata": {
    "papermill": {
     "duration": 0.009227,
     "end_time": "2022-07-06T19:02:33.444063",
     "exception": false,
     "start_time": "2022-07-06T19:02:33.434836",
     "status": "completed"
    },
    "tags": []
   },
   "source": [
    "## 10. Training model on best parameters"
   ]
  },
  {
   "cell_type": "code",
   "execution_count": 18,
   "id": "cbb786c8",
   "metadata": {
    "execution": {
     "iopub.execute_input": "2022-07-06T19:02:33.464356Z",
     "iopub.status.busy": "2022-07-06T19:02:33.464065Z",
     "iopub.status.idle": "2022-07-06T19:02:35.108117Z",
     "shell.execute_reply": "2022-07-06T19:02:35.107478Z"
    },
    "papermill": {
     "duration": 1.656606,
     "end_time": "2022-07-06T19:02:35.110023",
     "exception": false,
     "start_time": "2022-07-06T19:02:33.453417",
     "status": "completed"
    },
    "tags": []
   },
   "outputs": [
    {
     "data": {
      "text/plain": [
       "Pipeline(steps=[('preprocessor',\n",
       "                 ColumnTransformer(transformers=[('num',\n",
       "                                                  SimpleImputer(strategy='median'),\n",
       "                                                  Index(['Fare', 'Pclass'], dtype='object')),\n",
       "                                                 ('cat',\n",
       "                                                  Pipeline(steps=[('imputer',\n",
       "                                                                   SimpleImputer(strategy='most_frequent')),\n",
       "                                                                  ('OneHot',\n",
       "                                                                   OneHotEncoder(handle_unknown='ignore'))]),\n",
       "                                                  Index(['Name', 'Ticket', 'Cabin', 'Sex'], dtype='object'))])),\n",
       "                ('model',\n",
       "                 XGBClassifi...\n",
       "                               gamma=0, gpu_id=-1, grow_policy='depthwise',\n",
       "                               importance_type=None, interaction_constraints='',\n",
       "                               learning_rate=0.05, max_bin=256,\n",
       "                               max_cat_to_onehot=4, max_delta_step=0,\n",
       "                               max_depth=5, max_leaves=0, min_child_weight=1,\n",
       "                               missing=nan, monotone_constraints='()',\n",
       "                               n_estimators=500, n_jobs=0, num_parallel_tree=1,\n",
       "                               predictor='auto', random_state=0, reg_alpha=0,\n",
       "                               reg_lambda=1, ...))])"
      ]
     },
     "execution_count": 18,
     "metadata": {},
     "output_type": "execute_result"
    }
   ],
   "source": [
    "model = cp.create_model(model=XGBClassifier, n_estimators=best_n_estimators, learning_rate=best_rate, max_depth=best_max_depth)\n",
    "pipeline = cp.pipeline(preprocessor=preprocessor, model=model)\n",
    "pipeline.fit(X, Y)"
   ]
  },
  {
   "cell_type": "markdown",
   "id": "205920a7",
   "metadata": {
    "papermill": {
     "duration": 0.009737,
     "end_time": "2022-07-06T19:02:35.130686",
     "exception": false,
     "start_time": "2022-07-06T19:02:35.120949",
     "status": "completed"
    },
    "tags": []
   },
   "source": [
    "## 11. Predicting `Survived` on `test_data`"
   ]
  },
  {
   "cell_type": "code",
   "execution_count": 19,
   "id": "60848751",
   "metadata": {
    "execution": {
     "iopub.execute_input": "2022-07-06T19:02:35.151313Z",
     "iopub.status.busy": "2022-07-06T19:02:35.151020Z",
     "iopub.status.idle": "2022-07-06T19:02:35.179318Z",
     "shell.execute_reply": "2022-07-06T19:02:35.178381Z"
    },
    "papermill": {
     "duration": 0.04089,
     "end_time": "2022-07-06T19:02:35.181175",
     "exception": false,
     "start_time": "2022-07-06T19:02:35.140285",
     "status": "completed"
    },
    "tags": []
   },
   "outputs": [
    {
     "data": {
      "text/plain": [
       "array([0, 1, 0, 0, 1, 0, 0, 0, 1, 0, 0, 0, 1, 0, 1, 1, 0, 0, 1, 1, 0, 0,\n",
       "       1, 0, 1, 0, 1, 0, 1, 0, 0, 0, 1, 0, 1, 0, 0, 0, 0, 1, 0, 1, 0, 1,\n",
       "       1, 0, 0, 0, 1, 1, 1, 0, 1, 1, 0, 0, 0, 0, 0, 1, 0, 0, 0, 1, 1, 1,\n",
       "       1, 0, 0, 1, 1, 0, 1, 0, 1, 1, 0, 1, 0, 1, 0, 1, 0, 0, 0, 0, 1, 0,\n",
       "       1, 0, 1, 0, 1, 0, 0, 0, 1, 0, 1, 0, 1, 0, 0, 0, 0, 0, 0, 0, 0, 1,\n",
       "       0, 1, 1, 1, 1, 0, 0, 1, 1, 1, 1, 0, 1, 0, 0, 1, 0, 1, 0, 0, 0, 0,\n",
       "       0, 0, 0, 0, 0, 0, 0, 0, 0, 1, 1, 0, 0, 0, 0, 0, 0, 0, 1, 0, 0, 1,\n",
       "       0, 0, 1, 1, 1, 1, 1, 0, 1, 0, 0, 1, 0, 0, 1, 0, 0, 0, 0, 0, 0, 1,\n",
       "       1, 1, 1, 1, 0, 0, 1, 0, 1, 0, 1, 0, 0, 0, 0, 0, 0, 0, 0, 0, 1, 1,\n",
       "       0, 0, 1, 0, 1, 1, 0, 0, 1, 0, 1, 0, 0, 0, 0, 1, 1, 0, 1, 1, 1, 0,\n",
       "       1, 0, 1, 0, 1, 0, 0, 1, 0, 0, 0, 1, 0, 0, 0, 0, 1, 0, 1, 1, 1, 1,\n",
       "       1, 0, 0, 0, 1, 0, 1, 0, 1, 0, 0, 0, 0, 0, 0, 0, 1, 0, 0, 0, 1, 1,\n",
       "       0, 0, 0, 0, 0, 0, 1, 0, 1, 1, 0, 1, 0, 0, 0, 0, 0, 0, 1, 0, 1, 0,\n",
       "       0, 0, 0, 0, 0, 0, 0, 0, 0, 0, 1, 0, 0, 0, 0, 1, 0, 0, 1, 1, 0, 0,\n",
       "       1, 0, 0, 0, 0, 1, 1, 1, 0, 0, 0, 0, 0, 0, 1, 0, 1, 0, 1, 0, 0, 0,\n",
       "       1, 0, 0, 1, 0, 0, 0, 0, 0, 0, 0, 0, 0, 1, 0, 1, 0, 1, 0, 1, 1, 0,\n",
       "       0, 0, 1, 0, 1, 0, 0, 1, 0, 1, 1, 0, 1, 0, 0, 0, 1, 0, 0, 1, 0, 0,\n",
       "       1, 1, 0, 0, 0, 0, 0, 0, 0, 1, 0, 1, 0, 0, 0, 0, 1, 1, 0, 0, 0, 1,\n",
       "       0, 1, 0, 0, 1, 0, 1, 0, 0, 1, 0, 1, 1, 1, 1, 1, 1, 0, 1, 0, 0, 0])"
      ]
     },
     "execution_count": 19,
     "metadata": {},
     "output_type": "execute_result"
    }
   ],
   "source": [
    "test_preds = pipeline.predict(test_data)\n",
    "test_preds"
   ]
  },
  {
   "cell_type": "markdown",
   "id": "e11aafef",
   "metadata": {
    "papermill": {
     "duration": 0.01044,
     "end_time": "2022-07-06T19:02:35.203775",
     "exception": false,
     "start_time": "2022-07-06T19:02:35.193335",
     "status": "completed"
    },
    "tags": []
   },
   "source": [
    "# 12. Submitting predictions"
   ]
  },
  {
   "cell_type": "code",
   "execution_count": 20,
   "id": "e1fdf66f",
   "metadata": {
    "execution": {
     "iopub.execute_input": "2022-07-06T19:02:35.226626Z",
     "iopub.status.busy": "2022-07-06T19:02:35.226240Z",
     "iopub.status.idle": "2022-07-06T19:02:35.235714Z",
     "shell.execute_reply": "2022-07-06T19:02:35.234929Z"
    },
    "papermill": {
     "duration": 0.023002,
     "end_time": "2022-07-06T19:02:35.238213",
     "exception": false,
     "start_time": "2022-07-06T19:02:35.215211",
     "status": "completed"
    },
    "tags": []
   },
   "outputs": [],
   "source": [
    "output = pd.DataFrame({\"PassengerId\": test_data.index, \"Survived\": test_preds})\n",
    "output.to_csv(\"./data/submission_5.csv\", index=False)"
   ]
  }
 ],
 "metadata": {
  "kernelspec": {
   "display_name": "Python 3.10.2 64-bit",
   "language": "python",
   "name": "python3"
  },
  "language_info": {
   "codemirror_mode": {
    "name": "ipython",
    "version": 3
   },
   "file_extension": ".py",
   "mimetype": "text/x-python",
   "name": "python",
   "nbconvert_exporter": "python",
   "pygments_lexer": "ipython3",
   "version": "3.10.2"
  },
  "papermill": {
   "default_parameters": {},
   "duration": 330.807023,
   "end_time": "2022-07-06T19:02:35.974099",
   "environment_variables": {},
   "exception": null,
   "input_path": "__notebook__.ipynb",
   "output_path": "__notebook__.ipynb",
   "parameters": {},
   "start_time": "2022-07-06T18:57:05.167076",
   "version": "2.3.4"
  },
  "vscode": {
   "interpreter": {
    "hash": "d88aeb6bf73c3e2735560d04f72b234e9e70c0b4c2e9aa8924f896649b343841"
   }
  }
 },
 "nbformat": 4,
 "nbformat_minor": 5
}

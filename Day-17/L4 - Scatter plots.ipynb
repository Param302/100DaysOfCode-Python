{
 "cells": [
  {
   "cell_type": "markdown",
   "id": "cd8ee60b",
   "metadata": {
    "papermill": {
     "duration": 0.013382,
     "end_time": "2022-06-20T16:23:10.827406",
     "exception": false,
     "start_time": "2022-06-20T16:23:10.814024",
     "status": "completed"
    },
    "tags": []
   },
   "source": [
    "# [Data Visualization Course](https://www.kaggle.com/learn/data-visualization)\n",
    "by Kaggle\n",
    "\n",
    "## Lesson 4: [Scatter Plots](https://www.kaggle.com/code/alexisbcook/scatter-plots)\n",
    "\n",
    "- [My Notebook](https://www.kaggle.com/param302/exercise-scatter-plots)\n",
    "\n",
    "**This notebook is an exercise in the [Data Visualization](https://www.kaggle.com/learn/data-visualization) course.  You can reference the tutorial at [this link](https://www.kaggle.com/alexisbcook/scatter-plots).**\n",
    "\n",
    "---\n"
   ]
  },
  {
   "cell_type": "markdown",
   "id": "40ea9834",
   "metadata": {
    "papermill": {
     "duration": 0.011647,
     "end_time": "2022-06-20T16:23:10.851305",
     "exception": false,
     "start_time": "2022-06-20T16:23:10.839658",
     "status": "completed"
    },
    "tags": []
   },
   "source": [
    "In this exercise, you will use your new knowledge to propose a solution to a real-world scenario.  To succeed, you will need to import data into Python, answer questions using the data, and generate **scatter plots** to understand patterns in the data.\n",
    "\n",
    "## Scenario\n",
    "\n",
    "You work for a major candy producer, and your goal is to write a report that your company can use to guide the design of its next product.  Soon after starting your research, you stumble across this [very interesting dataset](https://fivethirtyeight.com/features/the-ultimate-halloween-candy-power-ranking/) containing results from a fun survey to crowdsource favorite candies.\n",
    "\n",
    "## Setup\n",
    "\n",
    "Run the next cell to import and configure the Python libraries that you need to complete the exercise."
   ]
  },
  {
   "cell_type": "code",
   "execution_count": 1,
   "id": "fb4e431f",
   "metadata": {
    "execution": {
     "iopub.execute_input": "2022-06-20T16:23:10.877440Z",
     "iopub.status.busy": "2022-06-20T16:23:10.876829Z",
     "iopub.status.idle": "2022-06-20T16:23:11.822176Z",
     "shell.execute_reply": "2022-06-20T16:23:11.821595Z"
    },
    "papermill": {
     "duration": 0.961607,
     "end_time": "2022-06-20T16:23:11.825104",
     "exception": false,
     "start_time": "2022-06-20T16:23:10.863497",
     "status": "completed"
    },
    "tags": []
   },
   "outputs": [
    {
     "name": "stdout",
     "output_type": "stream",
     "text": [
      "Setup Complete\n"
     ]
    }
   ],
   "source": [
    "import pandas as pd\n",
    "pd.plotting.register_matplotlib_converters()\n",
    "import matplotlib.pyplot as plt\n",
    "%matplotlib inline\n",
    "import seaborn as sns\n",
    "print(\"Setup Complete\")"
   ]
  },
  {
   "cell_type": "markdown",
   "id": "a0810fea",
   "metadata": {
    "papermill": {
     "duration": 0.012764,
     "end_time": "2022-06-20T16:23:11.851039",
     "exception": false,
     "start_time": "2022-06-20T16:23:11.838275",
     "status": "completed"
    },
    "tags": []
   },
   "source": [
    "The questions below will give you feedback on your work. Run the following cell to set up our feedback system."
   ]
  },
  {
   "cell_type": "code",
   "execution_count": 2,
   "id": "b2551356",
   "metadata": {
    "execution": {
     "iopub.execute_input": "2022-06-20T16:23:11.877948Z",
     "iopub.status.busy": "2022-06-20T16:23:11.877353Z",
     "iopub.status.idle": "2022-06-20T16:23:11.934334Z",
     "shell.execute_reply": "2022-06-20T16:23:11.933766Z"
    },
    "papermill": {
     "duration": 0.073625,
     "end_time": "2022-06-20T16:23:11.937377",
     "exception": false,
     "start_time": "2022-06-20T16:23:11.863752",
     "status": "completed"
    },
    "tags": []
   },
   "outputs": [
    {
     "name": "stdout",
     "output_type": "stream",
     "text": [
      "Setup Complete\n"
     ]
    }
   ],
   "source": [
    "# Set up code checking\n",
    "import os\n",
    "if not os.path.exists(\"../input/candy.csv\"):\n",
    "    os.symlink(\"../input/data-for-datavis/candy.csv\", \"../input/candy.csv\") \n",
    "from learntools.core import binder\n",
    "binder.bind(globals())\n",
    "from learntools.data_viz_to_coder.ex4 import *\n",
    "print(\"Setup Complete\")"
   ]
  },
  {
   "cell_type": "markdown",
   "id": "9d829911",
   "metadata": {
    "papermill": {
     "duration": 0.011875,
     "end_time": "2022-06-20T16:23:11.962810",
     "exception": false,
     "start_time": "2022-06-20T16:23:11.950935",
     "status": "completed"
    },
    "tags": []
   },
   "source": [
    "## Step 1: Load the Data\n",
    "\n",
    "Read the candy data file into `candy_data`.  Use the `\"id\"` column to label the rows."
   ]
  },
  {
   "cell_type": "code",
   "execution_count": 3,
   "id": "7c552bb1",
   "metadata": {
    "execution": {
     "iopub.execute_input": "2022-06-20T16:23:11.989009Z",
     "iopub.status.busy": "2022-06-20T16:23:11.988440Z",
     "iopub.status.idle": "2022-06-20T16:23:12.000184Z",
     "shell.execute_reply": "2022-06-20T16:23:11.999669Z"
    },
    "papermill": {
     "duration": 0.026781,
     "end_time": "2022-06-20T16:23:12.001802",
     "exception": false,
     "start_time": "2022-06-20T16:23:11.975021",
     "status": "completed"
    },
    "tags": []
   },
   "outputs": [
    {
     "data": {
      "application/javascript": "parent.postMessage({\"jupyterEvent\": \"custom.exercise_interaction\", \"data\": {\"outcomeType\": 1, \"valueTowardsCompletion\": 0.3333333333333333, \"interactionType\": 1, \"questionType\": 1, \"questionId\": \"1_LoadData\", \"learnToolsVersion\": \"0.3.4\", \"failureMessage\": \"\", \"exceptionClass\": \"\", \"trace\": \"\"}}, \"*\")",
      "text/plain": [
       "<IPython.core.display.Javascript object>"
      ]
     },
     "metadata": {},
     "output_type": "display_data"
    },
    {
     "data": {
      "text/markdown": [
       "<span style=\"color:#33cc33\">Correct</span>"
      ],
      "text/plain": [
       "Correct"
      ]
     },
     "metadata": {},
     "output_type": "display_data"
    }
   ],
   "source": [
    "# Path of the file to read\n",
    "candy_filepath = \"../input/candy.csv\"\n",
    "\n",
    "# Fill in the line below to read the file into a variable candy_data\n",
    "candy_data = pd.read_csv(candy_filepath, index_col=\"id\")\n",
    "\n",
    "# Run the line below with no changes to check that you've loaded the data correctly\n",
    "step_1.check()"
   ]
  },
  {
   "cell_type": "code",
   "execution_count": 4,
   "id": "198cdf8f",
   "metadata": {
    "execution": {
     "iopub.execute_input": "2022-06-20T16:23:12.019453Z",
     "iopub.status.busy": "2022-06-20T16:23:12.018995Z",
     "iopub.status.idle": "2022-06-20T16:23:12.022063Z",
     "shell.execute_reply": "2022-06-20T16:23:12.021506Z"
    },
    "papermill": {
     "duration": 0.013506,
     "end_time": "2022-06-20T16:23:12.023539",
     "exception": false,
     "start_time": "2022-06-20T16:23:12.010033",
     "status": "completed"
    },
    "tags": []
   },
   "outputs": [],
   "source": [
    "# Lines below will give you a hint or solution code\n",
    "#step_1.hint()\n",
    "#step_1.solution()"
   ]
  },
  {
   "cell_type": "markdown",
   "id": "15990f3f",
   "metadata": {
    "papermill": {
     "duration": 0.00743,
     "end_time": "2022-06-20T16:23:12.038859",
     "exception": false,
     "start_time": "2022-06-20T16:23:12.031429",
     "status": "completed"
    },
    "tags": []
   },
   "source": [
    "## Step 2: Review the data\n",
    "\n",
    "Use a Python command to print the first five rows of the data."
   ]
  },
  {
   "cell_type": "code",
   "execution_count": 5,
   "id": "deb3a77f",
   "metadata": {
    "execution": {
     "iopub.execute_input": "2022-06-20T16:23:12.055763Z",
     "iopub.status.busy": "2022-06-20T16:23:12.055322Z",
     "iopub.status.idle": "2022-06-20T16:23:12.072783Z",
     "shell.execute_reply": "2022-06-20T16:23:12.072278Z"
    },
    "papermill": {
     "duration": 0.027691,
     "end_time": "2022-06-20T16:23:12.074277",
     "exception": false,
     "start_time": "2022-06-20T16:23:12.046586",
     "status": "completed"
    },
    "tags": []
   },
   "outputs": [
    {
     "data": {
      "text/html": [
       "<div>\n",
       "<style scoped>\n",
       "    .dataframe tbody tr th:only-of-type {\n",
       "        vertical-align: middle;\n",
       "    }\n",
       "\n",
       "    .dataframe tbody tr th {\n",
       "        vertical-align: top;\n",
       "    }\n",
       "\n",
       "    .dataframe thead th {\n",
       "        text-align: right;\n",
       "    }\n",
       "</style>\n",
       "<table border=\"1\" class=\"dataframe\">\n",
       "  <thead>\n",
       "    <tr style=\"text-align: right;\">\n",
       "      <th></th>\n",
       "      <th>competitorname</th>\n",
       "      <th>chocolate</th>\n",
       "      <th>fruity</th>\n",
       "      <th>caramel</th>\n",
       "      <th>peanutyalmondy</th>\n",
       "      <th>nougat</th>\n",
       "      <th>crispedricewafer</th>\n",
       "      <th>hard</th>\n",
       "      <th>bar</th>\n",
       "      <th>pluribus</th>\n",
       "      <th>sugarpercent</th>\n",
       "      <th>pricepercent</th>\n",
       "      <th>winpercent</th>\n",
       "    </tr>\n",
       "    <tr>\n",
       "      <th>id</th>\n",
       "      <th></th>\n",
       "      <th></th>\n",
       "      <th></th>\n",
       "      <th></th>\n",
       "      <th></th>\n",
       "      <th></th>\n",
       "      <th></th>\n",
       "      <th></th>\n",
       "      <th></th>\n",
       "      <th></th>\n",
       "      <th></th>\n",
       "      <th></th>\n",
       "      <th></th>\n",
       "    </tr>\n",
       "  </thead>\n",
       "  <tbody>\n",
       "    <tr>\n",
       "      <th>0</th>\n",
       "      <td>100 Grand</td>\n",
       "      <td>Yes</td>\n",
       "      <td>No</td>\n",
       "      <td>Yes</td>\n",
       "      <td>No</td>\n",
       "      <td>No</td>\n",
       "      <td>Yes</td>\n",
       "      <td>No</td>\n",
       "      <td>Yes</td>\n",
       "      <td>No</td>\n",
       "      <td>0.732</td>\n",
       "      <td>0.860</td>\n",
       "      <td>66.971725</td>\n",
       "    </tr>\n",
       "    <tr>\n",
       "      <th>1</th>\n",
       "      <td>3 Musketeers</td>\n",
       "      <td>Yes</td>\n",
       "      <td>No</td>\n",
       "      <td>No</td>\n",
       "      <td>No</td>\n",
       "      <td>Yes</td>\n",
       "      <td>No</td>\n",
       "      <td>No</td>\n",
       "      <td>Yes</td>\n",
       "      <td>No</td>\n",
       "      <td>0.604</td>\n",
       "      <td>0.511</td>\n",
       "      <td>67.602936</td>\n",
       "    </tr>\n",
       "    <tr>\n",
       "      <th>2</th>\n",
       "      <td>Air Heads</td>\n",
       "      <td>No</td>\n",
       "      <td>Yes</td>\n",
       "      <td>No</td>\n",
       "      <td>No</td>\n",
       "      <td>No</td>\n",
       "      <td>No</td>\n",
       "      <td>No</td>\n",
       "      <td>No</td>\n",
       "      <td>No</td>\n",
       "      <td>0.906</td>\n",
       "      <td>0.511</td>\n",
       "      <td>52.341465</td>\n",
       "    </tr>\n",
       "    <tr>\n",
       "      <th>3</th>\n",
       "      <td>Almond Joy</td>\n",
       "      <td>Yes</td>\n",
       "      <td>No</td>\n",
       "      <td>No</td>\n",
       "      <td>Yes</td>\n",
       "      <td>No</td>\n",
       "      <td>No</td>\n",
       "      <td>No</td>\n",
       "      <td>Yes</td>\n",
       "      <td>No</td>\n",
       "      <td>0.465</td>\n",
       "      <td>0.767</td>\n",
       "      <td>50.347546</td>\n",
       "    </tr>\n",
       "    <tr>\n",
       "      <th>4</th>\n",
       "      <td>Baby Ruth</td>\n",
       "      <td>Yes</td>\n",
       "      <td>No</td>\n",
       "      <td>Yes</td>\n",
       "      <td>Yes</td>\n",
       "      <td>Yes</td>\n",
       "      <td>No</td>\n",
       "      <td>No</td>\n",
       "      <td>Yes</td>\n",
       "      <td>No</td>\n",
       "      <td>0.604</td>\n",
       "      <td>0.767</td>\n",
       "      <td>56.914547</td>\n",
       "    </tr>\n",
       "  </tbody>\n",
       "</table>\n",
       "</div>"
      ],
      "text/plain": [
       "   competitorname chocolate fruity caramel peanutyalmondy nougat  \\\n",
       "id                                                                 \n",
       "0       100 Grand       Yes     No     Yes             No     No   \n",
       "1    3 Musketeers       Yes     No      No             No    Yes   \n",
       "2       Air Heads        No    Yes      No             No     No   \n",
       "3      Almond Joy       Yes     No      No            Yes     No   \n",
       "4       Baby Ruth       Yes     No     Yes            Yes    Yes   \n",
       "\n",
       "   crispedricewafer hard  bar pluribus  sugarpercent  pricepercent  winpercent  \n",
       "id                                                                              \n",
       "0               Yes   No  Yes       No         0.732         0.860   66.971725  \n",
       "1                No   No  Yes       No         0.604         0.511   67.602936  \n",
       "2                No   No   No       No         0.906         0.511   52.341465  \n",
       "3                No   No  Yes       No         0.465         0.767   50.347546  \n",
       "4                No   No  Yes       No         0.604         0.767   56.914547  "
      ]
     },
     "execution_count": 5,
     "metadata": {},
     "output_type": "execute_result"
    }
   ],
   "source": [
    "# Print the first five rows of the data\n",
    "candy_data.head() # Your code here"
   ]
  },
  {
   "cell_type": "markdown",
   "id": "4401bfce",
   "metadata": {
    "papermill": {
     "duration": 0.008119,
     "end_time": "2022-06-20T16:23:12.090723",
     "exception": false,
     "start_time": "2022-06-20T16:23:12.082604",
     "status": "completed"
    },
    "tags": []
   },
   "source": [
    "The dataset contains 83 rows, where each corresponds to a different candy bar.  There are 13 columns:\n",
    "- `'competitorname'` contains the name of the candy bar. \n",
    "- the next **9** columns (from `'chocolate'` to `'pluribus'`) describe the candy.  For instance, rows with chocolate candies have `\"Yes\"` in the `'chocolate'` column (and candies without chocolate have `\"No\"` in the same column).\n",
    "- `'sugarpercent'` provides some indication of the amount of sugar, where higher values signify higher sugar content.\n",
    "- `'pricepercent'` shows the price per unit, relative to the other candies in the dataset.\n",
    "- `'winpercent'` is calculated from the survey results; higher values indicate that the candy was more popular with survey respondents.\n",
    "\n",
    "Use the first five rows of the data to answer the questions below."
   ]
  },
  {
   "cell_type": "code",
   "execution_count": 6,
   "id": "a0d1f9e8",
   "metadata": {
    "execution": {
     "iopub.execute_input": "2022-06-20T16:23:12.108186Z",
     "iopub.status.busy": "2022-06-20T16:23:12.107694Z",
     "iopub.status.idle": "2022-06-20T16:23:12.114515Z",
     "shell.execute_reply": "2022-06-20T16:23:12.113298Z"
    },
    "papermill": {
     "duration": 0.017563,
     "end_time": "2022-06-20T16:23:12.116298",
     "exception": false,
     "start_time": "2022-06-20T16:23:12.098735",
     "status": "completed"
    },
    "tags": []
   },
   "outputs": [
    {
     "data": {
      "application/javascript": "parent.postMessage({\"jupyterEvent\": \"custom.exercise_interaction\", \"data\": {\"outcomeType\": 1, \"valueTowardsCompletion\": 0.3333333333333333, \"interactionType\": 1, \"questionType\": 1, \"questionId\": \"2_ReviewData\", \"learnToolsVersion\": \"0.3.4\", \"failureMessage\": \"\", \"exceptionClass\": \"\", \"trace\": \"\"}}, \"*\")",
      "text/plain": [
       "<IPython.core.display.Javascript object>"
      ]
     },
     "metadata": {},
     "output_type": "display_data"
    },
    {
     "data": {
      "text/markdown": [
       "<span style=\"color:#33cc33\">Correct</span>"
      ],
      "text/plain": [
       "Correct"
      ]
     },
     "metadata": {},
     "output_type": "display_data"
    }
   ],
   "source": [
    "# Fill in the line below: Which candy was more popular with survey respondents:\n",
    "# '3 Musketeers' or 'Almond Joy'?  (Please enclose your answer in single quotes.)\n",
    "more_popular = \"3 Musketeers\"\n",
    "\n",
    "# Fill in the line below: Which candy has higher sugar content: 'Air Heads'\n",
    "# or 'Baby Ruth'? (Please enclose your answer in single quotes.)\n",
    "more_sugar = \"Air Heads\"\n",
    "\n",
    "# Check your answers\n",
    "step_2.check()"
   ]
  },
  {
   "cell_type": "code",
   "execution_count": 7,
   "id": "d3c5e83a",
   "metadata": {
    "execution": {
     "iopub.execute_input": "2022-06-20T16:23:12.134246Z",
     "iopub.status.busy": "2022-06-20T16:23:12.133791Z",
     "iopub.status.idle": "2022-06-20T16:23:12.137077Z",
     "shell.execute_reply": "2022-06-20T16:23:12.136522Z"
    },
    "papermill": {
     "duration": 0.013703,
     "end_time": "2022-06-20T16:23:12.138461",
     "exception": false,
     "start_time": "2022-06-20T16:23:12.124758",
     "status": "completed"
    },
    "tags": []
   },
   "outputs": [],
   "source": [
    "# Lines below will give you a hint or solution code\n",
    "#step_2.hint()\n",
    "#step_2.solution()"
   ]
  },
  {
   "cell_type": "markdown",
   "id": "ef92cdf6",
   "metadata": {
    "papermill": {
     "duration": 0.007903,
     "end_time": "2022-06-20T16:23:12.154867",
     "exception": false,
     "start_time": "2022-06-20T16:23:12.146964",
     "status": "completed"
    },
    "tags": []
   },
   "source": [
    "## Step 3: The role of sugar\n",
    "\n",
    "Do people tend to prefer candies with higher sugar content?  \n",
    "\n",
    "#### Part A\n",
    "\n",
    "Create a scatter plot that shows the relationship between `'sugarpercent'` (on the horizontal x-axis) and `'winpercent'` (on the vertical y-axis).  _Don't add a regression line just yet -- you'll do that in the next step!_"
   ]
  },
  {
   "cell_type": "code",
   "execution_count": 8,
   "id": "5bd8277b",
   "metadata": {
    "execution": {
     "iopub.execute_input": "2022-06-20T16:23:12.172850Z",
     "iopub.status.busy": "2022-06-20T16:23:12.172389Z",
     "iopub.status.idle": "2022-06-20T16:23:12.381876Z",
     "shell.execute_reply": "2022-06-20T16:23:12.381028Z"
    },
    "papermill": {
     "duration": 0.221044,
     "end_time": "2022-06-20T16:23:12.384107",
     "exception": false,
     "start_time": "2022-06-20T16:23:12.163063",
     "status": "completed"
    },
    "tags": []
   },
   "outputs": [
    {
     "data": {
      "application/javascript": "parent.postMessage({\"jupyterEvent\": \"custom.exercise_interaction\", \"data\": {\"outcomeType\": 1, \"valueTowardsCompletion\": 0.3333333333333333, \"interactionType\": 1, \"questionType\": 2, \"questionId\": \"3.1_PlotBlueScatter\", \"learnToolsVersion\": \"0.3.4\", \"failureMessage\": \"\", \"exceptionClass\": \"\", \"trace\": \"\"}}, \"*\")",
      "text/plain": [
       "<IPython.core.display.Javascript object>"
      ]
     },
     "metadata": {},
     "output_type": "display_data"
    },
    {
     "data": {
      "text/markdown": [
       "<span style=\"color:#33cc33\">Correct</span>"
      ],
      "text/plain": [
       "Correct"
      ]
     },
     "metadata": {},
     "output_type": "display_data"
    },
    {
     "data": {
      "image/png": "[encoded data removed]",
      "text/plain": [
       "<Figure size 720x432 with 1 Axes>"
      ]
     },
     "metadata": {
      "needs_background": "light"
     },
     "output_type": "display_data"
    }
   ],
   "source": [
    "plt.figure(figsize=(10, 6))\n",
    "# Scatter plot showing the relationship between 'sugarpercent' and 'winpercent'\n",
    "# Your code here\n",
    "sns.scatterplot(x=candy_data[\"sugarpercent\"], y=candy_data[\"winpercent\"])\n",
    "\n",
    "# Check your answer\n",
    "step_3.a.check()"
   ]
  },
  {
   "cell_type": "code",
   "execution_count": 9,
   "id": "ef74f2aa",
   "metadata": {
    "execution": {
     "iopub.execute_input": "2022-06-20T16:23:12.404339Z",
     "iopub.status.busy": "2022-06-20T16:23:12.403809Z",
     "iopub.status.idle": "2022-06-20T16:23:12.408567Z",
     "shell.execute_reply": "2022-06-20T16:23:12.407372Z"
    },
    "papermill": {
     "duration": 0.017487,
     "end_time": "2022-06-20T16:23:12.410635",
     "exception": false,
     "start_time": "2022-06-20T16:23:12.393148",
     "status": "completed"
    },
    "tags": []
   },
   "outputs": [],
   "source": [
    "# Lines below will give you a hint or solution code\n",
    "#step_3.a.hint()\n",
    "#step_3.a.solution_plot()"
   ]
  },
  {
   "cell_type": "markdown",
   "id": "c5a53502",
   "metadata": {
    "papermill": {
     "duration": 0.009767,
     "end_time": "2022-06-20T16:23:12.429441",
     "exception": false,
     "start_time": "2022-06-20T16:23:12.419674",
     "status": "completed"
    },
    "tags": []
   },
   "source": [
    "#### Part B\n",
    "\n",
    "Does the scatter plot show a **strong** correlation between the two variables?  If so, are candies with more sugar relatively more or less popular with the survey respondents?"
   ]
  },
  {
   "cell_type": "code",
   "execution_count": 10,
   "id": "8831b11c",
   "metadata": {
    "execution": {
     "iopub.execute_input": "2022-06-20T16:23:12.451571Z",
     "iopub.status.busy": "2022-06-20T16:23:12.451136Z",
     "iopub.status.idle": "2022-06-20T16:23:12.460219Z",
     "shell.execute_reply": "2022-06-20T16:23:12.459167Z"
    },
    "papermill": {
     "duration": 0.022121,
     "end_time": "2022-06-20T16:23:12.463162",
     "exception": false,
     "start_time": "2022-06-20T16:23:12.441041",
     "status": "completed"
    },
    "tags": []
   },
   "outputs": [
    {
     "data": {
      "application/javascript": "parent.postMessage({\"jupyterEvent\": \"custom.exercise_interaction\", \"data\": {\"interactionType\": 2, \"questionType\": 4, \"questionId\": \"3.2_ThinkBlueScatter\", \"learnToolsVersion\": \"0.3.4\", \"valueTowardsCompletion\": 0.0, \"failureMessage\": \"\", \"exceptionClass\": \"\", \"trace\": \"\", \"outcomeType\": 4}}, \"*\")",
      "text/plain": [
       "<IPython.core.display.Javascript object>"
      ]
     },
     "metadata": {},
     "output_type": "display_data"
    },
    {
     "data": {
      "text/markdown": [
       "<span style=\"color:#3366cc\">Hint:</span> Compare candies with higher sugar content (on the right side of the chart) to candies with lower sugar content (on the left side of the chart). Is one group clearly more popular than the other?"
      ],
      "text/plain": [
       "Hint: Compare candies with higher sugar content (on the right side of the chart) to candies with lower sugar content (on the left side of the chart). Is one group clearly more popular than the other?"
      ]
     },
     "metadata": {},
     "output_type": "display_data"
    }
   ],
   "source": [
    "step_3.b.hint()   # No"
   ]
  },
  {
   "cell_type": "code",
   "execution_count": 11,
   "id": "6dcb20dd",
   "metadata": {
    "execution": {
     "iopub.execute_input": "2022-06-20T16:23:12.487138Z",
     "iopub.status.busy": "2022-06-20T16:23:12.486455Z",
     "iopub.status.idle": "2022-06-20T16:23:12.499139Z",
     "shell.execute_reply": "2022-06-20T16:23:12.498329Z"
    },
    "papermill": {
     "duration": 0.026689,
     "end_time": "2022-06-20T16:23:12.500741",
     "exception": false,
     "start_time": "2022-06-20T16:23:12.474052",
     "status": "completed"
    },
    "tags": []
   },
   "outputs": [
    {
     "data": {
      "application/javascript": "parent.postMessage({\"jupyterEvent\": \"custom.exercise_interaction\", \"data\": {\"interactionType\": 3, \"questionType\": 4, \"questionId\": \"3.2_ThinkBlueScatter\", \"learnToolsVersion\": \"0.3.4\", \"valueTowardsCompletion\": 0.0, \"failureMessage\": \"\", \"exceptionClass\": \"\", \"trace\": \"\", \"outcomeType\": 4}}, \"*\")",
      "text/plain": [
       "<IPython.core.display.Javascript object>"
      ]
     },
     "metadata": {},
     "output_type": "display_data"
    },
    {
     "data": {
      "text/markdown": [
       "<span style=\"color:#33cc99\">Solution:</span> The scatter plot does not show a strong correlation between the two variables. Since there is no clear relationship between the two variables, this tells us that sugar content does not play a strong role in candy popularity."
      ],
      "text/plain": [
       "Solution: The scatter plot does not show a strong correlation between the two variables. Since there is no clear relationship between the two variables, this tells us that sugar content does not play a strong role in candy popularity."
      ]
     },
     "metadata": {},
     "output_type": "display_data"
    }
   ],
   "source": [
    "# Check your answer (Run this code cell to receive credit!)\n",
    "step_3.b.solution()"
   ]
  },
  {
   "cell_type": "markdown",
   "id": "50479a8f",
   "metadata": {
    "papermill": {
     "duration": 0.008829,
     "end_time": "2022-06-20T16:23:12.519072",
     "exception": false,
     "start_time": "2022-06-20T16:23:12.510243",
     "status": "completed"
    },
    "tags": []
   },
   "source": [
    "## Step 4: Take a closer look\n",
    "\n",
    "#### Part A\n",
    "\n",
    "Create the same scatter plot you created in **Step 3**, but now with a regression line!"
   ]
  },
  {
   "cell_type": "code",
   "execution_count": 12,
   "id": "c431d52c",
   "metadata": {
    "execution": {
     "iopub.execute_input": "2022-06-20T16:23:12.538711Z",
     "iopub.status.busy": "2022-06-20T16:23:12.538307Z",
     "iopub.status.idle": "2022-06-20T16:23:12.775114Z",
     "shell.execute_reply": "2022-06-20T16:23:12.774308Z"
    },
    "papermill": {
     "duration": 0.249033,
     "end_time": "2022-06-20T16:23:12.777168",
     "exception": false,
     "start_time": "2022-06-20T16:23:12.528135",
     "status": "completed"
    },
    "tags": []
   },
   "outputs": [
    {
     "data": {
      "application/javascript": "parent.postMessage({\"jupyterEvent\": \"custom.exercise_interaction\", \"data\": {\"outcomeType\": 1, \"valueTowardsCompletion\": 0.3333333333333333, \"interactionType\": 1, \"questionType\": 2, \"questionId\": \"4.1_PlotBlueReg\", \"learnToolsVersion\": \"0.3.4\", \"failureMessage\": \"\", \"exceptionClass\": \"\", \"trace\": \"\"}}, \"*\")",
      "text/plain": [
       "<IPython.core.display.Javascript object>"
      ]
     },
     "metadata": {},
     "output_type": "display_data"
    },
    {
     "data": {
      "text/markdown": [
       "<span style=\"color:#33cc33\">Correct</span>"
      ],
      "text/plain": [
       "Correct"
      ]
     },
     "metadata": {},
     "output_type": "display_data"
    },
    {
     "data": {
      "image/png": "[encoded data removed]",
      "text/plain": [
       "<Figure size 720x432 with 1 Axes>"
      ]
     },
     "metadata": {
      "needs_background": "light"
     },
     "output_type": "display_data"
    }
   ],
   "source": [
    "plt.figure(figsize=(10, 6))\n",
    "# Scatter plot w/ regression line showing the relationship between 'sugarpercent' and 'winpercent'\n",
    "# Your code here\n",
    "sns.regplot(x=candy_data[\"sugarpercent\"], y=candy_data[\"winpercent\"])\n",
    "\n",
    "# Check your answer\n",
    "step_4.a.check()"
   ]
  },
  {
   "cell_type": "code",
   "execution_count": 13,
   "id": "f08aff68",
   "metadata": {
    "execution": {
     "iopub.execute_input": "2022-06-20T16:23:12.810854Z",
     "iopub.status.busy": "2022-06-20T16:23:12.810509Z",
     "iopub.status.idle": "2022-06-20T16:23:12.814613Z",
     "shell.execute_reply": "2022-06-20T16:23:12.813284Z"
    },
    "papermill": {
     "duration": 0.022769,
     "end_time": "2022-06-20T16:23:12.816268",
     "exception": false,
     "start_time": "2022-06-20T16:23:12.793499",
     "status": "completed"
    },
    "tags": []
   },
   "outputs": [],
   "source": [
    "# Lines below will give you a hint or solution code\n",
    "#step_4.a.hint()\n",
    "#step_4.a.solution_plot()"
   ]
  },
  {
   "cell_type": "markdown",
   "id": "92745679",
   "metadata": {
    "papermill": {
     "duration": 0.009359,
     "end_time": "2022-06-20T16:23:12.836134",
     "exception": false,
     "start_time": "2022-06-20T16:23:12.826775",
     "status": "completed"
    },
    "tags": []
   },
   "source": [
    "#### Part B\n",
    "\n",
    "According to the plot above, is there a **slight** correlation between `'winpercent'` and `'sugarpercent'`?  What does this tell you about the candy that people tend to prefer?"
   ]
  },
  {
   "cell_type": "code",
   "execution_count": 14,
   "id": "2319a974",
   "metadata": {
    "execution": {
     "iopub.execute_input": "2022-06-20T16:23:12.857104Z",
     "iopub.status.busy": "2022-06-20T16:23:12.856425Z",
     "iopub.status.idle": "2022-06-20T16:23:12.860850Z",
     "shell.execute_reply": "2022-06-20T16:23:12.859829Z"
    },
    "papermill": {
     "duration": 0.017224,
     "end_time": "2022-06-20T16:23:12.862869",
     "exception": false,
     "start_time": "2022-06-20T16:23:12.845645",
     "status": "completed"
    },
    "tags": []
   },
   "outputs": [],
   "source": [
    "#step_4.b.hint()"
   ]
  },
  {
   "cell_type": "code",
   "execution_count": 15,
   "id": "19e6d784",
   "metadata": {
    "execution": {
     "iopub.execute_input": "2022-06-20T16:23:12.885426Z",
     "iopub.status.busy": "2022-06-20T16:23:12.884613Z",
     "iopub.status.idle": "2022-06-20T16:23:12.892753Z",
     "shell.execute_reply": "2022-06-20T16:23:12.892021Z"
    },
    "papermill": {
     "duration": 0.021256,
     "end_time": "2022-06-20T16:23:12.894415",
     "exception": false,
     "start_time": "2022-06-20T16:23:12.873159",
     "status": "completed"
    },
    "tags": []
   },
   "outputs": [
    {
     "data": {
      "application/javascript": "parent.postMessage({\"jupyterEvent\": \"custom.exercise_interaction\", \"data\": {\"interactionType\": 3, \"questionType\": 4, \"questionId\": \"4.2_ThinkBlueReg\", \"learnToolsVersion\": \"0.3.4\", \"valueTowardsCompletion\": 0.0, \"failureMessage\": \"\", \"exceptionClass\": \"\", \"trace\": \"\", \"outcomeType\": 4}}, \"*\")",
      "text/plain": [
       "<IPython.core.display.Javascript object>"
      ]
     },
     "metadata": {},
     "output_type": "display_data"
    },
    {
     "data": {
      "text/markdown": [
       "<span style=\"color:#33cc99\">Solution:</span> Since the regression line has a slightly positive slope, this tells us that there is a slightly positive correlation between `'winpercent'` and `'sugarpercent'`. Thus, people have a slight preference for candies containing relatively more sugar."
      ],
      "text/plain": [
       "Solution: Since the regression line has a slightly positive slope, this tells us that there is a slightly positive correlation between `'winpercent'` and `'sugarpercent'`. Thus, people have a slight preference for candies containing relatively more sugar."
      ]
     },
     "metadata": {},
     "output_type": "display_data"
    }
   ],
   "source": [
    "# Check your answer (Run this code cell to receive credit!)\n",
    "step_4.b.solution()"
   ]
  },
  {
   "cell_type": "markdown",
   "id": "a55b2b21",
   "metadata": {
    "papermill": {
     "duration": 0.010233,
     "end_time": "2022-06-20T16:23:12.915075",
     "exception": false,
     "start_time": "2022-06-20T16:23:12.904842",
     "status": "completed"
    },
    "tags": []
   },
   "source": [
    "## Step 5: Chocolate!\n",
    "\n",
    "In the code cell below, create a scatter plot to show the relationship between `'pricepercent'` (on the horizontal x-axis) and `'winpercent'` (on the vertical y-axis). Use the `'chocolate'` column to color-code the points.  _Don't add any regression lines just yet -- you'll do that in the next step!_"
   ]
  },
  {
   "cell_type": "code",
   "execution_count": 16,
   "id": "7a12d12e",
   "metadata": {
    "execution": {
     "iopub.execute_input": "2022-06-20T16:23:12.936969Z",
     "iopub.status.busy": "2022-06-20T16:23:12.936260Z",
     "iopub.status.idle": "2022-06-20T16:23:13.141716Z",
     "shell.execute_reply": "2022-06-20T16:23:13.139771Z"
    },
    "papermill": {
     "duration": 0.218809,
     "end_time": "2022-06-20T16:23:13.143754",
     "exception": false,
     "start_time": "2022-06-20T16:23:12.924945",
     "status": "completed"
    },
    "tags": []
   },
   "outputs": [
    {
     "data": {
      "application/javascript": "parent.postMessage({\"jupyterEvent\": \"custom.exercise_interaction\", \"data\": {\"outcomeType\": 1, \"valueTowardsCompletion\": 0.3333333333333333, \"interactionType\": 1, \"questionType\": 2, \"questionId\": \"5_ColorScatter\", \"learnToolsVersion\": \"0.3.4\", \"failureMessage\": \"\", \"exceptionClass\": \"\", \"trace\": \"\"}}, \"*\")",
      "text/plain": [
       "<IPython.core.display.Javascript object>"
      ]
     },
     "metadata": {},
     "output_type": "display_data"
    },
    {
     "data": {
      "text/markdown": [
       "<span style=\"color:#33cc33\">Correct</span>"
      ],
      "text/plain": [
       "Correct"
      ]
     },
     "metadata": {},
     "output_type": "display_data"
    },
    {
     "data": {
      "image/png": "[encoded data removed]",
      "text/plain": [
       "<Figure size 432x288 with 1 Axes>"
      ]
     },
     "metadata": {
      "needs_background": "light"
     },
     "output_type": "display_data"
    }
   ],
   "source": [
    "# Scatter plot showing the relationship between 'pricepercent', 'winpercent', and 'chocolate'\n",
    "# Your code here\n",
    "sns.scatterplot(x=candy_data[\"pricepercent\"], y=candy_data[\"winpercent\"], hue=candy_data[\"chocolate\"])\n",
    "\n",
    "# Check your answer\n",
    "step_5.check()"
   ]
  },
  {
   "cell_type": "code",
   "execution_count": 17,
   "id": "039b9510",
   "metadata": {
    "execution": {
     "iopub.execute_input": "2022-06-20T16:23:13.178494Z",
     "iopub.status.busy": "2022-06-20T16:23:13.177810Z",
     "iopub.status.idle": "2022-06-20T16:23:13.181129Z",
     "shell.execute_reply": "2022-06-20T16:23:13.180667Z"
    },
    "papermill": {
     "duration": 0.02241,
     "end_time": "2022-06-20T16:23:13.182945",
     "exception": false,
     "start_time": "2022-06-20T16:23:13.160535",
     "status": "completed"
    },
    "tags": []
   },
   "outputs": [],
   "source": [
    "# Lines below will give you a hint or solution code\n",
    "#step_5.hint()\n",
    "#step_5.solution_plot()"
   ]
  },
  {
   "cell_type": "markdown",
   "id": "a5aed35f",
   "metadata": {
    "papermill": {
     "duration": 0.016236,
     "end_time": "2022-06-20T16:23:13.215603",
     "exception": false,
     "start_time": "2022-06-20T16:23:13.199367",
     "status": "completed"
    },
    "tags": []
   },
   "source": [
    "Can you see any interesting patterns in the scatter plot?  We'll investigate this plot further  by adding regression lines in the next step!\n",
    "\n",
    "## Step 6: Investigate chocolate\n",
    "\n",
    "#### Part A\n",
    "\n",
    "Create the same scatter plot you created in **Step 5**, but now with two regression lines, corresponding to (1) chocolate candies and (2) candies without chocolate."
   ]
  },
  {
   "cell_type": "code",
   "execution_count": 18,
   "id": "c94dda76",
   "metadata": {
    "execution": {
     "iopub.execute_input": "2022-06-20T16:23:13.250292Z",
     "iopub.status.busy": "2022-06-20T16:23:13.249767Z",
     "iopub.status.idle": "2022-06-20T16:23:13.704162Z",
     "shell.execute_reply": "2022-06-20T16:23:13.703344Z"
    },
    "papermill": {
     "duration": 0.47463,
     "end_time": "2022-06-20T16:23:13.706799",
     "exception": false,
     "start_time": "2022-06-20T16:23:13.232169",
     "status": "completed"
    },
    "tags": []
   },
   "outputs": [
    {
     "data": {
      "application/javascript": "parent.postMessage({\"jupyterEvent\": \"custom.exercise_interaction\", \"data\": {\"outcomeType\": 1, \"valueTowardsCompletion\": 0.3333333333333333, \"interactionType\": 1, \"questionType\": 2, \"questionId\": \"6.1_PlotColorReg\", \"learnToolsVersion\": \"0.3.4\", \"failureMessage\": \"\", \"exceptionClass\": \"\", \"trace\": \"\"}}, \"*\")",
      "text/plain": [
       "<IPython.core.display.Javascript object>"
      ]
     },
     "metadata": {},
     "output_type": "display_data"
    },
    {
     "data": {
      "text/markdown": [
       "<span style=\"color:#33cc33\">Correct</span>"
      ],
      "text/plain": [
       "Correct"
      ]
     },
     "metadata": {},
     "output_type": "display_data"
    },
    {
     "data": {
      "image/png": "[encoded data removed]",
      "text/plain": [
       "<Figure size 416.375x360 with 1 Axes>"
      ]
     },
     "metadata": {
      "needs_background": "light"
     },
     "output_type": "display_data"
    }
   ],
   "source": [
    "# Color-coded scatter plot w/ regression lines\n",
    "# Your code here\n",
    "sns.lmplot(x=\"pricepercent\", y=\"winpercent\", hue=\"chocolate\", data=candy_data)\n",
    "\n",
    "# Check your answer\n",
    "step_6.a.check()"
   ]
  },
  {
   "cell_type": "code",
   "execution_count": 19,
   "id": "3b512689",
   "metadata": {
    "execution": {
     "iopub.execute_input": "2022-06-20T16:23:13.743696Z",
     "iopub.status.busy": "2022-06-20T16:23:13.742872Z",
     "iopub.status.idle": "2022-06-20T16:23:13.747589Z",
     "shell.execute_reply": "2022-06-20T16:23:13.746656Z"
    },
    "papermill": {
     "duration": 0.025232,
     "end_time": "2022-06-20T16:23:13.749664",
     "exception": false,
     "start_time": "2022-06-20T16:23:13.724432",
     "status": "completed"
    },
    "tags": []
   },
   "outputs": [],
   "source": [
    "# Lines below will give you a hint or solution code\n",
    "#step_6.a.hint()\n",
    "#step_6.a.solution_plot()"
   ]
  },
  {
   "cell_type": "markdown",
   "id": "e7c68372",
   "metadata": {
    "papermill": {
     "duration": 0.016993,
     "end_time": "2022-06-20T16:23:13.784059",
     "exception": false,
     "start_time": "2022-06-20T16:23:13.767066",
     "status": "completed"
    },
    "tags": []
   },
   "source": [
    "#### Part B\n",
    "\n",
    "Using the regression lines, what conclusions can you draw about the effects of chocolate and price on candy popularity?"
   ]
  },
  {
   "cell_type": "code",
   "execution_count": 20,
   "id": "c4c8ff17",
   "metadata": {
    "execution": {
     "iopub.execute_input": "2022-06-20T16:23:13.815220Z",
     "iopub.status.busy": "2022-06-20T16:23:13.814839Z",
     "iopub.status.idle": "2022-06-20T16:23:13.822364Z",
     "shell.execute_reply": "2022-06-20T16:23:13.821388Z"
    },
    "papermill": {
     "duration": 0.022332,
     "end_time": "2022-06-20T16:23:13.824101",
     "exception": false,
     "start_time": "2022-06-20T16:23:13.801769",
     "status": "completed"
    },
    "tags": []
   },
   "outputs": [
    {
     "data": {
      "application/javascript": "parent.postMessage({\"jupyterEvent\": \"custom.exercise_interaction\", \"data\": {\"interactionType\": 2, \"questionType\": 4, \"questionId\": \"6.2_ThinkColorReg\", \"learnToolsVersion\": \"0.3.4\", \"valueTowardsCompletion\": 0.0, \"failureMessage\": \"\", \"exceptionClass\": \"\", \"trace\": \"\", \"outcomeType\": 4}}, \"*\")",
      "text/plain": [
       "<IPython.core.display.Javascript object>"
      ]
     },
     "metadata": {},
     "output_type": "display_data"
    },
    {
     "data": {
      "text/markdown": [
       "<span style=\"color:#3366cc\">Hint:</span> Look at each regression line - do you notice a positive or negative slope?"
      ],
      "text/plain": [
       "Hint: Look at each regression line - do you notice a positive or negative slope?"
      ]
     },
     "metadata": {},
     "output_type": "display_data"
    }
   ],
   "source": [
    "step_6.b.hint()    # both positive & negative slope"
   ]
  },
  {
   "cell_type": "code",
   "execution_count": 21,
   "id": "1abd204b",
   "metadata": {
    "execution": {
     "iopub.execute_input": "2022-06-20T16:23:13.848569Z",
     "iopub.status.busy": "2022-06-20T16:23:13.847632Z",
     "iopub.status.idle": "2022-06-20T16:23:13.853597Z",
     "shell.execute_reply": "2022-06-20T16:23:13.853088Z"
    },
    "papermill": {
     "duration": 0.020192,
     "end_time": "2022-06-20T16:23:13.855564",
     "exception": false,
     "start_time": "2022-06-20T16:23:13.835372",
     "status": "completed"
    },
    "tags": []
   },
   "outputs": [
    {
     "data": {
      "application/javascript": "parent.postMessage({\"jupyterEvent\": \"custom.exercise_interaction\", \"data\": {\"interactionType\": 3, \"questionType\": 4, \"questionId\": \"6.2_ThinkColorReg\", \"learnToolsVersion\": \"0.3.4\", \"valueTowardsCompletion\": 0.0, \"failureMessage\": \"\", \"exceptionClass\": \"\", \"trace\": \"\", \"outcomeType\": 4}}, \"*\")",
      "text/plain": [
       "<IPython.core.display.Javascript object>"
      ]
     },
     "metadata": {},
     "output_type": "display_data"
    },
    {
     "data": {
      "text/markdown": [
       "<span style=\"color:#33cc99\">Solution:</span> We'll begin with the regression line for chocolate candies. Since this line has a slightly positive slope, we can say that more expensive chocolate candies tend to be more popular (than relatively cheaper chocolate candies).  Likewise, since the regression line for candies without chocolate has a negative slope, we can say that if candies don't contain chocolate, they tend to be more popular when they are cheaper.  One important note, however, is that the dataset is quite small -- so we shouldn't invest too much trust in these patterns!  To inspire more confidence in the results, we should add more candies to the dataset."
      ],
      "text/plain": [
       "Solution: We'll begin with the regression line for chocolate candies. Since this line has a slightly positive slope, we can say that more expensive chocolate candies tend to be more popular (than relatively cheaper chocolate candies).  Likewise, since the regression line for candies without chocolate has a negative slope, we can say that if candies don't contain chocolate, they tend to be more popular when they are cheaper.  One important note, however, is that the dataset is quite small -- so we shouldn't invest too much trust in these patterns!  To inspire more confidence in the results, we should add more candies to the dataset."
      ]
     },
     "metadata": {},
     "output_type": "display_data"
    }
   ],
   "source": [
    "# Check your answer (Run this code cell to receive credit!)\n",
    "step_6.b.solution()"
   ]
  },
  {
   "cell_type": "markdown",
   "id": "a076152a",
   "metadata": {
    "papermill": {
     "duration": 0.011387,
     "end_time": "2022-06-20T16:23:13.878736",
     "exception": false,
     "start_time": "2022-06-20T16:23:13.867349",
     "status": "completed"
    },
    "tags": []
   },
   "source": [
    "## Step 7: Everybody loves chocolate.\n",
    "\n",
    "#### Part A\n",
    "\n",
    "Create a categorical scatter plot to highlight the relationship between `'chocolate'` and `'winpercent'`.  Put `'chocolate'` on the (horizontal) x-axis, and `'winpercent'` on the (vertical) y-axis."
   ]
  },
  {
   "cell_type": "code",
   "execution_count": 22,
   "id": "b27cdc2c",
   "metadata": {
    "execution": {
     "iopub.execute_input": "2022-06-20T16:23:13.903951Z",
     "iopub.status.busy": "2022-06-20T16:23:13.902979Z",
     "iopub.status.idle": "2022-06-20T16:23:14.024885Z",
     "shell.execute_reply": "2022-06-20T16:23:14.024301Z"
    },
    "papermill": {
     "duration": 0.136282,
     "end_time": "2022-06-20T16:23:14.026787",
     "exception": false,
     "start_time": "2022-06-20T16:23:13.890505",
     "status": "completed"
    },
    "tags": []
   },
   "outputs": [
    {
     "data": {
      "application/javascript": "parent.postMessage({\"jupyterEvent\": \"custom.exercise_interaction\", \"data\": {\"outcomeType\": 1, \"valueTowardsCompletion\": 0.3333333333333333, \"interactionType\": 1, \"questionType\": 2, \"questionId\": \"7.1_PlotSwarm\", \"learnToolsVersion\": \"0.3.4\", \"failureMessage\": \"\", \"exceptionClass\": \"\", \"trace\": \"\"}}, \"*\")",
      "text/plain": [
       "<IPython.core.display.Javascript object>"
      ]
     },
     "metadata": {},
     "output_type": "display_data"
    },
    {
     "data": {
      "text/markdown": [
       "<span style=\"color:#33cc33\">Correct</span>"
      ],
      "text/plain": [
       "Correct"
      ]
     },
     "metadata": {},
     "output_type": "display_data"
    },
    {
     "data": {
      "image/png": "[encoded data removed]",
      "text/plain": [
       "<Figure size 432x288 with 1 Axes>"
      ]
     },
     "metadata": {
      "needs_background": "light"
     },
     "output_type": "display_data"
    }
   ],
   "source": [
    "# Scatter plot showing the relationship between 'chocolate' and 'winpercent'\n",
    "# Your code here\n",
    "sns.swarmplot(x=candy_data[\"chocolate\"], y=candy_data[\"winpercent\"])\n",
    "\n",
    "# Check your answer\n",
    "step_7.a.check()"
   ]
  },
  {
   "cell_type": "code",
   "execution_count": 23,
   "id": "a2c6886a",
   "metadata": {
    "execution": {
     "iopub.execute_input": "2022-06-20T16:23:14.071832Z",
     "iopub.status.busy": "2022-06-20T16:23:14.071358Z",
     "iopub.status.idle": "2022-06-20T16:23:14.075361Z",
     "shell.execute_reply": "2022-06-20T16:23:14.074833Z"
    },
    "papermill": {
     "duration": 0.028104,
     "end_time": "2022-06-20T16:23:14.077186",
     "exception": false,
     "start_time": "2022-06-20T16:23:14.049082",
     "status": "completed"
    },
    "tags": []
   },
   "outputs": [],
   "source": [
    "# Lines below will give you a hint or solution code\n",
    "#step_7.a.hint()\n",
    "#step_7.a.solution_plot()"
   ]
  },
  {
   "cell_type": "markdown",
   "id": "c80d3a38",
   "metadata": {
    "papermill": {
     "duration": 0.01845,
     "end_time": "2022-06-20T16:23:14.114441",
     "exception": false,
     "start_time": "2022-06-20T16:23:14.095991",
     "status": "completed"
    },
    "tags": []
   },
   "source": [
    "#### Part B\n",
    "\n",
    "You decide to dedicate a section of your report to the fact that chocolate candies tend to be more popular than candies without chocolate.  Which plot is more appropriate to tell this story: the plot from **Step 6**, or the plot from **Step 7**?"
   ]
  },
  {
   "cell_type": "code",
   "execution_count": 24,
   "id": "6541d148",
   "metadata": {
    "execution": {
     "iopub.execute_input": "2022-06-20T16:23:14.154212Z",
     "iopub.status.busy": "2022-06-20T16:23:14.153649Z",
     "iopub.status.idle": "2022-06-20T16:23:14.157176Z",
     "shell.execute_reply": "2022-06-20T16:23:14.156624Z"
    },
    "papermill": {
     "duration": 0.025651,
     "end_time": "2022-06-20T16:23:14.159086",
     "exception": false,
     "start_time": "2022-06-20T16:23:14.133435",
     "status": "completed"
    },
    "tags": []
   },
   "outputs": [],
   "source": [
    "#step_7.b.hint()    # Step, swarmplot"
   ]
  },
  {
   "cell_type": "code",
   "execution_count": 25,
   "id": "e7026a3f",
   "metadata": {
    "execution": {
     "iopub.execute_input": "2022-06-20T16:23:14.198228Z",
     "iopub.status.busy": "2022-06-20T16:23:14.197666Z",
     "iopub.status.idle": "2022-06-20T16:23:14.204031Z",
     "shell.execute_reply": "2022-06-20T16:23:14.203395Z"
    },
    "papermill": {
     "duration": 0.027959,
     "end_time": "2022-06-20T16:23:14.205863",
     "exception": false,
     "start_time": "2022-06-20T16:23:14.177904",
     "status": "completed"
    },
    "tags": []
   },
   "outputs": [
    {
     "data": {
      "application/javascript": "parent.postMessage({\"jupyterEvent\": \"custom.exercise_interaction\", \"data\": {\"interactionType\": 3, \"questionType\": 4, \"questionId\": \"7.2_ThinkSwarm\", \"learnToolsVersion\": \"0.3.4\", \"valueTowardsCompletion\": 0.0, \"failureMessage\": \"\", \"exceptionClass\": \"\", \"trace\": \"\", \"outcomeType\": 4}}, \"*\")",
      "text/plain": [
       "<IPython.core.display.Javascript object>"
      ]
     },
     "metadata": {},
     "output_type": "display_data"
    },
    {
     "data": {
      "text/markdown": [
       "<span style=\"color:#33cc99\">Solution:</span> In this case, the categorical scatter plot from **Step 7** is the more appropriate plot. While both plots tell the desired story, the plot from **Step 6** conveys far more information that could distract from the main point."
      ],
      "text/plain": [
       "Solution: In this case, the categorical scatter plot from **Step 7** is the more appropriate plot. While both plots tell the desired story, the plot from **Step 6** conveys far more information that could distract from the main point."
      ]
     },
     "metadata": {},
     "output_type": "display_data"
    }
   ],
   "source": [
    "# Check your answer (Run this code cell to receive credit!)\n",
    "step_7.b.solution()"
   ]
  },
  {
   "cell_type": "markdown",
   "id": "724817d7",
   "metadata": {
    "papermill": {
     "duration": 0.018907,
     "end_time": "2022-06-20T16:23:14.243762",
     "exception": false,
     "start_time": "2022-06-20T16:23:14.224855",
     "status": "completed"
    },
    "tags": []
   },
   "source": [
    "## Keep going\n",
    "\n",
    "Explore **[histograms and density plots](https://www.kaggle.com/alexisbcook/distributions)**."
   ]
  },
  {
   "cell_type": "markdown",
   "id": "f9c54f63",
   "metadata": {
    "papermill": {
     "duration": 0.019593,
     "end_time": "2022-06-20T16:23:14.284233",
     "exception": false,
     "start_time": "2022-06-20T16:23:14.264640",
     "status": "completed"
    },
    "tags": []
   },
   "source": [
    "---\n",
    "\n",
    "\n",
    "\n",
    "\n",
    "*Have questions or comments? Visit the [course discussion forum](https://www.kaggle.com/learn/data-visualization/discussion) to chat with other learners.*"
   ]
  }
 ],
 "metadata": {
  "kernelspec": {
   "display_name": "Python 3 (ipykernel)",
   "language": "python",
   "name": "python3"
  },
  "language_info": {
   "codemirror_mode": {
    "name": "ipython",
    "version": 3
   },
   "file_extension": ".py",
   "mimetype": "text/x-python",
   "name": "python",
   "nbconvert_exporter": "python",
   "pygments_lexer": "ipython3",
   "version": "3.10.2"
  },
  "papermill": {
   "default_parameters": {},
   "duration": 12.240384,
   "end_time": "2022-06-20T16:23:15.124457",
   "environment_variables": {},
   "exception": null,
   "input_path": "__notebook__.ipynb",
   "output_path": "__notebook__.ipynb",
   "parameters": {},
   "start_time": "2022-06-20T16:23:02.884073",
   "version": "2.3.4"
  }
 },
 "nbformat": 4,
 "nbformat_minor": 5
}

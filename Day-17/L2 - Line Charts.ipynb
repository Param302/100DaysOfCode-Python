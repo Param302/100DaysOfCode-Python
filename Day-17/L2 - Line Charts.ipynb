{
 "cells": [
  {
   "cell_type": "markdown",
   "id": "51041683",
   "metadata": {
    "papermill": {
     "duration": 0.0103,
     "end_time": "2022-06-20T11:14:20.584298",
     "exception": false,
     "start_time": "2022-06-20T11:14:20.573998",
     "status": "completed"
    },
    "tags": []
   },
   "source": [
    "# [Data Visualization Course](https://www.kaggle.com/learn/data-visualization)\n",
    "by kaggle\n",
    "\n",
    "## Lesson 2 - [Line Charts](https://www.kaggle.com/code/alexisbcook/line-charts)\n",
    "\n",
    "- [My Notebook](https://www.kaggle.com/param302/exercise-line-charts)\n",
    "\n",
    "**This notebook is an exercise in the [Data Visualization](https://www.kaggle.com/learn/data-visualization) course.  You can reference the tutorial at [this link](https://www.kaggle.com/alexisbcook/line-charts).**\n",
    "\n",
    "---\n"
   ]
  },
  {
   "cell_type": "markdown",
   "id": "c950a437",
   "metadata": {
    "papermill": {
     "duration": 0.004283,
     "end_time": "2022-06-20T11:14:20.593574",
     "exception": false,
     "start_time": "2022-06-20T11:14:20.589291",
     "status": "completed"
    },
    "tags": []
   },
   "source": [
    "In this exercise, you will use your new knowledge to propose a solution to a real-world scenario. To succeed, you will need to import data into Python, answer questions using the data, and generate **line charts** to understand patterns in the data.\n",
    "\n",
    "## Scenario\n",
    "\n",
    "You have recently been hired to manage the museums in the City of Los Angeles. Your first project focuses on the four museums pictured in the images below.\n",
    "\n",
    "![ex1_museums](https://i.imgur.com/pFYL8J1.png)\n",
    "\n",
    "You will leverage data from the Los Angeles [Data Portal](https://data.lacity.org/) that tracks monthly visitors to each museum.  \n",
    "\n",
    "![ex1_xlsx](https://i.imgur.com/mGWYlym.png)\n",
    "\n",
    "## Setup\n",
    "\n",
    "Run the next cell to import and configure the Python libraries that you need to complete the exercise."
   ]
  },
  {
   "cell_type": "code",
   "execution_count": 1,
   "id": "5d82e0d0",
   "metadata": {
    "execution": {
     "iopub.execute_input": "2022-06-20T11:14:20.605862Z",
     "iopub.status.busy": "2022-06-20T11:14:20.605101Z",
     "iopub.status.idle": "2022-06-20T11:14:21.786927Z",
     "shell.execute_reply": "2022-06-20T11:14:21.785999Z"
    },
    "papermill": {
     "duration": 1.191172,
     "end_time": "2022-06-20T11:14:21.789485",
     "exception": false,
     "start_time": "2022-06-20T11:14:20.598313",
     "status": "completed"
    },
    "tags": []
   },
   "outputs": [
    {
     "name": "stdout",
     "output_type": "stream",
     "text": [
      "Setup Complete\n"
     ]
    }
   ],
   "source": [
    "import pandas as pd\n",
    "pd.plotting.register_matplotlib_converters()\n",
    "import matplotlib.pyplot as plt\n",
    "%matplotlib inline\n",
    "import seaborn as sns\n",
    "print(\"Setup Complete\")"
   ]
  },
  {
   "cell_type": "markdown",
   "id": "5ed67c72",
   "metadata": {
    "papermill": {
     "duration": 0.005127,
     "end_time": "2022-06-20T11:14:21.800013",
     "exception": false,
     "start_time": "2022-06-20T11:14:21.794886",
     "status": "completed"
    },
    "tags": []
   },
   "source": [
    "The questions below will give you feedback on your work. Run the following cell to set up the feedback system."
   ]
  },
  {
   "cell_type": "code",
   "execution_count": 2,
   "id": "22fd2205",
   "metadata": {
    "execution": {
     "iopub.execute_input": "2022-06-20T11:14:21.812746Z",
     "iopub.status.busy": "2022-06-20T11:14:21.811651Z",
     "iopub.status.idle": "2022-06-20T11:14:21.882197Z",
     "shell.execute_reply": "2022-06-20T11:14:21.880979Z"
    },
    "papermill": {
     "duration": 0.079712,
     "end_time": "2022-06-20T11:14:21.884726",
     "exception": false,
     "start_time": "2022-06-20T11:14:21.805014",
     "status": "completed"
    },
    "tags": []
   },
   "outputs": [
    {
     "name": "stdout",
     "output_type": "stream",
     "text": [
      "Setup Complete\n"
     ]
    }
   ],
   "source": [
    "# Set up code checking\n",
    "import os\n",
    "if not os.path.exists(\"../input/museum_visitors.csv\"):\n",
    "    os.symlink(\"../input/data-for-datavis/museum_visitors.csv\", \"../input/museum_visitors.csv\") \n",
    "from learntools.core import binder\n",
    "binder.bind(globals())\n",
    "from learntools.data_viz_to_coder.ex2 import *\n",
    "print(\"Setup Complete\")"
   ]
  },
  {
   "cell_type": "markdown",
   "id": "ea23245d",
   "metadata": {
    "papermill": {
     "duration": 0.004564,
     "end_time": "2022-06-20T11:14:21.894462",
     "exception": false,
     "start_time": "2022-06-20T11:14:21.889898",
     "status": "completed"
    },
    "tags": []
   },
   "source": [
    "## Step 1: Load the data\n",
    "\n",
    "Your first assignment is to read the LA Museum Visitors data file into `museum_data`.  Note that:\n",
    "- The filepath to the dataset is stored as `museum_filepath`.  Please **do not** change the provided value of the filepath.\n",
    "- The name of the column to use as row labels is `\"Date\"`.  (This can be seen in cell A1 when the file is opened in Excel.)\n",
    "\n",
    "To help with this, you may find it useful to revisit some relevant code from the tutorial, which we have pasted below:\n",
    "\n",
    "```python\n",
    "# Path of the file to read\n",
    "spotify_filepath = \"../input/spotify.csv\"\n",
    "\n",
    "# Read the file into a variable spotify_data\n",
    "spotify_data = pd.read_csv(spotify_filepath, index_col=\"Date\", parse_dates=True)\n",
    "```\n",
    "\n",
    "The code you need to write now looks very similar!"
   ]
  },
  {
   "cell_type": "code",
   "execution_count": 3,
   "id": "8d7e6c00",
   "metadata": {
    "execution": {
     "iopub.execute_input": "2022-06-20T11:14:21.906410Z",
     "iopub.status.busy": "2022-06-20T11:14:21.905922Z",
     "iopub.status.idle": "2022-06-20T11:14:21.923341Z",
     "shell.execute_reply": "2022-06-20T11:14:21.922559Z"
    },
    "papermill": {
     "duration": 0.026011,
     "end_time": "2022-06-20T11:14:21.925365",
     "exception": false,
     "start_time": "2022-06-20T11:14:21.899354",
     "status": "completed"
    },
    "tags": []
   },
   "outputs": [
    {
     "data": {
      "application/javascript": "parent.postMessage({\"jupyterEvent\": \"custom.exercise_interaction\", \"data\": {\"outcomeType\": 1, \"valueTowardsCompletion\": 0.3333333333333333, \"interactionType\": 1, \"questionType\": 1, \"questionId\": \"1_LoadMuseumData\", \"learnToolsVersion\": \"0.3.4\", \"failureMessage\": \"\", \"exceptionClass\": \"\", \"trace\": \"\"}}, \"*\")",
      "text/plain": [
       "<IPython.core.display.Javascript object>"
      ]
     },
     "metadata": {},
     "output_type": "display_data"
    },
    {
     "data": {
      "text/markdown": [
       "<span style=\"color:#33cc33\">Correct</span>"
      ],
      "text/plain": [
       "Correct"
      ]
     },
     "metadata": {},
     "output_type": "display_data"
    }
   ],
   "source": [
    "# Path of the file to read\n",
    "museum_filepath = \"../input/museum_visitors.csv\"\n",
    "\n",
    "# Fill in the line below to read the file into a variable museum_data\n",
    "museum_data = pd.read_csv(museum_filepath, index_col=\"Date\", parse_dates=True)\n",
    "\n",
    "# Run the line below with no changes to check that you've loaded the data correctly\n",
    "step_1.check()"
   ]
  },
  {
   "cell_type": "code",
   "execution_count": 4,
   "id": "2c79c2ca",
   "metadata": {
    "execution": {
     "iopub.execute_input": "2022-06-20T11:14:21.939028Z",
     "iopub.status.busy": "2022-06-20T11:14:21.937890Z",
     "iopub.status.idle": "2022-06-20T11:14:21.942909Z",
     "shell.execute_reply": "2022-06-20T11:14:21.941745Z"
    },
    "papermill": {
     "duration": 0.014436,
     "end_time": "2022-06-20T11:14:21.944898",
     "exception": false,
     "start_time": "2022-06-20T11:14:21.930462",
     "status": "completed"
    },
    "tags": []
   },
   "outputs": [],
   "source": [
    "# Uncomment the line below to receive a hint\n",
    "#step_1.hint()\n",
    "# Uncomment the line below to see the solution\n",
    "#step_1.solution()"
   ]
  },
  {
   "cell_type": "markdown",
   "id": "20337b4e",
   "metadata": {
    "papermill": {
     "duration": 0.004933,
     "end_time": "2022-06-20T11:14:21.955257",
     "exception": false,
     "start_time": "2022-06-20T11:14:21.950324",
     "status": "completed"
    },
    "tags": []
   },
   "source": [
    "## Step 2: Review the data\n",
    "\n",
    "Use a Python command to print the last 5 rows of the data."
   ]
  },
  {
   "cell_type": "code",
   "execution_count": 5,
   "id": "064774ba",
   "metadata": {
    "execution": {
     "iopub.execute_input": "2022-06-20T11:14:21.967833Z",
     "iopub.status.busy": "2022-06-20T11:14:21.967004Z",
     "iopub.status.idle": "2022-06-20T11:14:21.983686Z",
     "shell.execute_reply": "2022-06-20T11:14:21.982519Z"
    },
    "papermill": {
     "duration": 0.025633,
     "end_time": "2022-06-20T11:14:21.986052",
     "exception": false,
     "start_time": "2022-06-20T11:14:21.960419",
     "status": "completed"
    },
    "tags": []
   },
   "outputs": [
    {
     "data": {
      "text/html": [
       "<div>\n",
       "<style scoped>\n",
       "    .dataframe tbody tr th:only-of-type {\n",
       "        vertical-align: middle;\n",
       "    }\n",
       "\n",
       "    .dataframe tbody tr th {\n",
       "        vertical-align: top;\n",
       "    }\n",
       "\n",
       "    .dataframe thead th {\n",
       "        text-align: right;\n",
       "    }\n",
       "</style>\n",
       "<table border=\"1\" class=\"dataframe\">\n",
       "  <thead>\n",
       "    <tr style=\"text-align: right;\">\n",
       "      <th></th>\n",
       "      <th>Avila Adobe</th>\n",
       "      <th>Firehouse Museum</th>\n",
       "      <th>Chinese American Museum</th>\n",
       "      <th>America Tropical Interpretive Center</th>\n",
       "    </tr>\n",
       "    <tr>\n",
       "      <th>Date</th>\n",
       "      <th></th>\n",
       "      <th></th>\n",
       "      <th></th>\n",
       "      <th></th>\n",
       "    </tr>\n",
       "  </thead>\n",
       "  <tbody>\n",
       "    <tr>\n",
       "      <th>2018-07-01</th>\n",
       "      <td>23136</td>\n",
       "      <td>4191</td>\n",
       "      <td>2620</td>\n",
       "      <td>4718</td>\n",
       "    </tr>\n",
       "    <tr>\n",
       "      <th>2018-08-01</th>\n",
       "      <td>20815</td>\n",
       "      <td>4866</td>\n",
       "      <td>2409</td>\n",
       "      <td>3891</td>\n",
       "    </tr>\n",
       "    <tr>\n",
       "      <th>2018-09-01</th>\n",
       "      <td>21020</td>\n",
       "      <td>4956</td>\n",
       "      <td>2146</td>\n",
       "      <td>3180</td>\n",
       "    </tr>\n",
       "    <tr>\n",
       "      <th>2018-10-01</th>\n",
       "      <td>19280</td>\n",
       "      <td>4622</td>\n",
       "      <td>2364</td>\n",
       "      <td>3775</td>\n",
       "    </tr>\n",
       "    <tr>\n",
       "      <th>2018-11-01</th>\n",
       "      <td>17163</td>\n",
       "      <td>4082</td>\n",
       "      <td>2385</td>\n",
       "      <td>4562</td>\n",
       "    </tr>\n",
       "  </tbody>\n",
       "</table>\n",
       "</div>"
      ],
      "text/plain": [
       "            Avila Adobe  Firehouse Museum  Chinese American Museum  \\\n",
       "Date                                                                 \n",
       "2018-07-01        23136              4191                     2620   \n",
       "2018-08-01        20815              4866                     2409   \n",
       "2018-09-01        21020              4956                     2146   \n",
       "2018-10-01        19280              4622                     2364   \n",
       "2018-11-01        17163              4082                     2385   \n",
       "\n",
       "            America Tropical Interpretive Center  \n",
       "Date                                              \n",
       "2018-07-01                                  4718  \n",
       "2018-08-01                                  3891  \n",
       "2018-09-01                                  3180  \n",
       "2018-10-01                                  3775  \n",
       "2018-11-01                                  4562  "
      ]
     },
     "execution_count": 5,
     "metadata": {},
     "output_type": "execute_result"
    }
   ],
   "source": [
    "# Print the last five rows of the data \n",
    "museum_data.tail() # Your code here"
   ]
  },
  {
   "cell_type": "markdown",
   "id": "7d713d3c",
   "metadata": {
    "papermill": {
     "duration": 0.004927,
     "end_time": "2022-06-20T11:14:21.996304",
     "exception": false,
     "start_time": "2022-06-20T11:14:21.991377",
     "status": "completed"
    },
    "tags": []
   },
   "source": [
    "The last row (for `2018-11-01`) tracks the number of visitors to each museum in November 2018, the next-to-last row (for `2018-10-01`) tracks the number of visitors to each museum in October 2018, _and so on_.\n",
    "\n",
    "Use the last 5 rows of the data to answer the questions below."
   ]
  },
  {
   "cell_type": "code",
   "execution_count": 6,
   "id": "77e5ccab",
   "metadata": {
    "execution": {
     "iopub.execute_input": "2022-06-20T11:14:22.009376Z",
     "iopub.status.busy": "2022-06-20T11:14:22.008495Z",
     "iopub.status.idle": "2022-06-20T11:14:22.028767Z",
     "shell.execute_reply": "2022-06-20T11:14:22.027667Z"
    },
    "papermill": {
     "duration": 0.029337,
     "end_time": "2022-06-20T11:14:22.030944",
     "exception": false,
     "start_time": "2022-06-20T11:14:22.001607",
     "status": "completed"
    },
    "tags": []
   },
   "outputs": [
    {
     "data": {
      "application/javascript": "parent.postMessage({\"jupyterEvent\": \"custom.exercise_interaction\", \"data\": {\"outcomeType\": 1, \"valueTowardsCompletion\": 0.3333333333333333, \"interactionType\": 1, \"questionType\": 1, \"questionId\": \"2_ReviewData\", \"learnToolsVersion\": \"0.3.4\", \"failureMessage\": \"\", \"exceptionClass\": \"\", \"trace\": \"\"}}, \"*\")",
      "text/plain": [
       "<IPython.core.display.Javascript object>"
      ]
     },
     "metadata": {},
     "output_type": "display_data"
    },
    {
     "data": {
      "text/markdown": [
       "<span style=\"color:#33cc33\">Correct</span>"
      ],
      "text/plain": [
       "Correct"
      ]
     },
     "metadata": {},
     "output_type": "display_data"
    }
   ],
   "source": [
    "# Fill in the line below: How many visitors did the Chinese American Museum \n",
    "# receive in July 2018?\n",
    "ca_museum_jul18 = museum_data.loc[\"2018-07-01\"][\"Chinese American Museum\"]\n",
    "\n",
    "# Fill in the line below: In October 2018, how many more visitors did Avila \n",
    "# Adobe receive than the Firehouse Museum?\n",
    "avila_oct18 = museum_data.loc[\"2018-10-01\"][\"Avila Adobe\"] - museum_data.loc[\"2018-10-01\"][\"Firehouse Museum\"]\n",
    "\n",
    "# Check your answers\n",
    "step_2.check()"
   ]
  },
  {
   "cell_type": "code",
   "execution_count": 7,
   "id": "0a5751e1",
   "metadata": {
    "execution": {
     "iopub.execute_input": "2022-06-20T11:14:22.044634Z",
     "iopub.status.busy": "2022-06-20T11:14:22.043824Z",
     "iopub.status.idle": "2022-06-20T11:14:22.048758Z",
     "shell.execute_reply": "2022-06-20T11:14:22.047681Z"
    },
    "papermill": {
     "duration": 0.015099,
     "end_time": "2022-06-20T11:14:22.051446",
     "exception": false,
     "start_time": "2022-06-20T11:14:22.036347",
     "status": "completed"
    },
    "tags": []
   },
   "outputs": [],
   "source": [
    "# Lines below will give you a hint or solution code\n",
    "#step_2.hint()\n",
    "#step_2.solution()"
   ]
  },
  {
   "cell_type": "markdown",
   "id": "0db74596",
   "metadata": {
    "papermill": {
     "duration": 0.007705,
     "end_time": "2022-06-20T11:14:22.068171",
     "exception": false,
     "start_time": "2022-06-20T11:14:22.060466",
     "status": "completed"
    },
    "tags": []
   },
   "source": [
    "## Step 3: Convince the museum board \n",
    "\n",
    "The Firehouse Museum claims they ran an event in 2014 that brought an incredible number of visitors, and that they should get extra budget to run a similar event again.  The other museums think these types of events aren't that important, and budgets should be split purely based on recent visitors on an average day.  \n",
    "\n",
    "To show the museum board how the event compared to regular traffic at each museum, create a line chart that shows how the number of visitors to each museum evolved over time.  Your figure should have four lines (one for each museum).\n",
    "\n",
    "> **(Optional) Note**: If you have some prior experience with plotting figures in Python, you might be familiar with the `plt.show()` command.  If you decide to use this command, please place it **after** the line of code that checks your answer (in this case, place it after `step_3.check()` below) -- otherwise, the checking code will return an error!"
   ]
  },
  {
   "cell_type": "code",
   "execution_count": 8,
   "id": "3ab1381e",
   "metadata": {
    "execution": {
     "iopub.execute_input": "2022-06-20T11:14:22.082660Z",
     "iopub.status.busy": "2022-06-20T11:14:22.081584Z",
     "iopub.status.idle": "2022-06-20T11:14:22.432915Z",
     "shell.execute_reply": "2022-06-20T11:14:22.432097Z"
    },
    "papermill": {
     "duration": 0.361851,
     "end_time": "2022-06-20T11:14:22.435751",
     "exception": false,
     "start_time": "2022-06-20T11:14:22.073900",
     "status": "completed"
    },
    "tags": []
   },
   "outputs": [
    {
     "data": {
      "application/javascript": "parent.postMessage({\"jupyterEvent\": \"custom.exercise_interaction\", \"data\": {\"outcomeType\": 1, \"valueTowardsCompletion\": 0.3333333333333333, \"interactionType\": 1, \"questionType\": 2, \"questionId\": \"3_PlotAll\", \"learnToolsVersion\": \"0.3.4\", \"failureMessage\": \"\", \"exceptionClass\": \"\", \"trace\": \"\"}}, \"*\")",
      "text/plain": [
       "<IPython.core.display.Javascript object>"
      ]
     },
     "metadata": {},
     "output_type": "display_data"
    },
    {
     "data": {
      "text/markdown": [
       "<span style=\"color:#33cc33\">Correct</span>"
      ],
      "text/plain": [
       "Correct"
      ]
     },
     "metadata": {},
     "output_type": "display_data"
    },
    {
     "data": {
      "image/png": "[encoded data removed]",
      "text/plain": [
       "<Figure size 432x288 with 1 Axes>"
      ]
     },
     "metadata": {
      "needs_background": "light"
     },
     "output_type": "display_data"
    }
   ],
   "source": [
    "# Line chart showing the number of visitors to each museum over time\n",
    "# Your code here\n",
    "# Avila Adobe Firehouse Museum Chinese American Museum America Tropical Interpretive Center\n",
    "sns.lineplot(data=museum_data[\"Avila Adobe\"], label=\"Avila Adobe\")\n",
    "sns.lineplot(data=museum_data[\"Firehouse Museum\"], label=\"Firehouse Museum\")\n",
    "sns.lineplot(data=museum_data[\"Chinese American Museum\"], label=\"Chinese American Museum\")\n",
    "sns.lineplot(data=museum_data[\"America Tropical Interpretive Center\"], label=\"American Tropical Interpretive Center\")\n",
    "\n",
    "# Check your answer\n",
    "step_3.check()\n",
    "plt.ylabel(\"No. of Visitors\")\n",
    "plt.show()"
   ]
  },
  {
   "cell_type": "code",
   "execution_count": 9,
   "id": "b61c7ccf",
   "metadata": {
    "execution": {
     "iopub.execute_input": "2022-06-20T11:14:22.452278Z",
     "iopub.status.busy": "2022-06-20T11:14:22.451588Z",
     "iopub.status.idle": "2022-06-20T11:14:22.455076Z",
     "shell.execute_reply": "2022-06-20T11:14:22.454398Z"
    },
    "papermill": {
     "duration": 0.014421,
     "end_time": "2022-06-20T11:14:22.457199",
     "exception": false,
     "start_time": "2022-06-20T11:14:22.442778",
     "status": "completed"
    },
    "tags": []
   },
   "outputs": [],
   "source": [
    "# Lines below will give you a hint or solution code\n",
    "#step_3.hint()\n",
    "#step_3.solution_plot()"
   ]
  },
  {
   "cell_type": "markdown",
   "id": "cb22dff1",
   "metadata": {
    "papermill": {
     "duration": 0.006165,
     "end_time": "2022-06-20T11:14:22.469790",
     "exception": false,
     "start_time": "2022-06-20T11:14:22.463625",
     "status": "completed"
    },
    "tags": []
   },
   "source": [
    "## Step 4: Assess seasonality\n",
    "\n",
    "When meeting with the employees at Avila Adobe, you hear that one major pain point is that the number of museum visitors varies greatly with the seasons, with low seasons (when the employees are perfectly staffed and happy) and also high seasons (when the employees are understaffed and stressed).  You realize that if you can predict these high and low seasons, you can plan ahead to hire some additional seasonal employees to help out with the extra work.\n",
    "\n",
    "#### Part A\n",
    "Create a line chart that shows how the number of visitors to Avila Adobe has evolved over time.  (_If your code returns an error, the first thing that you should check is that you've spelled the name of the column correctly!  You must write the name of the column exactly as it appears in the dataset._)"
   ]
  },
  {
   "cell_type": "code",
   "execution_count": 10,
   "id": "758657f3",
   "metadata": {
    "execution": {
     "iopub.execute_input": "2022-06-20T11:14:22.485541Z",
     "iopub.status.busy": "2022-06-20T11:14:22.484700Z",
     "iopub.status.idle": "2022-06-20T11:14:22.728830Z",
     "shell.execute_reply": "2022-06-20T11:14:22.727633Z"
    },
    "papermill": {
     "duration": 0.255051,
     "end_time": "2022-06-20T11:14:22.731557",
     "exception": false,
     "start_time": "2022-06-20T11:14:22.476506",
     "status": "completed"
    },
    "tags": []
   },
   "outputs": [
    {
     "name": "stdout",
     "output_type": "stream",
     "text": [
      "Thank you for creating a line chart!  To see how your code compares to the official solution, please use the code cell below.\n"
     ]
    },
    {
     "data": {
      "application/javascript": "parent.postMessage({\"jupyterEvent\": \"custom.exercise_interaction\", \"data\": {\"outcomeType\": 1, \"valueTowardsCompletion\": 0.3333333333333333, \"interactionType\": 1, \"questionType\": 2, \"questionId\": \"4.1_PlotAvila\", \"learnToolsVersion\": \"0.3.4\", \"failureMessage\": \"\", \"exceptionClass\": \"\", \"trace\": \"\"}}, \"*\")",
      "text/plain": [
       "<IPython.core.display.Javascript object>"
      ]
     },
     "metadata": {},
     "output_type": "display_data"
    },
    {
     "data": {
      "text/markdown": [
       "<span style=\"color:#33cc33\">Correct</span>"
      ],
      "text/plain": [
       "Correct"
      ]
     },
     "metadata": {},
     "output_type": "display_data"
    },
    {
     "data": {
      "image/png": "[encoded data removed]",
      "text/plain": [
       "<Figure size 432x288 with 1 Axes>"
      ]
     },
     "metadata": {
      "needs_background": "light"
     },
     "output_type": "display_data"
    }
   ],
   "source": [
    "# Line plot showing the number of visitors to Avila Adobe over time\n",
    "# Your code here\n",
    "sns.lineplot(data=museum_data[\"Avila Adobe\"])\n",
    "\n",
    "# Check your answer\n",
    "step_4.a.check()\n",
    "plt.title(\"No. of Visitors to Avila Adobe Museum\")\n",
    "plt.xlabel(\"No. of Visitors\")\n",
    "plt.show()"
   ]
  },
  {
   "cell_type": "code",
   "execution_count": 11,
   "id": "170e516c",
   "metadata": {
    "execution": {
     "iopub.execute_input": "2022-06-20T11:14:22.748578Z",
     "iopub.status.busy": "2022-06-20T11:14:22.748111Z",
     "iopub.status.idle": "2022-06-20T11:14:22.752522Z",
     "shell.execute_reply": "2022-06-20T11:14:22.751507Z"
    },
    "papermill": {
     "duration": 0.015812,
     "end_time": "2022-06-20T11:14:22.754843",
     "exception": false,
     "start_time": "2022-06-20T11:14:22.739031",
     "status": "completed"
    },
    "tags": []
   },
   "outputs": [],
   "source": [
    "# Lines below will give you a hint or solution code\n",
    "#step_4.a.hint()\n",
    "#step_4.a.solution_plot()"
   ]
  },
  {
   "cell_type": "markdown",
   "id": "0bb91485",
   "metadata": {
    "papermill": {
     "duration": 0.007126,
     "end_time": "2022-06-20T11:14:22.769414",
     "exception": false,
     "start_time": "2022-06-20T11:14:22.762288",
     "status": "completed"
    },
    "tags": []
   },
   "source": [
    "#### Part B\n",
    "\n",
    "Does Avila Adobe get more visitors:\n",
    "- in September-February (in LA, the fall and winter months), or \n",
    "- in March-August (in LA, the spring and summer)?  \n",
    "\n",
    "Using this information, when should the museum staff additional seasonal employees?"
   ]
  },
  {
   "cell_type": "code",
   "execution_count": 12,
   "id": "60e88370",
   "metadata": {
    "execution": {
     "iopub.execute_input": "2022-06-20T11:14:22.786999Z",
     "iopub.status.busy": "2022-06-20T11:14:22.786231Z",
     "iopub.status.idle": "2022-06-20T11:14:22.794604Z",
     "shell.execute_reply": "2022-06-20T11:14:22.793648Z"
    },
    "papermill": {
     "duration": 0.019571,
     "end_time": "2022-06-20T11:14:22.796610",
     "exception": false,
     "start_time": "2022-06-20T11:14:22.777039",
     "status": "completed"
    },
    "tags": []
   },
   "outputs": [
    {
     "data": {
      "application/javascript": "parent.postMessage({\"jupyterEvent\": \"custom.exercise_interaction\", \"data\": {\"interactionType\": 2, \"questionType\": 4, \"questionId\": \"4.2_ThinkAvila\", \"learnToolsVersion\": \"0.3.4\", \"valueTowardsCompletion\": 0.0, \"failureMessage\": \"\", \"exceptionClass\": \"\", \"trace\": \"\", \"outcomeType\": 4}}, \"*\")",
      "text/plain": [
       "<IPython.core.display.Javascript object>"
      ]
     },
     "metadata": {},
     "output_type": "display_data"
    },
    {
     "data": {
      "text/markdown": [
       "<span style=\"color:#3366cc\">Hint:</span> Look at the early part of each year (around January).  Does the line chart dip to low values or reach relatively high values?"
      ],
      "text/plain": [
       "Hint: Look at the early part of each year (around January).  Does the line chart dip to low values or reach relatively high values?"
      ]
     },
     "metadata": {},
     "output_type": "display_data"
    }
   ],
   "source": [
    "step_4.b.hint()"
   ]
  },
  {
   "cell_type": "code",
   "execution_count": 13,
   "id": "c0e3fc97",
   "metadata": {
    "execution": {
     "iopub.execute_input": "2022-06-20T11:14:22.813418Z",
     "iopub.status.busy": "2022-06-20T11:14:22.812907Z",
     "iopub.status.idle": "2022-06-20T11:14:22.821899Z",
     "shell.execute_reply": "2022-06-20T11:14:22.820884Z"
    },
    "papermill": {
     "duration": 0.019946,
     "end_time": "2022-06-20T11:14:22.823927",
     "exception": false,
     "start_time": "2022-06-20T11:14:22.803981",
     "status": "completed"
    },
    "tags": []
   },
   "outputs": [
    {
     "data": {
      "application/javascript": "parent.postMessage({\"jupyterEvent\": \"custom.exercise_interaction\", \"data\": {\"interactionType\": 3, \"questionType\": 4, \"questionId\": \"4.2_ThinkAvila\", \"learnToolsVersion\": \"0.3.4\", \"valueTowardsCompletion\": 0.0, \"failureMessage\": \"\", \"exceptionClass\": \"\", \"trace\": \"\", \"outcomeType\": 4}}, \"*\")",
      "text/plain": [
       "<IPython.core.display.Javascript object>"
      ]
     },
     "metadata": {},
     "output_type": "display_data"
    },
    {
     "data": {
      "text/markdown": [
       "<span style=\"color:#33cc99\">Solution:</span> The line chart generally dips to relatively low values around the early part of each year (in December and January), and reaches its highest values in the middle of the year (especially around May and June).  Thus, Avila Adobe usually gets more visitors in March-August (or the spring and summer months).  With this in mind, Avila Adobe could definitely benefit from hiring more seasonal employees to help with the extra work in March-August (the spring and summer)!"
      ],
      "text/plain": [
       "Solution: The line chart generally dips to relatively low values around the early part of each year (in December and January), and reaches its highest values in the middle of the year (especially around May and June).  Thus, Avila Adobe usually gets more visitors in March-August (or the spring and summer months).  With this in mind, Avila Adobe could definitely benefit from hiring more seasonal employees to help with the extra work in March-August (the spring and summer)!"
      ]
     },
     "metadata": {},
     "output_type": "display_data"
    }
   ],
   "source": [
    "# Check your answer (Run this code cell to receive credit!)\n",
    "step_4.b.solution()"
   ]
  },
  {
   "cell_type": "markdown",
   "id": "e9bbf206",
   "metadata": {
    "papermill": {
     "duration": 0.007241,
     "end_time": "2022-06-20T11:14:22.838978",
     "exception": false,
     "start_time": "2022-06-20T11:14:22.831737",
     "status": "completed"
    },
    "tags": []
   },
   "source": [
    "# Keep going\n",
    "\n",
    "Move on to learn about **[bar charts and heatmaps](https://www.kaggle.com/alexisbcook/bar-charts-and-heatmaps)** with a new dataset!"
   ]
  },
  {
   "cell_type": "markdown",
   "id": "94847b9c",
   "metadata": {
    "papermill": {
     "duration": 0.007273,
     "end_time": "2022-06-20T11:14:22.853884",
     "exception": false,
     "start_time": "2022-06-20T11:14:22.846611",
     "status": "completed"
    },
    "tags": []
   },
   "source": [
    "---\n",
    "\n",
    "\n",
    "\n",
    "\n",
    "*Have questions or comments? Visit the [course discussion forum](https://www.kaggle.com/learn/data-visualization/discussion) to chat with other learners.*"
   ]
  }
 ],
 "metadata": {
  "kernelspec": {
   "display_name": "Python 3 (ipykernel)",
   "language": "python",
   "name": "python3"
  },
  "language_info": {
   "codemirror_mode": {
    "name": "ipython",
    "version": 3
   },
   "file_extension": ".py",
   "mimetype": "text/x-python",
   "name": "python",
   "nbconvert_exporter": "python",
   "pygments_lexer": "ipython3",
   "version": "3.10.2"
  },
  "papermill": {
   "default_parameters": {},
   "duration": 13.221203,
   "end_time": "2022-06-20T11:14:23.885653",
   "environment_variables": {},
   "exception": null,
   "input_path": "__notebook__.ipynb",
   "output_path": "__notebook__.ipynb",
   "parameters": {},
   "start_time": "2022-06-20T11:14:10.664450",
   "version": "2.3.4"
  }
 },
 "nbformat": 4,
 "nbformat_minor": 5
}

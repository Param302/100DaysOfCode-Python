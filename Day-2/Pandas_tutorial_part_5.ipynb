{
 "cells": [
  {
   "cell_type": "markdown",
   "metadata": {},
   "source": [
    "# Pandas Tutorial\n",
    "### Updating Rows and Columns - Modifying Data Within DataFrame\n",
    "**Source:**\n",
    "\n",
    "Corey Schafer - [Python Pandas Playlist](https://www.youtube.com/playlist?list=PL-osiE80TeTsWmV9i9c58mdDCSskIFdDS)"
   ]
  },
  {
   "cell_type": "code",
   "execution_count": 1,
   "metadata": {},
   "outputs": [],
   "source": [
    "import pandas as pd"
   ]
  },
  {
   "cell_type": "markdown",
   "metadata": {},
   "source": [
    "### Creating a sample DataFrame"
   ]
  },
  {
   "cell_type": "code",
   "execution_count": 2,
   "metadata": {},
   "outputs": [],
   "source": [
    "people = {\n",
    "    \"first\" : [\"Parampreet\", \"Corey\", \"Anant\"],\n",
    "    \"last\" : [\"Singh\", \"Schafer\", \"Luthra\"],\n",
    "    \"email\" : [\"ParampreetSingh@gmail.com\", \"CoreySchafer@gmail.com\", \"AnantLuthra@gmail.com\"]\n",
    "}"
   ]
  },
  {
   "cell_type": "code",
   "execution_count": 3,
   "metadata": {},
   "outputs": [
    {
     "data": {
      "text/html": [
       "<div>\n",
       "<style scoped>\n",
       "    .dataframe tbody tr th:only-of-type {\n",
       "        vertical-align: middle;\n",
       "    }\n",
       "\n",
       "    .dataframe tbody tr th {\n",
       "        vertical-align: top;\n",
       "    }\n",
       "\n",
       "    .dataframe thead th {\n",
       "        text-align: right;\n",
       "    }\n",
       "</style>\n",
       "<table border=\"1\" class=\"dataframe\">\n",
       "  <thead>\n",
       "    <tr style=\"text-align: right;\">\n",
       "      <th></th>\n",
       "      <th>first</th>\n",
       "      <th>last</th>\n",
       "      <th>email</th>\n",
       "    </tr>\n",
       "  </thead>\n",
       "  <tbody>\n",
       "    <tr>\n",
       "      <th>0</th>\n",
       "      <td>Parampreet</td>\n",
       "      <td>Singh</td>\n",
       "      <td>ParampreetSingh@gmail.com</td>\n",
       "    </tr>\n",
       "    <tr>\n",
       "      <th>1</th>\n",
       "      <td>Corey</td>\n",
       "      <td>Schafer</td>\n",
       "      <td>CoreySchafer@gmail.com</td>\n",
       "    </tr>\n",
       "    <tr>\n",
       "      <th>2</th>\n",
       "      <td>Anant</td>\n",
       "      <td>Luthra</td>\n",
       "      <td>AnantLuthra@gmail.com</td>\n",
       "    </tr>\n",
       "  </tbody>\n",
       "</table>\n",
       "</div>"
      ],
      "text/plain": [
       "        first     last                      email\n",
       "0  Parampreet    Singh  ParampreetSingh@gmail.com\n",
       "1       Corey  Schafer     CoreySchafer@gmail.com\n",
       "2       Anant   Luthra      AnantLuthra@gmail.com"
      ]
     },
     "execution_count": 3,
     "metadata": {},
     "output_type": "execute_result"
    }
   ],
   "source": [
    "df = pd.DataFrame(people)\n",
    "df"
   ]
  },
  {
   "cell_type": "code",
   "execution_count": 4,
   "metadata": {},
   "outputs": [
    {
     "data": {
      "text/plain": [
       "Index(['first', 'last', 'email'], dtype='object')"
      ]
     },
     "execution_count": 4,
     "metadata": {},
     "output_type": "execute_result"
    }
   ],
   "source": [
    "df.columns"
   ]
  },
  {
   "cell_type": "markdown",
   "metadata": {},
   "source": [
    "### Changing column names\n",
    "1. By assigning a new list of columns to `df.columns`.\n",
    "2. Using  `df.rename()` and passing a dictionary of specific columns\n",
    "- Either pass `mapper=dict`, with `axis=1` or `columns=dict`\n",
    "- We can also change `index` either with `axis=0` or `index=dict/function`"
   ]
  },
  {
   "cell_type": "code",
   "execution_count": 5,
   "metadata": {},
   "outputs": [
    {
     "data": {
      "text/html": [
       "<div>\n",
       "<style scoped>\n",
       "    .dataframe tbody tr th:only-of-type {\n",
       "        vertical-align: middle;\n",
       "    }\n",
       "\n",
       "    .dataframe tbody tr th {\n",
       "        vertical-align: top;\n",
       "    }\n",
       "\n",
       "    .dataframe thead th {\n",
       "        text-align: right;\n",
       "    }\n",
       "</style>\n",
       "<table border=\"1\" class=\"dataframe\">\n",
       "  <thead>\n",
       "    <tr style=\"text-align: right;\">\n",
       "      <th></th>\n",
       "      <th>first_name</th>\n",
       "      <th>last_name</th>\n",
       "      <th>email</th>\n",
       "    </tr>\n",
       "  </thead>\n",
       "  <tbody>\n",
       "    <tr>\n",
       "      <th>0</th>\n",
       "      <td>Parampreet</td>\n",
       "      <td>Singh</td>\n",
       "      <td>ParampreetSingh@gmail.com</td>\n",
       "    </tr>\n",
       "    <tr>\n",
       "      <th>1</th>\n",
       "      <td>Corey</td>\n",
       "      <td>Schafer</td>\n",
       "      <td>CoreySchafer@gmail.com</td>\n",
       "    </tr>\n",
       "    <tr>\n",
       "      <th>2</th>\n",
       "      <td>Anant</td>\n",
       "      <td>Luthra</td>\n",
       "      <td>AnantLuthra@gmail.com</td>\n",
       "    </tr>\n",
       "  </tbody>\n",
       "</table>\n",
       "</div>"
      ],
      "text/plain": [
       "   first_name last_name                      email\n",
       "0  Parampreet     Singh  ParampreetSingh@gmail.com\n",
       "1       Corey   Schafer     CoreySchafer@gmail.com\n",
       "2       Anant    Luthra      AnantLuthra@gmail.com"
      ]
     },
     "execution_count": 5,
     "metadata": {},
     "output_type": "execute_result"
    }
   ],
   "source": [
    "# Changing column names\n",
    "df.columns = [\"first_name\", \"last_name\", \"email\"]\n",
    "df"
   ]
  },
  {
   "cell_type": "code",
   "execution_count": 6,
   "metadata": {},
   "outputs": [
    {
     "data": {
      "text/html": [
       "<div>\n",
       "<style scoped>\n",
       "    .dataframe tbody tr th:only-of-type {\n",
       "        vertical-align: middle;\n",
       "    }\n",
       "\n",
       "    .dataframe tbody tr th {\n",
       "        vertical-align: top;\n",
       "    }\n",
       "\n",
       "    .dataframe thead th {\n",
       "        text-align: right;\n",
       "    }\n",
       "</style>\n",
       "<table border=\"1\" class=\"dataframe\">\n",
       "  <thead>\n",
       "    <tr style=\"text-align: right;\">\n",
       "      <th></th>\n",
       "      <th>First_name</th>\n",
       "      <th>Last_name</th>\n",
       "      <th>Email</th>\n",
       "    </tr>\n",
       "  </thead>\n",
       "  <tbody>\n",
       "    <tr>\n",
       "      <th>0</th>\n",
       "      <td>Parampreet</td>\n",
       "      <td>Singh</td>\n",
       "      <td>ParampreetSingh@gmail.com</td>\n",
       "    </tr>\n",
       "    <tr>\n",
       "      <th>1</th>\n",
       "      <td>Corey</td>\n",
       "      <td>Schafer</td>\n",
       "      <td>CoreySchafer@gmail.com</td>\n",
       "    </tr>\n",
       "    <tr>\n",
       "      <th>2</th>\n",
       "      <td>Anant</td>\n",
       "      <td>Luthra</td>\n",
       "      <td>AnantLuthra@gmail.com</td>\n",
       "    </tr>\n",
       "  </tbody>\n",
       "</table>\n",
       "</div>"
      ],
      "text/plain": [
       "   First_name Last_name                      Email\n",
       "0  Parampreet     Singh  ParampreetSingh@gmail.com\n",
       "1       Corey   Schafer     CoreySchafer@gmail.com\n",
       "2       Anant    Luthra      AnantLuthra@gmail.com"
      ]
     },
     "execution_count": 6,
     "metadata": {},
     "output_type": "execute_result"
    }
   ],
   "source": [
    "df.columns = [i.capitalize() for i in df.columns]\n",
    "df"
   ]
  },
  {
   "cell_type": "code",
   "execution_count": 7,
   "metadata": {},
   "outputs": [
    {
     "data": {
      "text/html": [
       "<div>\n",
       "<style scoped>\n",
       "    .dataframe tbody tr th:only-of-type {\n",
       "        vertical-align: middle;\n",
       "    }\n",
       "\n",
       "    .dataframe tbody tr th {\n",
       "        vertical-align: top;\n",
       "    }\n",
       "\n",
       "    .dataframe thead th {\n",
       "        text-align: right;\n",
       "    }\n",
       "</style>\n",
       "<table border=\"1\" class=\"dataframe\">\n",
       "  <thead>\n",
       "    <tr style=\"text-align: right;\">\n",
       "      <th></th>\n",
       "      <th>first</th>\n",
       "      <th>last</th>\n",
       "      <th>Email</th>\n",
       "    </tr>\n",
       "  </thead>\n",
       "  <tbody>\n",
       "    <tr>\n",
       "      <th>0</th>\n",
       "      <td>Parampreet</td>\n",
       "      <td>Singh</td>\n",
       "      <td>ParampreetSingh@gmail.com</td>\n",
       "    </tr>\n",
       "    <tr>\n",
       "      <th>1</th>\n",
       "      <td>Corey</td>\n",
       "      <td>Schafer</td>\n",
       "      <td>CoreySchafer@gmail.com</td>\n",
       "    </tr>\n",
       "    <tr>\n",
       "      <th>2</th>\n",
       "      <td>Anant</td>\n",
       "      <td>Luthra</td>\n",
       "      <td>AnantLuthra@gmail.com</td>\n",
       "    </tr>\n",
       "  </tbody>\n",
       "</table>\n",
       "</div>"
      ],
      "text/plain": [
       "        first     last                      Email\n",
       "0  Parampreet    Singh  ParampreetSingh@gmail.com\n",
       "1       Corey  Schafer     CoreySchafer@gmail.com\n",
       "2       Anant   Luthra      AnantLuthra@gmail.com"
      ]
     },
     "execution_count": 7,
     "metadata": {},
     "output_type": "execute_result"
    }
   ],
   "source": [
    "# Changing specific columns\n",
    "df.rename(columns={\"First_name\" : \"first\", \"Last_name\" : \"last\"}, inplace=True)\n",
    "df"
   ]
  },
  {
   "cell_type": "code",
   "execution_count": 8,
   "metadata": {},
   "outputs": [
    {
     "data": {
      "text/html": [
       "<div>\n",
       "<style scoped>\n",
       "    .dataframe tbody tr th:only-of-type {\n",
       "        vertical-align: middle;\n",
       "    }\n",
       "\n",
       "    .dataframe tbody tr th {\n",
       "        vertical-align: top;\n",
       "    }\n",
       "\n",
       "    .dataframe thead th {\n",
       "        text-align: right;\n",
       "    }\n",
       "</style>\n",
       "<table border=\"1\" class=\"dataframe\">\n",
       "  <thead>\n",
       "    <tr style=\"text-align: right;\">\n",
       "      <th></th>\n",
       "      <th>first</th>\n",
       "      <th>last</th>\n",
       "      <th>email</th>\n",
       "    </tr>\n",
       "  </thead>\n",
       "  <tbody>\n",
       "    <tr>\n",
       "      <th>0</th>\n",
       "      <td>Parampreet</td>\n",
       "      <td>Singh</td>\n",
       "      <td>ParampreetSingh@gmail.com</td>\n",
       "    </tr>\n",
       "    <tr>\n",
       "      <th>1</th>\n",
       "      <td>Corey</td>\n",
       "      <td>Schafer</td>\n",
       "      <td>CoreySchafer@gmail.com</td>\n",
       "    </tr>\n",
       "    <tr>\n",
       "      <th>2</th>\n",
       "      <td>Anant</td>\n",
       "      <td>Luthra</td>\n",
       "      <td>AnantLuthra@gmail.com</td>\n",
       "    </tr>\n",
       "  </tbody>\n",
       "</table>\n",
       "</div>"
      ],
      "text/plain": [
       "        first     last                      email\n",
       "0  Parampreet    Singh  ParampreetSingh@gmail.com\n",
       "1       Corey  Schafer     CoreySchafer@gmail.com\n",
       "2       Anant   Luthra      AnantLuthra@gmail.com"
      ]
     },
     "execution_count": 8,
     "metadata": {},
     "output_type": "execute_result"
    }
   ],
   "source": [
    "# changing columns using function\n",
    "df.rename(columns=str.lower, inplace=True)\n",
    "df"
   ]
  },
  {
   "cell_type": "markdown",
   "metadata": {},
   "source": [
    "### Changing rows"
   ]
  },
  {
   "cell_type": "code",
   "execution_count": 9,
   "metadata": {},
   "outputs": [],
   "source": [
    "# Changing a row\n",
    "df.loc[1] = [\"John\", \"Smith\", \"JohnSmith@gmail.com\"]"
   ]
  },
  {
   "cell_type": "code",
   "execution_count": 10,
   "metadata": {},
   "outputs": [],
   "source": [
    "# Changing a specific column of a row\n",
    "df.loc[1, \"email\"] = \"SmithJohn@gmail.com\""
   ]
  },
  {
   "cell_type": "code",
   "execution_count": 11,
   "metadata": {},
   "outputs": [
    {
     "data": {
      "text/html": [
       "<div>\n",
       "<style scoped>\n",
       "    .dataframe tbody tr th:only-of-type {\n",
       "        vertical-align: middle;\n",
       "    }\n",
       "\n",
       "    .dataframe tbody tr th {\n",
       "        vertical-align: top;\n",
       "    }\n",
       "\n",
       "    .dataframe thead th {\n",
       "        text-align: right;\n",
       "    }\n",
       "</style>\n",
       "<table border=\"1\" class=\"dataframe\">\n",
       "  <thead>\n",
       "    <tr style=\"text-align: right;\">\n",
       "      <th></th>\n",
       "      <th>first</th>\n",
       "      <th>last</th>\n",
       "      <th>email</th>\n",
       "    </tr>\n",
       "  </thead>\n",
       "  <tbody>\n",
       "    <tr>\n",
       "      <th>0</th>\n",
       "      <td>Parampreet</td>\n",
       "      <td>Singh</td>\n",
       "      <td>ParampreetSingh@gmail.com</td>\n",
       "    </tr>\n",
       "    <tr>\n",
       "      <th>1</th>\n",
       "      <td>John</td>\n",
       "      <td>Smith</td>\n",
       "      <td>SmithJohn@gmail.com</td>\n",
       "    </tr>\n",
       "    <tr>\n",
       "      <th>2</th>\n",
       "      <td>Anant</td>\n",
       "      <td>Luthra</td>\n",
       "      <td>AnantLuthra@gmail.com</td>\n",
       "    </tr>\n",
       "  </tbody>\n",
       "</table>\n",
       "</div>"
      ],
      "text/plain": [
       "        first    last                      email\n",
       "0  Parampreet   Singh  ParampreetSingh@gmail.com\n",
       "1        John   Smith        SmithJohn@gmail.com\n",
       "2       Anant  Luthra      AnantLuthra@gmail.com"
      ]
     },
     "execution_count": 11,
     "metadata": {},
     "output_type": "execute_result"
    }
   ],
   "source": [
    "df"
   ]
  },
  {
   "cell_type": "code",
   "execution_count": 12,
   "metadata": {},
   "outputs": [
    {
     "data": {
      "text/html": [
       "<div>\n",
       "<style scoped>\n",
       "    .dataframe tbody tr th:only-of-type {\n",
       "        vertical-align: middle;\n",
       "    }\n",
       "\n",
       "    .dataframe tbody tr th {\n",
       "        vertical-align: top;\n",
       "    }\n",
       "\n",
       "    .dataframe thead th {\n",
       "        text-align: right;\n",
       "    }\n",
       "</style>\n",
       "<table border=\"1\" class=\"dataframe\">\n",
       "  <thead>\n",
       "    <tr style=\"text-align: right;\">\n",
       "      <th></th>\n",
       "      <th>first</th>\n",
       "      <th>last</th>\n",
       "      <th>email</th>\n",
       "    </tr>\n",
       "  </thead>\n",
       "  <tbody>\n",
       "    <tr>\n",
       "      <th>0</th>\n",
       "      <td>Parampreet</td>\n",
       "      <td>Singh</td>\n",
       "      <td>ParampreetSingh@gmail.com</td>\n",
       "    </tr>\n",
       "    <tr>\n",
       "      <th>1</th>\n",
       "      <td>John</td>\n",
       "      <td>Smith</td>\n",
       "      <td>JohnSmith@gmail.com</td>\n",
       "    </tr>\n",
       "    <tr>\n",
       "      <th>2</th>\n",
       "      <td>Anant</td>\n",
       "      <td>Luthra</td>\n",
       "      <td>AnantLuthra@gmail.com</td>\n",
       "    </tr>\n",
       "  </tbody>\n",
       "</table>\n",
       "</div>"
      ],
      "text/plain": [
       "        first    last                      email\n",
       "0  Parampreet   Singh  ParampreetSingh@gmail.com\n",
       "1        John   Smith        JohnSmith@gmail.com\n",
       "2       Anant  Luthra      AnantLuthra@gmail.com"
      ]
     },
     "execution_count": 12,
     "metadata": {},
     "output_type": "execute_result"
    }
   ],
   "source": [
    "# We can also use `.at` for accessing/changing a single value\n",
    "df.at[1, \"email\"] = \"JohnSmith@gmail.com\"\n",
    "df"
   ]
  },
  {
   "cell_type": "code",
   "execution_count": 13,
   "metadata": {},
   "outputs": [
    {
     "data": {
      "text/html": [
       "<div>\n",
       "<style scoped>\n",
       "    .dataframe tbody tr th:only-of-type {\n",
       "        vertical-align: middle;\n",
       "    }\n",
       "\n",
       "    .dataframe tbody tr th {\n",
       "        vertical-align: top;\n",
       "    }\n",
       "\n",
       "    .dataframe thead th {\n",
       "        text-align: right;\n",
       "    }\n",
       "</style>\n",
       "<table border=\"1\" class=\"dataframe\">\n",
       "  <thead>\n",
       "    <tr style=\"text-align: right;\">\n",
       "      <th></th>\n",
       "      <th>first</th>\n",
       "      <th>last</th>\n",
       "      <th>email</th>\n",
       "    </tr>\n",
       "  </thead>\n",
       "  <tbody>\n",
       "    <tr>\n",
       "      <th>0</th>\n",
       "      <td>Parampreet</td>\n",
       "      <td>Singh</td>\n",
       "      <td>ParampreetSingh@gmail.com</td>\n",
       "    </tr>\n",
       "    <tr>\n",
       "      <th>1</th>\n",
       "      <td>John</td>\n",
       "      <td>Smith</td>\n",
       "      <td>JohnSmith@email.com</td>\n",
       "    </tr>\n",
       "    <tr>\n",
       "      <th>2</th>\n",
       "      <td>Anant</td>\n",
       "      <td>Luthra</td>\n",
       "      <td>AnantLuthra@gmail.com</td>\n",
       "    </tr>\n",
       "  </tbody>\n",
       "</table>\n",
       "</div>"
      ],
      "text/plain": [
       "        first    last                      email\n",
       "0  Parampreet   Singh  ParampreetSingh@gmail.com\n",
       "1        John   Smith        JohnSmith@email.com\n",
       "2       Anant  Luthra      AnantLuthra@gmail.com"
      ]
     },
     "execution_count": 13,
     "metadata": {},
     "output_type": "execute_result"
    }
   ],
   "source": [
    "# We can also use filter to access/change using `at`, `loc`\n",
    "df.loc[df[\"first\"]==\"John\", \"email\"] = \"JohnSmith@email.com\"\n",
    "df"
   ]
  },
  {
   "cell_type": "markdown",
   "metadata": {},
   "source": [
    "### DONT: Change value without `loc`, `iloc` or `at`\n",
    "```df [df[\"first\"] == \"John\"] [\"email\"] = \"JohnSmith@email.com\"```\n",
    "- Filter returns a copy, so here, the changes are temporary, and gets deleted  immidiately.\n",
    "- For more, check [this](https://pandas.pydata.org/docs/user_guide/indexing.html#returning-a-view-versus-a-copy)"
   ]
  },
  {
   "cell_type": "code",
   "execution_count": 14,
   "metadata": {},
   "outputs": [
    {
     "data": {
      "text/html": [
       "<div>\n",
       "<style scoped>\n",
       "    .dataframe tbody tr th:only-of-type {\n",
       "        vertical-align: middle;\n",
       "    }\n",
       "\n",
       "    .dataframe tbody tr th {\n",
       "        vertical-align: top;\n",
       "    }\n",
       "\n",
       "    .dataframe thead th {\n",
       "        text-align: right;\n",
       "    }\n",
       "</style>\n",
       "<table border=\"1\" class=\"dataframe\">\n",
       "  <thead>\n",
       "    <tr style=\"text-align: right;\">\n",
       "      <th></th>\n",
       "      <th>first</th>\n",
       "      <th>last</th>\n",
       "      <th>email</th>\n",
       "    </tr>\n",
       "  </thead>\n",
       "  <tbody>\n",
       "    <tr>\n",
       "      <th>0</th>\n",
       "      <td>Parampreet</td>\n",
       "      <td>Singh</td>\n",
       "      <td>parampreetsingh@gmail.com</td>\n",
       "    </tr>\n",
       "    <tr>\n",
       "      <th>1</th>\n",
       "      <td>John</td>\n",
       "      <td>Smith</td>\n",
       "      <td>johnsmith@email.com</td>\n",
       "    </tr>\n",
       "    <tr>\n",
       "      <th>2</th>\n",
       "      <td>Anant</td>\n",
       "      <td>Luthra</td>\n",
       "      <td>anantluthra@gmail.com</td>\n",
       "    </tr>\n",
       "  </tbody>\n",
       "</table>\n",
       "</div>"
      ],
      "text/plain": [
       "        first    last                      email\n",
       "0  Parampreet   Singh  parampreetsingh@gmail.com\n",
       "1        John   Smith        johnsmith@email.com\n",
       "2       Anant  Luthra      anantluthra@gmail.com"
      ]
     },
     "execution_count": 14,
     "metadata": {},
     "output_type": "execute_result"
    }
   ],
   "source": [
    "# Changing all rows of a specific column\n",
    "df[\"email\"] = df[\"email\"].str.lower()\n",
    "df"
   ]
  },
  {
   "cell_type": "markdown",
   "metadata": {},
   "source": [
    "### Use `.apply()` to call a function on values of Series.\n",
    "1. Returns a Series\n",
    "2. We can pass additional arguments using `args` parameter like this:\n",
    "- ```Series.apply(func, args=(\"hello\", 2))```\n",
    "3. We can pass additional keyword arguments like this:\n",
    "- ```Series.apply(func, name=\"hello\")```"
   ]
  },
  {
   "cell_type": "code",
   "execution_count": 15,
   "metadata": {},
   "outputs": [
    {
     "data": {
      "text/plain": [
       "0    25\n",
       "1    19\n",
       "2    21\n",
       "Name: email, dtype: int64"
      ]
     },
     "execution_count": 15,
     "metadata": {},
     "output_type": "execute_result"
    }
   ],
   "source": [
    "df[\"email\"].apply(len)"
   ]
  },
  {
   "cell_type": "code",
   "execution_count": 16,
   "metadata": {},
   "outputs": [
    {
     "data": {
      "text/html": [
       "<div>\n",
       "<style scoped>\n",
       "    .dataframe tbody tr th:only-of-type {\n",
       "        vertical-align: middle;\n",
       "    }\n",
       "\n",
       "    .dataframe tbody tr th {\n",
       "        vertical-align: top;\n",
       "    }\n",
       "\n",
       "    .dataframe thead th {\n",
       "        text-align: right;\n",
       "    }\n",
       "</style>\n",
       "<table border=\"1\" class=\"dataframe\">\n",
       "  <thead>\n",
       "    <tr style=\"text-align: right;\">\n",
       "      <th></th>\n",
       "      <th>first</th>\n",
       "      <th>last</th>\n",
       "      <th>email</th>\n",
       "    </tr>\n",
       "  </thead>\n",
       "  <tbody>\n",
       "    <tr>\n",
       "      <th>0</th>\n",
       "      <td>PARAMPREET</td>\n",
       "      <td>Singh</td>\n",
       "      <td>parampreetsingh@gmail.com</td>\n",
       "    </tr>\n",
       "    <tr>\n",
       "      <th>1</th>\n",
       "      <td>JOHN</td>\n",
       "      <td>Smith</td>\n",
       "      <td>johnsmith@email.com</td>\n",
       "    </tr>\n",
       "    <tr>\n",
       "      <th>2</th>\n",
       "      <td>ANANT</td>\n",
       "      <td>Luthra</td>\n",
       "      <td>anantluthra@gmail.com</td>\n",
       "    </tr>\n",
       "  </tbody>\n",
       "</table>\n",
       "</div>"
      ],
      "text/plain": [
       "        first    last                      email\n",
       "0  PARAMPREET   Singh  parampreetsingh@gmail.com\n",
       "1        JOHN   Smith        johnsmith@email.com\n",
       "2       ANANT  Luthra      anantluthra@gmail.com"
      ]
     },
     "execution_count": 16,
     "metadata": {},
     "output_type": "execute_result"
    }
   ],
   "source": [
    "# Changing first name to uppercase using `apply`\n",
    "df[\"first\"] = df[\"first\"].apply(lambda name: name.upper())\n",
    "df"
   ]
  },
  {
   "cell_type": "code",
   "execution_count": 17,
   "metadata": {},
   "outputs": [
    {
     "data": {
      "text/html": [
       "<div>\n",
       "<style scoped>\n",
       "    .dataframe tbody tr th:only-of-type {\n",
       "        vertical-align: middle;\n",
       "    }\n",
       "\n",
       "    .dataframe tbody tr th {\n",
       "        vertical-align: top;\n",
       "    }\n",
       "\n",
       "    .dataframe thead th {\n",
       "        text-align: right;\n",
       "    }\n",
       "</style>\n",
       "<table border=\"1\" class=\"dataframe\">\n",
       "  <thead>\n",
       "    <tr style=\"text-align: right;\">\n",
       "      <th></th>\n",
       "      <th>first</th>\n",
       "      <th>last</th>\n",
       "      <th>email</th>\n",
       "    </tr>\n",
       "  </thead>\n",
       "  <tbody>\n",
       "    <tr>\n",
       "      <th>0</th>\n",
       "      <td>Parampreet</td>\n",
       "      <td>Singh</td>\n",
       "      <td>parampreetsingh@gmail.com</td>\n",
       "    </tr>\n",
       "    <tr>\n",
       "      <th>1</th>\n",
       "      <td>John</td>\n",
       "      <td>Smith</td>\n",
       "      <td>johnsmith@email.com</td>\n",
       "    </tr>\n",
       "    <tr>\n",
       "      <th>2</th>\n",
       "      <td>Anant</td>\n",
       "      <td>Luthra</td>\n",
       "      <td>anantluthra@gmail.com</td>\n",
       "    </tr>\n",
       "  </tbody>\n",
       "</table>\n",
       "</div>"
      ],
      "text/plain": [
       "        first    last                      email\n",
       "0  Parampreet   Singh  parampreetsingh@gmail.com\n",
       "1        John   Smith        johnsmith@email.com\n",
       "2       Anant  Luthra      anantluthra@gmail.com"
      ]
     },
     "execution_count": 17,
     "metadata": {},
     "output_type": "execute_result"
    }
   ],
   "source": [
    "df[\"first\"] = [i.capitalize() for i in df[\"first\"]]\n",
    "df"
   ]
  },
  {
   "cell_type": "markdown",
   "metadata": {},
   "source": [
    "#### If we use `.apply()` on a dataframe, the function will apply on each column/series\n",
    "- returns a series, having column names as index, function return value as values."
   ]
  },
  {
   "cell_type": "code",
   "execution_count": 18,
   "metadata": {},
   "outputs": [
    {
     "data": {
      "text/plain": [
       "first    3\n",
       "last     3\n",
       "email    3\n",
       "dtype: int64"
      ]
     },
     "execution_count": 18,
     "metadata": {},
     "output_type": "execute_result"
    }
   ],
   "source": [
    "df.apply(len)    # returning length of series for each column"
   ]
  },
  {
   "cell_type": "code",
   "execution_count": 19,
   "metadata": {},
   "outputs": [
    {
     "data": {
      "text/html": [
       "<div>\n",
       "<style scoped>\n",
       "    .dataframe tbody tr th:only-of-type {\n",
       "        vertical-align: middle;\n",
       "    }\n",
       "\n",
       "    .dataframe tbody tr th {\n",
       "        vertical-align: top;\n",
       "    }\n",
       "\n",
       "    .dataframe thead th {\n",
       "        text-align: right;\n",
       "    }\n",
       "</style>\n",
       "<table border=\"1\" class=\"dataframe\">\n",
       "  <thead>\n",
       "    <tr style=\"text-align: right;\">\n",
       "      <th></th>\n",
       "      <th>first</th>\n",
       "      <th>last</th>\n",
       "      <th>email</th>\n",
       "    </tr>\n",
       "  </thead>\n",
       "  <tbody>\n",
       "    <tr>\n",
       "      <th>0</th>\n",
       "      <td>Parampreet</td>\n",
       "      <td>Singh</td>\n",
       "      <td>parampreetsingh@gmail.com</td>\n",
       "    </tr>\n",
       "    <tr>\n",
       "      <th>1</th>\n",
       "      <td>John</td>\n",
       "      <td>Smith</td>\n",
       "      <td>johnsmith@email.com</td>\n",
       "    </tr>\n",
       "    <tr>\n",
       "      <th>2</th>\n",
       "      <td>Anant</td>\n",
       "      <td>Luthra</td>\n",
       "      <td>anantluthra@gmail.com</td>\n",
       "    </tr>\n",
       "  </tbody>\n",
       "</table>\n",
       "</div>"
      ],
      "text/plain": [
       "        first    last                      email\n",
       "0  Parampreet   Singh  parampreetsingh@gmail.com\n",
       "1        John   Smith        johnsmith@email.com\n",
       "2       Anant  Luthra      anantluthra@gmail.com"
      ]
     },
     "execution_count": 19,
     "metadata": {},
     "output_type": "execute_result"
    }
   ],
   "source": [
    "df.loc[2, \"email\"] = \"anantluthra@gmail.com\"\n",
    "df"
   ]
  },
  {
   "cell_type": "code",
   "execution_count": 20,
   "metadata": {},
   "outputs": [
    {
     "data": {
      "text/plain": [
       "0    3\n",
       "1    3\n",
       "2    3\n",
       "dtype: int64"
      ]
     },
     "execution_count": 20,
     "metadata": {},
     "output_type": "execute_result"
    }
   ],
   "source": [
    "# Now, axis=1, so function will apply on each row\n",
    "df.apply(len, axis=1)"
   ]
  },
  {
   "cell_type": "code",
   "execution_count": 21,
   "metadata": {},
   "outputs": [
    {
     "data": {
      "text/plain": [
       "first                    Anant\n",
       "last                    Luthra\n",
       "email    anantluthra@gmail.com\n",
       "dtype: object"
      ]
     },
     "execution_count": 21,
     "metadata": {},
     "output_type": "execute_result"
    }
   ],
   "source": [
    "df.apply(pd.Series.min)"
   ]
  },
  {
   "cell_type": "markdown",
   "metadata": {},
   "source": [
    "### Use `.map()` to substitute values in a Series\n",
    "- We can either pass a function, a dictionary or a Series\n",
    "- Returns a series\n",
    "- Give NaN as a value, if we skip a value"
   ]
  },
  {
   "cell_type": "code",
   "execution_count": 22,
   "metadata": {},
   "outputs": [
    {
     "data": {
      "text/html": [
       "<div>\n",
       "<style scoped>\n",
       "    .dataframe tbody tr th:only-of-type {\n",
       "        vertical-align: middle;\n",
       "    }\n",
       "\n",
       "    .dataframe tbody tr th {\n",
       "        vertical-align: top;\n",
       "    }\n",
       "\n",
       "    .dataframe thead th {\n",
       "        text-align: right;\n",
       "    }\n",
       "</style>\n",
       "<table border=\"1\" class=\"dataframe\">\n",
       "  <thead>\n",
       "    <tr style=\"text-align: right;\">\n",
       "      <th></th>\n",
       "      <th>first</th>\n",
       "      <th>last</th>\n",
       "      <th>email</th>\n",
       "    </tr>\n",
       "  </thead>\n",
       "  <tbody>\n",
       "    <tr>\n",
       "      <th>0</th>\n",
       "      <td>Parampreet</td>\n",
       "      <td>Singh</td>\n",
       "      <td>parampreetsingh@gmail.com</td>\n",
       "    </tr>\n",
       "    <tr>\n",
       "      <th>1</th>\n",
       "      <td>John</td>\n",
       "      <td>Smith</td>\n",
       "      <td>johnsmith@email.com</td>\n",
       "    </tr>\n",
       "    <tr>\n",
       "      <th>2</th>\n",
       "      <td>Anant</td>\n",
       "      <td>Luthra</td>\n",
       "      <td>anantluthra@gmail.com</td>\n",
       "    </tr>\n",
       "  </tbody>\n",
       "</table>\n",
       "</div>"
      ],
      "text/plain": [
       "        first    last                      email\n",
       "0  Parampreet   Singh  parampreetsingh@gmail.com\n",
       "1        John   Smith        johnsmith@email.com\n",
       "2       Anant  Luthra      anantluthra@gmail.com"
      ]
     },
     "execution_count": 22,
     "metadata": {},
     "output_type": "execute_result"
    }
   ],
   "source": [
    "df"
   ]
  },
  {
   "cell_type": "code",
   "execution_count": 23,
   "metadata": {},
   "outputs": [
    {
     "data": {
      "text/plain": [
       "0    Param\n",
       "1    Jimmy\n",
       "2      NaN\n",
       "Name: first, dtype: object"
      ]
     },
     "execution_count": 23,
     "metadata": {},
     "output_type": "execute_result"
    }
   ],
   "source": [
    "# Using a dictionary\n",
    "df[\"first\"].map({\"Parampreet\": \"Param\", \"John\": \"Jimmy\"})"
   ]
  },
  {
   "cell_type": "markdown",
   "metadata": {},
   "source": [
    "### Use `.replace()` to replace values in a Series\n",
    "- Takes 2 args, `to_replace` values needed to replace\n",
    "- `value` replace the `to_replace` with\n",
    "- Returns a series\n",
    "- Doesn't give NaN"
   ]
  },
  {
   "cell_type": "code",
   "execution_count": 24,
   "metadata": {},
   "outputs": [
    {
     "data": {
      "text/plain": [
       "0    Param\n",
       "1    Jimmy\n",
       "2    Anant\n",
       "Name: first, dtype: object"
      ]
     },
     "execution_count": 24,
     "metadata": {},
     "output_type": "execute_result"
    }
   ],
   "source": [
    "df[\"first\"].replace({\"Parampreet\": \"Param\", \"John\": \"Jimmy\"})"
   ]
  },
  {
   "cell_type": "markdown",
   "metadata": {},
   "source": [
    "### Use `.applymap()` to apply a function on a DataFrame elementwise.\n",
    "1. Returns a DataFrame"
   ]
  },
  {
   "cell_type": "code",
   "execution_count": 25,
   "metadata": {},
   "outputs": [
    {
     "data": {
      "text/html": [
       "<div>\n",
       "<style scoped>\n",
       "    .dataframe tbody tr th:only-of-type {\n",
       "        vertical-align: middle;\n",
       "    }\n",
       "\n",
       "    .dataframe tbody tr th {\n",
       "        vertical-align: top;\n",
       "    }\n",
       "\n",
       "    .dataframe thead th {\n",
       "        text-align: right;\n",
       "    }\n",
       "</style>\n",
       "<table border=\"1\" class=\"dataframe\">\n",
       "  <thead>\n",
       "    <tr style=\"text-align: right;\">\n",
       "      <th></th>\n",
       "      <th>first</th>\n",
       "      <th>last</th>\n",
       "      <th>email</th>\n",
       "    </tr>\n",
       "  </thead>\n",
       "  <tbody>\n",
       "    <tr>\n",
       "      <th>0</th>\n",
       "      <td>Parampreet</td>\n",
       "      <td>Singh</td>\n",
       "      <td>parampreetsingh@gmail.com</td>\n",
       "    </tr>\n",
       "    <tr>\n",
       "      <th>1</th>\n",
       "      <td>John</td>\n",
       "      <td>Smith</td>\n",
       "      <td>johnsmith@email.com</td>\n",
       "    </tr>\n",
       "    <tr>\n",
       "      <th>2</th>\n",
       "      <td>Anant</td>\n",
       "      <td>Luthra</td>\n",
       "      <td>anantluthra@gmail.com</td>\n",
       "    </tr>\n",
       "  </tbody>\n",
       "</table>\n",
       "</div>"
      ],
      "text/plain": [
       "        first    last                      email\n",
       "0  Parampreet   Singh  parampreetsingh@gmail.com\n",
       "1        John   Smith        johnsmith@email.com\n",
       "2       Anant  Luthra      anantluthra@gmail.com"
      ]
     },
     "execution_count": 25,
     "metadata": {},
     "output_type": "execute_result"
    }
   ],
   "source": [
    "df"
   ]
  },
  {
   "cell_type": "code",
   "execution_count": 26,
   "metadata": {},
   "outputs": [
    {
     "data": {
      "text/html": [
       "<div>\n",
       "<style scoped>\n",
       "    .dataframe tbody tr th:only-of-type {\n",
       "        vertical-align: middle;\n",
       "    }\n",
       "\n",
       "    .dataframe tbody tr th {\n",
       "        vertical-align: top;\n",
       "    }\n",
       "\n",
       "    .dataframe thead th {\n",
       "        text-align: right;\n",
       "    }\n",
       "</style>\n",
       "<table border=\"1\" class=\"dataframe\">\n",
       "  <thead>\n",
       "    <tr style=\"text-align: right;\">\n",
       "      <th></th>\n",
       "      <th>first</th>\n",
       "      <th>last</th>\n",
       "      <th>email</th>\n",
       "    </tr>\n",
       "  </thead>\n",
       "  <tbody>\n",
       "    <tr>\n",
       "      <th>0</th>\n",
       "      <td>10</td>\n",
       "      <td>5</td>\n",
       "      <td>25</td>\n",
       "    </tr>\n",
       "    <tr>\n",
       "      <th>1</th>\n",
       "      <td>4</td>\n",
       "      <td>5</td>\n",
       "      <td>19</td>\n",
       "    </tr>\n",
       "    <tr>\n",
       "      <th>2</th>\n",
       "      <td>5</td>\n",
       "      <td>6</td>\n",
       "      <td>21</td>\n",
       "    </tr>\n",
       "  </tbody>\n",
       "</table>\n",
       "</div>"
      ],
      "text/plain": [
       "   first  last  email\n",
       "0     10     5     25\n",
       "1      4     5     19\n",
       "2      5     6     21"
      ]
     },
     "execution_count": 26,
     "metadata": {},
     "output_type": "execute_result"
    }
   ],
   "source": [
    "# Getting len of each element\n",
    "df.applymap(len)"
   ]
  },
  {
   "cell_type": "markdown",
   "metadata": {},
   "source": [
    "### DataFrames of StackOverflow survey result 2021"
   ]
  },
  {
   "cell_type": "code",
   "execution_count": 27,
   "metadata": {},
   "outputs": [],
   "source": [
    "df = pd.read_csv(\"./data/survey_results_public.csv\", index_col=\"ResponseId\")\n",
    "schema_df = pd.read_csv(\"./data/survey_results_schema.csv\", index_col=\"qname\")"
   ]
  },
  {
   "cell_type": "code",
   "execution_count": 28,
   "metadata": {},
   "outputs": [],
   "source": [
    "pd.set_option(\"display.max_columns\", df.shape[1])"
   ]
  },
  {
   "cell_type": "code",
   "execution_count": 29,
   "metadata": {},
   "outputs": [
    {
     "data": {
      "text/html": [
       "<div>\n",
       "<style scoped>\n",
       "    .dataframe tbody tr th:only-of-type {\n",
       "        vertical-align: middle;\n",
       "    }\n",
       "\n",
       "    .dataframe tbody tr th {\n",
       "        vertical-align: top;\n",
       "    }\n",
       "\n",
       "    .dataframe thead th {\n",
       "        text-align: right;\n",
       "    }\n",
       "</style>\n",
       "<table border=\"1\" class=\"dataframe\">\n",
       "  <thead>\n",
       "    <tr style=\"text-align: right;\">\n",
       "      <th></th>\n",
       "      <th>MainBranch</th>\n",
       "      <th>Employment</th>\n",
       "      <th>Country</th>\n",
       "      <th>US_State</th>\n",
       "      <th>UK_Country</th>\n",
       "      <th>EdLevel</th>\n",
       "      <th>Age1stCode</th>\n",
       "      <th>LearnCode</th>\n",
       "      <th>YearsCode</th>\n",
       "      <th>YearsCodePro</th>\n",
       "      <th>DevType</th>\n",
       "      <th>OrgSize</th>\n",
       "      <th>Currency</th>\n",
       "      <th>CompTotal</th>\n",
       "      <th>CompFreq</th>\n",
       "      <th>LanguageHaveWorkedWith</th>\n",
       "      <th>LanguageWantToWorkWith</th>\n",
       "      <th>DatabaseHaveWorkedWith</th>\n",
       "      <th>DatabaseWantToWorkWith</th>\n",
       "      <th>PlatformHaveWorkedWith</th>\n",
       "      <th>PlatformWantToWorkWith</th>\n",
       "      <th>WebframeHaveWorkedWith</th>\n",
       "      <th>WebframeWantToWorkWith</th>\n",
       "      <th>MiscTechHaveWorkedWith</th>\n",
       "      <th>MiscTechWantToWorkWith</th>\n",
       "      <th>ToolsTechHaveWorkedWith</th>\n",
       "      <th>ToolsTechWantToWorkWith</th>\n",
       "      <th>NEWCollabToolsHaveWorkedWith</th>\n",
       "      <th>NEWCollabToolsWantToWorkWith</th>\n",
       "      <th>OpSys</th>\n",
       "      <th>NEWStuck</th>\n",
       "      <th>NEWSOSites</th>\n",
       "      <th>SOVisitFreq</th>\n",
       "      <th>SOAccount</th>\n",
       "      <th>SOPartFreq</th>\n",
       "      <th>SOComm</th>\n",
       "      <th>NEWOtherComms</th>\n",
       "      <th>Age</th>\n",
       "      <th>Gender</th>\n",
       "      <th>Trans</th>\n",
       "      <th>Sexuality</th>\n",
       "      <th>Ethnicity</th>\n",
       "      <th>Accessibility</th>\n",
       "      <th>MentalHealth</th>\n",
       "      <th>SurveyLength</th>\n",
       "      <th>SurveyEase</th>\n",
       "      <th>ConvertedCompYearly</th>\n",
       "    </tr>\n",
       "    <tr>\n",
       "      <th>ResponseId</th>\n",
       "      <th></th>\n",
       "      <th></th>\n",
       "      <th></th>\n",
       "      <th></th>\n",
       "      <th></th>\n",
       "      <th></th>\n",
       "      <th></th>\n",
       "      <th></th>\n",
       "      <th></th>\n",
       "      <th></th>\n",
       "      <th></th>\n",
       "      <th></th>\n",
       "      <th></th>\n",
       "      <th></th>\n",
       "      <th></th>\n",
       "      <th></th>\n",
       "      <th></th>\n",
       "      <th></th>\n",
       "      <th></th>\n",
       "      <th></th>\n",
       "      <th></th>\n",
       "      <th></th>\n",
       "      <th></th>\n",
       "      <th></th>\n",
       "      <th></th>\n",
       "      <th></th>\n",
       "      <th></th>\n",
       "      <th></th>\n",
       "      <th></th>\n",
       "      <th></th>\n",
       "      <th></th>\n",
       "      <th></th>\n",
       "      <th></th>\n",
       "      <th></th>\n",
       "      <th></th>\n",
       "      <th></th>\n",
       "      <th></th>\n",
       "      <th></th>\n",
       "      <th></th>\n",
       "      <th></th>\n",
       "      <th></th>\n",
       "      <th></th>\n",
       "      <th></th>\n",
       "      <th></th>\n",
       "      <th></th>\n",
       "      <th></th>\n",
       "      <th></th>\n",
       "    </tr>\n",
       "  </thead>\n",
       "  <tbody>\n",
       "    <tr>\n",
       "      <th>1</th>\n",
       "      <td>I am a developer by profession</td>\n",
       "      <td>Independent contractor, freelancer, or self-em...</td>\n",
       "      <td>Slovakia</td>\n",
       "      <td>NaN</td>\n",
       "      <td>NaN</td>\n",
       "      <td>Secondary school (e.g. American high school, G...</td>\n",
       "      <td>18 - 24 years</td>\n",
       "      <td>Coding Bootcamp;Other online resources (ex: vi...</td>\n",
       "      <td>NaN</td>\n",
       "      <td>NaN</td>\n",
       "      <td>Developer, mobile</td>\n",
       "      <td>20 to 99 employees</td>\n",
       "      <td>EUR European Euro</td>\n",
       "      <td>4800.0</td>\n",
       "      <td>Monthly</td>\n",
       "      <td>C++;HTML/CSS;JavaScript;Objective-C;PHP;Swift</td>\n",
       "      <td>Swift</td>\n",
       "      <td>PostgreSQL;SQLite</td>\n",
       "      <td>SQLite</td>\n",
       "      <td>NaN</td>\n",
       "      <td>NaN</td>\n",
       "      <td>Laravel;Symfony</td>\n",
       "      <td>NaN</td>\n",
       "      <td>NaN</td>\n",
       "      <td>NaN</td>\n",
       "      <td>NaN</td>\n",
       "      <td>NaN</td>\n",
       "      <td>PHPStorm;Xcode</td>\n",
       "      <td>Atom;Xcode</td>\n",
       "      <td>MacOS</td>\n",
       "      <td>Call a coworker or friend;Visit Stack Overflow...</td>\n",
       "      <td>Stack Overflow</td>\n",
       "      <td>Multiple times per day</td>\n",
       "      <td>Yes</td>\n",
       "      <td>A few times per month or weekly</td>\n",
       "      <td>Yes, definitely</td>\n",
       "      <td>No</td>\n",
       "      <td>25-34 years old</td>\n",
       "      <td>Man</td>\n",
       "      <td>No</td>\n",
       "      <td>Straight / Heterosexual</td>\n",
       "      <td>White or of European descent</td>\n",
       "      <td>None of the above</td>\n",
       "      <td>None of the above</td>\n",
       "      <td>Appropriate in length</td>\n",
       "      <td>Easy</td>\n",
       "      <td>62268.0</td>\n",
       "    </tr>\n",
       "    <tr>\n",
       "      <th>2</th>\n",
       "      <td>I am a student who is learning to code</td>\n",
       "      <td>Student, full-time</td>\n",
       "      <td>Netherlands</td>\n",
       "      <td>NaN</td>\n",
       "      <td>NaN</td>\n",
       "      <td>Bachelor’s degree (B.A., B.S., B.Eng., etc.)</td>\n",
       "      <td>11 - 17 years</td>\n",
       "      <td>Other online resources (ex: videos, blogs, etc...</td>\n",
       "      <td>7</td>\n",
       "      <td>NaN</td>\n",
       "      <td>NaN</td>\n",
       "      <td>NaN</td>\n",
       "      <td>NaN</td>\n",
       "      <td>NaN</td>\n",
       "      <td>NaN</td>\n",
       "      <td>JavaScript;Python</td>\n",
       "      <td>NaN</td>\n",
       "      <td>PostgreSQL</td>\n",
       "      <td>NaN</td>\n",
       "      <td>NaN</td>\n",
       "      <td>NaN</td>\n",
       "      <td>Angular;Flask;Vue.js</td>\n",
       "      <td>NaN</td>\n",
       "      <td>Cordova</td>\n",
       "      <td>NaN</td>\n",
       "      <td>Docker;Git;Yarn</td>\n",
       "      <td>Git</td>\n",
       "      <td>Android Studio;IntelliJ;Notepad++;PyCharm</td>\n",
       "      <td>NaN</td>\n",
       "      <td>Windows</td>\n",
       "      <td>Visit Stack Overflow;Google it</td>\n",
       "      <td>Stack Overflow</td>\n",
       "      <td>Daily or almost daily</td>\n",
       "      <td>Yes</td>\n",
       "      <td>Daily or almost daily</td>\n",
       "      <td>Yes, definitely</td>\n",
       "      <td>No</td>\n",
       "      <td>18-24 years old</td>\n",
       "      <td>Man</td>\n",
       "      <td>No</td>\n",
       "      <td>Straight / Heterosexual</td>\n",
       "      <td>White or of European descent</td>\n",
       "      <td>None of the above</td>\n",
       "      <td>None of the above</td>\n",
       "      <td>Appropriate in length</td>\n",
       "      <td>Easy</td>\n",
       "      <td>NaN</td>\n",
       "    </tr>\n",
       "    <tr>\n",
       "      <th>3</th>\n",
       "      <td>I am not primarily a developer, but I write co...</td>\n",
       "      <td>Student, full-time</td>\n",
       "      <td>Russian Federation</td>\n",
       "      <td>NaN</td>\n",
       "      <td>NaN</td>\n",
       "      <td>Bachelor’s degree (B.A., B.S., B.Eng., etc.)</td>\n",
       "      <td>11 - 17 years</td>\n",
       "      <td>Other online resources (ex: videos, blogs, etc...</td>\n",
       "      <td>NaN</td>\n",
       "      <td>NaN</td>\n",
       "      <td>NaN</td>\n",
       "      <td>NaN</td>\n",
       "      <td>NaN</td>\n",
       "      <td>NaN</td>\n",
       "      <td>NaN</td>\n",
       "      <td>Assembly;C;Python;R;Rust</td>\n",
       "      <td>Julia;Python;Rust</td>\n",
       "      <td>SQLite</td>\n",
       "      <td>SQLite</td>\n",
       "      <td>Heroku</td>\n",
       "      <td>NaN</td>\n",
       "      <td>Flask</td>\n",
       "      <td>Flask</td>\n",
       "      <td>NumPy;Pandas;TensorFlow;Torch/PyTorch</td>\n",
       "      <td>Keras;NumPy;Pandas;TensorFlow;Torch/PyTorch</td>\n",
       "      <td>NaN</td>\n",
       "      <td>NaN</td>\n",
       "      <td>IPython/Jupyter;PyCharm;RStudio;Sublime Text;V...</td>\n",
       "      <td>IPython/Jupyter;RStudio;Sublime Text;Visual St...</td>\n",
       "      <td>MacOS</td>\n",
       "      <td>Visit Stack Overflow;Google it;Watch help / tu...</td>\n",
       "      <td>Stack Overflow;Stack Exchange</td>\n",
       "      <td>Multiple times per day</td>\n",
       "      <td>Yes</td>\n",
       "      <td>Multiple times per day</td>\n",
       "      <td>Yes, definitely</td>\n",
       "      <td>Yes</td>\n",
       "      <td>18-24 years old</td>\n",
       "      <td>Man</td>\n",
       "      <td>No</td>\n",
       "      <td>Prefer not to say</td>\n",
       "      <td>Prefer not to say</td>\n",
       "      <td>None of the above</td>\n",
       "      <td>None of the above</td>\n",
       "      <td>Appropriate in length</td>\n",
       "      <td>Easy</td>\n",
       "      <td>NaN</td>\n",
       "    </tr>\n",
       "    <tr>\n",
       "      <th>4</th>\n",
       "      <td>I am a developer by profession</td>\n",
       "      <td>Employed full-time</td>\n",
       "      <td>Austria</td>\n",
       "      <td>NaN</td>\n",
       "      <td>NaN</td>\n",
       "      <td>Master’s degree (M.A., M.S., M.Eng., MBA, etc.)</td>\n",
       "      <td>11 - 17 years</td>\n",
       "      <td>NaN</td>\n",
       "      <td>NaN</td>\n",
       "      <td>NaN</td>\n",
       "      <td>Developer, front-end</td>\n",
       "      <td>100 to 499 employees</td>\n",
       "      <td>EUR European Euro</td>\n",
       "      <td>NaN</td>\n",
       "      <td>Monthly</td>\n",
       "      <td>JavaScript;TypeScript</td>\n",
       "      <td>JavaScript;TypeScript</td>\n",
       "      <td>NaN</td>\n",
       "      <td>NaN</td>\n",
       "      <td>NaN</td>\n",
       "      <td>NaN</td>\n",
       "      <td>Angular;jQuery</td>\n",
       "      <td>Angular;jQuery</td>\n",
       "      <td>NaN</td>\n",
       "      <td>NaN</td>\n",
       "      <td>NaN</td>\n",
       "      <td>NaN</td>\n",
       "      <td>NaN</td>\n",
       "      <td>NaN</td>\n",
       "      <td>Windows</td>\n",
       "      <td>Call a coworker or friend;Visit Stack Overflow...</td>\n",
       "      <td>Stack Overflow</td>\n",
       "      <td>Daily or almost daily</td>\n",
       "      <td>Yes</td>\n",
       "      <td>Daily or almost daily</td>\n",
       "      <td>Neutral</td>\n",
       "      <td>No</td>\n",
       "      <td>35-44 years old</td>\n",
       "      <td>Man</td>\n",
       "      <td>No</td>\n",
       "      <td>Straight / Heterosexual</td>\n",
       "      <td>White or of European descent</td>\n",
       "      <td>I am deaf / hard of hearing</td>\n",
       "      <td>NaN</td>\n",
       "      <td>Appropriate in length</td>\n",
       "      <td>Neither easy nor difficult</td>\n",
       "      <td>NaN</td>\n",
       "    </tr>\n",
       "    <tr>\n",
       "      <th>5</th>\n",
       "      <td>I am a developer by profession</td>\n",
       "      <td>Independent contractor, freelancer, or self-em...</td>\n",
       "      <td>United Kingdom of Great Britain and Northern I...</td>\n",
       "      <td>NaN</td>\n",
       "      <td>England</td>\n",
       "      <td>Master’s degree (M.A., M.S., M.Eng., MBA, etc.)</td>\n",
       "      <td>5 - 10 years</td>\n",
       "      <td>Friend or family member</td>\n",
       "      <td>17</td>\n",
       "      <td>10</td>\n",
       "      <td>Developer, desktop or enterprise applications;...</td>\n",
       "      <td>Just me - I am a freelancer, sole proprietor, ...</td>\n",
       "      <td>GBP\\tPound sterling</td>\n",
       "      <td>NaN</td>\n",
       "      <td>NaN</td>\n",
       "      <td>Bash/Shell;HTML/CSS;Python;SQL</td>\n",
       "      <td>Bash/Shell;HTML/CSS;Python;SQL</td>\n",
       "      <td>Elasticsearch;PostgreSQL;Redis</td>\n",
       "      <td>Cassandra;Elasticsearch;PostgreSQL;Redis</td>\n",
       "      <td>NaN</td>\n",
       "      <td>NaN</td>\n",
       "      <td>Flask</td>\n",
       "      <td>Flask</td>\n",
       "      <td>Apache Spark;Hadoop;NumPy;Pandas</td>\n",
       "      <td>Hadoop;NumPy;Pandas</td>\n",
       "      <td>Docker;Git;Kubernetes;Yarn</td>\n",
       "      <td>Docker;Git;Kubernetes;Yarn</td>\n",
       "      <td>Atom;IPython/Jupyter;Notepad++;PyCharm;Vim</td>\n",
       "      <td>Atom;IPython/Jupyter;Notepad++;PyCharm;Vim;Vis...</td>\n",
       "      <td>Linux-based</td>\n",
       "      <td>Visit Stack Overflow;Go for a walk or other ph...</td>\n",
       "      <td>Stack Overflow;Stack Exchange</td>\n",
       "      <td>Daily or almost daily</td>\n",
       "      <td>Yes</td>\n",
       "      <td>A few times per week</td>\n",
       "      <td>Yes, somewhat</td>\n",
       "      <td>No</td>\n",
       "      <td>25-34 years old</td>\n",
       "      <td>Man</td>\n",
       "      <td>No</td>\n",
       "      <td>NaN</td>\n",
       "      <td>White or of European descent</td>\n",
       "      <td>None of the above</td>\n",
       "      <td>NaN</td>\n",
       "      <td>Appropriate in length</td>\n",
       "      <td>Easy</td>\n",
       "      <td>NaN</td>\n",
       "    </tr>\n",
       "  </tbody>\n",
       "</table>\n",
       "</div>"
      ],
      "text/plain": [
       "                                                   MainBranch  \\\n",
       "ResponseId                                                      \n",
       "1                              I am a developer by profession   \n",
       "2                      I am a student who is learning to code   \n",
       "3           I am not primarily a developer, but I write co...   \n",
       "4                              I am a developer by profession   \n",
       "5                              I am a developer by profession   \n",
       "\n",
       "                                                   Employment  \\\n",
       "ResponseId                                                      \n",
       "1           Independent contractor, freelancer, or self-em...   \n",
       "2                                          Student, full-time   \n",
       "3                                          Student, full-time   \n",
       "4                                          Employed full-time   \n",
       "5           Independent contractor, freelancer, or self-em...   \n",
       "\n",
       "                                                      Country US_State  \\\n",
       "ResponseId                                                               \n",
       "1                                                    Slovakia      NaN   \n",
       "2                                                 Netherlands      NaN   \n",
       "3                                          Russian Federation      NaN   \n",
       "4                                                     Austria      NaN   \n",
       "5           United Kingdom of Great Britain and Northern I...      NaN   \n",
       "\n",
       "           UK_Country                                            EdLevel  \\\n",
       "ResponseId                                                                 \n",
       "1                 NaN  Secondary school (e.g. American high school, G...   \n",
       "2                 NaN       Bachelor’s degree (B.A., B.S., B.Eng., etc.)   \n",
       "3                 NaN       Bachelor’s degree (B.A., B.S., B.Eng., etc.)   \n",
       "4                 NaN    Master’s degree (M.A., M.S., M.Eng., MBA, etc.)   \n",
       "5             England    Master’s degree (M.A., M.S., M.Eng., MBA, etc.)   \n",
       "\n",
       "               Age1stCode                                          LearnCode  \\\n",
       "ResponseId                                                                     \n",
       "1           18 - 24 years  Coding Bootcamp;Other online resources (ex: vi...   \n",
       "2           11 - 17 years  Other online resources (ex: videos, blogs, etc...   \n",
       "3           11 - 17 years  Other online resources (ex: videos, blogs, etc...   \n",
       "4           11 - 17 years                                                NaN   \n",
       "5            5 - 10 years                            Friend or family member   \n",
       "\n",
       "           YearsCode YearsCodePro  \\\n",
       "ResponseId                          \n",
       "1                NaN          NaN   \n",
       "2                  7          NaN   \n",
       "3                NaN          NaN   \n",
       "4                NaN          NaN   \n",
       "5                 17           10   \n",
       "\n",
       "                                                      DevType  \\\n",
       "ResponseId                                                      \n",
       "1                                           Developer, mobile   \n",
       "2                                                         NaN   \n",
       "3                                                         NaN   \n",
       "4                                        Developer, front-end   \n",
       "5           Developer, desktop or enterprise applications;...   \n",
       "\n",
       "                                                      OrgSize  \\\n",
       "ResponseId                                                      \n",
       "1                                          20 to 99 employees   \n",
       "2                                                         NaN   \n",
       "3                                                         NaN   \n",
       "4                                        100 to 499 employees   \n",
       "5           Just me - I am a freelancer, sole proprietor, ...   \n",
       "\n",
       "                       Currency  CompTotal CompFreq  \\\n",
       "ResponseId                                            \n",
       "1             EUR European Euro     4800.0  Monthly   \n",
       "2                           NaN        NaN      NaN   \n",
       "3                           NaN        NaN      NaN   \n",
       "4             EUR European Euro        NaN  Monthly   \n",
       "5           GBP\\tPound sterling        NaN      NaN   \n",
       "\n",
       "                                   LanguageHaveWorkedWith  \\\n",
       "ResponseId                                                  \n",
       "1           C++;HTML/CSS;JavaScript;Objective-C;PHP;Swift   \n",
       "2                                       JavaScript;Python   \n",
       "3                                Assembly;C;Python;R;Rust   \n",
       "4                                   JavaScript;TypeScript   \n",
       "5                          Bash/Shell;HTML/CSS;Python;SQL   \n",
       "\n",
       "                    LanguageWantToWorkWith          DatabaseHaveWorkedWith  \\\n",
       "ResponseId                                                                   \n",
       "1                                    Swift               PostgreSQL;SQLite   \n",
       "2                                      NaN                      PostgreSQL   \n",
       "3                        Julia;Python;Rust                          SQLite   \n",
       "4                    JavaScript;TypeScript                             NaN   \n",
       "5           Bash/Shell;HTML/CSS;Python;SQL  Elasticsearch;PostgreSQL;Redis   \n",
       "\n",
       "                              DatabaseWantToWorkWith PlatformHaveWorkedWith  \\\n",
       "ResponseId                                                                    \n",
       "1                                             SQLite                    NaN   \n",
       "2                                                NaN                    NaN   \n",
       "3                                             SQLite                 Heroku   \n",
       "4                                                NaN                    NaN   \n",
       "5           Cassandra;Elasticsearch;PostgreSQL;Redis                    NaN   \n",
       "\n",
       "           PlatformWantToWorkWith WebframeHaveWorkedWith  \\\n",
       "ResponseId                                                 \n",
       "1                             NaN        Laravel;Symfony   \n",
       "2                             NaN   Angular;Flask;Vue.js   \n",
       "3                             NaN                  Flask   \n",
       "4                             NaN         Angular;jQuery   \n",
       "5                             NaN                  Flask   \n",
       "\n",
       "           WebframeWantToWorkWith                 MiscTechHaveWorkedWith  \\\n",
       "ResponseId                                                                 \n",
       "1                             NaN                                    NaN   \n",
       "2                             NaN                                Cordova   \n",
       "3                           Flask  NumPy;Pandas;TensorFlow;Torch/PyTorch   \n",
       "4                  Angular;jQuery                                    NaN   \n",
       "5                           Flask       Apache Spark;Hadoop;NumPy;Pandas   \n",
       "\n",
       "                                 MiscTechWantToWorkWith  \\\n",
       "ResponseId                                                \n",
       "1                                                   NaN   \n",
       "2                                                   NaN   \n",
       "3           Keras;NumPy;Pandas;TensorFlow;Torch/PyTorch   \n",
       "4                                                   NaN   \n",
       "5                                   Hadoop;NumPy;Pandas   \n",
       "\n",
       "               ToolsTechHaveWorkedWith     ToolsTechWantToWorkWith  \\\n",
       "ResponseId                                                           \n",
       "1                                  NaN                         NaN   \n",
       "2                      Docker;Git;Yarn                         Git   \n",
       "3                                  NaN                         NaN   \n",
       "4                                  NaN                         NaN   \n",
       "5           Docker;Git;Kubernetes;Yarn  Docker;Git;Kubernetes;Yarn   \n",
       "\n",
       "                                 NEWCollabToolsHaveWorkedWith  \\\n",
       "ResponseId                                                      \n",
       "1                                              PHPStorm;Xcode   \n",
       "2                   Android Studio;IntelliJ;Notepad++;PyCharm   \n",
       "3           IPython/Jupyter;PyCharm;RStudio;Sublime Text;V...   \n",
       "4                                                         NaN   \n",
       "5                  Atom;IPython/Jupyter;Notepad++;PyCharm;Vim   \n",
       "\n",
       "                                 NEWCollabToolsWantToWorkWith        OpSys  \\\n",
       "ResponseId                                                                   \n",
       "1                                                  Atom;Xcode        MacOS   \n",
       "2                                                         NaN      Windows   \n",
       "3           IPython/Jupyter;RStudio;Sublime Text;Visual St...        MacOS   \n",
       "4                                                         NaN      Windows   \n",
       "5           Atom;IPython/Jupyter;Notepad++;PyCharm;Vim;Vis...  Linux-based   \n",
       "\n",
       "                                                     NEWStuck  \\\n",
       "ResponseId                                                      \n",
       "1           Call a coworker or friend;Visit Stack Overflow...   \n",
       "2                              Visit Stack Overflow;Google it   \n",
       "3           Visit Stack Overflow;Google it;Watch help / tu...   \n",
       "4           Call a coworker or friend;Visit Stack Overflow...   \n",
       "5           Visit Stack Overflow;Go for a walk or other ph...   \n",
       "\n",
       "                               NEWSOSites             SOVisitFreq SOAccount  \\\n",
       "ResponseId                                                                    \n",
       "1                          Stack Overflow  Multiple times per day       Yes   \n",
       "2                          Stack Overflow   Daily or almost daily       Yes   \n",
       "3           Stack Overflow;Stack Exchange  Multiple times per day       Yes   \n",
       "4                          Stack Overflow   Daily or almost daily       Yes   \n",
       "5           Stack Overflow;Stack Exchange   Daily or almost daily       Yes   \n",
       "\n",
       "                                 SOPartFreq           SOComm NEWOtherComms  \\\n",
       "ResponseId                                                                   \n",
       "1           A few times per month or weekly  Yes, definitely            No   \n",
       "2                     Daily or almost daily  Yes, definitely            No   \n",
       "3                    Multiple times per day  Yes, definitely           Yes   \n",
       "4                     Daily or almost daily          Neutral            No   \n",
       "5                      A few times per week    Yes, somewhat            No   \n",
       "\n",
       "                        Age Gender Trans                Sexuality  \\\n",
       "ResponseId                                                          \n",
       "1           25-34 years old    Man    No  Straight / Heterosexual   \n",
       "2           18-24 years old    Man    No  Straight / Heterosexual   \n",
       "3           18-24 years old    Man    No        Prefer not to say   \n",
       "4           35-44 years old    Man    No  Straight / Heterosexual   \n",
       "5           25-34 years old    Man    No                      NaN   \n",
       "\n",
       "                               Ethnicity                Accessibility  \\\n",
       "ResponseId                                                              \n",
       "1           White or of European descent            None of the above   \n",
       "2           White or of European descent            None of the above   \n",
       "3                      Prefer not to say            None of the above   \n",
       "4           White or of European descent  I am deaf / hard of hearing   \n",
       "5           White or of European descent            None of the above   \n",
       "\n",
       "                 MentalHealth           SurveyLength  \\\n",
       "ResponseId                                             \n",
       "1           None of the above  Appropriate in length   \n",
       "2           None of the above  Appropriate in length   \n",
       "3           None of the above  Appropriate in length   \n",
       "4                         NaN  Appropriate in length   \n",
       "5                         NaN  Appropriate in length   \n",
       "\n",
       "                            SurveyEase  ConvertedCompYearly  \n",
       "ResponseId                                                   \n",
       "1                                 Easy              62268.0  \n",
       "2                                 Easy                  NaN  \n",
       "3                                 Easy                  NaN  \n",
       "4           Neither easy nor difficult                  NaN  \n",
       "5                                 Easy                  NaN  "
      ]
     },
     "execution_count": 29,
     "metadata": {},
     "output_type": "execute_result"
    }
   ],
   "source": [
    "df.head()"
   ]
  },
  {
   "cell_type": "code",
   "execution_count": 30,
   "metadata": {},
   "outputs": [],
   "source": [
    "# Renamed `ConvertedCompYearly` column\n",
    "df.rename(columns={\"ConvertedCompYearly\" : \"SalaryUSD\"}, inplace=True)"
   ]
  },
  {
   "cell_type": "code",
   "execution_count": 31,
   "metadata": {},
   "outputs": [
    {
     "data": {
      "text/plain": [
       "Index(['MainBranch', 'Employment', 'Country', 'US_State', 'UK_Country',\n",
       "       'EdLevel', 'Age1stCode', 'LearnCode', 'YearsCode', 'YearsCodePro',\n",
       "       'DevType', 'OrgSize', 'Currency', 'CompTotal', 'CompFreq',\n",
       "       'LanguageHaveWorkedWith', 'LanguageWantToWorkWith',\n",
       "       'DatabaseHaveWorkedWith', 'DatabaseWantToWorkWith',\n",
       "       'PlatformHaveWorkedWith', 'PlatformWantToWorkWith',\n",
       "       'WebframeHaveWorkedWith', 'WebframeWantToWorkWith',\n",
       "       'MiscTechHaveWorkedWith', 'MiscTechWantToWorkWith',\n",
       "       'ToolsTechHaveWorkedWith', 'ToolsTechWantToWorkWith',\n",
       "       'NEWCollabToolsHaveWorkedWith', 'NEWCollabToolsWantToWorkWith', 'OpSys',\n",
       "       'NEWStuck', 'NEWSOSites', 'SOVisitFreq', 'SOAccount', 'SOPartFreq',\n",
       "       'SOComm', 'NEWOtherComms', 'Age', 'Gender', 'Trans', 'Sexuality',\n",
       "       'Ethnicity', 'Accessibility', 'MentalHealth', 'SurveyLength',\n",
       "       'SurveyEase', 'SalaryUSD'],\n",
       "      dtype='object')"
      ]
     },
     "execution_count": 31,
     "metadata": {},
     "output_type": "execute_result"
    }
   ],
   "source": [
    "df.columns"
   ]
  },
  {
   "cell_type": "code",
   "execution_count": 32,
   "metadata": {},
   "outputs": [
    {
     "data": {
      "text/plain": [
       "ResponseId\n",
       "1        18 - 24 years\n",
       "2        11 - 17 years\n",
       "3        11 - 17 years\n",
       "4        11 - 17 years\n",
       "5         5 - 10 years\n",
       "             ...      \n",
       "83435    11 - 17 years\n",
       "83436    11 - 17 years\n",
       "83437    11 - 17 years\n",
       "83438    11 - 17 years\n",
       "83439    11 - 17 years\n",
       "Name: Age1stCode, Length: 83439, dtype: object"
      ]
     },
     "execution_count": 32,
     "metadata": {},
     "output_type": "execute_result"
    }
   ],
   "source": [
    "df[\"Age1stCode\"]"
   ]
  },
  {
   "cell_type": "code",
   "execution_count": 33,
   "metadata": {},
   "outputs": [
    {
     "data": {
      "text/plain": [
       "array(['18 - 24 years', '11 - 17 years', '5 - 10 years', '25 - 34 years',\n",
       "       '35 - 44 years', 'Younger than 5 years', '45 - 54 years',\n",
       "       '55 - 64 years', nan, 'Older than 64 years'], dtype=object)"
      ]
     },
     "execution_count": 33,
     "metadata": {},
     "output_type": "execute_result"
    }
   ],
   "source": [
    "df[\"Age1stCode\"].unique()"
   ]
  },
  {
   "cell_type": "code",
   "execution_count": 34,
   "metadata": {},
   "outputs": [],
   "source": [
    "#  Replace 11-17 years of age, with \"Schooling years\"\n",
    "df[\"Age1stCode\"].replace({\"11 - 17 years\" : \"Schooling years\"}, inplace=True)"
   ]
  },
  {
   "cell_type": "code",
   "execution_count": 35,
   "metadata": {},
   "outputs": [
    {
     "data": {
      "text/plain": [
       "ResponseId\n",
       "1          18 - 24 years\n",
       "2        Schooling years\n",
       "3        Schooling years\n",
       "4        Schooling years\n",
       "5           5 - 10 years\n",
       "              ...       \n",
       "83435    Schooling years\n",
       "83436    Schooling years\n",
       "83437    Schooling years\n",
       "83438    Schooling years\n",
       "83439    Schooling years\n",
       "Name: Age1stCode, Length: 83439, dtype: object"
      ]
     },
     "execution_count": 35,
     "metadata": {},
     "output_type": "execute_result"
    }
   ],
   "source": [
    "df[\"Age1stCode\"]"
   ]
  },
  {
   "cell_type": "code",
   "execution_count": 36,
   "metadata": {},
   "outputs": [
    {
     "data": {
      "text/plain": [
       "Index(['MainBranch', 'Employment', 'Country', 'US_State', 'UK_Country',\n",
       "       'EdLevel', 'Age1stCode', 'LearnCode', 'YearsCode', 'YearsCodePro',\n",
       "       'DevType', 'OrgSize', 'Currency', 'CompTotal', 'CompFreq',\n",
       "       'LanguageHaveWorkedWith', 'LanguageWantToWorkWith',\n",
       "       'DatabaseHaveWorkedWith', 'DatabaseWantToWorkWith',\n",
       "       'PlatformHaveWorkedWith', 'PlatformWantToWorkWith',\n",
       "       'WebframeHaveWorkedWith', 'WebframeWantToWorkWith',\n",
       "       'MiscTechHaveWorkedWith', 'MiscTechWantToWorkWith',\n",
       "       'ToolsTechHaveWorkedWith', 'ToolsTechWantToWorkWith',\n",
       "       'NEWCollabToolsHaveWorkedWith', 'NEWCollabToolsWantToWorkWith', 'OpSys',\n",
       "       'NEWStuck', 'NEWSOSites', 'SOVisitFreq', 'SOAccount', 'SOPartFreq',\n",
       "       'SOComm', 'NEWOtherComms', 'Age', 'Gender', 'Trans', 'Sexuality',\n",
       "       'Ethnicity', 'Accessibility', 'MentalHealth', 'SurveyLength',\n",
       "       'SurveyEase', 'SalaryUSD'],\n",
       "      dtype='object')"
      ]
     },
     "execution_count": 36,
     "metadata": {},
     "output_type": "execute_result"
    }
   ],
   "source": [
    "df.columns"
   ]
  },
  {
   "cell_type": "code",
   "execution_count": 37,
   "metadata": {},
   "outputs": [
    {
     "data": {
      "text/plain": [
       "array(['No', 'Prefer not to say', 'Yes', nan, 'Or, in your own words:'],\n",
       "      dtype=object)"
      ]
     },
     "execution_count": 37,
     "metadata": {},
     "output_type": "execute_result"
    }
   ],
   "source": [
    "df.Trans.unique()"
   ]
  },
  {
   "cell_type": "code",
   "execution_count": 38,
   "metadata": {},
   "outputs": [],
   "source": [
    "# Changing Trans Values\n",
    "# - No, Prefer not to say -> False\n",
    "# - Yes -> True\n",
    "# Or in your words: -> Nan (default)\n",
    "df[\"Trans\"] = df[\"Trans\"].map({\"No\" : False, \"Prefer not to say\" : False, \"Yes\" : True})"
   ]
  },
  {
   "cell_type": "code",
   "execution_count": 39,
   "metadata": {},
   "outputs": [
    {
     "data": {
      "text/plain": [
       "False    79039\n",
       "NaN       3365\n",
       "True      1035\n",
       "Name: Trans, dtype: int64"
      ]
     },
     "execution_count": 39,
     "metadata": {},
     "output_type": "execute_result"
    }
   ],
   "source": [
    "df[\"Trans\"].value_counts(dropna=False)"
   ]
  }
 ],
 "metadata": {
  "interpreter": {
   "hash": "4657f9dafa0268bde40f77ba1943201e8a0116dbe4b987a73849be111d7b6849"
  },
  "kernelspec": {
   "display_name": "Python 3.10.2 ('venv': venv)",
   "language": "python",
   "name": "python3"
  },
  "language_info": {
   "codemirror_mode": {
    "name": "ipython",
    "version": 3
   },
   "file_extension": ".py",
   "mimetype": "text/x-python",
   "name": "python",
   "nbconvert_exporter": "python",
   "pygments_lexer": "ipython3",
   "version": "3.10.2"
  },
  "orig_nbformat": 4
 },
 "nbformat": 4,
 "nbformat_minor": 2
}

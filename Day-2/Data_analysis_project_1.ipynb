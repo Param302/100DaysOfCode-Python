{
 "cells": [
  {
   "cell_type": "markdown",
   "metadata": {},
   "source": [
    "# FreeCodeCamp Data Analysis with Python Course\n",
    "### Project 1: [Mean-Variance-Standard Deviation Calculator](https://www.freecodecamp.org/learn/data-analysis-with-python/data-analysis-with-python-projects/mean-variance-standard-deviation-calculator)"
   ]
  },
  {
   "cell_type": "code",
   "execution_count": 1,
   "metadata": {},
   "outputs": [],
   "source": [
    "import numpy as np"
   ]
  },
  {
   "cell_type": "code",
   "execution_count": 2,
   "metadata": {},
   "outputs": [],
   "source": [
    "\"\"\"Answer format:\n",
    "{\n",
    "  'mean': [axis1, axis2, flattened],\n",
    "  'variance': [axis1, axis2, flattened],\n",
    "  'standard deviation': [axis1, axis2, flattened],\n",
    "  'max': [axis1, axis2, flattened],\n",
    "  'min': [axis1, axis2, flattened],\n",
    "  'sum': [axis1, axis2, flattened]\n",
    "}\"\"\"\n",
    "def calculate(arr):\n",
    "    \"\"\"Convert array into 3x3 matrix.\n",
    "    Calculate mean, variance, standard deviation, max, min, sum \n",
    "    based on whole matrix, axis=0 (rows) & axis=1 (columns)\n",
    "    \"\"\"\n",
    "    # reshaping arr into matrix\n",
    "    if len(arr) != 9:\n",
    "        raise ValueError(\"List must contain nine numbers.\")\n",
    "        \n",
    "    matrix = np.array(arr).reshape(3, 3)\n",
    "    # mean\n",
    "    mean = np.mean(matrix)\n",
    "    mean_0 = list(np.mean(matrix, axis=0))\n",
    "    mean_1 = list(np.mean(matrix, axis=1))\n",
    "    # variance\n",
    "    variance = np.var(matrix)\n",
    "    variance_0 = list(np.var(matrix, axis=0))\n",
    "    variance_1 = list(np.var(matrix, axis=1))\n",
    "    # standard deviation\n",
    "    std = np.std(matrix)\n",
    "    std_0 = list(np.std(matrix, axis=0))\n",
    "    std_1 = list(np.std(matrix, axis=1))\n",
    "    # max\n",
    "    arr_max = matrix.max()\n",
    "    max_0 = list(matrix.max(axis=0))\n",
    "    max_1 = list(matrix.max(axis=1))\n",
    "    # min\n",
    "    arr_min = matrix.min()\n",
    "    min_0 = list(matrix.min(axis=0))\n",
    "    min_1 = list(matrix.min(axis=1))\n",
    "    # sum\n",
    "    arr_sum = matrix.sum()\n",
    "    sum_0 = list(matrix.sum(axis=0))\n",
    "    sum_1 = list(matrix.sum(axis=1))\n",
    "\n",
    "    calculations = {\n",
    "        \"mean\" : [mean_0, mean_1, mean],\n",
    "        \"variance\" : [variance_0, variance_1, variance],\n",
    "        \"standard deviation\" : [std_0, std_1, std],\n",
    "        \"max\" : [max_0, max_1, arr_max],\n",
    "        \"min\" : [min_0, min_1, arr_min],\n",
    "        \"sum\" : [sum_0, sum_1, arr_sum]\n",
    "    }\n",
    "    \n",
    "    return calculations"
   ]
  },
  {
   "cell_type": "code",
   "execution_count": 3,
   "metadata": {},
   "outputs": [
    {
     "data": {
      "text/plain": [
       "{'mean': [[3.0, 4.0, 5.0], [1.0, 4.0, 7.0], 4.0],\n",
       " 'variance': [[6.0, 6.0, 6.0],\n",
       "  [0.6666666666666666, 0.6666666666666666, 0.6666666666666666],\n",
       "  6.666666666666667],\n",
       " 'standard deviation': [[2.449489742783178,\n",
       "   2.449489742783178,\n",
       "   2.449489742783178],\n",
       "  [0.816496580927726, 0.816496580927726, 0.816496580927726],\n",
       "  2.581988897471611],\n",
       " 'max': [[6, 7, 8], [2, 5, 8], 8],\n",
       " 'min': [[0, 1, 2], [0, 3, 6], 0],\n",
       " 'sum': [[9, 12, 15], [3, 12, 21], 36]}"
      ]
     },
     "execution_count": 3,
     "metadata": {},
     "output_type": "execute_result"
    }
   ],
   "source": [
    "\"\"\"Answer:\n",
    "{\n",
    "  'mean': [[3.0, 4.0, 5.0], [1.0, 4.0, 7.0], 4.0],\n",
    "  'variance': [[6.0, 6.0, 6.0], [0.6666666666666666, 0.6666666666666666, 0.6666666666666666], 6.666666666666667],\n",
    "  'standard deviation': [[2.449489742783178, 2.449489742783178, 2.449489742783178], [0.816496580927726, 0.816496580927726, 0.816496580927726], 2.581988897471611],\n",
    "  'max': [[6, 7, 8], [2, 5, 8], 8],\n",
    "  'min': [[0, 1, 2], [0, 3, 6], 0],\n",
    "  'sum': [[9, 12, 15], [3, 12, 21], 36]\n",
    "}\"\"\"\n",
    "calculate([0,1,2,3,4,5,6,7,8])"
   ]
  }
 ],
 "metadata": {
  "interpreter": {
   "hash": "d88aeb6bf73c3e2735560d04f72b234e9e70c0b4c2e9aa8924f896649b343841"
  },
  "kernelspec": {
   "display_name": "Python 3.10.2 64-bit",
   "language": "python",
   "name": "python3"
  },
  "language_info": {
   "codemirror_mode": {
    "name": "ipython",
    "version": 3
   },
   "file_extension": ".py",
   "mimetype": "text/x-python",
   "name": "python",
   "nbconvert_exporter": "python",
   "pygments_lexer": "ipython3",
   "version": "3.10.2"
  },
  "orig_nbformat": 4
 },
 "nbformat": 4,
 "nbformat_minor": 2
}

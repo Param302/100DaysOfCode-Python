{
 "cells": [
  {
   "cell_type": "markdown",
   "id": "5da801b2",
   "metadata": {
    "papermill": {
     "duration": 0.015256,
     "end_time": "2022-06-23T18:41:27.686871",
     "exception": false,
     "start_time": "2022-06-23T18:41:27.671615",
     "status": "completed"
    },
    "tags": []
   },
   "source": [
    "# Kaggle's [Intermediate Machine Learning](https://www.kaggle.com/learn/intermediate-machine-learning) course\n",
    "\n",
    "- Lesson 3: [Categorical Variables](https://www.kaggle.com/code/alexisbcook/categorical-variables) - \n",
    "[My Notebook](https://www.kaggle.com/code/param302/exercise-categorical-variables)\n",
    "---\n"
   ]
  },
  {
   "cell_type": "markdown",
   "id": "629711e0",
   "metadata": {},
   "source": [
    "In this tutorial, you will learn what a **categorical variable** is, along with three approaches for handling this type of data.\n",
    "\n",
    "\n",
    "# Introduction\n",
    "\n",
    "A **categorical variable** takes only a limited number of values.  \n",
    "\n",
    "- Consider a survey that asks how often you eat breakfast and provides four options: \"Never\", \"Rarely\", \"Most days\", or \"Every day\".  In this case, the data is categorical, because responses fall into a fixed set of categories.\n",
    "- If people responded to a survey about which what brand of car they owned, the responses would fall into categories like \"Honda\", \"Toyota\", and \"Ford\".  In this case, the data is also categorical.\n",
    "\n",
    "You will get an error if you try to plug these variables into most machine learning models in Python without preprocessing them first.  In this tutorial, we'll compare three approaches that you can use to prepare your categorical data.\n",
    "\n",
    "# Three Approaches\n",
    "\n",
    "### 1) Drop Categorical Variables\n",
    "\n",
    "The easiest approach to dealing with categorical variables is to simply remove them from the dataset.  This approach will only work well if the columns did not contain useful information.\n",
    "\n",
    "### 2) Ordinal Encoding\n",
    "\n",
    "**Ordinal encoding** assigns each unique value to a different integer.\n",
    "\n",
    "![tut3_ordinalencode](https://i.imgur.com/tEogUAr.png)\n",
    "\n",
    "This approach assumes an ordering of the categories: \"Never\" (0) < \"Rarely\" (1) < \"Most days\" (2) < \"Every day\" (3).\n",
    "\n",
    "This assumption makes sense in this example, because there is an indisputable ranking to the categories.  Not all categorical variables have a clear ordering in the values, but we refer to those that do as **ordinal variables**.  For tree-based models (like decision trees and random forests), you can expect ordinal encoding to work well with ordinal variables. \n",
    "\n",
    "### 3) One-Hot Encoding\n",
    "\n",
    "**One-hot encoding** creates new columns indicating the presence (or absence) of each possible value in the original data.  To understand this, we'll work through an example.\n",
    "\n",
    "![tut3_onehot](https://i.imgur.com/TW5m0aJ.png)\n",
    "\n",
    "In the original dataset, \"Color\" is a categorical variable with three categories: \"Red\", \"Yellow\", and \"Green\".  The corresponding one-hot encoding contains one column for each possible value, and one row for each row in the original dataset.  Wherever the original value was \"Red\", we put a 1 in the \"Red\" column; if the original value was \"Yellow\", we put a 1 in the \"Yellow\" column, and so on.  \n",
    "\n",
    "In contrast to ordinal encoding, one-hot encoding *does not* assume an ordering of the categories.  Thus, you can expect this approach to work particularly well if there is no clear ordering in the categorical data (e.g., \"Red\" is neither _more_ nor _less_ than \"Yellow\").  We refer to categorical variables without an intrinsic ranking as **nominal variables**.\n",
    "\n",
    "One-hot encoding generally does not perform well if the categorical variable takes on a large number of values (i.e., you generally won't use it for variables taking more than 15 different values). \n",
    "\n",
    "# Example\n",
    "\n",
    "As in the previous tutorial, we will work with the [Melbourne Housing dataset](https://www.kaggle.com/dansbecker/melbourne-housing-snapshot/home).  \n",
    "\n",
    "We won't focus on the data loading step. Instead, you can imagine you are at a point where you already have the training and validation data in `X_train`, `X_valid`, `y_train`, and `y_valid`. "
   ]
  },
  {
   "cell_type": "markdown",
   "id": "b676a2e4",
   "metadata": {
    "papermill": {
     "duration": 0.012781,
     "end_time": "2022-06-23T18:41:27.712951",
     "exception": false,
     "start_time": "2022-06-23T18:41:27.700170",
     "status": "completed"
    },
    "tags": []
   },
   "source": [
    "By encoding **categorical variables**, you'll obtain your best results thus far!\n",
    "\n",
    "# Setup\n",
    "\n",
    "The questions below will give you feedback on your work. Run the following cell to set up the feedback system."
   ]
  },
  {
   "cell_type": "code",
   "execution_count": 1,
   "id": "cf1228d9",
   "metadata": {
    "execution": {
     "iopub.execute_input": "2022-06-23T18:41:27.742480Z",
     "iopub.status.busy": "2022-06-23T18:41:27.741857Z",
     "iopub.status.idle": "2022-06-23T18:41:27.804366Z",
     "shell.execute_reply": "2022-06-23T18:41:27.803209Z"
    },
    "papermill": {
     "duration": 0.080916,
     "end_time": "2022-06-23T18:41:27.807199",
     "exception": false,
     "start_time": "2022-06-23T18:41:27.726283",
     "status": "completed"
    },
    "tags": []
   },
   "outputs": [
    {
     "name": "stdout",
     "output_type": "stream",
     "text": [
      "Setup Complete\n"
     ]
    }
   ],
   "source": [
    "# Set up code checking\n",
    "import os\n",
    "if not os.path.exists(\"../input/train.csv\"):\n",
    "    os.symlink(\"../input/home-data-for-ml-course/train.csv\", \"../input/train.csv\")  \n",
    "    os.symlink(\"../input/home-data-for-ml-course/test.csv\", \"../input/test.csv\") \n",
    "from learntools.core import binder\n",
    "binder.bind(globals())\n",
    "from learntools.ml_intermediate.ex3 import *\n",
    "print(\"Setup Complete\")"
   ]
  },
  {
   "cell_type": "markdown",
   "id": "4df13289",
   "metadata": {
    "papermill": {
     "duration": 0.013876,
     "end_time": "2022-06-23T18:41:27.834411",
     "exception": false,
     "start_time": "2022-06-23T18:41:27.820535",
     "status": "completed"
    },
    "tags": []
   },
   "source": [
    "In this exercise, you will work with data from the [Housing Prices Competition for Kaggle Learn Users](https://www.kaggle.com/c/home-data-for-ml-course). \n",
    "\n",
    "![Ames Housing dataset image](https://i.imgur.com/lTJVG4e.png)\n",
    "\n",
    "Run the next code cell without changes to load the training and validation sets in `X_train`, `X_valid`, `y_train`, and `y_valid`.  The test set is loaded in `X_test`."
   ]
  },
  {
   "cell_type": "code",
   "execution_count": 2,
   "id": "99664825",
   "metadata": {
    "execution": {
     "iopub.execute_input": "2022-06-23T18:41:27.863027Z",
     "iopub.status.busy": "2022-06-23T18:41:27.862323Z",
     "iopub.status.idle": "2022-06-23T18:41:29.196602Z",
     "shell.execute_reply": "2022-06-23T18:41:29.195407Z"
    },
    "papermill": {
     "duration": 1.351809,
     "end_time": "2022-06-23T18:41:29.199430",
     "exception": false,
     "start_time": "2022-06-23T18:41:27.847621",
     "status": "completed"
    },
    "tags": []
   },
   "outputs": [],
   "source": [
    "import pandas as pd\n",
    "from sklearn.model_selection import train_test_split\n",
    "\n",
    "# Read the data\n",
    "X = pd.read_csv('../input/train.csv', index_col='Id') \n",
    "X_test = pd.read_csv('../input/test.csv', index_col='Id')\n",
    "\n",
    "# Remove rows with missing target, separate target from predictors\n",
    "X.dropna(axis=0, subset=['SalePrice'], inplace=True)\n",
    "y = X.SalePrice\n",
    "X.drop(['SalePrice'], axis=1, inplace=True)\n",
    "\n",
    "# To keep things simple, we'll drop columns with missing values\n",
    "cols_with_missing = [col for col in X.columns if X[col].isnull().any()] \n",
    "X.drop(cols_with_missing, axis=1, inplace=True)\n",
    "X_test.drop(cols_with_missing, axis=1, inplace=True)\n",
    "\n",
    "# Break off validation set from training data\n",
    "X_train, X_valid, y_train, y_valid = train_test_split(X, y,\n",
    "                                                      train_size=0.8, test_size=0.2,\n",
    "                                                      random_state=0)"
   ]
  },
  {
   "cell_type": "markdown",
   "id": "d7d28aa2",
   "metadata": {
    "papermill": {
     "duration": 0.013547,
     "end_time": "2022-06-23T18:41:29.227812",
     "exception": false,
     "start_time": "2022-06-23T18:41:29.214265",
     "status": "completed"
    },
    "tags": []
   },
   "source": [
    "Use the next code cell to print the first five rows of the data."
   ]
  },
  {
   "cell_type": "code",
   "execution_count": 3,
   "id": "a2fda02b",
   "metadata": {
    "execution": {
     "iopub.execute_input": "2022-06-23T18:41:29.256367Z",
     "iopub.status.busy": "2022-06-23T18:41:29.255943Z",
     "iopub.status.idle": "2022-06-23T18:41:29.286077Z",
     "shell.execute_reply": "2022-06-23T18:41:29.285232Z"
    },
    "papermill": {
     "duration": 0.047036,
     "end_time": "2022-06-23T18:41:29.288327",
     "exception": false,
     "start_time": "2022-06-23T18:41:29.241291",
     "status": "completed"
    },
    "tags": []
   },
   "outputs": [
    {
     "data": {
      "text/html": [
       "<div>\n",
       "<style scoped>\n",
       "    .dataframe tbody tr th:only-of-type {\n",
       "        vertical-align: middle;\n",
       "    }\n",
       "\n",
       "    .dataframe tbody tr th {\n",
       "        vertical-align: top;\n",
       "    }\n",
       "\n",
       "    .dataframe thead th {\n",
       "        text-align: right;\n",
       "    }\n",
       "</style>\n",
       "<table border=\"1\" class=\"dataframe\">\n",
       "  <thead>\n",
       "    <tr style=\"text-align: right;\">\n",
       "      <th></th>\n",
       "      <th>MSSubClass</th>\n",
       "      <th>MSZoning</th>\n",
       "      <th>LotArea</th>\n",
       "      <th>Street</th>\n",
       "      <th>LotShape</th>\n",
       "      <th>LandContour</th>\n",
       "      <th>Utilities</th>\n",
       "      <th>LotConfig</th>\n",
       "      <th>LandSlope</th>\n",
       "      <th>Neighborhood</th>\n",
       "      <th>...</th>\n",
       "      <th>OpenPorchSF</th>\n",
       "      <th>EnclosedPorch</th>\n",
       "      <th>3SsnPorch</th>\n",
       "      <th>ScreenPorch</th>\n",
       "      <th>PoolArea</th>\n",
       "      <th>MiscVal</th>\n",
       "      <th>MoSold</th>\n",
       "      <th>YrSold</th>\n",
       "      <th>SaleType</th>\n",
       "      <th>SaleCondition</th>\n",
       "    </tr>\n",
       "    <tr>\n",
       "      <th>Id</th>\n",
       "      <th></th>\n",
       "      <th></th>\n",
       "      <th></th>\n",
       "      <th></th>\n",
       "      <th></th>\n",
       "      <th></th>\n",
       "      <th></th>\n",
       "      <th></th>\n",
       "      <th></th>\n",
       "      <th></th>\n",
       "      <th></th>\n",
       "      <th></th>\n",
       "      <th></th>\n",
       "      <th></th>\n",
       "      <th></th>\n",
       "      <th></th>\n",
       "      <th></th>\n",
       "      <th></th>\n",
       "      <th></th>\n",
       "      <th></th>\n",
       "      <th></th>\n",
       "    </tr>\n",
       "  </thead>\n",
       "  <tbody>\n",
       "    <tr>\n",
       "      <th>619</th>\n",
       "      <td>20</td>\n",
       "      <td>RL</td>\n",
       "      <td>11694</td>\n",
       "      <td>Pave</td>\n",
       "      <td>Reg</td>\n",
       "      <td>Lvl</td>\n",
       "      <td>AllPub</td>\n",
       "      <td>Inside</td>\n",
       "      <td>Gtl</td>\n",
       "      <td>NridgHt</td>\n",
       "      <td>...</td>\n",
       "      <td>108</td>\n",
       "      <td>0</td>\n",
       "      <td>0</td>\n",
       "      <td>260</td>\n",
       "      <td>0</td>\n",
       "      <td>0</td>\n",
       "      <td>7</td>\n",
       "      <td>2007</td>\n",
       "      <td>New</td>\n",
       "      <td>Partial</td>\n",
       "    </tr>\n",
       "    <tr>\n",
       "      <th>871</th>\n",
       "      <td>20</td>\n",
       "      <td>RL</td>\n",
       "      <td>6600</td>\n",
       "      <td>Pave</td>\n",
       "      <td>Reg</td>\n",
       "      <td>Lvl</td>\n",
       "      <td>AllPub</td>\n",
       "      <td>Inside</td>\n",
       "      <td>Gtl</td>\n",
       "      <td>NAmes</td>\n",
       "      <td>...</td>\n",
       "      <td>0</td>\n",
       "      <td>0</td>\n",
       "      <td>0</td>\n",
       "      <td>0</td>\n",
       "      <td>0</td>\n",
       "      <td>0</td>\n",
       "      <td>8</td>\n",
       "      <td>2009</td>\n",
       "      <td>WD</td>\n",
       "      <td>Normal</td>\n",
       "    </tr>\n",
       "    <tr>\n",
       "      <th>93</th>\n",
       "      <td>30</td>\n",
       "      <td>RL</td>\n",
       "      <td>13360</td>\n",
       "      <td>Pave</td>\n",
       "      <td>IR1</td>\n",
       "      <td>HLS</td>\n",
       "      <td>AllPub</td>\n",
       "      <td>Inside</td>\n",
       "      <td>Gtl</td>\n",
       "      <td>Crawfor</td>\n",
       "      <td>...</td>\n",
       "      <td>0</td>\n",
       "      <td>44</td>\n",
       "      <td>0</td>\n",
       "      <td>0</td>\n",
       "      <td>0</td>\n",
       "      <td>0</td>\n",
       "      <td>8</td>\n",
       "      <td>2009</td>\n",
       "      <td>WD</td>\n",
       "      <td>Normal</td>\n",
       "    </tr>\n",
       "    <tr>\n",
       "      <th>818</th>\n",
       "      <td>20</td>\n",
       "      <td>RL</td>\n",
       "      <td>13265</td>\n",
       "      <td>Pave</td>\n",
       "      <td>IR1</td>\n",
       "      <td>Lvl</td>\n",
       "      <td>AllPub</td>\n",
       "      <td>CulDSac</td>\n",
       "      <td>Gtl</td>\n",
       "      <td>Mitchel</td>\n",
       "      <td>...</td>\n",
       "      <td>59</td>\n",
       "      <td>0</td>\n",
       "      <td>0</td>\n",
       "      <td>0</td>\n",
       "      <td>0</td>\n",
       "      <td>0</td>\n",
       "      <td>7</td>\n",
       "      <td>2008</td>\n",
       "      <td>WD</td>\n",
       "      <td>Normal</td>\n",
       "    </tr>\n",
       "    <tr>\n",
       "      <th>303</th>\n",
       "      <td>20</td>\n",
       "      <td>RL</td>\n",
       "      <td>13704</td>\n",
       "      <td>Pave</td>\n",
       "      <td>IR1</td>\n",
       "      <td>Lvl</td>\n",
       "      <td>AllPub</td>\n",
       "      <td>Corner</td>\n",
       "      <td>Gtl</td>\n",
       "      <td>CollgCr</td>\n",
       "      <td>...</td>\n",
       "      <td>81</td>\n",
       "      <td>0</td>\n",
       "      <td>0</td>\n",
       "      <td>0</td>\n",
       "      <td>0</td>\n",
       "      <td>0</td>\n",
       "      <td>1</td>\n",
       "      <td>2006</td>\n",
       "      <td>WD</td>\n",
       "      <td>Normal</td>\n",
       "    </tr>\n",
       "  </tbody>\n",
       "</table>\n",
       "<p>5 rows × 60 columns</p>\n",
       "</div>"
      ],
      "text/plain": [
       "     MSSubClass MSZoning  LotArea Street LotShape LandContour Utilities  \\\n",
       "Id                                                                        \n",
       "619          20       RL    11694   Pave      Reg         Lvl    AllPub   \n",
       "871          20       RL     6600   Pave      Reg         Lvl    AllPub   \n",
       "93           30       RL    13360   Pave      IR1         HLS    AllPub   \n",
       "818          20       RL    13265   Pave      IR1         Lvl    AllPub   \n",
       "303          20       RL    13704   Pave      IR1         Lvl    AllPub   \n",
       "\n",
       "    LotConfig LandSlope Neighborhood  ... OpenPorchSF EnclosedPorch 3SsnPorch  \\\n",
       "Id                                    ...                                       \n",
       "619    Inside       Gtl      NridgHt  ...         108             0         0   \n",
       "871    Inside       Gtl        NAmes  ...           0             0         0   \n",
       "93     Inside       Gtl      Crawfor  ...           0            44         0   \n",
       "818   CulDSac       Gtl      Mitchel  ...          59             0         0   \n",
       "303    Corner       Gtl      CollgCr  ...          81             0         0   \n",
       "\n",
       "    ScreenPorch  PoolArea  MiscVal  MoSold  YrSold SaleType SaleCondition  \n",
       "Id                                                                         \n",
       "619         260         0        0       7    2007      New       Partial  \n",
       "871           0         0        0       8    2009       WD        Normal  \n",
       "93            0         0        0       8    2009       WD        Normal  \n",
       "818           0         0        0       7    2008       WD        Normal  \n",
       "303           0         0        0       1    2006       WD        Normal  \n",
       "\n",
       "[5 rows x 60 columns]"
      ]
     },
     "execution_count": 3,
     "metadata": {},
     "output_type": "execute_result"
    }
   ],
   "source": [
    "X_train.head()"
   ]
  },
  {
   "cell_type": "markdown",
   "id": "fe60df30",
   "metadata": {
    "papermill": {
     "duration": 0.013391,
     "end_time": "2022-06-23T18:41:29.315618",
     "exception": false,
     "start_time": "2022-06-23T18:41:29.302227",
     "status": "completed"
    },
    "tags": []
   },
   "source": [
    "Notice that the dataset contains both numerical and categorical variables.  You'll need to encode the categorical data before training a model.\n",
    "\n",
    "To compare different models, you'll use the same `score_dataset()` function from the tutorial.  This function reports the [mean absolute error](https://en.wikipedia.org/wiki/Mean_absolute_error) (MAE) from a random forest model."
   ]
  },
  {
   "cell_type": "code",
   "execution_count": 4,
   "id": "3b8818a4",
   "metadata": {
    "execution": {
     "iopub.execute_input": "2022-06-23T18:41:29.344968Z",
     "iopub.status.busy": "2022-06-23T18:41:29.344274Z",
     "iopub.status.idle": "2022-06-23T18:41:29.595549Z",
     "shell.execute_reply": "2022-06-23T18:41:29.594246Z"
    },
    "papermill": {
     "duration": 0.269062,
     "end_time": "2022-06-23T18:41:29.598338",
     "exception": false,
     "start_time": "2022-06-23T18:41:29.329276",
     "status": "completed"
    },
    "tags": []
   },
   "outputs": [],
   "source": [
    "from sklearn.ensemble import RandomForestRegressor\n",
    "from sklearn.metrics import mean_absolute_error\n",
    "\n",
    "# function for comparing different approaches\n",
    "def score_dataset(X_train, X_valid, y_train, y_valid):\n",
    "    model = RandomForestRegressor(n_estimators=100, random_state=0)\n",
    "    model.fit(X_train, y_train)\n",
    "    preds = model.predict(X_valid)\n",
    "    return mean_absolute_error(y_valid, preds)"
   ]
  },
  {
   "cell_type": "markdown",
   "id": "5480cc74",
   "metadata": {
    "papermill": {
     "duration": 0.013653,
     "end_time": "2022-06-23T18:41:29.625624",
     "exception": false,
     "start_time": "2022-06-23T18:41:29.611971",
     "status": "completed"
    },
    "tags": []
   },
   "source": [
    "# Step 1: Drop columns with categorical data\n",
    "\n",
    "You'll get started with the most straightforward approach.  Use the code cell below to preprocess the data in `X_train` and `X_valid` to remove columns with categorical data.  Set the preprocessed DataFrames to `drop_X_train` and `drop_X_valid`, respectively.  "
   ]
  },
  {
   "cell_type": "code",
   "execution_count": 5,
   "id": "af8ea5a2",
   "metadata": {
    "execution": {
     "iopub.execute_input": "2022-06-23T18:41:29.655706Z",
     "iopub.status.busy": "2022-06-23T18:41:29.655276Z",
     "iopub.status.idle": "2022-06-23T18:41:29.669787Z",
     "shell.execute_reply": "2022-06-23T18:41:29.668540Z"
    },
    "papermill": {
     "duration": 0.0318,
     "end_time": "2022-06-23T18:41:29.671991",
     "exception": false,
     "start_time": "2022-06-23T18:41:29.640191",
     "status": "completed"
    },
    "tags": []
   },
   "outputs": [
    {
     "data": {
      "application/javascript": "parent.postMessage({\"jupyterEvent\": \"custom.exercise_interaction\", \"data\": {\"outcomeType\": 1, \"valueTowardsCompletion\": 0.5, \"interactionType\": 1, \"questionType\": 2, \"questionId\": \"1_Drop\", \"learnToolsVersion\": \"0.3.4\", \"failureMessage\": \"\", \"exceptionClass\": \"\", \"trace\": \"\"}}, \"*\")",
      "text/plain": [
       "<IPython.core.display.Javascript object>"
      ]
     },
     "metadata": {},
     "output_type": "display_data"
    },
    {
     "data": {
      "text/markdown": [
       "<span style=\"color:#33cc33\">Correct</span>"
      ],
      "text/plain": [
       "Correct"
      ]
     },
     "metadata": {},
     "output_type": "display_data"
    }
   ],
   "source": [
    "# Fill in the lines below: drop columns in training and validation data\n",
    "drop_X_train = X_train.select_dtypes(exclude=\"object\")\n",
    "drop_X_valid = X_valid.select_dtypes(exclude=\"object\")\n",
    "\n",
    "# Check your answers\n",
    "step_1.check()"
   ]
  },
  {
   "cell_type": "code",
   "execution_count": 6,
   "id": "dacbef33",
   "metadata": {
    "execution": {
     "iopub.execute_input": "2022-06-23T18:41:29.702031Z",
     "iopub.status.busy": "2022-06-23T18:41:29.701618Z",
     "iopub.status.idle": "2022-06-23T18:41:29.705823Z",
     "shell.execute_reply": "2022-06-23T18:41:29.704799Z"
    },
    "papermill": {
     "duration": 0.021552,
     "end_time": "2022-06-23T18:41:29.708052",
     "exception": false,
     "start_time": "2022-06-23T18:41:29.686500",
     "status": "completed"
    },
    "tags": []
   },
   "outputs": [],
   "source": [
    "# Lines below will give you a hint or solution code\n",
    "#step_1.hint()\n",
    "#step_1.solution()"
   ]
  },
  {
   "cell_type": "markdown",
   "id": "a8b85b57",
   "metadata": {
    "papermill": {
     "duration": 0.014042,
     "end_time": "2022-06-23T18:41:29.736592",
     "exception": false,
     "start_time": "2022-06-23T18:41:29.722550",
     "status": "completed"
    },
    "tags": []
   },
   "source": [
    "Run the next code cell to get the MAE for this approach."
   ]
  },
  {
   "cell_type": "code",
   "execution_count": 7,
   "id": "bc6cf1f8",
   "metadata": {
    "execution": {
     "iopub.execute_input": "2022-06-23T18:41:29.767013Z",
     "iopub.status.busy": "2022-06-23T18:41:29.765794Z",
     "iopub.status.idle": "2022-06-23T18:41:30.902579Z",
     "shell.execute_reply": "2022-06-23T18:41:30.901094Z"
    },
    "papermill": {
     "duration": 1.154386,
     "end_time": "2022-06-23T18:41:30.904943",
     "exception": false,
     "start_time": "2022-06-23T18:41:29.750557",
     "status": "completed"
    },
    "tags": []
   },
   "outputs": [
    {
     "name": "stdout",
     "output_type": "stream",
     "text": [
      "MAE from Approach 1 (Drop categorical variables):\n",
      "17837.82570776256\n"
     ]
    }
   ],
   "source": [
    "print(\"MAE from Approach 1 (Drop categorical variables):\")\n",
    "print(score_dataset(drop_X_train, drop_X_valid, y_train, y_valid))"
   ]
  },
  {
   "cell_type": "markdown",
   "id": "e84a1588",
   "metadata": {
    "papermill": {
     "duration": 0.013853,
     "end_time": "2022-06-23T18:41:30.932820",
     "exception": false,
     "start_time": "2022-06-23T18:41:30.918967",
     "status": "completed"
    },
    "tags": []
   },
   "source": [
    "Before jumping into ordinal encoding, we'll investigate the dataset.  Specifically, we'll look at the `'Condition2'` column.  The code cell below prints the unique entries in both the training and validation sets."
   ]
  },
  {
   "cell_type": "code",
   "execution_count": 8,
   "id": "77c3c8f3",
   "metadata": {
    "execution": {
     "iopub.execute_input": "2022-06-23T18:41:30.962948Z",
     "iopub.status.busy": "2022-06-23T18:41:30.962546Z",
     "iopub.status.idle": "2022-06-23T18:41:30.970081Z",
     "shell.execute_reply": "2022-06-23T18:41:30.969107Z"
    },
    "papermill": {
     "duration": 0.025456,
     "end_time": "2022-06-23T18:41:30.972404",
     "exception": false,
     "start_time": "2022-06-23T18:41:30.946948",
     "status": "completed"
    },
    "tags": []
   },
   "outputs": [
    {
     "name": "stdout",
     "output_type": "stream",
     "text": [
      "Unique values in 'Condition2' column in training data: ['Norm' 'PosA' 'Feedr' 'PosN' 'Artery' 'RRAe']\n",
      "\n",
      "Unique values in 'Condition2' column in validation data: ['Norm' 'RRAn' 'RRNn' 'Artery' 'Feedr' 'PosN']\n"
     ]
    }
   ],
   "source": [
    "print(\"Unique values in 'Condition2' column in training data:\", X_train['Condition2'].unique())\n",
    "print(\"\\nUnique values in 'Condition2' column in validation data:\", X_valid['Condition2'].unique())"
   ]
  },
  {
   "cell_type": "markdown",
   "id": "5206aa32",
   "metadata": {
    "papermill": {
     "duration": 0.014109,
     "end_time": "2022-06-23T18:41:31.000719",
     "exception": false,
     "start_time": "2022-06-23T18:41:30.986610",
     "status": "completed"
    },
    "tags": []
   },
   "source": [
    "# Step 2: Ordinal encoding\n",
    "\n",
    "### Part A\n",
    "\n",
    "If you now write code to: \n",
    "- fit an ordinal encoder to the training data, and then \n",
    "- use it to transform both the training and validation data, \n",
    "\n",
    "you'll get an error.  Can you see why this is the case?  (_You'll need  to use the above output to answer this question._)"
   ]
  },
  {
   "cell_type": "code",
   "execution_count": 9,
   "id": "4bbba373",
   "metadata": {
    "execution": {
     "iopub.execute_input": "2022-06-23T18:41:31.031598Z",
     "iopub.status.busy": "2022-06-23T18:41:31.031176Z",
     "iopub.status.idle": "2022-06-23T18:41:31.040112Z",
     "shell.execute_reply": "2022-06-23T18:41:31.038989Z"
    },
    "papermill": {
     "duration": 0.027467,
     "end_time": "2022-06-23T18:41:31.042344",
     "exception": false,
     "start_time": "2022-06-23T18:41:31.014877",
     "status": "completed"
    },
    "tags": []
   },
   "outputs": [
    {
     "data": {
      "application/javascript": "parent.postMessage({\"jupyterEvent\": \"custom.exercise_interaction\", \"data\": {\"outcomeType\": 1, \"valueTowardsCompletion\": 0.5, \"interactionType\": 1, \"questionType\": 4, \"questionId\": \"2.1_LabelA\", \"learnToolsVersion\": \"0.3.4\", \"failureMessage\": \"\", \"exceptionClass\": \"\", \"trace\": \"\"}}, \"*\")",
      "text/plain": [
       "<IPython.core.display.Javascript object>"
      ]
     },
     "metadata": {},
     "output_type": "display_data"
    },
    {
     "data": {
      "text/markdown": [
       "<span style=\"color:#33cc33\">Correct:</span> \n",
       "\n",
       "Fitting an ordinal encoder to a column in the training data creates a corresponding integer-valued label for each unique value **that appears in the training data**. In the case that the validation data contains values that don't also appear in the training data, the encoder will throw an error, because these values won't have an integer assigned to them.  Notice that the `'Condition2'` column in the validation data contains the values `'RRAn'` and `'RRNn'`, but these don't appear in the training data -- thus, if we try to use an ordinal encoder with scikit-learn, the code will throw an error."
      ],
      "text/plain": [
       "Correct: \n",
       "\n",
       "Fitting an ordinal encoder to a column in the training data creates a corresponding integer-valued label for each unique value **that appears in the training data**. In the case that the validation data contains values that don't also appear in the training data, the encoder will throw an error, because these values won't have an integer assigned to them.  Notice that the `'Condition2'` column in the validation data contains the values `'RRAn'` and `'RRNn'`, but these don't appear in the training data -- thus, if we try to use an ordinal encoder with scikit-learn, the code will throw an error."
      ]
     },
     "metadata": {},
     "output_type": "display_data"
    }
   ],
   "source": [
    "# Check your answer (Run this code cell to receive credit!)\n",
    "step_2.a.check()    # We will get an ERROR because validation data contains 2 unique values which are not in training data"
   ]
  },
  {
   "cell_type": "code",
   "execution_count": 10,
   "id": "0946511d",
   "metadata": {
    "execution": {
     "iopub.execute_input": "2022-06-23T18:41:31.072840Z",
     "iopub.status.busy": "2022-06-23T18:41:31.072462Z",
     "iopub.status.idle": "2022-06-23T18:41:31.077551Z",
     "shell.execute_reply": "2022-06-23T18:41:31.076310Z"
    },
    "papermill": {
     "duration": 0.022843,
     "end_time": "2022-06-23T18:41:31.079702",
     "exception": false,
     "start_time": "2022-06-23T18:41:31.056859",
     "status": "completed"
    },
    "tags": []
   },
   "outputs": [],
   "source": [
    "#step_2.a.hint()"
   ]
  },
  {
   "cell_type": "markdown",
   "id": "1ce3df2a",
   "metadata": {
    "papermill": {
     "duration": 0.014198,
     "end_time": "2022-06-23T18:41:31.108325",
     "exception": false,
     "start_time": "2022-06-23T18:41:31.094127",
     "status": "completed"
    },
    "tags": []
   },
   "source": [
    "This is a common problem that you'll encounter with real-world data, and there are many approaches to fixing this issue.  For instance, you can write a custom ordinal encoder to deal with new categories.  The simplest approach, however, is to drop the problematic categorical columns.  \n",
    "\n",
    "Run the code cell below to save the problematic columns to a Python list `bad_label_cols`.  Likewise, columns that can be safely ordinal encoded are stored in `good_label_cols`."
   ]
  },
  {
   "cell_type": "code",
   "execution_count": 11,
   "id": "8384987e",
   "metadata": {
    "execution": {
     "iopub.execute_input": "2022-06-23T18:41:31.139332Z",
     "iopub.status.busy": "2022-06-23T18:41:31.138879Z",
     "iopub.status.idle": "2022-06-23T18:41:31.158004Z",
     "shell.execute_reply": "2022-06-23T18:41:31.156133Z"
    },
    "papermill": {
     "duration": 0.037373,
     "end_time": "2022-06-23T18:41:31.160414",
     "exception": false,
     "start_time": "2022-06-23T18:41:31.123041",
     "status": "completed"
    },
    "tags": []
   },
   "outputs": [
    {
     "name": "stdout",
     "output_type": "stream",
     "text": [
      "Categorical columns that will be ordinal encoded: ['MSZoning', 'Street', 'LotShape', 'LandContour', 'Utilities', 'LotConfig', 'LandSlope', 'Neighborhood', 'Condition1', 'BldgType', 'HouseStyle', 'RoofStyle', 'Exterior1st', 'Exterior2nd', 'ExterQual', 'ExterCond', 'Foundation', 'Heating', 'HeatingQC', 'CentralAir', 'KitchenQual', 'PavedDrive', 'SaleType', 'SaleCondition']\n",
      "\n",
      "Categorical columns that will be dropped from the dataset: ['Condition2', 'Functional', 'RoofMatl']\n"
     ]
    }
   ],
   "source": [
    "# Categorical columns in the training data\n",
    "object_cols = [col for col in X_train.columns if X_train[col].dtype == \"object\"]\n",
    "\n",
    "# Columns that can be safely ordinal encoded\n",
    "good_label_cols = [col for col in object_cols if \n",
    "                   set(X_valid[col]).issubset(set(X_train[col]))]\n",
    "        \n",
    "# Problematic columns that will be dropped from the dataset\n",
    "bad_label_cols = list(set(object_cols)-set(good_label_cols))\n",
    "        \n",
    "print('Categorical columns that will be ordinal encoded:', good_label_cols)\n",
    "print('\\nCategorical columns that will be dropped from the dataset:', bad_label_cols)"
   ]
  },
  {
   "cell_type": "markdown",
   "id": "11a114e1",
   "metadata": {
    "papermill": {
     "duration": 0.014485,
     "end_time": "2022-06-23T18:41:31.189909",
     "exception": false,
     "start_time": "2022-06-23T18:41:31.175424",
     "status": "completed"
    },
    "tags": []
   },
   "source": [
    "### Part B\n",
    "\n",
    "Use the next code cell to ordinal encode the data in `X_train` and `X_valid`.  Set the preprocessed DataFrames to `label_X_train` and `label_X_valid`, respectively.  \n",
    "- We have provided code below to drop the categorical columns in `bad_label_cols` from the dataset. \n",
    "- You should ordinal encode the categorical columns in `good_label_cols`.  "
   ]
  },
  {
   "cell_type": "code",
   "execution_count": 12,
   "id": "eb923a22",
   "metadata": {
    "execution": {
     "iopub.execute_input": "2022-06-23T18:41:31.221221Z",
     "iopub.status.busy": "2022-06-23T18:41:31.219951Z",
     "iopub.status.idle": "2022-06-23T18:41:31.266186Z",
     "shell.execute_reply": "2022-06-23T18:41:31.265437Z"
    },
    "papermill": {
     "duration": 0.063877,
     "end_time": "2022-06-23T18:41:31.268229",
     "exception": false,
     "start_time": "2022-06-23T18:41:31.204352",
     "status": "completed"
    },
    "tags": []
   },
   "outputs": [
    {
     "data": {
      "application/javascript": "parent.postMessage({\"jupyterEvent\": \"custom.exercise_interaction\", \"data\": {\"outcomeType\": 1, \"valueTowardsCompletion\": 0.5, \"interactionType\": 1, \"questionType\": 2, \"questionId\": \"2.2_LabelB\", \"learnToolsVersion\": \"0.3.4\", \"failureMessage\": \"\", \"exceptionClass\": \"\", \"trace\": \"\"}}, \"*\")",
      "text/plain": [
       "<IPython.core.display.Javascript object>"
      ]
     },
     "metadata": {},
     "output_type": "display_data"
    },
    {
     "data": {
      "text/markdown": [
       "<span style=\"color:#33cc33\">Correct</span>"
      ],
      "text/plain": [
       "Correct"
      ]
     },
     "metadata": {},
     "output_type": "display_data"
    }
   ],
   "source": [
    "from sklearn.preprocessing import OrdinalEncoder\n",
    "\n",
    "# Drop categorical columns that will not be encoded\n",
    "label_X_train = X_train.drop(bad_label_cols, axis=1)\n",
    "label_X_valid = X_valid.drop(bad_label_cols, axis=1)\n",
    "\n",
    "# Apply ordinal encoder \n",
    "# Your code here\n",
    "ordinal_encoder = OrdinalEncoder()\n",
    "label_X_train[good_label_cols] = ordinal_encoder.fit_transform(label_X_train[good_label_cols])\n",
    "label_X_valid[good_label_cols] = ordinal_encoder.transform(label_X_valid[good_label_cols])\n",
    "    \n",
    "# Check your answer\n",
    "step_2.b.check()"
   ]
  },
  {
   "cell_type": "code",
   "execution_count": 13,
   "id": "da7fece5",
   "metadata": {
    "execution": {
     "iopub.execute_input": "2022-06-23T18:41:31.299923Z",
     "iopub.status.busy": "2022-06-23T18:41:31.299004Z",
     "iopub.status.idle": "2022-06-23T18:41:31.303417Z",
     "shell.execute_reply": "2022-06-23T18:41:31.302442Z"
    },
    "papermill": {
     "duration": 0.022449,
     "end_time": "2022-06-23T18:41:31.305639",
     "exception": false,
     "start_time": "2022-06-23T18:41:31.283190",
     "status": "completed"
    },
    "tags": []
   },
   "outputs": [],
   "source": [
    "# Lines below will give you a hint or solution code\n",
    "#step_2.b.hint()\n",
    "#step_2.b.solution()"
   ]
  },
  {
   "cell_type": "markdown",
   "id": "fa6ba301",
   "metadata": {
    "papermill": {
     "duration": 0.014611,
     "end_time": "2022-06-23T18:41:31.334835",
     "exception": false,
     "start_time": "2022-06-23T18:41:31.320224",
     "status": "completed"
    },
    "tags": []
   },
   "source": [
    "Run the next code cell to get the MAE for this approach."
   ]
  },
  {
   "cell_type": "code",
   "execution_count": 14,
   "id": "5394089b",
   "metadata": {
    "execution": {
     "iopub.execute_input": "2022-06-23T18:41:31.367031Z",
     "iopub.status.busy": "2022-06-23T18:41:31.366643Z",
     "iopub.status.idle": "2022-06-23T18:41:32.794969Z",
     "shell.execute_reply": "2022-06-23T18:41:32.793771Z"
    },
    "papermill": {
     "duration": 1.447464,
     "end_time": "2022-06-23T18:41:32.797565",
     "exception": false,
     "start_time": "2022-06-23T18:41:31.350101",
     "status": "completed"
    },
    "tags": []
   },
   "outputs": [
    {
     "name": "stdout",
     "output_type": "stream",
     "text": [
      "MAE from Approach 2 (Ordinal Encoding):\n",
      "17098.01649543379\n"
     ]
    }
   ],
   "source": [
    "print(\"MAE from Approach 2 (Ordinal Encoding):\") \n",
    "print(score_dataset(label_X_train, label_X_valid, y_train, y_valid))"
   ]
  },
  {
   "cell_type": "markdown",
   "id": "d3ace217",
   "metadata": {
    "papermill": {
     "duration": 0.015272,
     "end_time": "2022-06-23T18:41:32.827808",
     "exception": false,
     "start_time": "2022-06-23T18:41:32.812536",
     "status": "completed"
    },
    "tags": []
   },
   "source": [
    "So far, you've tried two different approaches to dealing with categorical variables.  And, you've seen that encoding categorical data yields better results than removing columns from the dataset.\n",
    "\n",
    "Soon, you'll try one-hot encoding.  Before then, there's one additional topic we need to cover.  Begin by running the next code cell without changes.  "
   ]
  },
  {
   "cell_type": "code",
   "execution_count": 15,
   "id": "17861164",
   "metadata": {
    "execution": {
     "iopub.execute_input": "2022-06-23T18:41:32.859716Z",
     "iopub.status.busy": "2022-06-23T18:41:32.858992Z",
     "iopub.status.idle": "2022-06-23T18:41:32.874529Z",
     "shell.execute_reply": "2022-06-23T18:41:32.873385Z"
    },
    "papermill": {
     "duration": 0.034282,
     "end_time": "2022-06-23T18:41:32.876905",
     "exception": false,
     "start_time": "2022-06-23T18:41:32.842623",
     "status": "completed"
    },
    "tags": []
   },
   "outputs": [
    {
     "data": {
      "text/plain": [
       "[('Street', 2),\n",
       " ('Utilities', 2),\n",
       " ('CentralAir', 2),\n",
       " ('LandSlope', 3),\n",
       " ('PavedDrive', 3),\n",
       " ('LotShape', 4),\n",
       " ('LandContour', 4),\n",
       " ('ExterQual', 4),\n",
       " ('KitchenQual', 4),\n",
       " ('MSZoning', 5),\n",
       " ('LotConfig', 5),\n",
       " ('BldgType', 5),\n",
       " ('ExterCond', 5),\n",
       " ('HeatingQC', 5),\n",
       " ('Condition2', 6),\n",
       " ('RoofStyle', 6),\n",
       " ('Foundation', 6),\n",
       " ('Heating', 6),\n",
       " ('Functional', 6),\n",
       " ('SaleCondition', 6),\n",
       " ('RoofMatl', 7),\n",
       " ('HouseStyle', 8),\n",
       " ('Condition1', 9),\n",
       " ('SaleType', 9),\n",
       " ('Exterior1st', 15),\n",
       " ('Exterior2nd', 16),\n",
       " ('Neighborhood', 25)]"
      ]
     },
     "execution_count": 15,
     "metadata": {},
     "output_type": "execute_result"
    }
   ],
   "source": [
    "# Get number of unique entries in each column with categorical data\n",
    "object_nunique = list(map(lambda col: X_train[col].nunique(), object_cols))\n",
    "d = dict(zip(object_cols, object_nunique))\n",
    "\n",
    "# Print number of unique entries by column, in ascending order\n",
    "sorted(d.items(), key=lambda x: x[1])"
   ]
  },
  {
   "cell_type": "markdown",
   "id": "e1e559f5",
   "metadata": {
    "papermill": {
     "duration": 0.01555,
     "end_time": "2022-06-23T18:41:32.907580",
     "exception": false,
     "start_time": "2022-06-23T18:41:32.892030",
     "status": "completed"
    },
    "tags": []
   },
   "source": [
    "# Step 3: Investigating cardinality\n",
    "\n",
    "### Part A\n",
    "\n",
    "The output above shows, for each column with categorical data, the number of unique values in the column.  For instance, the `'Street'` column in the training data has two unique values: `'Grvl'` and `'Pave'`, corresponding to a gravel road and a paved road, respectively.\n",
    "\n",
    "We refer to the number of unique entries of a categorical variable as the **cardinality** of that categorical variable.  For instance, the `'Street'` variable has cardinality 2.\n",
    "\n",
    "Use the output above to answer the questions below."
   ]
  },
  {
   "cell_type": "code",
   "execution_count": 16,
   "id": "56a66d08",
   "metadata": {
    "execution": {
     "iopub.execute_input": "2022-06-23T18:41:32.940352Z",
     "iopub.status.busy": "2022-06-23T18:41:32.939953Z",
     "iopub.status.idle": "2022-06-23T18:41:32.949670Z",
     "shell.execute_reply": "2022-06-23T18:41:32.948547Z"
    },
    "papermill": {
     "duration": 0.028497,
     "end_time": "2022-06-23T18:41:32.951817",
     "exception": false,
     "start_time": "2022-06-23T18:41:32.923320",
     "status": "completed"
    },
    "tags": []
   },
   "outputs": [
    {
     "data": {
      "application/javascript": "parent.postMessage({\"jupyterEvent\": \"custom.exercise_interaction\", \"data\": {\"outcomeType\": 1, \"valueTowardsCompletion\": 0.5, \"interactionType\": 1, \"questionType\": 1, \"questionId\": \"3.1_CardinalityA\", \"learnToolsVersion\": \"0.3.4\", \"failureMessage\": \"\", \"exceptionClass\": \"\", \"trace\": \"\"}}, \"*\")",
      "text/plain": [
       "<IPython.core.display.Javascript object>"
      ]
     },
     "metadata": {},
     "output_type": "display_data"
    },
    {
     "data": {
      "text/markdown": [
       "<span style=\"color:#33cc33\">Correct</span>"
      ],
      "text/plain": [
       "Correct"
      ]
     },
     "metadata": {},
     "output_type": "display_data"
    }
   ],
   "source": [
    "# Fill in the line below: How many categorical variables in the training data\n",
    "# have cardinality greater than 10?\n",
    "high_cardinality_numcols = len([i for i in d if d[i] > 10])\n",
    "\n",
    "# Fill in the line below: How many columns are needed to one-hot encode the \n",
    "# 'Neighborhood' variable in the training data?\n",
    "num_cols_neighborhood = d[\"Neighborhood\"]\n",
    "\n",
    "# Check your answers\n",
    "step_3.a.check()"
   ]
  },
  {
   "cell_type": "code",
   "execution_count": 17,
   "id": "77781f1c",
   "metadata": {
    "execution": {
     "iopub.execute_input": "2022-06-23T18:41:32.984278Z",
     "iopub.status.busy": "2022-06-23T18:41:32.983904Z",
     "iopub.status.idle": "2022-06-23T18:41:32.989885Z",
     "shell.execute_reply": "2022-06-23T18:41:32.988883Z"
    },
    "papermill": {
     "duration": 0.025188,
     "end_time": "2022-06-23T18:41:32.992429",
     "exception": false,
     "start_time": "2022-06-23T18:41:32.967241",
     "status": "completed"
    },
    "tags": []
   },
   "outputs": [],
   "source": [
    "# Lines below will give you a hint or solution code\n",
    "#step_3.a.hint()\n",
    "#step_3.a.solution()"
   ]
  },
  {
   "cell_type": "markdown",
   "id": "d120eeea",
   "metadata": {
    "papermill": {
     "duration": 0.015005,
     "end_time": "2022-06-23T18:41:33.022840",
     "exception": false,
     "start_time": "2022-06-23T18:41:33.007835",
     "status": "completed"
    },
    "tags": []
   },
   "source": [
    "### Part B\n",
    "\n",
    "For large datasets with many rows, one-hot encoding can greatly expand the size of the dataset.  For this reason, we typically will only one-hot encode columns with relatively low cardinality.  Then, high cardinality columns can either be dropped from the dataset, or we can use ordinal encoding.\n",
    "\n",
    "As an example, consider a dataset with 10,000 rows, and containing one categorical column with 100 unique entries.  \n",
    "- If this column is replaced with the corresponding one-hot encoding, how many entries are added to the dataset?  \n",
    "- If we instead replace the column with the ordinal encoding, how many entries are added?  \n",
    "\n",
    "Use your answers to fill in the lines below."
   ]
  },
  {
   "cell_type": "code",
   "execution_count": 18,
   "id": "ba73ed64",
   "metadata": {
    "execution": {
     "iopub.execute_input": "2022-06-23T18:41:33.057184Z",
     "iopub.status.busy": "2022-06-23T18:41:33.056783Z",
     "iopub.status.idle": "2022-06-23T18:41:33.066126Z",
     "shell.execute_reply": "2022-06-23T18:41:33.065040Z"
    },
    "papermill": {
     "duration": 0.028681,
     "end_time": "2022-06-23T18:41:33.068287",
     "exception": false,
     "start_time": "2022-06-23T18:41:33.039606",
     "status": "completed"
    },
    "tags": []
   },
   "outputs": [
    {
     "data": {
      "application/javascript": "parent.postMessage({\"jupyterEvent\": \"custom.exercise_interaction\", \"data\": {\"outcomeType\": 1, \"valueTowardsCompletion\": 0.5, \"interactionType\": 1, \"questionType\": 1, \"questionId\": \"3.2_CardinalityB\", \"learnToolsVersion\": \"0.3.4\", \"failureMessage\": \"\", \"exceptionClass\": \"\", \"trace\": \"\"}}, \"*\")",
      "text/plain": [
       "<IPython.core.display.Javascript object>"
      ]
     },
     "metadata": {},
     "output_type": "display_data"
    },
    {
     "data": {
      "text/markdown": [
       "<span style=\"color:#33cc33\">Correct</span>"
      ],
      "text/plain": [
       "Correct"
      ]
     },
     "metadata": {},
     "output_type": "display_data"
    }
   ],
   "source": [
    "# Fill in the line below: How many entries are added to the dataset by \n",
    "# replacing the column with a one-hot encoding?\n",
    "OH_entries_added = (10_000 * 100) - 10_000\n",
    "\n",
    "# Fill in the line below: How many entries are added to the dataset by\n",
    "# replacing the column with an ordinal encoding?\n",
    "label_entries_added = 0\n",
    "\n",
    "# Check your answers\n",
    "step_3.b.check()"
   ]
  },
  {
   "cell_type": "code",
   "execution_count": 19,
   "id": "0dbc00bd",
   "metadata": {
    "execution": {
     "iopub.execute_input": "2022-06-23T18:41:33.102432Z",
     "iopub.status.busy": "2022-06-23T18:41:33.102043Z",
     "iopub.status.idle": "2022-06-23T18:41:33.109923Z",
     "shell.execute_reply": "2022-06-23T18:41:33.108995Z"
    },
    "papermill": {
     "duration": 0.027677,
     "end_time": "2022-06-23T18:41:33.112002",
     "exception": false,
     "start_time": "2022-06-23T18:41:33.084325",
     "status": "completed"
    },
    "tags": []
   },
   "outputs": [
    {
     "data": {
      "application/javascript": "parent.postMessage({\"jupyterEvent\": \"custom.exercise_interaction\", \"data\": {\"interactionType\": 2, \"questionType\": 1, \"questionId\": \"3.2_CardinalityB\", \"learnToolsVersion\": \"0.3.4\", \"valueTowardsCompletion\": 0.0, \"failureMessage\": \"\", \"exceptionClass\": \"\", \"trace\": \"\", \"outcomeType\": 4}}, \"*\")",
      "text/plain": [
       "<IPython.core.display.Javascript object>"
      ]
     },
     "metadata": {},
     "output_type": "display_data"
    },
    {
     "data": {
      "text/markdown": [
       "<span style=\"color:#3366cc\">Hint:</span> To calculate how many entries are added to the dataset through the one-hot encoding, begin by calculating how many entries are needed to encode the categorical variable (by multiplying the number of rows by the number of columns in the one-hot encoding). Then, to obtain how many entries are **added** to the dataset, subtract the number of entries in the original column."
      ],
      "text/plain": [
       "Hint: To calculate how many entries are added to the dataset through the one-hot encoding, begin by calculating how many entries are needed to encode the categorical variable (by multiplying the number of rows by the number of columns in the one-hot encoding). Then, to obtain how many entries are **added** to the dataset, subtract the number of entries in the original column."
      ]
     },
     "metadata": {},
     "output_type": "display_data"
    }
   ],
   "source": [
    "# Lines below will give you a hint or solution code\n",
    "step_3.b.hint()\n",
    "#step_3.b.solution()"
   ]
  },
  {
   "cell_type": "markdown",
   "id": "ff998f12",
   "metadata": {
    "papermill": {
     "duration": 0.016077,
     "end_time": "2022-06-23T18:41:33.144171",
     "exception": false,
     "start_time": "2022-06-23T18:41:33.128094",
     "status": "completed"
    },
    "tags": []
   },
   "source": [
    "Next, you'll experiment with one-hot encoding.  But, instead of encoding all of the categorical variables in the dataset, you'll only create a one-hot encoding for columns with cardinality less than 10.\n",
    "\n",
    "Run the code cell below without changes to set `low_cardinality_cols` to a Python list containing the columns that will be one-hot encoded.  Likewise, `high_cardinality_cols` contains a list of categorical columns that will be dropped from the dataset."
   ]
  },
  {
   "cell_type": "code",
   "execution_count": 20,
   "id": "1fa54581",
   "metadata": {
    "execution": {
     "iopub.execute_input": "2022-06-23T18:41:33.177808Z",
     "iopub.status.busy": "2022-06-23T18:41:33.177415Z",
     "iopub.status.idle": "2022-06-23T18:41:33.188667Z",
     "shell.execute_reply": "2022-06-23T18:41:33.187841Z"
    },
    "papermill": {
     "duration": 0.030908,
     "end_time": "2022-06-23T18:41:33.191106",
     "exception": false,
     "start_time": "2022-06-23T18:41:33.160198",
     "status": "completed"
    },
    "tags": []
   },
   "outputs": [
    {
     "name": "stdout",
     "output_type": "stream",
     "text": [
      "Categorical columns that will be one-hot encoded: ['MSZoning', 'Street', 'LotShape', 'LandContour', 'Utilities', 'LotConfig', 'LandSlope', 'Condition1', 'Condition2', 'BldgType', 'HouseStyle', 'RoofStyle', 'RoofMatl', 'ExterQual', 'ExterCond', 'Foundation', 'Heating', 'HeatingQC', 'CentralAir', 'KitchenQual', 'Functional', 'PavedDrive', 'SaleType', 'SaleCondition']\n",
      "\n",
      "Categorical columns that will be dropped from the dataset: ['Exterior2nd', 'Neighborhood', 'Exterior1st']\n"
     ]
    }
   ],
   "source": [
    "# Columns that will be one-hot encoded\n",
    "low_cardinality_cols = [col for col in object_cols if X_train[col].nunique() < 10]\n",
    "\n",
    "# Columns that will be dropped from the dataset\n",
    "high_cardinality_cols = list(set(object_cols)-set(low_cardinality_cols))\n",
    "\n",
    "print('Categorical columns that will be one-hot encoded:', low_cardinality_cols)\n",
    "print('\\nCategorical columns that will be dropped from the dataset:', high_cardinality_cols)"
   ]
  },
  {
   "cell_type": "markdown",
   "id": "bcca4b30",
   "metadata": {
    "papermill": {
     "duration": 0.015669,
     "end_time": "2022-06-23T18:41:33.222576",
     "exception": false,
     "start_time": "2022-06-23T18:41:33.206907",
     "status": "completed"
    },
    "tags": []
   },
   "source": [
    "# Step 4: One-hot encoding\n",
    "\n",
    "Use the next code cell to one-hot encode the data in `X_train` and `X_valid`.  Set the preprocessed DataFrames to `OH_X_train` and `OH_X_valid`, respectively.  \n",
    "- The full list of categorical columns in the dataset can be found in the Python list `object_cols`.\n",
    "- You should only one-hot encode the categorical columns in `low_cardinality_cols`.  All other categorical columns should be dropped from the dataset. "
   ]
  },
  {
   "cell_type": "code",
   "execution_count": 21,
   "id": "16383c5f",
   "metadata": {
    "execution": {
     "iopub.execute_input": "2022-06-23T18:41:33.256040Z",
     "iopub.status.busy": "2022-06-23T18:41:33.255649Z",
     "iopub.status.idle": "2022-06-23T18:41:33.301591Z",
     "shell.execute_reply": "2022-06-23T18:41:33.300683Z"
    },
    "papermill": {
     "duration": 0.065352,
     "end_time": "2022-06-23T18:41:33.303823",
     "exception": false,
     "start_time": "2022-06-23T18:41:33.238471",
     "status": "completed"
    },
    "tags": []
   },
   "outputs": [
    {
     "data": {
      "application/javascript": "parent.postMessage({\"jupyterEvent\": \"custom.exercise_interaction\", \"data\": {\"outcomeType\": 1, \"valueTowardsCompletion\": 0.5, \"interactionType\": 1, \"questionType\": 2, \"questionId\": \"4_OneHot\", \"learnToolsVersion\": \"0.3.4\", \"failureMessage\": \"\", \"exceptionClass\": \"\", \"trace\": \"\"}}, \"*\")",
      "text/plain": [
       "<IPython.core.display.Javascript object>"
      ]
     },
     "metadata": {},
     "output_type": "display_data"
    },
    {
     "data": {
      "text/markdown": [
       "<span style=\"color:#33cc33\">Correct</span>"
      ],
      "text/plain": [
       "Correct"
      ]
     },
     "metadata": {},
     "output_type": "display_data"
    }
   ],
   "source": [
    "from sklearn.preprocessing import OneHotEncoder\n",
    "\n",
    "# Use as many lines of code as you need!\n",
    "# dropping high cardinality cols \n",
    "X_train.drop(columns=high_cardinality_cols, inplace=True)\n",
    "X_valid.drop(columns=high_cardinality_cols, inplace=True)\n",
    "\n",
    "# ignoring unknown values in validation dataset\n",
    "# sparse=False will convert data into numpy array rather than matrix\n",
    "oh_encoder = OneHotEncoder(handle_unknown=\"ignore\", sparse=False)\n",
    "# Applying one hot encoding to low cardinality columns\n",
    "oh_cols_train = pd.DataFrame(oh_encoder.fit_transform(X_train[low_cardinality_cols]))\n",
    "oh_cols_valid = pd.DataFrame(oh_encoder.transform(X_valid[low_cardinality_cols]))\n",
    "\n",
    "# One hot encoding removes index, placing it back to drop them \n",
    "oh_cols_train.index = X_train.index\n",
    "oh_cols_valid.index = X_valid.index\n",
    "\n",
    "# dropping low cardinality columns, as they are not needed now\n",
    "# now all numerical columns are left\n",
    "X_train.drop(columns=low_cardinality_cols, inplace=True)\n",
    "X_valid.drop(columns=low_cardinality_cols, inplace=True)\n",
    "\n",
    "OH_X_train = pd.concat([X_train, oh_cols_train], axis=1)\n",
    "OH_X_valid = pd.concat([X_valid, oh_cols_valid], axis=1)\n",
    "\n",
    "# Check your answer\n",
    "step_4.check()"
   ]
  },
  {
   "cell_type": "code",
   "execution_count": 22,
   "id": "66648658",
   "metadata": {
    "execution": {
     "iopub.execute_input": "2022-06-23T18:41:33.338046Z",
     "iopub.status.busy": "2022-06-23T18:41:33.337396Z",
     "iopub.status.idle": "2022-06-23T18:41:33.341495Z",
     "shell.execute_reply": "2022-06-23T18:41:33.340711Z"
    },
    "papermill": {
     "duration": 0.023376,
     "end_time": "2022-06-23T18:41:33.343383",
     "exception": false,
     "start_time": "2022-06-23T18:41:33.320007",
     "status": "completed"
    },
    "tags": []
   },
   "outputs": [],
   "source": [
    "# Lines below will give you a hint or solution code\n",
    "#step_4.hint()\n",
    "#step_4.solution()"
   ]
  },
  {
   "cell_type": "markdown",
   "id": "c0f32660",
   "metadata": {
    "papermill": {
     "duration": 0.015806,
     "end_time": "2022-06-23T18:41:33.375657",
     "exception": false,
     "start_time": "2022-06-23T18:41:33.359851",
     "status": "completed"
    },
    "tags": []
   },
   "source": [
    "Run the next code cell to get the MAE for this approach."
   ]
  },
  {
   "cell_type": "code",
   "execution_count": 23,
   "id": "98a205e9",
   "metadata": {
    "execution": {
     "iopub.execute_input": "2022-06-23T18:41:33.409836Z",
     "iopub.status.busy": "2022-06-23T18:41:33.409135Z",
     "iopub.status.idle": "2022-06-23T18:41:35.170970Z",
     "shell.execute_reply": "2022-06-23T18:41:35.169573Z"
    },
    "papermill": {
     "duration": 1.784284,
     "end_time": "2022-06-23T18:41:35.176034",
     "exception": false,
     "start_time": "2022-06-23T18:41:33.391750",
     "status": "completed"
    },
    "tags": []
   },
   "outputs": [
    {
     "name": "stdout",
     "output_type": "stream",
     "text": [
      "MAE from Approach 3 (One-Hot Encoding):\n"
     ]
    },
    {
     "name": "stderr",
     "output_type": "stream",
     "text": [
      "/opt/conda/lib/python3.7/site-packages/sklearn/utils/validation.py:1692: FutureWarning: Feature names only support names that are all strings. Got feature names with dtypes: ['int', 'str']. An error will be raised in 1.2.\n",
      "  FutureWarning,\n"
     ]
    },
    {
     "name": "stdout",
     "output_type": "stream",
     "text": [
      "17525.345719178084\n"
     ]
    },
    {
     "name": "stderr",
     "output_type": "stream",
     "text": [
      "/opt/conda/lib/python3.7/site-packages/sklearn/utils/validation.py:1692: FutureWarning: Feature names only support names that are all strings. Got feature names with dtypes: ['int', 'str']. An error will be raised in 1.2.\n",
      "  FutureWarning,\n"
     ]
    }
   ],
   "source": [
    "print(\"MAE from Approach 3 (One-Hot Encoding):\") \n",
    "print(score_dataset(OH_X_train, OH_X_valid, y_train, y_valid))"
   ]
  },
  {
   "cell_type": "markdown",
   "id": "5d26d5cd",
   "metadata": {
    "papermill": {
     "duration": 0.016197,
     "end_time": "2022-06-23T18:41:35.210388",
     "exception": false,
     "start_time": "2022-06-23T18:41:35.194191",
     "status": "completed"
    },
    "tags": []
   },
   "source": [
    "# Generate test predictions and submit your results\n",
    "\n",
    "After you complete Step 4, if you'd like to use what you've learned to submit your results to the leaderboard, you'll need to preprocess the test data before generating predictions.\n",
    "\n",
    "**This step is completely optional, and you do not need to submit results to the leaderboard to successfully complete the exercise.**\n",
    "\n",
    "Check out the previous exercise if you need help with remembering how to [join the competition](https://www.kaggle.com/c/home-data-for-ml-course) or save your results to CSV.  Once you have generated a file with your results, follow the instructions below:\n",
    "1. Begin by clicking on the **Save Version** button in the top right corner of the window.  This will generate a pop-up window.  \n",
    "2. Ensure that the **Save and Run All** option is selected, and then click on the **Save** button.\n",
    "3. This generates a window in the bottom left corner of the notebook.  After it has finished running, click on the number to the right of the **Save Version** button.  This pulls up a list of versions on the right of the screen.  Click on the ellipsis **(...)** to the right of the most recent version, and select **Open in Viewer**.  This brings you into view mode of the same page. You will need to scroll down to get back to these instructions.\n",
    "4. Click on the **Output** tab on the right of the screen.  Then, click on the file you would like to submit, and click on the **Submit** button to submit your results to the leaderboard.\n",
    "\n",
    "You have now successfully submitted to the competition!\n",
    "\n",
    "If you want to keep working to improve your performance, select the **Edit** button in the top right of the screen. Then you can change your code and repeat the process. There's a lot of room to improve, and you will climb up the leaderboard as you work.\n"
   ]
  },
  {
   "cell_type": "markdown",
   "id": "4fe036b4",
   "metadata": {
    "papermill": {
     "duration": 0.016277,
     "end_time": "2022-06-23T18:41:35.243142",
     "exception": false,
     "start_time": "2022-06-23T18:41:35.226865",
     "status": "completed"
    },
    "tags": []
   },
   "source": [
    "## Training Model on Full dataset\n",
    "1. Applying Ordinal Encoding on both `X` and `X_test` dataset, as it performs better than both\n",
    "2. Using `RandomForestRegressor` to train the model\n",
    "3. Submitting the predictions in the **House price prediction competition**"
   ]
  },
  {
   "cell_type": "markdown",
   "id": "92a8941f",
   "metadata": {
    "papermill": {
     "duration": 0.016419,
     "end_time": "2022-06-23T18:41:35.276538",
     "exception": false,
     "start_time": "2022-06-23T18:41:35.260119",
     "status": "completed"
    },
    "tags": []
   },
   "source": [
    "### Applying `Ordinal Encoding` to the categorical columns\n",
    "1. Dropping columns having values which are not in training dataset\n",
    "2. then applying ordinal encoding to rest of the categorical columns"
   ]
  },
  {
   "cell_type": "code",
   "execution_count": 24,
   "id": "f0e20340",
   "metadata": {
    "execution": {
     "iopub.execute_input": "2022-06-23T18:41:35.311333Z",
     "iopub.status.busy": "2022-06-23T18:41:35.310940Z",
     "iopub.status.idle": "2022-06-23T18:41:35.332791Z",
     "shell.execute_reply": "2022-06-23T18:41:35.331536Z"
    },
    "papermill": {
     "duration": 0.043163,
     "end_time": "2022-06-23T18:41:35.336198",
     "exception": false,
     "start_time": "2022-06-23T18:41:35.293035",
     "status": "completed"
    },
    "tags": []
   },
   "outputs": [
    {
     "name": "stdout",
     "output_type": "stream",
     "text": [
      "Categorical columns that will be ordinal encoded: ['Street', 'LotShape', 'LandContour', 'LotConfig', 'LandSlope', 'Neighborhood', 'Condition1', 'Condition2', 'BldgType', 'HouseStyle', 'RoofStyle', 'RoofMatl', 'ExterQual', 'ExterCond', 'Foundation', 'Heating', 'HeatingQC', 'CentralAir', 'PavedDrive', 'SaleCondition']\n",
      "\n",
      "Categorical columns that will be dropped from the dataset: ['Utilities', 'Exterior1st', 'SaleType', 'Exterior2nd', 'Functional', 'KitchenQual', 'MSZoning']\n"
     ]
    }
   ],
   "source": [
    "# Categorical columns in the training data\n",
    "object_cols = [col for col in X.columns if X[col].dtype == \"object\"]\n",
    "\n",
    "# Columns that can be safely ordinal encoded\n",
    "good_label_cols = [col for col in object_cols if \n",
    "                   set(X_test[col]).issubset(set(X[col]))]\n",
    "        \n",
    "# Problematic columns that will be dropped from the dataset\n",
    "bad_label_cols = list(set(object_cols)-set(good_label_cols))\n",
    "        \n",
    "print('Categorical columns that will be ordinal encoded:', good_label_cols)\n",
    "print('\\nCategorical columns that will be dropped from the dataset:', bad_label_cols)"
   ]
  },
  {
   "cell_type": "code",
   "execution_count": 25,
   "id": "542b969d",
   "metadata": {
    "execution": {
     "iopub.execute_input": "2022-06-23T18:41:35.372916Z",
     "iopub.status.busy": "2022-06-23T18:41:35.372541Z",
     "iopub.status.idle": "2022-06-23T18:41:35.381151Z",
     "shell.execute_reply": "2022-06-23T18:41:35.379831Z"
    },
    "papermill": {
     "duration": 0.029043,
     "end_time": "2022-06-23T18:41:35.383556",
     "exception": false,
     "start_time": "2022-06-23T18:41:35.354513",
     "status": "completed"
    },
    "tags": []
   },
   "outputs": [],
   "source": [
    "# Dropping bad_label columns from the test data set\n",
    "# Drop categorical columns that will not be encoded\n",
    "X.drop(bad_label_cols, axis=1, inplace=True)\n",
    "X_test.drop(bad_label_cols, axis=1, inplace=True)"
   ]
  },
  {
   "cell_type": "code",
   "execution_count": 26,
   "id": "673f51c9",
   "metadata": {
    "execution": {
     "iopub.execute_input": "2022-06-23T18:41:35.418629Z",
     "iopub.status.busy": "2022-06-23T18:41:35.418220Z",
     "iopub.status.idle": "2022-06-23T18:41:35.441957Z",
     "shell.execute_reply": "2022-06-23T18:41:35.440766Z"
    },
    "papermill": {
     "duration": 0.043985,
     "end_time": "2022-06-23T18:41:35.444207",
     "exception": false,
     "start_time": "2022-06-23T18:41:35.400222",
     "status": "completed"
    },
    "tags": []
   },
   "outputs": [
    {
     "data": {
      "text/html": [
       "<div>\n",
       "<style scoped>\n",
       "    .dataframe tbody tr th:only-of-type {\n",
       "        vertical-align: middle;\n",
       "    }\n",
       "\n",
       "    .dataframe tbody tr th {\n",
       "        vertical-align: top;\n",
       "    }\n",
       "\n",
       "    .dataframe thead th {\n",
       "        text-align: right;\n",
       "    }\n",
       "</style>\n",
       "<table border=\"1\" class=\"dataframe\">\n",
       "  <thead>\n",
       "    <tr style=\"text-align: right;\">\n",
       "      <th></th>\n",
       "      <th>MSSubClass</th>\n",
       "      <th>LotArea</th>\n",
       "      <th>Street</th>\n",
       "      <th>LotShape</th>\n",
       "      <th>LandContour</th>\n",
       "      <th>LotConfig</th>\n",
       "      <th>LandSlope</th>\n",
       "      <th>Neighborhood</th>\n",
       "      <th>Condition1</th>\n",
       "      <th>Condition2</th>\n",
       "      <th>...</th>\n",
       "      <th>WoodDeckSF</th>\n",
       "      <th>OpenPorchSF</th>\n",
       "      <th>EnclosedPorch</th>\n",
       "      <th>3SsnPorch</th>\n",
       "      <th>ScreenPorch</th>\n",
       "      <th>PoolArea</th>\n",
       "      <th>MiscVal</th>\n",
       "      <th>MoSold</th>\n",
       "      <th>YrSold</th>\n",
       "      <th>SaleCondition</th>\n",
       "    </tr>\n",
       "    <tr>\n",
       "      <th>Id</th>\n",
       "      <th></th>\n",
       "      <th></th>\n",
       "      <th></th>\n",
       "      <th></th>\n",
       "      <th></th>\n",
       "      <th></th>\n",
       "      <th></th>\n",
       "      <th></th>\n",
       "      <th></th>\n",
       "      <th></th>\n",
       "      <th></th>\n",
       "      <th></th>\n",
       "      <th></th>\n",
       "      <th></th>\n",
       "      <th></th>\n",
       "      <th></th>\n",
       "      <th></th>\n",
       "      <th></th>\n",
       "      <th></th>\n",
       "      <th></th>\n",
       "      <th></th>\n",
       "    </tr>\n",
       "  </thead>\n",
       "  <tbody>\n",
       "    <tr>\n",
       "      <th>1461</th>\n",
       "      <td>20</td>\n",
       "      <td>11622</td>\n",
       "      <td>Pave</td>\n",
       "      <td>Reg</td>\n",
       "      <td>Lvl</td>\n",
       "      <td>Inside</td>\n",
       "      <td>Gtl</td>\n",
       "      <td>NAmes</td>\n",
       "      <td>Feedr</td>\n",
       "      <td>Norm</td>\n",
       "      <td>...</td>\n",
       "      <td>140</td>\n",
       "      <td>0</td>\n",
       "      <td>0</td>\n",
       "      <td>0</td>\n",
       "      <td>120</td>\n",
       "      <td>0</td>\n",
       "      <td>0</td>\n",
       "      <td>6</td>\n",
       "      <td>2010</td>\n",
       "      <td>Normal</td>\n",
       "    </tr>\n",
       "    <tr>\n",
       "      <th>1462</th>\n",
       "      <td>20</td>\n",
       "      <td>14267</td>\n",
       "      <td>Pave</td>\n",
       "      <td>IR1</td>\n",
       "      <td>Lvl</td>\n",
       "      <td>Corner</td>\n",
       "      <td>Gtl</td>\n",
       "      <td>NAmes</td>\n",
       "      <td>Norm</td>\n",
       "      <td>Norm</td>\n",
       "      <td>...</td>\n",
       "      <td>393</td>\n",
       "      <td>36</td>\n",
       "      <td>0</td>\n",
       "      <td>0</td>\n",
       "      <td>0</td>\n",
       "      <td>0</td>\n",
       "      <td>12500</td>\n",
       "      <td>6</td>\n",
       "      <td>2010</td>\n",
       "      <td>Normal</td>\n",
       "    </tr>\n",
       "    <tr>\n",
       "      <th>1463</th>\n",
       "      <td>60</td>\n",
       "      <td>13830</td>\n",
       "      <td>Pave</td>\n",
       "      <td>IR1</td>\n",
       "      <td>Lvl</td>\n",
       "      <td>Inside</td>\n",
       "      <td>Gtl</td>\n",
       "      <td>Gilbert</td>\n",
       "      <td>Norm</td>\n",
       "      <td>Norm</td>\n",
       "      <td>...</td>\n",
       "      <td>212</td>\n",
       "      <td>34</td>\n",
       "      <td>0</td>\n",
       "      <td>0</td>\n",
       "      <td>0</td>\n",
       "      <td>0</td>\n",
       "      <td>0</td>\n",
       "      <td>3</td>\n",
       "      <td>2010</td>\n",
       "      <td>Normal</td>\n",
       "    </tr>\n",
       "    <tr>\n",
       "      <th>1464</th>\n",
       "      <td>60</td>\n",
       "      <td>9978</td>\n",
       "      <td>Pave</td>\n",
       "      <td>IR1</td>\n",
       "      <td>Lvl</td>\n",
       "      <td>Inside</td>\n",
       "      <td>Gtl</td>\n",
       "      <td>Gilbert</td>\n",
       "      <td>Norm</td>\n",
       "      <td>Norm</td>\n",
       "      <td>...</td>\n",
       "      <td>360</td>\n",
       "      <td>36</td>\n",
       "      <td>0</td>\n",
       "      <td>0</td>\n",
       "      <td>0</td>\n",
       "      <td>0</td>\n",
       "      <td>0</td>\n",
       "      <td>6</td>\n",
       "      <td>2010</td>\n",
       "      <td>Normal</td>\n",
       "    </tr>\n",
       "    <tr>\n",
       "      <th>1465</th>\n",
       "      <td>120</td>\n",
       "      <td>5005</td>\n",
       "      <td>Pave</td>\n",
       "      <td>IR1</td>\n",
       "      <td>HLS</td>\n",
       "      <td>Inside</td>\n",
       "      <td>Gtl</td>\n",
       "      <td>StoneBr</td>\n",
       "      <td>Norm</td>\n",
       "      <td>Norm</td>\n",
       "      <td>...</td>\n",
       "      <td>0</td>\n",
       "      <td>82</td>\n",
       "      <td>0</td>\n",
       "      <td>0</td>\n",
       "      <td>144</td>\n",
       "      <td>0</td>\n",
       "      <td>0</td>\n",
       "      <td>1</td>\n",
       "      <td>2010</td>\n",
       "      <td>Normal</td>\n",
       "    </tr>\n",
       "  </tbody>\n",
       "</table>\n",
       "<p>5 rows × 53 columns</p>\n",
       "</div>"
      ],
      "text/plain": [
       "      MSSubClass  LotArea Street LotShape LandContour LotConfig LandSlope  \\\n",
       "Id                                                                          \n",
       "1461          20    11622   Pave      Reg         Lvl    Inside       Gtl   \n",
       "1462          20    14267   Pave      IR1         Lvl    Corner       Gtl   \n",
       "1463          60    13830   Pave      IR1         Lvl    Inside       Gtl   \n",
       "1464          60     9978   Pave      IR1         Lvl    Inside       Gtl   \n",
       "1465         120     5005   Pave      IR1         HLS    Inside       Gtl   \n",
       "\n",
       "     Neighborhood Condition1 Condition2  ... WoodDeckSF OpenPorchSF  \\\n",
       "Id                                       ...                          \n",
       "1461        NAmes      Feedr       Norm  ...        140           0   \n",
       "1462        NAmes       Norm       Norm  ...        393          36   \n",
       "1463      Gilbert       Norm       Norm  ...        212          34   \n",
       "1464      Gilbert       Norm       Norm  ...        360          36   \n",
       "1465      StoneBr       Norm       Norm  ...          0          82   \n",
       "\n",
       "      EnclosedPorch  3SsnPorch  ScreenPorch  PoolArea MiscVal MoSold YrSold  \\\n",
       "Id                                                                            \n",
       "1461              0          0          120         0       0      6   2010   \n",
       "1462              0          0            0         0   12500      6   2010   \n",
       "1463              0          0            0         0       0      3   2010   \n",
       "1464              0          0            0         0       0      6   2010   \n",
       "1465              0          0          144         0       0      1   2010   \n",
       "\n",
       "     SaleCondition  \n",
       "Id                  \n",
       "1461        Normal  \n",
       "1462        Normal  \n",
       "1463        Normal  \n",
       "1464        Normal  \n",
       "1465        Normal  \n",
       "\n",
       "[5 rows x 53 columns]"
      ]
     },
     "execution_count": 26,
     "metadata": {},
     "output_type": "execute_result"
    }
   ],
   "source": [
    "X_test.head()"
   ]
  },
  {
   "cell_type": "code",
   "execution_count": 27,
   "id": "630e12d0",
   "metadata": {
    "execution": {
     "iopub.execute_input": "2022-06-23T18:41:35.480522Z",
     "iopub.status.busy": "2022-06-23T18:41:35.480127Z",
     "iopub.status.idle": "2022-06-23T18:41:35.525815Z",
     "shell.execute_reply": "2022-06-23T18:41:35.524837Z"
    },
    "papermill": {
     "duration": 0.066692,
     "end_time": "2022-06-23T18:41:35.528440",
     "exception": false,
     "start_time": "2022-06-23T18:41:35.461748",
     "status": "completed"
    },
    "tags": []
   },
   "outputs": [],
   "source": [
    "ordinal_encoder = OrdinalEncoder()\n",
    "X[good_label_cols] = ordinal_encoder.fit_transform(X[good_label_cols])\n",
    "X_test[good_label_cols] = ordinal_encoder.transform(X_test[good_label_cols])"
   ]
  },
  {
   "cell_type": "code",
   "execution_count": 28,
   "id": "86f4f175",
   "metadata": {
    "execution": {
     "iopub.execute_input": "2022-06-23T18:41:35.564131Z",
     "iopub.status.busy": "2022-06-23T18:41:35.563715Z",
     "iopub.status.idle": "2022-06-23T18:41:35.592434Z",
     "shell.execute_reply": "2022-06-23T18:41:35.591244Z"
    },
    "papermill": {
     "duration": 0.049324,
     "end_time": "2022-06-23T18:41:35.594816",
     "exception": false,
     "start_time": "2022-06-23T18:41:35.545492",
     "status": "completed"
    },
    "tags": []
   },
   "outputs": [
    {
     "data": {
      "text/html": [
       "<div>\n",
       "<style scoped>\n",
       "    .dataframe tbody tr th:only-of-type {\n",
       "        vertical-align: middle;\n",
       "    }\n",
       "\n",
       "    .dataframe tbody tr th {\n",
       "        vertical-align: top;\n",
       "    }\n",
       "\n",
       "    .dataframe thead th {\n",
       "        text-align: right;\n",
       "    }\n",
       "</style>\n",
       "<table border=\"1\" class=\"dataframe\">\n",
       "  <thead>\n",
       "    <tr style=\"text-align: right;\">\n",
       "      <th></th>\n",
       "      <th>MSSubClass</th>\n",
       "      <th>LotArea</th>\n",
       "      <th>Street</th>\n",
       "      <th>LotShape</th>\n",
       "      <th>LandContour</th>\n",
       "      <th>LotConfig</th>\n",
       "      <th>LandSlope</th>\n",
       "      <th>Neighborhood</th>\n",
       "      <th>Condition1</th>\n",
       "      <th>Condition2</th>\n",
       "      <th>...</th>\n",
       "      <th>WoodDeckSF</th>\n",
       "      <th>OpenPorchSF</th>\n",
       "      <th>EnclosedPorch</th>\n",
       "      <th>3SsnPorch</th>\n",
       "      <th>ScreenPorch</th>\n",
       "      <th>PoolArea</th>\n",
       "      <th>MiscVal</th>\n",
       "      <th>MoSold</th>\n",
       "      <th>YrSold</th>\n",
       "      <th>SaleCondition</th>\n",
       "    </tr>\n",
       "    <tr>\n",
       "      <th>Id</th>\n",
       "      <th></th>\n",
       "      <th></th>\n",
       "      <th></th>\n",
       "      <th></th>\n",
       "      <th></th>\n",
       "      <th></th>\n",
       "      <th></th>\n",
       "      <th></th>\n",
       "      <th></th>\n",
       "      <th></th>\n",
       "      <th></th>\n",
       "      <th></th>\n",
       "      <th></th>\n",
       "      <th></th>\n",
       "      <th></th>\n",
       "      <th></th>\n",
       "      <th></th>\n",
       "      <th></th>\n",
       "      <th></th>\n",
       "      <th></th>\n",
       "      <th></th>\n",
       "    </tr>\n",
       "  </thead>\n",
       "  <tbody>\n",
       "    <tr>\n",
       "      <th>1461</th>\n",
       "      <td>20</td>\n",
       "      <td>11622</td>\n",
       "      <td>1.0</td>\n",
       "      <td>3.0</td>\n",
       "      <td>3.0</td>\n",
       "      <td>4.0</td>\n",
       "      <td>0.0</td>\n",
       "      <td>12.0</td>\n",
       "      <td>1.0</td>\n",
       "      <td>2.0</td>\n",
       "      <td>...</td>\n",
       "      <td>140</td>\n",
       "      <td>0</td>\n",
       "      <td>0</td>\n",
       "      <td>0</td>\n",
       "      <td>120</td>\n",
       "      <td>0</td>\n",
       "      <td>0</td>\n",
       "      <td>6</td>\n",
       "      <td>2010</td>\n",
       "      <td>4.0</td>\n",
       "    </tr>\n",
       "    <tr>\n",
       "      <th>1462</th>\n",
       "      <td>20</td>\n",
       "      <td>14267</td>\n",
       "      <td>1.0</td>\n",
       "      <td>0.0</td>\n",
       "      <td>3.0</td>\n",
       "      <td>0.0</td>\n",
       "      <td>0.0</td>\n",
       "      <td>12.0</td>\n",
       "      <td>2.0</td>\n",
       "      <td>2.0</td>\n",
       "      <td>...</td>\n",
       "      <td>393</td>\n",
       "      <td>36</td>\n",
       "      <td>0</td>\n",
       "      <td>0</td>\n",
       "      <td>0</td>\n",
       "      <td>0</td>\n",
       "      <td>12500</td>\n",
       "      <td>6</td>\n",
       "      <td>2010</td>\n",
       "      <td>4.0</td>\n",
       "    </tr>\n",
       "    <tr>\n",
       "      <th>1463</th>\n",
       "      <td>60</td>\n",
       "      <td>13830</td>\n",
       "      <td>1.0</td>\n",
       "      <td>0.0</td>\n",
       "      <td>3.0</td>\n",
       "      <td>4.0</td>\n",
       "      <td>0.0</td>\n",
       "      <td>8.0</td>\n",
       "      <td>2.0</td>\n",
       "      <td>2.0</td>\n",
       "      <td>...</td>\n",
       "      <td>212</td>\n",
       "      <td>34</td>\n",
       "      <td>0</td>\n",
       "      <td>0</td>\n",
       "      <td>0</td>\n",
       "      <td>0</td>\n",
       "      <td>0</td>\n",
       "      <td>3</td>\n",
       "      <td>2010</td>\n",
       "      <td>4.0</td>\n",
       "    </tr>\n",
       "    <tr>\n",
       "      <th>1464</th>\n",
       "      <td>60</td>\n",
       "      <td>9978</td>\n",
       "      <td>1.0</td>\n",
       "      <td>0.0</td>\n",
       "      <td>3.0</td>\n",
       "      <td>4.0</td>\n",
       "      <td>0.0</td>\n",
       "      <td>8.0</td>\n",
       "      <td>2.0</td>\n",
       "      <td>2.0</td>\n",
       "      <td>...</td>\n",
       "      <td>360</td>\n",
       "      <td>36</td>\n",
       "      <td>0</td>\n",
       "      <td>0</td>\n",
       "      <td>0</td>\n",
       "      <td>0</td>\n",
       "      <td>0</td>\n",
       "      <td>6</td>\n",
       "      <td>2010</td>\n",
       "      <td>4.0</td>\n",
       "    </tr>\n",
       "    <tr>\n",
       "      <th>1465</th>\n",
       "      <td>120</td>\n",
       "      <td>5005</td>\n",
       "      <td>1.0</td>\n",
       "      <td>0.0</td>\n",
       "      <td>1.0</td>\n",
       "      <td>4.0</td>\n",
       "      <td>0.0</td>\n",
       "      <td>22.0</td>\n",
       "      <td>2.0</td>\n",
       "      <td>2.0</td>\n",
       "      <td>...</td>\n",
       "      <td>0</td>\n",
       "      <td>82</td>\n",
       "      <td>0</td>\n",
       "      <td>0</td>\n",
       "      <td>144</td>\n",
       "      <td>0</td>\n",
       "      <td>0</td>\n",
       "      <td>1</td>\n",
       "      <td>2010</td>\n",
       "      <td>4.0</td>\n",
       "    </tr>\n",
       "  </tbody>\n",
       "</table>\n",
       "<p>5 rows × 53 columns</p>\n",
       "</div>"
      ],
      "text/plain": [
       "      MSSubClass  LotArea  Street  LotShape  LandContour  LotConfig  \\\n",
       "Id                                                                    \n",
       "1461          20    11622     1.0       3.0          3.0        4.0   \n",
       "1462          20    14267     1.0       0.0          3.0        0.0   \n",
       "1463          60    13830     1.0       0.0          3.0        4.0   \n",
       "1464          60     9978     1.0       0.0          3.0        4.0   \n",
       "1465         120     5005     1.0       0.0          1.0        4.0   \n",
       "\n",
       "      LandSlope  Neighborhood  Condition1  Condition2  ...  WoodDeckSF  \\\n",
       "Id                                                     ...               \n",
       "1461        0.0          12.0         1.0         2.0  ...         140   \n",
       "1462        0.0          12.0         2.0         2.0  ...         393   \n",
       "1463        0.0           8.0         2.0         2.0  ...         212   \n",
       "1464        0.0           8.0         2.0         2.0  ...         360   \n",
       "1465        0.0          22.0         2.0         2.0  ...           0   \n",
       "\n",
       "      OpenPorchSF  EnclosedPorch  3SsnPorch  ScreenPorch  PoolArea  MiscVal  \\\n",
       "Id                                                                            \n",
       "1461            0              0          0          120         0        0   \n",
       "1462           36              0          0            0         0    12500   \n",
       "1463           34              0          0            0         0        0   \n",
       "1464           36              0          0            0         0        0   \n",
       "1465           82              0          0          144         0        0   \n",
       "\n",
       "      MoSold  YrSold  SaleCondition  \n",
       "Id                                   \n",
       "1461       6    2010            4.0  \n",
       "1462       6    2010            4.0  \n",
       "1463       3    2010            4.0  \n",
       "1464       6    2010            4.0  \n",
       "1465       1    2010            4.0  \n",
       "\n",
       "[5 rows x 53 columns]"
      ]
     },
     "execution_count": 28,
     "metadata": {},
     "output_type": "execute_result"
    }
   ],
   "source": [
    "X_test.head()"
   ]
  },
  {
   "cell_type": "code",
   "execution_count": 29,
   "id": "7e697440",
   "metadata": {
    "execution": {
     "iopub.execute_input": "2022-06-23T18:41:35.631514Z",
     "iopub.status.busy": "2022-06-23T18:41:35.630686Z",
     "iopub.status.idle": "2022-06-23T18:41:35.643440Z",
     "shell.execute_reply": "2022-06-23T18:41:35.642368Z"
    },
    "papermill": {
     "duration": 0.0335,
     "end_time": "2022-06-23T18:41:35.645671",
     "exception": false,
     "start_time": "2022-06-23T18:41:35.612171",
     "status": "completed"
    },
    "scrolled": true,
    "tags": []
   },
   "outputs": [
    {
     "data": {
      "text/plain": [
       "MSSubClass       0\n",
       "LotArea          0\n",
       "Street           0\n",
       "LotShape         0\n",
       "LandContour      0\n",
       "LotConfig        0\n",
       "LandSlope        0\n",
       "Neighborhood     0\n",
       "Condition1       0\n",
       "Condition2       0\n",
       "BldgType         0\n",
       "HouseStyle       0\n",
       "OverallQual      0\n",
       "OverallCond      0\n",
       "YearBuilt        0\n",
       "YearRemodAdd     0\n",
       "RoofStyle        0\n",
       "RoofMatl         0\n",
       "ExterQual        0\n",
       "ExterCond        0\n",
       "Foundation       0\n",
       "BsmtFinSF1       1\n",
       "BsmtFinSF2       1\n",
       "BsmtUnfSF        1\n",
       "TotalBsmtSF      1\n",
       "Heating          0\n",
       "HeatingQC        0\n",
       "CentralAir       0\n",
       "1stFlrSF         0\n",
       "2ndFlrSF         0\n",
       "LowQualFinSF     0\n",
       "GrLivArea        0\n",
       "BsmtFullBath     2\n",
       "BsmtHalfBath     2\n",
       "FullBath         0\n",
       "HalfBath         0\n",
       "BedroomAbvGr     0\n",
       "KitchenAbvGr     0\n",
       "TotRmsAbvGrd     0\n",
       "Fireplaces       0\n",
       "GarageCars       1\n",
       "GarageArea       1\n",
       "PavedDrive       0\n",
       "WoodDeckSF       0\n",
       "OpenPorchSF      0\n",
       "EnclosedPorch    0\n",
       "3SsnPorch        0\n",
       "ScreenPorch      0\n",
       "PoolArea         0\n",
       "MiscVal          0\n",
       "MoSold           0\n",
       "YrSold           0\n",
       "SaleCondition    0\n",
       "dtype: int64"
      ]
     },
     "execution_count": 29,
     "metadata": {},
     "output_type": "execute_result"
    }
   ],
   "source": [
    "X_test.isna().sum()"
   ]
  },
  {
   "cell_type": "markdown",
   "id": "29a44ac7",
   "metadata": {
    "papermill": {
     "duration": 0.01698,
     "end_time": "2022-06-23T18:41:35.680124",
     "exception": false,
     "start_time": "2022-06-23T18:41:35.663144",
     "status": "completed"
    },
    "tags": []
   },
   "source": [
    "#### `X_test` is containing some `nan` values, Imputing it with `Simple Imputer`"
   ]
  },
  {
   "cell_type": "code",
   "execution_count": 30,
   "id": "aed24580",
   "metadata": {
    "execution": {
     "iopub.execute_input": "2022-06-23T18:41:35.716669Z",
     "iopub.status.busy": "2022-06-23T18:41:35.716281Z",
     "iopub.status.idle": "2022-06-23T18:41:35.738638Z",
     "shell.execute_reply": "2022-06-23T18:41:35.737508Z"
    },
    "papermill": {
     "duration": 0.043644,
     "end_time": "2022-06-23T18:41:35.741105",
     "exception": false,
     "start_time": "2022-06-23T18:41:35.697461",
     "status": "completed"
    },
    "tags": []
   },
   "outputs": [],
   "source": [
    "from sklearn.impute import SimpleImputer\n",
    "\n",
    "X_cols = X.columns\n",
    "X_test_cols = X_test.columns\n",
    "X_test_index = X_test.index\n",
    "\n",
    "my_imputer = SimpleImputer()\n",
    "\n",
    "X = pd.DataFrame(my_imputer.fit_transform(X))\n",
    "X_test = pd.DataFrame(my_imputer.transform(X_test))\n",
    "\n",
    "# Fill in the lines below: imputation removed column names; put them back\n",
    "X.columns = X_cols\n",
    "X_test.columns = X_test_cols\n",
    "X_test.index = X_test_index"
   ]
  },
  {
   "cell_type": "markdown",
   "id": "5dadcd63",
   "metadata": {
    "papermill": {
     "duration": 0.01719,
     "end_time": "2022-06-23T18:41:35.775854",
     "exception": false,
     "start_time": "2022-06-23T18:41:35.758664",
     "status": "completed"
    },
    "tags": []
   },
   "source": [
    "### Creating a `RandomForestRegressor` model and training it on full data"
   ]
  },
  {
   "cell_type": "code",
   "execution_count": 31,
   "id": "9b7e001a",
   "metadata": {
    "execution": {
     "iopub.execute_input": "2022-06-23T18:41:35.813158Z",
     "iopub.status.busy": "2022-06-23T18:41:35.812001Z",
     "iopub.status.idle": "2022-06-23T18:41:37.513264Z",
     "shell.execute_reply": "2022-06-23T18:41:37.512351Z"
    },
    "papermill": {
     "duration": 1.722059,
     "end_time": "2022-06-23T18:41:37.515430",
     "exception": false,
     "start_time": "2022-06-23T18:41:35.793371",
     "status": "completed"
    },
    "tags": []
   },
   "outputs": [
    {
     "data": {
      "text/plain": [
       "array([129790.5 , 154219.  , 172914.19, ..., 156724.17, 114353.5 ,\n",
       "       225485.16])"
      ]
     },
     "execution_count": 31,
     "metadata": {},
     "output_type": "execute_result"
    }
   ],
   "source": [
    "model = RandomForestRegressor(n_estimators=100, random_state=0)\n",
    "model.fit(X, y)\n",
    "price_prediction = model.predict(X_test)\n",
    "price_prediction"
   ]
  },
  {
   "cell_type": "code",
   "execution_count": 32,
   "id": "fe2d2fd2",
   "metadata": {
    "execution": {
     "iopub.execute_input": "2022-06-23T18:41:37.558144Z",
     "iopub.status.busy": "2022-06-23T18:41:37.557728Z",
     "iopub.status.idle": "2022-06-23T18:41:37.573410Z",
     "shell.execute_reply": "2022-06-23T18:41:37.572047Z"
    },
    "papermill": {
     "duration": 0.043334,
     "end_time": "2022-06-23T18:41:37.576706",
     "exception": false,
     "start_time": "2022-06-23T18:41:37.533372",
     "status": "completed"
    },
    "tags": []
   },
   "outputs": [],
   "source": [
    "# (Optional) Your code here\n",
    "output = pd.DataFrame(data={\"Id\" : X_test.index, \"Saleprice\" : price_prediction})\n",
    "output.to_csv(\"./submission.csv\", index=False)"
   ]
  },
  {
   "cell_type": "markdown",
   "id": "ff887acc",
   "metadata": {
    "papermill": {
     "duration": 0.017889,
     "end_time": "2022-06-23T18:41:37.616476",
     "exception": false,
     "start_time": "2022-06-23T18:41:37.598587",
     "status": "completed"
    },
    "tags": []
   },
   "source": [
    "# Keep going\n",
    "\n",
    "With missing value handling and categorical encoding, your modeling process is getting complex. This complexity gets worse when you want to save your model to use in the future. The key to managing this complexity is something called **pipelines**. \n",
    "\n",
    "**[Learn to use pipelines](https://www.kaggle.com/alexisbcook/pipelines)** to preprocess datasets with categorical variables, missing values and any other messiness your data throws at you."
   ]
  },
  {
   "cell_type": "markdown",
   "id": "fce858af",
   "metadata": {
    "papermill": {
     "duration": 0.022504,
     "end_time": "2022-06-23T18:41:37.657161",
     "exception": false,
     "start_time": "2022-06-23T18:41:37.634657",
     "status": "completed"
    },
    "tags": []
   },
   "source": [
    "---\n",
    "\n",
    "\n",
    "\n",
    "\n",
    "*Have questions or comments? Visit the [course discussion forum](https://www.kaggle.com/learn/intermediate-machine-learning/discussion) to chat with other learners.*"
   ]
  }
 ],
 "metadata": {
  "kernelspec": {
   "display_name": "Python 3",
   "language": "python",
   "name": "python3"
  },
  "language_info": {
   "codemirror_mode": {
    "name": "ipython",
    "version": 3
   },
   "file_extension": ".py",
   "mimetype": "text/x-python",
   "name": "python",
   "nbconvert_exporter": "python",
   "pygments_lexer": "ipython3",
   "version": "3.7.12"
  },
  "papermill": {
   "default_parameters": {},
   "duration": 21.125213,
   "end_time": "2022-06-23T18:41:38.396647",
   "environment_variables": {},
   "exception": null,
   "input_path": "__notebook__.ipynb",
   "output_path": "__notebook__.ipynb",
   "parameters": {},
   "start_time": "2022-06-23T18:41:17.271434",
   "version": "2.3.4"
  }
 },
 "nbformat": 4,
 "nbformat_minor": 5
}

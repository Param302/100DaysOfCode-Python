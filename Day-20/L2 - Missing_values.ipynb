{
 "cells": [
  {
   "cell_type": "markdown",
   "id": "63d42f9a",
   "metadata": {
    "papermill": {
     "duration": 0.012481,
     "end_time": "2022-06-23T16:29:54.614727",
     "exception": false,
     "start_time": "2022-06-23T16:29:54.602246",
     "status": "completed"
    },
    "tags": []
   },
   "source": [
    "# Kaggle's [Intermediate Machine Learning](https://www.kaggle.com/learn/intermediate-machine-learning) course\n",
    "\n",
    "- Lesson 2: [Missing Values](https://www.kaggle.com/code/alexisbcook/missing-values) - \n",
    "[My Notebook](https://www.kaggle.com/code/param302/exercise-missing-values)\n",
    "---"
   ]
  },
  {
   "cell_type": "markdown",
   "id": "0f322f17",
   "metadata": {},
   "source": [
    "In this tutorial, you will learn three approaches to **dealing with missing values**. Then you'll compare the effectiveness of these approaches on a real-world dataset.\n",
    "\n",
    "# Introduction\n",
    "\n",
    "There are many ways data can end up with missing values. For example,\n",
    "- A 2 bedroom house won't include a value for the size of a third bedroom.\n",
    "- A survey respondent may choose not to share his income.\n",
    "\n",
    "Most machine learning libraries (including scikit-learn) give an error if you try to build a model using data with missing values. So you'll need to choose one of the strategies below."
   ]
  },
  {
   "cell_type": "markdown",
   "id": "680941ff",
   "metadata": {},
   "source": [
    "# Three Approaches\n",
    "\n",
    "\n",
    "### 1) A Simple Option: Drop Columns with Missing Values\n",
    "\n",
    "The simplest option is to drop columns with missing values. \n",
    "\n",
    "![tut2_approach1](https://i.imgur.com/Sax80za.png)\n",
    "\n",
    "Unless most values in the dropped columns are missing, the model loses access to a lot of (potentially useful!) information with this approach.  As an extreme example, consider a dataset with 10,000 rows, where one important column is missing a single entry. This approach would drop the column entirely!\n",
    "\n",
    "### 2) A Better Option: Imputation\n",
    "\n",
    "**Imputation** fills in the missing values with some number.  For instance, we can fill in the mean value along each column. \n",
    "\n",
    "![tut2_approach2](https://i.imgur.com/4BpnlPA.png)\n",
    "\n",
    "The imputed value won't be exactly right in most cases, but it usually leads to more accurate models than you would get from dropping the column entirely.\n",
    "\n",
    "### 3) An Extension To Imputation\n",
    "\n",
    "Imputation is the standard approach, and it usually works well. However, imputed values may be systematically above or below their actual values (which weren't collected in the dataset). Or rows with missing values may be unique in some other way. In that case, your model would make better predictions by considering which values were originally missing.  \n",
    "\n",
    "![tut3_approach3](https://i.imgur.com/UWOyg4a.png)\n",
    "\n",
    "In this approach, we impute the missing values, as before.  And, additionally, for each column with missing entries in the original dataset, we add a new column that shows the location of the imputed entries.\n",
    "\n",
    "In some cases, this will meaningfully improve results. In other cases, it doesn't help at all.\n",
    "\n",
    "# Example \n",
    "\n",
    "In the example, we will work with the [Melbourne Housing dataset](https://www.kaggle.com/dansbecker/melbourne-housing-snapshot/home).  Our model will use information such as the number of rooms and land size to predict home price.\n",
    "\n",
    "We won't focus on the data loading step. Instead, you can imagine you are at a point where you already have the training and validation data in `X_train`, `X_valid`, `y_train`, and `y_valid`. "
   ]
  },
  {
   "cell_type": "markdown",
   "id": "02020832",
   "metadata": {
    "papermill": {
     "duration": 0.010118,
     "end_time": "2022-06-23T16:29:54.636687",
     "exception": false,
     "start_time": "2022-06-23T16:29:54.626569",
     "status": "completed"
    },
    "tags": []
   },
   "source": [
    "Now it's your turn to test your new knowledge of **missing values** handling. You'll probably find it makes a big difference.\n",
    "\n",
    "# Setup\n",
    "\n",
    "The questions will give you feedback on your work. Run the following cell to set up the feedback system."
   ]
  },
  {
   "cell_type": "code",
   "execution_count": 1,
   "id": "a40b9134",
   "metadata": {
    "execution": {
     "iopub.execute_input": "2022-06-23T16:29:54.660446Z",
     "iopub.status.busy": "2022-06-23T16:29:54.659803Z",
     "iopub.status.idle": "2022-06-23T16:29:54.729781Z",
     "shell.execute_reply": "2022-06-23T16:29:54.728889Z"
    },
    "papermill": {
     "duration": 0.084823,
     "end_time": "2022-06-23T16:29:54.732542",
     "exception": false,
     "start_time": "2022-06-23T16:29:54.647719",
     "status": "completed"
    },
    "tags": []
   },
   "outputs": [
    {
     "name": "stdout",
     "output_type": "stream",
     "text": [
      "Setup Complete\n"
     ]
    }
   ],
   "source": [
    "# Set up code checking\n",
    "import os\n",
    "if not os.path.exists(\"../input/train.csv\"):\n",
    "    os.symlink(\"../input/home-data-for-ml-course/train.csv\", \"../input/train.csv\")  \n",
    "    os.symlink(\"../input/home-data-for-ml-course/test.csv\", \"../input/test.csv\") \n",
    "from learntools.core import binder\n",
    "binder.bind(globals())\n",
    "from learntools.ml_intermediate.ex2 import *\n",
    "print(\"Setup Complete\")"
   ]
  },
  {
   "cell_type": "markdown",
   "id": "a0fea957",
   "metadata": {
    "papermill": {
     "duration": 0.009972,
     "end_time": "2022-06-23T16:29:54.752768",
     "exception": false,
     "start_time": "2022-06-23T16:29:54.742796",
     "status": "completed"
    },
    "tags": []
   },
   "source": [
    "In this exercise, you will work with data from the [Housing Prices Competition for Kaggle Learn Users](https://www.kaggle.com/c/home-data-for-ml-course). \n",
    "\n",
    "![Ames Housing dataset image](https://i.imgur.com/lTJVG4e.png)\n",
    "\n",
    "Run the next code cell without changes to load the training and validation sets in `X_train`, `X_valid`, `y_train`, and `y_valid`.  The test set is loaded in `X_test`."
   ]
  },
  {
   "cell_type": "code",
   "execution_count": 2,
   "id": "69ac7b62",
   "metadata": {
    "execution": {
     "iopub.execute_input": "2022-06-23T16:29:54.776261Z",
     "iopub.status.busy": "2022-06-23T16:29:54.775463Z",
     "iopub.status.idle": "2022-06-23T16:29:56.057879Z",
     "shell.execute_reply": "2022-06-23T16:29:56.056789Z"
    },
    "papermill": {
     "duration": 1.297454,
     "end_time": "2022-06-23T16:29:56.060646",
     "exception": false,
     "start_time": "2022-06-23T16:29:54.763192",
     "status": "completed"
    },
    "tags": []
   },
   "outputs": [],
   "source": [
    "import pandas as pd\n",
    "from sklearn.model_selection import train_test_split\n",
    "\n",
    "# Read the data\n",
    "X_full = pd.read_csv('../input/train.csv', index_col='Id')\n",
    "X_test_full = pd.read_csv('../input/test.csv', index_col='Id')\n",
    "\n",
    "# Remove rows with missing target, separate target from predictors\n",
    "X_full.dropna(axis=0, subset=['SalePrice'], inplace=True)\n",
    "y = X_full.SalePrice\n",
    "X_full.drop(['SalePrice'], axis=1, inplace=True)\n",
    "\n",
    "# To keep things simple, we'll use only numerical predictors\n",
    "X = X_full.select_dtypes(exclude=['object'])\n",
    "X_test = X_test_full.select_dtypes(exclude=['object'])\n",
    "\n",
    "# Break off validation set from training data\n",
    "X_train, X_valid, y_train, y_valid = train_test_split(X, y, train_size=0.8, test_size=0.2,\n",
    "                                                      random_state=0)"
   ]
  },
  {
   "cell_type": "markdown",
   "id": "5cbdc0e9",
   "metadata": {
    "papermill": {
     "duration": 0.010081,
     "end_time": "2022-06-23T16:29:56.081576",
     "exception": false,
     "start_time": "2022-06-23T16:29:56.071495",
     "status": "completed"
    },
    "tags": []
   },
   "source": [
    "Use the next code cell to print the first five rows of the data."
   ]
  },
  {
   "cell_type": "code",
   "execution_count": 3,
   "id": "df00bcec",
   "metadata": {
    "execution": {
     "iopub.execute_input": "2022-06-23T16:29:56.104359Z",
     "iopub.status.busy": "2022-06-23T16:29:56.103897Z",
     "iopub.status.idle": "2022-06-23T16:29:56.135693Z",
     "shell.execute_reply": "2022-06-23T16:29:56.134497Z"
    },
    "papermill": {
     "duration": 0.046438,
     "end_time": "2022-06-23T16:29:56.138455",
     "exception": false,
     "start_time": "2022-06-23T16:29:56.092017",
     "status": "completed"
    },
    "tags": []
   },
   "outputs": [
    {
     "data": {
      "text/html": [
       "<div>\n",
       "<style scoped>\n",
       "    .dataframe tbody tr th:only-of-type {\n",
       "        vertical-align: middle;\n",
       "    }\n",
       "\n",
       "    .dataframe tbody tr th {\n",
       "        vertical-align: top;\n",
       "    }\n",
       "\n",
       "    .dataframe thead th {\n",
       "        text-align: right;\n",
       "    }\n",
       "</style>\n",
       "<table border=\"1\" class=\"dataframe\">\n",
       "  <thead>\n",
       "    <tr style=\"text-align: right;\">\n",
       "      <th></th>\n",
       "      <th>MSSubClass</th>\n",
       "      <th>LotFrontage</th>\n",
       "      <th>LotArea</th>\n",
       "      <th>OverallQual</th>\n",
       "      <th>OverallCond</th>\n",
       "      <th>YearBuilt</th>\n",
       "      <th>YearRemodAdd</th>\n",
       "      <th>MasVnrArea</th>\n",
       "      <th>BsmtFinSF1</th>\n",
       "      <th>BsmtFinSF2</th>\n",
       "      <th>...</th>\n",
       "      <th>GarageArea</th>\n",
       "      <th>WoodDeckSF</th>\n",
       "      <th>OpenPorchSF</th>\n",
       "      <th>EnclosedPorch</th>\n",
       "      <th>3SsnPorch</th>\n",
       "      <th>ScreenPorch</th>\n",
       "      <th>PoolArea</th>\n",
       "      <th>MiscVal</th>\n",
       "      <th>MoSold</th>\n",
       "      <th>YrSold</th>\n",
       "    </tr>\n",
       "    <tr>\n",
       "      <th>Id</th>\n",
       "      <th></th>\n",
       "      <th></th>\n",
       "      <th></th>\n",
       "      <th></th>\n",
       "      <th></th>\n",
       "      <th></th>\n",
       "      <th></th>\n",
       "      <th></th>\n",
       "      <th></th>\n",
       "      <th></th>\n",
       "      <th></th>\n",
       "      <th></th>\n",
       "      <th></th>\n",
       "      <th></th>\n",
       "      <th></th>\n",
       "      <th></th>\n",
       "      <th></th>\n",
       "      <th></th>\n",
       "      <th></th>\n",
       "      <th></th>\n",
       "      <th></th>\n",
       "    </tr>\n",
       "  </thead>\n",
       "  <tbody>\n",
       "    <tr>\n",
       "      <th>619</th>\n",
       "      <td>20</td>\n",
       "      <td>90.0</td>\n",
       "      <td>11694</td>\n",
       "      <td>9</td>\n",
       "      <td>5</td>\n",
       "      <td>2007</td>\n",
       "      <td>2007</td>\n",
       "      <td>452.0</td>\n",
       "      <td>48</td>\n",
       "      <td>0</td>\n",
       "      <td>...</td>\n",
       "      <td>774</td>\n",
       "      <td>0</td>\n",
       "      <td>108</td>\n",
       "      <td>0</td>\n",
       "      <td>0</td>\n",
       "      <td>260</td>\n",
       "      <td>0</td>\n",
       "      <td>0</td>\n",
       "      <td>7</td>\n",
       "      <td>2007</td>\n",
       "    </tr>\n",
       "    <tr>\n",
       "      <th>871</th>\n",
       "      <td>20</td>\n",
       "      <td>60.0</td>\n",
       "      <td>6600</td>\n",
       "      <td>5</td>\n",
       "      <td>5</td>\n",
       "      <td>1962</td>\n",
       "      <td>1962</td>\n",
       "      <td>0.0</td>\n",
       "      <td>0</td>\n",
       "      <td>0</td>\n",
       "      <td>...</td>\n",
       "      <td>308</td>\n",
       "      <td>0</td>\n",
       "      <td>0</td>\n",
       "      <td>0</td>\n",
       "      <td>0</td>\n",
       "      <td>0</td>\n",
       "      <td>0</td>\n",
       "      <td>0</td>\n",
       "      <td>8</td>\n",
       "      <td>2009</td>\n",
       "    </tr>\n",
       "    <tr>\n",
       "      <th>93</th>\n",
       "      <td>30</td>\n",
       "      <td>80.0</td>\n",
       "      <td>13360</td>\n",
       "      <td>5</td>\n",
       "      <td>7</td>\n",
       "      <td>1921</td>\n",
       "      <td>2006</td>\n",
       "      <td>0.0</td>\n",
       "      <td>713</td>\n",
       "      <td>0</td>\n",
       "      <td>...</td>\n",
       "      <td>432</td>\n",
       "      <td>0</td>\n",
       "      <td>0</td>\n",
       "      <td>44</td>\n",
       "      <td>0</td>\n",
       "      <td>0</td>\n",
       "      <td>0</td>\n",
       "      <td>0</td>\n",
       "      <td>8</td>\n",
       "      <td>2009</td>\n",
       "    </tr>\n",
       "    <tr>\n",
       "      <th>818</th>\n",
       "      <td>20</td>\n",
       "      <td>NaN</td>\n",
       "      <td>13265</td>\n",
       "      <td>8</td>\n",
       "      <td>5</td>\n",
       "      <td>2002</td>\n",
       "      <td>2002</td>\n",
       "      <td>148.0</td>\n",
       "      <td>1218</td>\n",
       "      <td>0</td>\n",
       "      <td>...</td>\n",
       "      <td>857</td>\n",
       "      <td>150</td>\n",
       "      <td>59</td>\n",
       "      <td>0</td>\n",
       "      <td>0</td>\n",
       "      <td>0</td>\n",
       "      <td>0</td>\n",
       "      <td>0</td>\n",
       "      <td>7</td>\n",
       "      <td>2008</td>\n",
       "    </tr>\n",
       "    <tr>\n",
       "      <th>303</th>\n",
       "      <td>20</td>\n",
       "      <td>118.0</td>\n",
       "      <td>13704</td>\n",
       "      <td>7</td>\n",
       "      <td>5</td>\n",
       "      <td>2001</td>\n",
       "      <td>2002</td>\n",
       "      <td>150.0</td>\n",
       "      <td>0</td>\n",
       "      <td>0</td>\n",
       "      <td>...</td>\n",
       "      <td>843</td>\n",
       "      <td>468</td>\n",
       "      <td>81</td>\n",
       "      <td>0</td>\n",
       "      <td>0</td>\n",
       "      <td>0</td>\n",
       "      <td>0</td>\n",
       "      <td>0</td>\n",
       "      <td>1</td>\n",
       "      <td>2006</td>\n",
       "    </tr>\n",
       "  </tbody>\n",
       "</table>\n",
       "<p>5 rows × 36 columns</p>\n",
       "</div>"
      ],
      "text/plain": [
       "     MSSubClass  LotFrontage  LotArea  OverallQual  OverallCond  YearBuilt  \\\n",
       "Id                                                                           \n",
       "619          20         90.0    11694            9            5       2007   \n",
       "871          20         60.0     6600            5            5       1962   \n",
       "93           30         80.0    13360            5            7       1921   \n",
       "818          20          NaN    13265            8            5       2002   \n",
       "303          20        118.0    13704            7            5       2001   \n",
       "\n",
       "     YearRemodAdd  MasVnrArea  BsmtFinSF1  BsmtFinSF2  ...  GarageArea  \\\n",
       "Id                                                     ...               \n",
       "619          2007       452.0          48           0  ...         774   \n",
       "871          1962         0.0           0           0  ...         308   \n",
       "93           2006         0.0         713           0  ...         432   \n",
       "818          2002       148.0        1218           0  ...         857   \n",
       "303          2002       150.0           0           0  ...         843   \n",
       "\n",
       "     WoodDeckSF  OpenPorchSF  EnclosedPorch  3SsnPorch  ScreenPorch  PoolArea  \\\n",
       "Id                                                                              \n",
       "619           0          108              0          0          260         0   \n",
       "871           0            0              0          0            0         0   \n",
       "93            0            0             44          0            0         0   \n",
       "818         150           59              0          0            0         0   \n",
       "303         468           81              0          0            0         0   \n",
       "\n",
       "     MiscVal  MoSold  YrSold  \n",
       "Id                            \n",
       "619        0       7    2007  \n",
       "871        0       8    2009  \n",
       "93         0       8    2009  \n",
       "818        0       7    2008  \n",
       "303        0       1    2006  \n",
       "\n",
       "[5 rows x 36 columns]"
      ]
     },
     "execution_count": 3,
     "metadata": {},
     "output_type": "execute_result"
    }
   ],
   "source": [
    "X_train.head()"
   ]
  },
  {
   "cell_type": "markdown",
   "id": "99dcc180",
   "metadata": {
    "papermill": {
     "duration": 0.010385,
     "end_time": "2022-06-23T16:29:56.159795",
     "exception": false,
     "start_time": "2022-06-23T16:29:56.149410",
     "status": "completed"
    },
    "tags": []
   },
   "source": [
    "You can already see a few missing values in the first several rows.  In the next step, you'll obtain a more comprehensive understanding of the missing values in the dataset.\n",
    "\n",
    "# Step 1: Preliminary investigation\n",
    "\n",
    "Run the code cell below without changes."
   ]
  },
  {
   "cell_type": "code",
   "execution_count": 4,
   "id": "a171d5b5",
   "metadata": {
    "execution": {
     "iopub.execute_input": "2022-06-23T16:29:56.183782Z",
     "iopub.status.busy": "2022-06-23T16:29:56.183361Z",
     "iopub.status.idle": "2022-06-23T16:29:56.193059Z",
     "shell.execute_reply": "2022-06-23T16:29:56.191488Z"
    },
    "papermill": {
     "duration": 0.025841,
     "end_time": "2022-06-23T16:29:56.196846",
     "exception": false,
     "start_time": "2022-06-23T16:29:56.171005",
     "status": "completed"
    },
    "tags": []
   },
   "outputs": [
    {
     "name": "stdout",
     "output_type": "stream",
     "text": [
      "(1168, 36)\n",
      "LotFrontage    212\n",
      "MasVnrArea       6\n",
      "GarageYrBlt     58\n",
      "dtype: int64\n"
     ]
    }
   ],
   "source": [
    "# Shape of training data (num_rows, num_columns)\n",
    "print(X_train.shape)\n",
    "\n",
    "# Number of missing values in each column of training data\n",
    "missing_val_count_by_column = (X_train.isnull().sum())\n",
    "print(missing_val_count_by_column[missing_val_count_by_column > 0])"
   ]
  },
  {
   "cell_type": "markdown",
   "id": "71ccc8c4",
   "metadata": {
    "papermill": {
     "duration": 0.010587,
     "end_time": "2022-06-23T16:29:56.218645",
     "exception": false,
     "start_time": "2022-06-23T16:29:56.208058",
     "status": "completed"
    },
    "tags": []
   },
   "source": [
    "### Part A\n",
    "\n",
    "Use the above output to answer the questions below."
   ]
  },
  {
   "cell_type": "code",
   "execution_count": 5,
   "id": "696bc501",
   "metadata": {
    "execution": {
     "iopub.execute_input": "2022-06-23T16:29:56.242245Z",
     "iopub.status.busy": "2022-06-23T16:29:56.241284Z",
     "iopub.status.idle": "2022-06-23T16:29:56.252385Z",
     "shell.execute_reply": "2022-06-23T16:29:56.251192Z"
    },
    "papermill": {
     "duration": 0.02555,
     "end_time": "2022-06-23T16:29:56.254777",
     "exception": false,
     "start_time": "2022-06-23T16:29:56.229227",
     "status": "completed"
    },
    "tags": []
   },
   "outputs": [
    {
     "data": {
      "application/javascript": "parent.postMessage({\"jupyterEvent\": \"custom.exercise_interaction\", \"data\": {\"outcomeType\": 1, \"valueTowardsCompletion\": 1.0, \"interactionType\": 1, \"questionType\": 1, \"questionId\": \"1.1_InvestigateEquality\", \"learnToolsVersion\": \"0.3.4\", \"failureMessage\": \"\", \"exceptionClass\": \"\", \"trace\": \"\"}}, \"*\")",
      "text/plain": [
       "<IPython.core.display.Javascript object>"
      ]
     },
     "metadata": {},
     "output_type": "display_data"
    },
    {
     "data": {
      "text/markdown": [
       "<span style=\"color:#33cc33\">Correct</span>"
      ],
      "text/plain": [
       "Correct"
      ]
     },
     "metadata": {},
     "output_type": "display_data"
    }
   ],
   "source": [
    "# Fill in the line below: How many rows are in the training data?\n",
    "num_rows = X_train.shape[0]\n",
    "\n",
    "# Fill in the line below: How many columns in the training data\n",
    "# have missing values?\n",
    "num_cols_with_missing = 3\n",
    "\n",
    "# Fill in the line below: How many missing entries are contained in \n",
    "# all of the training data?\n",
    "tot_missing = 212 + 6 + 58\n",
    "\n",
    "# Check your answers\n",
    "step_1.a.check()"
   ]
  },
  {
   "cell_type": "code",
   "execution_count": 6,
   "id": "f3eed108",
   "metadata": {
    "execution": {
     "iopub.execute_input": "2022-06-23T16:29:56.279327Z",
     "iopub.status.busy": "2022-06-23T16:29:56.277994Z",
     "iopub.status.idle": "2022-06-23T16:29:56.283646Z",
     "shell.execute_reply": "2022-06-23T16:29:56.282544Z"
    },
    "papermill": {
     "duration": 0.02043,
     "end_time": "2022-06-23T16:29:56.286212",
     "exception": false,
     "start_time": "2022-06-23T16:29:56.265782",
     "status": "completed"
    },
    "tags": []
   },
   "outputs": [],
   "source": [
    "# Lines below will give you a hint or solution code\n",
    "#step_1.a.hint()\n",
    "#step_1.a.solution()"
   ]
  },
  {
   "cell_type": "markdown",
   "id": "13072a17",
   "metadata": {
    "papermill": {
     "duration": 0.01045,
     "end_time": "2022-06-23T16:29:56.307606",
     "exception": false,
     "start_time": "2022-06-23T16:29:56.297156",
     "status": "completed"
    },
    "tags": []
   },
   "source": [
    "### Part B\n",
    "Considering your answers above, what do you think is likely the best approach to dealing with the missing values?"
   ]
  },
  {
   "cell_type": "code",
   "execution_count": 7,
   "id": "6261a3eb",
   "metadata": {
    "execution": {
     "iopub.execute_input": "2022-06-23T16:29:56.331778Z",
     "iopub.status.busy": "2022-06-23T16:29:56.331399Z",
     "iopub.status.idle": "2022-06-23T16:29:56.342285Z",
     "shell.execute_reply": "2022-06-23T16:29:56.340640Z"
    },
    "papermill": {
     "duration": 0.025538,
     "end_time": "2022-06-23T16:29:56.344726",
     "exception": false,
     "start_time": "2022-06-23T16:29:56.319188",
     "status": "completed"
    },
    "tags": []
   },
   "outputs": [
    {
     "data": {
      "application/javascript": "parent.postMessage({\"jupyterEvent\": \"custom.exercise_interaction\", \"data\": {\"outcomeType\": 1, \"valueTowardsCompletion\": 1.0, \"interactionType\": 1, \"questionType\": 4, \"questionId\": \"1.2_InvestigateThought\", \"learnToolsVersion\": \"0.3.4\", \"failureMessage\": \"\", \"exceptionClass\": \"\", \"trace\": \"\"}}, \"*\")",
      "text/plain": [
       "<IPython.core.display.Javascript object>"
      ]
     },
     "metadata": {},
     "output_type": "display_data"
    },
    {
     "data": {
      "text/markdown": [
       "<span style=\"color:#33cc33\">Correct:</span> \n",
       "\n",
       "Since there are relatively few missing entries in the data (the column with the greatest percentage of missing values is missing less than 20% of its entries), we can expect that dropping columns is unlikely to yield good results.  This is because we'd be throwing away a lot of valuable data, and so imputation will likely perform better."
      ],
      "text/plain": [
       "Correct: \n",
       "\n",
       "Since there are relatively few missing entries in the data (the column with the greatest percentage of missing values is missing less than 20% of its entries), we can expect that dropping columns is unlikely to yield good results.  This is because we'd be throwing away a lot of valuable data, and so imputation will likely perform better."
      ]
     },
     "metadata": {},
     "output_type": "display_data"
    }
   ],
   "source": [
    "# Check your answer (Run this code cell to receive credit!)\n",
    "step_1.b.check()    # Impute missing column values with their mean"
   ]
  },
  {
   "cell_type": "code",
   "execution_count": 8,
   "id": "53d0f557",
   "metadata": {
    "execution": {
     "iopub.execute_input": "2022-06-23T16:29:56.369546Z",
     "iopub.status.busy": "2022-06-23T16:29:56.369116Z",
     "iopub.status.idle": "2022-06-23T16:29:56.374222Z",
     "shell.execute_reply": "2022-06-23T16:29:56.372526Z"
    },
    "papermill": {
     "duration": 0.02082,
     "end_time": "2022-06-23T16:29:56.376778",
     "exception": false,
     "start_time": "2022-06-23T16:29:56.355958",
     "status": "completed"
    },
    "tags": []
   },
   "outputs": [],
   "source": [
    "#step_1.b.hint()"
   ]
  },
  {
   "cell_type": "markdown",
   "id": "9fc30e5f",
   "metadata": {
    "papermill": {
     "duration": 0.011842,
     "end_time": "2022-06-23T16:29:56.400261",
     "exception": false,
     "start_time": "2022-06-23T16:29:56.388419",
     "status": "completed"
    },
    "tags": []
   },
   "source": [
    "To compare different approaches to dealing with missing values, you'll use the same `score_dataset()` function from the tutorial.  This function reports the [mean absolute error](https://en.wikipedia.org/wiki/Mean_absolute_error) (MAE) from a random forest model."
   ]
  },
  {
   "cell_type": "code",
   "execution_count": 9,
   "id": "715f808b",
   "metadata": {
    "execution": {
     "iopub.execute_input": "2022-06-23T16:29:56.427225Z",
     "iopub.status.busy": "2022-06-23T16:29:56.426811Z",
     "iopub.status.idle": "2022-06-23T16:29:56.684853Z",
     "shell.execute_reply": "2022-06-23T16:29:56.683614Z"
    },
    "papermill": {
     "duration": 0.275002,
     "end_time": "2022-06-23T16:29:56.687910",
     "exception": false,
     "start_time": "2022-06-23T16:29:56.412908",
     "status": "completed"
    },
    "tags": []
   },
   "outputs": [],
   "source": [
    "from sklearn.ensemble import RandomForestRegressor\n",
    "from sklearn.metrics import mean_absolute_error\n",
    "\n",
    "# Function for comparing different approaches\n",
    "def score_dataset(X_train, X_valid, y_train, y_valid):\n",
    "    model = RandomForestRegressor(n_estimators=100, random_state=0)\n",
    "    model.fit(X_train, y_train)\n",
    "    preds = model.predict(X_valid)\n",
    "    return mean_absolute_error(y_valid, preds)"
   ]
  },
  {
   "cell_type": "markdown",
   "id": "d3cda930",
   "metadata": {
    "papermill": {
     "duration": 0.011202,
     "end_time": "2022-06-23T16:29:56.710630",
     "exception": false,
     "start_time": "2022-06-23T16:29:56.699428",
     "status": "completed"
    },
    "tags": []
   },
   "source": [
    "# Step 2: Drop columns with missing values\n",
    "\n",
    "In this step, you'll preprocess the data in `X_train` and `X_valid` to remove columns with missing values.  Set the preprocessed DataFrames to `reduced_X_train` and `reduced_X_valid`, respectively.  "
   ]
  },
  {
   "cell_type": "code",
   "execution_count": 10,
   "id": "2d374dbb",
   "metadata": {
    "execution": {
     "iopub.execute_input": "2022-06-23T16:29:56.734961Z",
     "iopub.status.busy": "2022-06-23T16:29:56.734543Z",
     "iopub.status.idle": "2022-06-23T16:29:56.770232Z",
     "shell.execute_reply": "2022-06-23T16:29:56.769075Z"
    },
    "papermill": {
     "duration": 0.050845,
     "end_time": "2022-06-23T16:29:56.772654",
     "exception": false,
     "start_time": "2022-06-23T16:29:56.721809",
     "status": "completed"
    },
    "tags": []
   },
   "outputs": [
    {
     "data": {
      "application/javascript": "parent.postMessage({\"jupyterEvent\": \"custom.exercise_interaction\", \"data\": {\"outcomeType\": 1, \"valueTowardsCompletion\": 1.0, \"interactionType\": 1, \"questionType\": 2, \"questionId\": \"2_DropMissing\", \"learnToolsVersion\": \"0.3.4\", \"failureMessage\": \"\", \"exceptionClass\": \"\", \"trace\": \"\"}}, \"*\")",
      "text/plain": [
       "<IPython.core.display.Javascript object>"
      ]
     },
     "metadata": {},
     "output_type": "display_data"
    },
    {
     "data": {
      "text/markdown": [
       "<span style=\"color:#33cc33\">Correct</span>"
      ],
      "text/plain": [
       "Correct"
      ]
     },
     "metadata": {},
     "output_type": "display_data"
    }
   ],
   "source": [
    "# Fill in the line below: get names of columns with missing values\n",
    "missing_val_cols = [col for col in X_train.columns if X_train[col].isnull().any()] # Your code here\n",
    "\n",
    "# Fill in the lines below: drop columns in training and validation data\n",
    "reduced_X_train = X_train.drop(columns=missing_val_cols)\n",
    "reduced_X_valid = X_valid.drop(columns=missing_val_cols)\n",
    "\n",
    "# Check your answers\n",
    "step_2.check()"
   ]
  },
  {
   "cell_type": "code",
   "execution_count": 11,
   "id": "3f01e4e9",
   "metadata": {
    "execution": {
     "iopub.execute_input": "2022-06-23T16:29:56.797935Z",
     "iopub.status.busy": "2022-06-23T16:29:56.796641Z",
     "iopub.status.idle": "2022-06-23T16:29:56.801618Z",
     "shell.execute_reply": "2022-06-23T16:29:56.800660Z"
    },
    "papermill": {
     "duration": 0.019944,
     "end_time": "2022-06-23T16:29:56.803863",
     "exception": false,
     "start_time": "2022-06-23T16:29:56.783919",
     "status": "completed"
    },
    "tags": []
   },
   "outputs": [],
   "source": [
    "# Lines below will give you a hint or solution code\n",
    "#step_2.hint()\n",
    "#step_2.solution()"
   ]
  },
  {
   "cell_type": "markdown",
   "id": "1bcae5f7",
   "metadata": {
    "papermill": {
     "duration": 0.010897,
     "end_time": "2022-06-23T16:29:56.826623",
     "exception": false,
     "start_time": "2022-06-23T16:29:56.815726",
     "status": "completed"
    },
    "tags": []
   },
   "source": [
    "Run the next code cell without changes to obtain the MAE for this approach."
   ]
  },
  {
   "cell_type": "code",
   "execution_count": 12,
   "id": "56ad7ebd",
   "metadata": {
    "execution": {
     "iopub.execute_input": "2022-06-23T16:29:56.852362Z",
     "iopub.status.busy": "2022-06-23T16:29:56.850994Z",
     "iopub.status.idle": "2022-06-23T16:29:58.009095Z",
     "shell.execute_reply": "2022-06-23T16:29:58.007884Z"
    },
    "papermill": {
     "duration": 1.173479,
     "end_time": "2022-06-23T16:29:58.011719",
     "exception": false,
     "start_time": "2022-06-23T16:29:56.838240",
     "status": "completed"
    },
    "tags": []
   },
   "outputs": [
    {
     "name": "stdout",
     "output_type": "stream",
     "text": [
      "MAE (Drop columns with missing values):\n",
      "17837.82570776256\n"
     ]
    }
   ],
   "source": [
    "print(\"MAE (Drop columns with missing values):\")\n",
    "print(score_dataset(reduced_X_train, reduced_X_valid, y_train, y_valid))"
   ]
  },
  {
   "cell_type": "markdown",
   "id": "a75eb6cf",
   "metadata": {
    "papermill": {
     "duration": 0.01178,
     "end_time": "2022-06-23T16:29:58.036082",
     "exception": false,
     "start_time": "2022-06-23T16:29:58.024302",
     "status": "completed"
    },
    "tags": []
   },
   "source": [
    "# Step 3: Imputation\n",
    "\n",
    "### Part A\n",
    "\n",
    "Use the next code cell to impute missing values with the mean value along each column.  Set the preprocessed DataFrames to `imputed_X_train` and `imputed_X_valid`.  Make sure that the column names match those in `X_train` and `X_valid`."
   ]
  },
  {
   "cell_type": "code",
   "execution_count": 13,
   "id": "48da631b",
   "metadata": {
    "execution": {
     "iopub.execute_input": "2022-06-23T16:29:58.061805Z",
     "iopub.status.busy": "2022-06-23T16:29:58.061439Z",
     "iopub.status.idle": "2022-06-23T16:29:58.097222Z",
     "shell.execute_reply": "2022-06-23T16:29:58.095839Z"
    },
    "papermill": {
     "duration": 0.051919,
     "end_time": "2022-06-23T16:29:58.100196",
     "exception": false,
     "start_time": "2022-06-23T16:29:58.048277",
     "status": "completed"
    },
    "tags": []
   },
   "outputs": [
    {
     "data": {
      "application/javascript": "parent.postMessage({\"jupyterEvent\": \"custom.exercise_interaction\", \"data\": {\"outcomeType\": 1, \"valueTowardsCompletion\": 1.0, \"interactionType\": 1, \"questionType\": 2, \"questionId\": \"3.1_ImputeCode\", \"learnToolsVersion\": \"0.3.4\", \"failureMessage\": \"\", \"exceptionClass\": \"\", \"trace\": \"\"}}, \"*\")",
      "text/plain": [
       "<IPython.core.display.Javascript object>"
      ]
     },
     "metadata": {},
     "output_type": "display_data"
    },
    {
     "data": {
      "text/markdown": [
       "<span style=\"color:#33cc33\">Correct</span>"
      ],
      "text/plain": [
       "Correct"
      ]
     },
     "metadata": {},
     "output_type": "display_data"
    }
   ],
   "source": [
    "from sklearn.impute import SimpleImputer\n",
    "\n",
    "# Fill in the lines below: imputation\n",
    "my_imputer = SimpleImputer() # Your code here\n",
    "imputed_X_train = pd.DataFrame(my_imputer.fit_transform(X_train))\n",
    "imputed_X_valid = pd.DataFrame(my_imputer.transform(X_valid))\n",
    "\n",
    "# Fill in the lines below: imputation removed column names; put them back\n",
    "imputed_X_train.columns = X_train.columns\n",
    "imputed_X_valid.columns = X_valid.columns\n",
    "\n",
    "# Check your answers\n",
    "step_3.a.check()"
   ]
  },
  {
   "cell_type": "code",
   "execution_count": 14,
   "id": "960cce01",
   "metadata": {
    "execution": {
     "iopub.execute_input": "2022-06-23T16:29:58.126061Z",
     "iopub.status.busy": "2022-06-23T16:29:58.125701Z",
     "iopub.status.idle": "2022-06-23T16:29:58.130803Z",
     "shell.execute_reply": "2022-06-23T16:29:58.129344Z"
    },
    "papermill": {
     "duration": 0.021069,
     "end_time": "2022-06-23T16:29:58.133474",
     "exception": false,
     "start_time": "2022-06-23T16:29:58.112405",
     "status": "completed"
    },
    "tags": []
   },
   "outputs": [],
   "source": [
    "# Lines below will give you a hint or solution code\n",
    "#step_3.a.hint()\n",
    "#step_3.a.solution()"
   ]
  },
  {
   "cell_type": "markdown",
   "id": "bd0169cb",
   "metadata": {
    "papermill": {
     "duration": 0.011926,
     "end_time": "2022-06-23T16:29:58.158288",
     "exception": false,
     "start_time": "2022-06-23T16:29:58.146362",
     "status": "completed"
    },
    "tags": []
   },
   "source": [
    "Run the next code cell without changes to obtain the MAE for this approach."
   ]
  },
  {
   "cell_type": "code",
   "execution_count": 15,
   "id": "9e9fc094",
   "metadata": {
    "execution": {
     "iopub.execute_input": "2022-06-23T16:29:58.183542Z",
     "iopub.status.busy": "2022-06-23T16:29:58.183161Z",
     "iopub.status.idle": "2022-06-23T16:29:59.477131Z",
     "shell.execute_reply": "2022-06-23T16:29:59.475595Z"
    },
    "papermill": {
     "duration": 1.309712,
     "end_time": "2022-06-23T16:29:59.479722",
     "exception": false,
     "start_time": "2022-06-23T16:29:58.170010",
     "status": "completed"
    },
    "tags": []
   },
   "outputs": [
    {
     "name": "stdout",
     "output_type": "stream",
     "text": [
      "MAE (Imputation):\n",
      "18062.894611872147\n"
     ]
    }
   ],
   "source": [
    "print(\"MAE (Imputation):\")\n",
    "print(score_dataset(imputed_X_train, imputed_X_valid, y_train, y_valid))"
   ]
  },
  {
   "cell_type": "markdown",
   "id": "a03acdab",
   "metadata": {
    "papermill": {
     "duration": 0.011601,
     "end_time": "2022-06-23T16:29:59.503638",
     "exception": false,
     "start_time": "2022-06-23T16:29:59.492037",
     "status": "completed"
    },
    "tags": []
   },
   "source": [
    "### Part B\n",
    "\n",
    "Compare the MAE from each approach.  Does anything surprise you about the results?  Why do you think one approach performed better than the other?"
   ]
  },
  {
   "cell_type": "code",
   "execution_count": 16,
   "id": "3687d008",
   "metadata": {
    "execution": {
     "iopub.execute_input": "2022-06-23T16:29:59.530484Z",
     "iopub.status.busy": "2022-06-23T16:29:59.530057Z",
     "iopub.status.idle": "2022-06-23T16:29:59.538942Z",
     "shell.execute_reply": "2022-06-23T16:29:59.537708Z"
    },
    "papermill": {
     "duration": 0.025338,
     "end_time": "2022-06-23T16:29:59.541972",
     "exception": false,
     "start_time": "2022-06-23T16:29:59.516634",
     "status": "completed"
    },
    "tags": []
   },
   "outputs": [
    {
     "data": {
      "application/javascript": "parent.postMessage({\"jupyterEvent\": \"custom.exercise_interaction\", \"data\": {\"outcomeType\": 1, \"valueTowardsCompletion\": 1.0, \"interactionType\": 1, \"questionType\": 4, \"questionId\": \"3.2_ImputeThought\", \"learnToolsVersion\": \"0.3.4\", \"failureMessage\": \"\", \"exceptionClass\": \"\", \"trace\": \"\"}}, \"*\")",
      "text/plain": [
       "<IPython.core.display.Javascript object>"
      ]
     },
     "metadata": {},
     "output_type": "display_data"
    },
    {
     "data": {
      "text/markdown": [
       "<span style=\"color:#33cc33\">Correct:</span> \n",
       "\n",
       "Given that thre are so few missing values in the dataset, we'd expect imputation to perform better than dropping columns entirely.  However, we see that dropping columns performs slightly better!  While this can probably partially be attributed to noise in the dataset, another potential explanation is that the imputation method is not a great match to this dataset.  That is, maybe instead of filling in the mean value, it makes more sense to set every missing value to a value of 0, to fill in the most frequently encountered value, or to use some other method.  For instance, consider the `GarageYrBlt` column (which indicates the year that the garage was built).  It's likely that in some cases, a missing value could indicate a house that does not have a garage.  Does it make more sense to fill in the median value along each column in this case?  Or could we get better results by filling in the minimum value along each column?  It's not quite clear what's best in this case, but perhaps we can rule out some options immediately - for instance, setting missing values in this column to 0 is likely to yield horrible results!"
      ],
      "text/plain": [
       "Correct: \n",
       "\n",
       "Given that thre are so few missing values in the dataset, we'd expect imputation to perform better than dropping columns entirely.  However, we see that dropping columns performs slightly better!  While this can probably partially be attributed to noise in the dataset, another potential explanation is that the imputation method is not a great match to this dataset.  That is, maybe instead of filling in the mean value, it makes more sense to set every missing value to a value of 0, to fill in the most frequently encountered value, or to use some other method.  For instance, consider the `GarageYrBlt` column (which indicates the year that the garage was built).  It's likely that in some cases, a missing value could indicate a house that does not have a garage.  Does it make more sense to fill in the median value along each column in this case?  Or could we get better results by filling in the minimum value along each column?  It's not quite clear what's best in this case, but perhaps we can rule out some options immediately - for instance, setting missing values in this column to 0 is likely to yield horrible results!"
      ]
     },
     "metadata": {},
     "output_type": "display_data"
    }
   ],
   "source": [
    "# Check your answer (Run this code cell to receive credit!)\n",
    "step_3.b.check()    # MAE after dropping: 17837, MAE after imputing: 18062, well dropping columns works well"
   ]
  },
  {
   "cell_type": "code",
   "execution_count": 17,
   "id": "ed0f9e04",
   "metadata": {
    "execution": {
     "iopub.execute_input": "2022-06-23T16:29:59.570562Z",
     "iopub.status.busy": "2022-06-23T16:29:59.570134Z",
     "iopub.status.idle": "2022-06-23T16:29:59.575323Z",
     "shell.execute_reply": "2022-06-23T16:29:59.573741Z"
    },
    "papermill": {
     "duration": 0.022585,
     "end_time": "2022-06-23T16:29:59.578261",
     "exception": false,
     "start_time": "2022-06-23T16:29:59.555676",
     "status": "completed"
    },
    "tags": []
   },
   "outputs": [],
   "source": [
    "#step_3.b.hint()"
   ]
  },
  {
   "cell_type": "markdown",
   "id": "e7aa1610",
   "metadata": {
    "papermill": {
     "duration": 0.012272,
     "end_time": "2022-06-23T16:29:59.605148",
     "exception": false,
     "start_time": "2022-06-23T16:29:59.592876",
     "status": "completed"
    },
    "tags": []
   },
   "source": [
    "# Step 4: Generate test predictions\n",
    "\n",
    "In this final step, you'll use any approach of your choosing to deal with missing values.  Once you've preprocessed the training and validation features, you'll train and evaluate a random forest model.  Then, you'll preprocess the test data before generating predictions that can be submitted to the competition!\n",
    "\n",
    "### Part A\n",
    "\n",
    "Use the next code cell to preprocess the training and validation data.  Set the preprocessed DataFrames to `final_X_train` and `final_X_valid`.  **You can use any approach of your choosing here!**  in order for this step to be marked as correct, you need only ensure:\n",
    "- the preprocessed DataFrames have the same number of columns,\n",
    "- the preprocessed DataFrames have no missing values, \n",
    "- `final_X_train` and `y_train` have the same number of rows, and\n",
    "- `final_X_valid` and `y_valid` have the same number of rows."
   ]
  },
  {
   "cell_type": "code",
   "execution_count": 18,
   "id": "c481706c",
   "metadata": {
    "execution": {
     "iopub.execute_input": "2022-06-23T16:29:59.633152Z",
     "iopub.status.busy": "2022-06-23T16:29:59.632725Z",
     "iopub.status.idle": "2022-06-23T16:29:59.668533Z",
     "shell.execute_reply": "2022-06-23T16:29:59.667155Z"
    },
    "papermill": {
     "duration": 0.053171,
     "end_time": "2022-06-23T16:29:59.671203",
     "exception": false,
     "start_time": "2022-06-23T16:29:59.618032",
     "status": "completed"
    },
    "tags": []
   },
   "outputs": [
    {
     "data": {
      "application/javascript": "parent.postMessage({\"jupyterEvent\": \"custom.exercise_interaction\", \"data\": {\"outcomeType\": 1, \"valueTowardsCompletion\": 1.0, \"interactionType\": 1, \"questionType\": 2, \"questionId\": \"4.1_PredsCodeA\", \"learnToolsVersion\": \"0.3.4\", \"failureMessage\": \"\", \"exceptionClass\": \"\", \"trace\": \"\"}}, \"*\")",
      "text/plain": [
       "<IPython.core.display.Javascript object>"
      ]
     },
     "metadata": {},
     "output_type": "display_data"
    },
    {
     "data": {
      "text/markdown": [
       "<span style=\"color:#33cc33\">Correct</span>"
      ],
      "text/plain": [
       "Correct"
      ]
     },
     "metadata": {},
     "output_type": "display_data"
    }
   ],
   "source": [
    "# Imputing mean values\n",
    "# Preprocessed training and validation features\n",
    "my_imputer = SimpleImputer()\n",
    "imputed_X_train = pd.DataFrame(my_imputer.fit_transform(X_train))\n",
    "imputed_X_valid = pd.DataFrame(my_imputer.fit_transform(X_valid))\n",
    "\n",
    "imputed_X_train.columns = X_train.columns\n",
    "imputed_X_valid.columns = X_valid.columns\n",
    "\n",
    "final_X_train = imputed_X_train\n",
    "final_X_valid = imputed_X_valid\n",
    "\n",
    "# Check your answers\n",
    "step_4.a.check()"
   ]
  },
  {
   "cell_type": "code",
   "execution_count": 19,
   "id": "390d8ef5",
   "metadata": {
    "execution": {
     "iopub.execute_input": "2022-06-23T16:29:59.702653Z",
     "iopub.status.busy": "2022-06-23T16:29:59.700801Z",
     "iopub.status.idle": "2022-06-23T16:29:59.712223Z",
     "shell.execute_reply": "2022-06-23T16:29:59.711014Z"
    },
    "papermill": {
     "duration": 0.029666,
     "end_time": "2022-06-23T16:29:59.714412",
     "exception": false,
     "start_time": "2022-06-23T16:29:59.684746",
     "status": "completed"
    },
    "tags": []
   },
   "outputs": [
    {
     "data": {
      "application/javascript": "parent.postMessage({\"jupyterEvent\": \"custom.exercise_interaction\", \"data\": {\"interactionType\": 2, \"questionType\": 2, \"questionId\": \"4.1_PredsCodeA\", \"learnToolsVersion\": \"0.3.4\", \"valueTowardsCompletion\": 0.0, \"failureMessage\": \"\", \"exceptionClass\": \"\", \"trace\": \"\", \"outcomeType\": 4}}, \"*\")",
      "text/plain": [
       "<IPython.core.display.Javascript object>"
      ]
     },
     "metadata": {},
     "output_type": "display_data"
    },
    {
     "data": {
      "text/markdown": [
       "<span style=\"color:#3366cc\">Hint:</span> Use any approach of your choosing to deal with missing values in the data.  For inspiration, check out the code from the tutorial!"
      ],
      "text/plain": [
       "Hint: Use any approach of your choosing to deal with missing values in the data.  For inspiration, check out the code from the tutorial!"
      ]
     },
     "metadata": {},
     "output_type": "display_data"
    }
   ],
   "source": [
    "# Lines below will give you a hint or solution code\n",
    "step_4.a.hint()\n",
    "#step_4.a.solution()"
   ]
  },
  {
   "cell_type": "markdown",
   "id": "cd4fd848",
   "metadata": {
    "papermill": {
     "duration": 0.013381,
     "end_time": "2022-06-23T16:29:59.740612",
     "exception": false,
     "start_time": "2022-06-23T16:29:59.727231",
     "status": "completed"
    },
    "tags": []
   },
   "source": [
    "Run the next code cell to train and evaluate a random forest model.  (*Note that we don't use the `score_dataset()` function above, because we will soon use the trained model to generate test predictions!*)"
   ]
  },
  {
   "cell_type": "code",
   "execution_count": 20,
   "id": "e6bf3b2e",
   "metadata": {
    "execution": {
     "iopub.execute_input": "2022-06-23T16:29:59.770481Z",
     "iopub.status.busy": "2022-06-23T16:29:59.769238Z",
     "iopub.status.idle": "2022-06-23T16:30:01.050780Z",
     "shell.execute_reply": "2022-06-23T16:30:01.049255Z"
    },
    "papermill": {
     "duration": 1.300229,
     "end_time": "2022-06-23T16:30:01.053770",
     "exception": false,
     "start_time": "2022-06-23T16:29:59.753541",
     "status": "completed"
    },
    "tags": []
   },
   "outputs": [
    {
     "name": "stdout",
     "output_type": "stream",
     "text": [
      "MAE (Your approach):\n",
      "18056.85163242009\n"
     ]
    }
   ],
   "source": [
    "# Define and fit model\n",
    "model = RandomForestRegressor(n_estimators=100, random_state=0)\n",
    "model.fit(final_X_train, y_train)\n",
    "\n",
    "# Get validation predictions and MAE\n",
    "preds_valid = model.predict(final_X_valid)\n",
    "print(\"MAE (Your approach):\")\n",
    "print(mean_absolute_error(y_valid, preds_valid))"
   ]
  },
  {
   "cell_type": "markdown",
   "id": "fdd39ddf",
   "metadata": {
    "papermill": {
     "duration": 0.012775,
     "end_time": "2022-06-23T16:30:01.079862",
     "exception": false,
     "start_time": "2022-06-23T16:30:01.067087",
     "status": "completed"
    },
    "tags": []
   },
   "source": [
    "### Part B\n",
    "\n",
    "Use the next code cell to preprocess your test data.  Make sure that you use a method that agrees with how you preprocessed the training and validation data, and set the preprocessed test features to `final_X_test`.\n",
    "\n",
    "Then, use the preprocessed test features and the trained model to generate test predictions in `preds_test`.\n",
    "\n",
    "In order for this step to be marked correct, you need only ensure:\n",
    "- the preprocessed test DataFrame has no missing values, and\n",
    "- `final_X_test` has the same number of rows as `X_test`."
   ]
  },
  {
   "cell_type": "code",
   "execution_count": 21,
   "id": "832ffc57",
   "metadata": {
    "execution": {
     "iopub.execute_input": "2022-06-23T16:30:01.108368Z",
     "iopub.status.busy": "2022-06-23T16:30:01.107972Z",
     "iopub.status.idle": "2022-06-23T16:30:01.164196Z",
     "shell.execute_reply": "2022-06-23T16:30:01.163136Z"
    },
    "papermill": {
     "duration": 0.073259,
     "end_time": "2022-06-23T16:30:01.166532",
     "exception": false,
     "start_time": "2022-06-23T16:30:01.093273",
     "status": "completed"
    },
    "tags": []
   },
   "outputs": [
    {
     "data": {
      "application/javascript": "parent.postMessage({\"jupyterEvent\": \"custom.exercise_interaction\", \"data\": {\"outcomeType\": 1, \"valueTowardsCompletion\": 1.0, \"interactionType\": 1, \"questionType\": 2, \"questionId\": \"4.2_PredsCodeB\", \"learnToolsVersion\": \"0.3.4\", \"failureMessage\": \"\", \"exceptionClass\": \"\", \"trace\": \"\"}}, \"*\")",
      "text/plain": [
       "<IPython.core.display.Javascript object>"
      ]
     },
     "metadata": {},
     "output_type": "display_data"
    },
    {
     "data": {
      "text/markdown": [
       "<span style=\"color:#33cc33\">Correct</span>"
      ],
      "text/plain": [
       "Correct"
      ]
     },
     "metadata": {},
     "output_type": "display_data"
    }
   ],
   "source": [
    "# Fill in the line below: preprocess test data\n",
    "imputed_X_test = pd.DataFrame(my_imputer.transform(X_test))\n",
    "imputed_X_test.columns = X_test.columns\n",
    "\n",
    "final_X_test = imputed_X_test\n",
    "\n",
    "# Fill in the line below: get test predictions\n",
    "preds_test = model.predict(final_X_test)\n",
    "\n",
    "# Check your answers\n",
    "step_4.b.check()"
   ]
  },
  {
   "cell_type": "code",
   "execution_count": 22,
   "id": "0954c914",
   "metadata": {
    "execution": {
     "iopub.execute_input": "2022-06-23T16:30:01.194575Z",
     "iopub.status.busy": "2022-06-23T16:30:01.194169Z",
     "iopub.status.idle": "2022-06-23T16:30:01.199008Z",
     "shell.execute_reply": "2022-06-23T16:30:01.197637Z"
    },
    "papermill": {
     "duration": 0.021791,
     "end_time": "2022-06-23T16:30:01.201499",
     "exception": false,
     "start_time": "2022-06-23T16:30:01.179708",
     "status": "completed"
    },
    "tags": []
   },
   "outputs": [],
   "source": [
    "# Lines below will give you a hint or solution code\n",
    "#step_4.b.hint()\n",
    "#step_4.b.solution()"
   ]
  },
  {
   "cell_type": "markdown",
   "id": "523ea5e8",
   "metadata": {
    "papermill": {
     "duration": 0.012625,
     "end_time": "2022-06-23T16:30:01.227165",
     "exception": false,
     "start_time": "2022-06-23T16:30:01.214540",
     "status": "completed"
    },
    "tags": []
   },
   "source": [
    "Run the next code cell without changes to save your results to a CSV file that can be submitted directly to the competition."
   ]
  },
  {
   "cell_type": "code",
   "execution_count": 23,
   "id": "d5f7d738",
   "metadata": {
    "execution": {
     "iopub.execute_input": "2022-06-23T16:30:01.255505Z",
     "iopub.status.busy": "2022-06-23T16:30:01.255079Z",
     "iopub.status.idle": "2022-06-23T16:30:01.267969Z",
     "shell.execute_reply": "2022-06-23T16:30:01.267028Z"
    },
    "papermill": {
     "duration": 0.03057,
     "end_time": "2022-06-23T16:30:01.270599",
     "exception": false,
     "start_time": "2022-06-23T16:30:01.240029",
     "status": "completed"
    },
    "tags": []
   },
   "outputs": [],
   "source": [
    "# Save test predictions to file\n",
    "output = pd.DataFrame({'Id': X_test.index,\n",
    "                       'SalePrice': preds_test})\n",
    "output.to_csv('submission.csv', index=False)"
   ]
  },
  {
   "cell_type": "markdown",
   "id": "ad0a5aee",
   "metadata": {
    "papermill": {
     "duration": 0.013407,
     "end_time": "2022-06-23T16:30:01.297068",
     "exception": false,
     "start_time": "2022-06-23T16:30:01.283661",
     "status": "completed"
    },
    "tags": []
   },
   "source": [
    "# Submit your results\n",
    "\n",
    "Once you have successfully completed Step 4, you're ready to submit your results to the leaderboard!  (_You also learned how to do this in the previous exercise.  If you need a reminder of how to do this, please use the instructions below._)  \n",
    "\n",
    "First, you'll need to join the competition if you haven't already.  So open a new window by clicking on [this link](https://www.kaggle.com/c/home-data-for-ml-course).  Then click on the **Join Competition** button.\n",
    "\n",
    "![join competition image](https://i.imgur.com/wLmFtH3.png)\n",
    "\n",
    "Next, follow the instructions below:\n",
    "1. Begin by clicking on the **Save Version** button in the top right corner of the window.  This will generate a pop-up window.  \n",
    "2. Ensure that the **Save and Run All** option is selected, and then click on the **Save** button.\n",
    "3. This generates a window in the bottom left corner of the notebook.  After it has finished running, click on the number to the right of the **Save Version** button.  This pulls up a list of versions on the right of the screen.  Click on the ellipsis **(...)** to the right of the most recent version, and select **Open in Viewer**.  This brings you into view mode of the same page. You will need to scroll down to get back to these instructions.\n",
    "4. Click on the **Output** tab on the right of the screen.  Then, click on the file you would like to submit, and click on the **Submit** button to submit your results to the leaderboard.\n",
    "\n",
    "You have now successfully submitted to the competition!\n",
    "\n",
    "If you want to keep working to improve your performance, select the **Edit** button in the top right of the screen. Then you can change your code and repeat the process. There's a lot of room to improve, and you will climb up the leaderboard as you work.\n",
    "\n",
    "\n",
    "# Keep going\n",
    "\n",
    "Move on to learn what **[categorical variables](https://www.kaggle.com/alexisbcook/categorical-variables)** are, along with how to incorporate them into your machine learning models.  Categorical variables are very common in real-world data, but you'll get an error if you try to plug them into your models without processing them first!"
   ]
  },
  {
   "cell_type": "markdown",
   "id": "08f6f925",
   "metadata": {
    "papermill": {
     "duration": 0.012888,
     "end_time": "2022-06-23T16:30:01.323204",
     "exception": false,
     "start_time": "2022-06-23T16:30:01.310316",
     "status": "completed"
    },
    "tags": []
   },
   "source": [
    "---\n",
    "\n",
    "\n",
    "\n",
    "\n",
    "*Have questions or comments? Visit the [course discussion forum](https://www.kaggle.com/learn/intermediate-machine-learning/discussion) to chat with other learners.*"
   ]
  }
 ],
 "metadata": {
  "kernelspec": {
   "display_name": "Python 3",
   "language": "python",
   "name": "python3"
  },
  "language_info": {
   "codemirror_mode": {
    "name": "ipython",
    "version": 3
   },
   "file_extension": ".py",
   "mimetype": "text/x-python",
   "name": "python",
   "nbconvert_exporter": "python",
   "pygments_lexer": "ipython3",
   "version": "3.7.12"
  },
  "papermill": {
   "default_parameters": {},
   "duration": 19.063268,
   "end_time": "2022-06-23T16:30:02.057612",
   "environment_variables": {},
   "exception": null,
   "input_path": "__notebook__.ipynb",
   "output_path": "__notebook__.ipynb",
   "parameters": {},
   "start_time": "2022-06-23T16:29:42.994344",
   "version": "2.3.4"
  }
 },
 "nbformat": 4,
 "nbformat_minor": 5
}
